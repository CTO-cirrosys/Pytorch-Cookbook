{
 "cells": [
  {
   "cell_type": "markdown",
   "metadata": {},
   "source": [
    "# Master Pytorch Chapter 1 : Tensor\n",
    "https://9bow.github.io/PyTorch-tutorials-kr-0.3.1/index.html"
   ]
  },
  {
   "cell_type": "markdown",
   "metadata": {},
   "source": [
    "## Tensor\n",
    "- multi-dimensional matrix containing elements of the single data type."
   ]
  },
  {
   "cell_type": "code",
   "execution_count": 1,
   "metadata": {
    "ExecuteTime": {
     "end_time": "2018-11-28T11:29:38.855735Z",
     "start_time": "2018-11-28T11:29:38.434016Z"
    }
   },
   "outputs": [
    {
     "name": "stdout",
     "output_type": "stream",
     "text": [
      "0.4.1\n"
     ]
    }
   ],
   "source": [
    "import torch\n",
    "\n",
    "print(torch.__version__)"
   ]
  },
  {
   "cell_type": "code",
   "execution_count": 2,
   "metadata": {
    "ExecuteTime": {
     "end_time": "2018-11-28T11:29:38.873201Z",
     "start_time": "2018-11-28T11:29:38.862220Z"
    }
   },
   "outputs": [
    {
     "name": "stdout",
     "output_type": "stream",
     "text": [
      "tensor([[0.0000, 0.0000, 0.0000],\n",
      "        [0.0000, 0.0000, 0.0000],\n",
      "        [0.0000, 0.0000, 0.0000],\n",
      "        [0.0000, 0.0000, 0.0000],\n",
      "        [0.0000, 0.0000, 0.0000]])\n",
      "<class 'torch.Tensor'>\n"
     ]
    }
   ],
   "source": [
    "x = torch.Tensor(5, 3)\n",
    "print(x)\n",
    "print(type(x))"
   ]
  },
  {
   "cell_type": "code",
   "execution_count": 3,
   "metadata": {
    "ExecuteTime": {
     "end_time": "2018-11-28T11:29:38.901649Z",
     "start_time": "2018-11-28T11:29:38.879691Z"
    }
   },
   "outputs": [
    {
     "name": "stdout",
     "output_type": "stream",
     "text": [
      "tensor([[0.6243, 0.1921, 0.9255],\n",
      "        [0.2088, 0.8792, 0.4220],\n",
      "        [0.8753, 0.6620, 0.5338],\n",
      "        [0.7877, 0.6394, 0.5131],\n",
      "        [0.9088, 0.1872, 0.7296]])\n"
     ]
    }
   ],
   "source": [
    "x = torch.rand(5, 3)\n",
    "print(x)"
   ]
  },
  {
   "cell_type": "code",
   "execution_count": 4,
   "metadata": {
    "ExecuteTime": {
     "end_time": "2018-11-28T11:29:38.936084Z",
     "start_time": "2018-11-28T11:29:38.908635Z"
    }
   },
   "outputs": [
    {
     "data": {
      "text/plain": [
       "torch.Size([5, 3])"
      ]
     },
     "execution_count": 4,
     "metadata": {},
     "output_type": "execute_result"
    }
   ],
   "source": [
    "x.size()"
   ]
  },
  {
   "cell_type": "markdown",
   "metadata": {},
   "source": [
    "## Operations"
   ]
  },
  {
   "cell_type": "code",
   "execution_count": 5,
   "metadata": {
    "ExecuteTime": {
     "end_time": "2018-11-28T11:29:38.965530Z",
     "start_time": "2018-11-28T11:29:38.942572Z"
    }
   },
   "outputs": [
    {
     "name": "stdout",
     "output_type": "stream",
     "text": [
      "tensor([[0.7375, 0.7547, 0.7360],\n",
      "        [0.6880, 0.7128, 0.8933],\n",
      "        [0.1557, 0.7683, 0.9861],\n",
      "        [0.6932, 0.4931, 0.4535],\n",
      "        [0.1693, 0.9455, 0.7023]]) \n",
      "\n",
      "tensor([[0.8614, 0.6272, 0.6871],\n",
      "        [0.2313, 0.1857, 0.5130],\n",
      "        [0.9577, 0.4090, 0.8818],\n",
      "        [0.7930, 0.3955, 0.3249],\n",
      "        [0.6908, 0.4376, 0.7940]]) \n",
      "\n",
      "tensor([[1.5989, 1.3819, 1.4231],\n",
      "        [0.9193, 0.8984, 1.4063],\n",
      "        [1.1134, 1.1773, 1.8679],\n",
      "        [1.4861, 0.8886, 0.7784],\n",
      "        [0.8601, 1.3831, 1.4963]])\n"
     ]
    }
   ],
   "source": [
    "x = torch.rand(5, 3)\n",
    "y = torch.rand(5, 3)\n",
    "print(x, '\\n')\n",
    "print(y, '\\n')\n",
    "print(x + y)"
   ]
  },
  {
   "cell_type": "code",
   "execution_count": 6,
   "metadata": {
    "ExecuteTime": {
     "end_time": "2018-11-28T11:29:38.990982Z",
     "start_time": "2018-11-28T11:29:38.973014Z"
    },
    "scrolled": true
   },
   "outputs": [
    {
     "data": {
      "text/plain": [
       "tensor([[1.5989, 1.3819, 1.4231],\n",
       "        [0.9193, 0.8984, 1.4063],\n",
       "        [1.1134, 1.1773, 1.8679],\n",
       "        [1.4861, 0.8886, 0.7784],\n",
       "        [0.8601, 1.3831, 1.4963]])"
      ]
     },
     "execution_count": 6,
     "metadata": {},
     "output_type": "execute_result"
    }
   ],
   "source": [
    "torch.add(x, y)"
   ]
  },
  {
   "cell_type": "code",
   "execution_count": 7,
   "metadata": {
    "ExecuteTime": {
     "end_time": "2018-11-28T11:29:39.018432Z",
     "start_time": "2018-11-28T11:29:38.999965Z"
    }
   },
   "outputs": [
    {
     "data": {
      "text/plain": [
       "tensor([[1.5989, 1.3819, 1.4231],\n",
       "        [0.9193, 0.8984, 1.4063],\n",
       "        [1.1134, 1.1773, 1.8679],\n",
       "        [1.4861, 0.8886, 0.7784],\n",
       "        [0.8601, 1.3831, 1.4963]])"
      ]
     },
     "execution_count": 7,
     "metadata": {},
     "output_type": "execute_result"
    }
   ],
   "source": [
    "result = torch.Tensor(5, 3)\n",
    "torch.add(x, y, out=result)\n",
    "result"
   ]
  },
  {
   "cell_type": "code",
   "execution_count": 8,
   "metadata": {
    "ExecuteTime": {
     "end_time": "2018-11-28T11:29:39.046876Z",
     "start_time": "2018-11-28T11:29:39.022422Z"
    },
    "scrolled": true
   },
   "outputs": [
    {
     "data": {
      "text/plain": [
       "tensor([[1.5989, 1.3819, 1.4231],\n",
       "        [0.9193, 0.8984, 1.4063],\n",
       "        [1.1134, 1.1773, 1.8679],\n",
       "        [1.4861, 0.8886, 0.7784],\n",
       "        [0.8601, 1.3831, 1.4963]])"
      ]
     },
     "execution_count": 8,
     "metadata": {},
     "output_type": "execute_result"
    }
   ],
   "source": [
    "y.add(x)"
   ]
  },
  {
   "cell_type": "markdown",
   "metadata": {},
   "source": [
    "## Indexing"
   ]
  },
  {
   "cell_type": "code",
   "execution_count": 9,
   "metadata": {
    "ExecuteTime": {
     "end_time": "2018-11-28T11:29:39.081812Z",
     "start_time": "2018-11-28T11:29:39.052866Z"
    }
   },
   "outputs": [
    {
     "name": "stdout",
     "output_type": "stream",
     "text": [
      "tensor([[0.0000e+00, 0.0000e+00, 0.0000e+00],\n",
      "        [0.0000e+00, 0.0000e+00, 0.0000e+00],\n",
      "        [0.0000e+00, 0.0000e+00, 0.0000e+00],\n",
      "        [0.0000e+00, 1.3340e-42, 0.0000e+00],\n",
      "        [0.0000e+00, 7.7781e+31, 0.0000e+00]]) \n",
      "\n",
      "tensor([0.0000e+00, 0.0000e+00, 0.0000e+00, 1.3340e-42, 7.7781e+31])\n",
      "tensor([0., 0., 0.])\n",
      "<class 'torch.Tensor'>\n"
     ]
    }
   ],
   "source": [
    "x = torch.Tensor(5, 3)\n",
    "print(x, '\\n')\n",
    "print(x[:, 1]) # 1열 모든 행\n",
    "print(x[1, :]) # 1행 모든 열\n",
    "print(type(x))"
   ]
  },
  {
   "cell_type": "code",
   "execution_count": 10,
   "metadata": {
    "ExecuteTime": {
     "end_time": "2018-11-28T11:29:39.109261Z",
     "start_time": "2018-11-28T11:29:39.086803Z"
    }
   },
   "outputs": [
    {
     "name": "stdout",
     "output_type": "stream",
     "text": [
      "torch.Size([4, 4]) torch.Size([16]) torch.Size([2, 8]) torch.Size([8, 2])\n"
     ]
    }
   ],
   "source": [
    "x = torch.randn(4, 4)\n",
    "y = x.view(16)\n",
    "z = x.view(-1, 8) # 8열, 나머지는 행으로\n",
    "r = x.view(8, -1) # 8행, 나머지는 열로\n",
    "print(x.size(), y.size(), z.size(), r.size())"
   ]
  },
  {
   "cell_type": "code",
   "execution_count": 11,
   "metadata": {
    "ExecuteTime": {
     "end_time": "2018-11-28T11:29:39.148190Z",
     "start_time": "2018-11-28T11:29:39.115751Z"
    }
   },
   "outputs": [
    {
     "data": {
      "text/plain": [
       "tensor([[ 0.3239],\n",
       "        [-0.0474],\n",
       "        [ 2.5090],\n",
       "        [ 0.0019],\n",
       "        [-0.0168],\n",
       "        [-0.1142],\n",
       "        [-0.3979],\n",
       "        [-0.8890],\n",
       "        [-1.2446],\n",
       "        [ 1.1698],\n",
       "        [-0.3142],\n",
       "        [-0.4268],\n",
       "        [-0.1525],\n",
       "        [ 1.2778],\n",
       "        [ 0.1597],\n",
       "        [-0.5705]])"
      ]
     },
     "execution_count": 11,
     "metadata": {},
     "output_type": "execute_result"
    }
   ],
   "source": [
    "z = x.view(16, -1)\n",
    "z"
   ]
  },
  {
   "cell_type": "markdown",
   "metadata": {},
   "source": [
    "## Convert Tensor&Numpy"
   ]
  },
  {
   "cell_type": "code",
   "execution_count": 12,
   "metadata": {
    "ExecuteTime": {
     "end_time": "2018-11-28T11:29:39.188114Z",
     "start_time": "2018-11-28T11:29:39.155676Z"
    }
   },
   "outputs": [
    {
     "name": "stdout",
     "output_type": "stream",
     "text": [
      "[1. 1. 1. 1. 1.] <class 'numpy.ndarray'> \n",
      "\n",
      "[1. 1. 1. 1. 1.] <class 'numpy.ndarray'> \n",
      "\n",
      "[2. 2. 2. 2. 2.] <class 'numpy.ndarray'> \n",
      "\n",
      "tensor([2., 2., 2., 2., 2.], dtype=torch.float64) <class 'torch.Tensor'>\n"
     ]
    }
   ],
   "source": [
    "import numpy as np\n",
    "a = np.ones(5)\n",
    "print(a, type(a), '\\n')\n",
    "\n",
    "b = torch.from_numpy(a) # 주소를 공유하는 복사이기 때문에 a값이 변하면 같이 변한다.\n",
    "print(a, type(a), '\\n')\n",
    "\n",
    "np.add(a, 1, out=a)   # np.add를 사용하면 b값도 같이 변한다 <<< 이유가...(깊은 복사 vs 얕은 복사)\n",
    "print(a, type(a), '\\n')\n",
    "print(b, type(b))"
   ]
  },
  {
   "cell_type": "markdown",
   "metadata": {},
   "source": [
    "# New things I learned"
   ]
  },
  {
   "cell_type": "markdown",
   "metadata": {},
   "source": [
    "### 1. from __future__ import print_function\n",
    "- __future__를 통해 최신 python버젼의 function을 가져올 수 있다.\n",
    "- 참고https://ddanggle.gitbooks.io/interpy-kr/ch21-Targeting-python.html\n",
    "\n",
    "### 2. Reshaping tensor with view(-1, n)\n",
    "- -1값이 들어갈 땐 n을 보고 reshape할 모양을 유추\n",
    "\n",
    "### 3. Jupyter notebook extension toolkits\n",
    "- notebook의 추가 기능 사용\n",
    "- 참고https://www.slideshare.net/zzsza/10-jupyter-notebook"
   ]
  }
 ],
 "metadata": {
  "kernelspec": {
   "display_name": "Python 3",
   "language": "python",
   "name": "python3"
  },
  "language_info": {
   "codemirror_mode": {
    "name": "ipython",
    "version": 3
   },
   "file_extension": ".py",
   "mimetype": "text/x-python",
   "name": "python",
   "nbconvert_exporter": "python",
   "pygments_lexer": "ipython3",
   "version": "3.6.2"
  },
  "varInspector": {
   "cols": {
    "lenName": 16,
    "lenType": 16,
    "lenVar": 40
   },
   "kernels_config": {
    "python": {
     "delete_cmd_postfix": "",
     "delete_cmd_prefix": "del ",
     "library": "var_list.py",
     "varRefreshCmd": "print(var_dic_list())"
    },
    "r": {
     "delete_cmd_postfix": ") ",
     "delete_cmd_prefix": "rm(",
     "library": "var_list.r",
     "varRefreshCmd": "cat(var_dic_list()) "
    }
   },
   "oldHeight": 218.877818,
   "position": {
    "height": "241.094px",
    "left": "871.818px",
    "right": "20px",
    "top": "120px",
    "width": "350px"
   },
   "types_to_exclude": [
    "module",
    "function",
    "builtin_function_or_method",
    "instance",
    "_Feature"
   ],
   "varInspector_section_display": "block",
   "window_display": false
  }
 },
 "nbformat": 4,
 "nbformat_minor": 2
}
