{
 "cells": [
  {
   "cell_type": "markdown",
   "metadata": {},
   "source": [
    "# 데이터 다루기\n",
    "- 이미지 데이터를 불러온 후 다뤄보기\n",
    "- 데이터를 준비하는 단계를 연습\n",
    "- dataloader를 바로 쓰지 않고 바닥부터 코딩\n",
    "- 데이터는 .png형식의 MNIST"
   ]
  },
  {
   "cell_type": "code",
   "execution_count": 3,
   "metadata": {
    "ExecuteTime": {
     "end_time": "2019-11-06T14:02:38.674514Z",
     "start_time": "2019-11-06T14:02:36.662944Z"
    }
   },
   "outputs": [],
   "source": [
    "import os\n",
    "from glob import glob\n",
    "import numpy as np\n",
    "from PIL import Image\n",
    "import matplotlib.pyplot as plt\n",
    "\n",
    "%matplotlib inline"
   ]
  },
  {
   "cell_type": "code",
   "execution_count": 4,
   "metadata": {
    "ExecuteTime": {
     "end_time": "2019-11-06T14:03:29.759189Z",
     "start_time": "2019-11-06T14:03:29.746196Z"
    },
    "scrolled": true
   },
   "outputs": [
    {
     "data": {
      "text/plain": [
       "['.git',\n",
       " '.gitignore',\n",
       " '.ipynb_checkpoints',\n",
       " 'data',\n",
       " 'image',\n",
       " 'LICENSE',\n",
       " 'Pytorch0_TensorBoard.ipynb',\n",
       " 'Pytorch1_Tensor.ipynb',\n",
       " 'Pytorch2_Autograd.ipynb',\n",
       " 'Pytorch3_1_DataPreprocessing.ipynb',\n",
       " 'Pytorch3_BasicOperation.ipynb',\n",
       " 'Pytorch4_1_Layers&Visualization.ipynb',\n",
       " 'Pytorch4_Neural_Networks.ipynb',\n",
       " 'Pytorch5-1_CNN_Classifier(MNSIT dataset).ipynb',\n",
       " 'Pytorch5_CNN_Classifier(CIFAR10 dataset).ipynb',\n",
       " 'Pytorch6_NLP_BoW_Classifier.ipynb',\n",
       " 'Pytorch7_1_RNN_Basic.ipynb',\n",
       " 'Pytorch7_2_RNN_Basic.ipynb',\n",
       " 'Pytorch8_RNN_Basic_Sequence.ipynb',\n",
       " 'Pytorch9_RNN_Basic_Embedding.ipynb',\n",
       " 'Pytorch_RNN_Image_Classification.ipynb',\n",
       " 'Pytorch_RNN_NLP_Name_Classification.ipynb',\n",
       " 'README.md']"
      ]
     },
     "execution_count": 4,
     "metadata": {},
     "output_type": "execute_result"
    }
   ],
   "source": [
    "# 내 작업환경 확인하기\n",
    "os.listdir()"
   ]
  },
  {
   "cell_type": "code",
   "execution_count": 7,
   "metadata": {
    "ExecuteTime": {
     "end_time": "2019-11-06T14:04:09.214500Z",
     "start_time": "2019-11-06T14:04:09.203506Z"
    }
   },
   "outputs": [
    {
     "data": {
      "text/plain": [
       "['testing', 'training']"
      ]
     },
     "execution_count": 7,
     "metadata": {},
     "output_type": "execute_result"
    }
   ],
   "source": [
    "os.listdir('data/mnist_png/mnist_png')"
   ]
  }
 ],
 "metadata": {
  "kernelspec": {
   "display_name": "Python 3",
   "language": "python",
   "name": "python3"
  },
  "language_info": {
   "codemirror_mode": {
    "name": "ipython",
    "version": 3
   },
   "file_extension": ".py",
   "mimetype": "text/x-python",
   "name": "python",
   "nbconvert_exporter": "python",
   "pygments_lexer": "ipython3",
   "version": "3.6.2"
  },
  "varInspector": {
   "cols": {
    "lenName": 16,
    "lenType": 16,
    "lenVar": 40
   },
   "kernels_config": {
    "python": {
     "delete_cmd_postfix": "",
     "delete_cmd_prefix": "del ",
     "library": "var_list.py",
     "varRefreshCmd": "print(var_dic_list())"
    },
    "r": {
     "delete_cmd_postfix": ") ",
     "delete_cmd_prefix": "rm(",
     "library": "var_list.r",
     "varRefreshCmd": "cat(var_dic_list()) "
    }
   },
   "types_to_exclude": [
    "module",
    "function",
    "builtin_function_or_method",
    "instance",
    "_Feature"
   ],
   "window_display": false
  }
 },
 "nbformat": 4,
 "nbformat_minor": 2
}
