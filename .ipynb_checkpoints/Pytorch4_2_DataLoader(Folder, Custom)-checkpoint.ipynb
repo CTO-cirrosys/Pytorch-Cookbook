{
 "cells": [
  {
   "cell_type": "markdown",
   "metadata": {},
   "source": [
    "# DataLoader\n",
    "- 이전에는 데이터를 하나하나 가져오는 방식으로 불러옴\n",
    "- Pytorch에 내장된 함수를 이용해서 편리하게 불러오는 방법을 알아보자"
   ]
  },
  {
   "cell_type": "code",
   "execution_count": 33,
   "metadata": {
    "ExecuteTime": {
     "end_time": "2019-11-10T08:55:46.422386Z",
     "start_time": "2019-11-10T08:55:45.541892Z"
    }
   },
   "outputs": [],
   "source": [
    "import os\n",
    "import torch\n",
    "import torchvision\n",
    "import torchvision.transforms as transforms\n",
    "import numpy as np\n",
    "import matplotlib.pyplot as plt\n",
    "\n",
    "%matplotlib inline"
   ]
  },
  {
   "cell_type": "markdown",
   "metadata": {},
   "source": [
    "### ImageFolder\n",
    "- Torchvision 라이브러리에 있는 함수\n",
    "- 데이터들이 각각의 레이블파일로 구축되어있을 때 사용하는 함수\n",
    "> **ImageFolder는 데이터를 3채널로만 출력을 하기 때문에 1채널만 있는 이미지에 대해서는 따로 수정을 해줘야한다.**"
   ]
  },
  {
   "cell_type": "code",
   "execution_count": 11,
   "metadata": {
    "ExecuteTime": {
     "end_time": "2019-11-10T08:44:47.161239Z",
     "start_time": "2019-11-10T08:44:47.131258Z"
    }
   },
   "outputs": [
    {
     "name": "stdout",
     "output_type": "stream",
     "text": [
      "['testing', 'training']\n",
      "['0', '1', '2', '3', '4', '5', '6', '7', '8', '9']\n",
      "['10006.png', '10007.png', '1002.png', '10020.png', '10027.png']\n"
     ]
    }
   ],
   "source": [
    "# 데이터 경로 확인\n",
    "print(os.listdir('data/mnist_png/'))\n",
    "print(os.listdir('data/mnist_png/training'))\n",
    "print(os.listdir('data/mnist_png/training/1')[:5])"
   ]
  },
  {
   "cell_type": "code",
   "execution_count": 36,
   "metadata": {
    "ExecuteTime": {
     "end_time": "2019-11-10T08:56:48.519804Z",
     "start_time": "2019-11-10T08:56:48.099046Z"
    }
   },
   "outputs": [
    {
     "data": {
      "text/plain": [
       "torch.Size([4, 3, 28, 28])"
      ]
     },
     "execution_count": 36,
     "metadata": {},
     "output_type": "execute_result"
    }
   ],
   "source": [
    "# Datasets 만들기\n",
    "transform = transforms.Compose([\n",
    "    transforms.ToTensor(),\n",
    "    transforms.Normalize((0.5, 0.5, 0.5), (0.5, 0.5, 0.5))\n",
    "])\n",
    "\n",
    "train_path = 'data/mnist_png/training'\n",
    "trainset = torchvision.datasets.ImageFolder(root = train_path,\n",
    "                                           transform=transform)\n",
    "trainloader = torch.utils.data.DataLoader(trainset, batch_size=4,\n",
    "                                         shuffle=True)\n",
    "\n",
    "images, labels = iter(trainloader).next()\n",
    "images.size() # batch_size X Channel X Image_size"
   ]
  },
  {
   "cell_type": "code",
   "execution_count": 50,
   "metadata": {
    "ExecuteTime": {
     "end_time": "2019-11-10T08:58:04.188443Z",
     "start_time": "2019-11-10T08:58:04.015544Z"
    }
   },
   "outputs": [
    {
     "name": "stderr",
     "output_type": "stream",
     "text": [
      "Clipping input data to the valid range for imshow with RGB data ([0..1] for floats or [0..255] for integers).\n"
     ]
    },
    {
     "name": "stdout",
     "output_type": "stream",
     "text": [
      "tensor([6, 6, 2, 9])\n"
     ]
    },
    {
     "data": {
      "image/png": "[encoded data removed]",
      "text/plain": [
       "<Figure size 432x288 with 1 Axes>"
      ]
     },
     "metadata": {
      "needs_background": "light"
     },
     "output_type": "display_data"
    }
   ],
   "source": [
    "image_grid = torchvision.utils.make_grid(images).permute(1,2,0)\n",
    "image_np = np.array(image_grid)\n",
    "plt.imshow(image_np)\n",
    "print(labels)"
   ]
  }
 ],
 "metadata": {
  "kernelspec": {
   "display_name": "Python 3",
   "language": "python",
   "name": "python3"
  },
  "language_info": {
   "codemirror_mode": {
    "name": "ipython",
    "version": 3
   },
   "file_extension": ".py",
   "mimetype": "text/x-python",
   "name": "python",
   "nbconvert_exporter": "python",
   "pygments_lexer": "ipython3",
   "version": "3.6.2"
  },
  "varInspector": {
   "cols": {
    "lenName": 16,
    "lenType": 16,
    "lenVar": 40
   },
   "kernels_config": {
    "python": {
     "delete_cmd_postfix": "",
     "delete_cmd_prefix": "del ",
     "library": "var_list.py",
     "varRefreshCmd": "print(var_dic_list())"
    },
    "r": {
     "delete_cmd_postfix": ") ",
     "delete_cmd_prefix": "rm(",
     "library": "var_list.r",
     "varRefreshCmd": "cat(var_dic_list()) "
    }
   },
   "types_to_exclude": [
    "module",
    "function",
    "builtin_function_or_method",
    "instance",
    "_Feature"
   ],
   "window_display": false
  }
 },
 "nbformat": 4,
 "nbformat_minor": 2
}
