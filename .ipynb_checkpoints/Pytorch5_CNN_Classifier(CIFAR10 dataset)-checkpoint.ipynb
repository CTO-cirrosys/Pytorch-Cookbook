{
 "cells": [
  {
   "cell_type": "code",
   "execution_count": 127,
   "metadata": {
    "_cell_guid": "b1076dfc-b9ad-4769-8c92-a6c4dae69d19",
    "_uuid": "8f2839f25d086af736a60e9eeb907d3b93b6e0e5"
   },
   "outputs": [],
   "source": [
    "# This Python 3 environment comes with many helpful analytics libraries installed\n",
    "# It is defined by the kaggle/python docker image: https://github.com/kaggle/docker-python\n",
    "# For example, here's several helpful packages to load in \n",
    "\n",
    "import numpy as np # linear algebra\n",
    "import pandas as pd # data processing, CSV file I/O (e.g. pd.read_csv)\n",
    "\n",
    "# Input data files are available in the \"../input/\" directory.\n",
    "# For example, running this (by clicking run or pressing Shift+Enter) will list all files under the input directory\n",
    "\n",
    "import os\n",
    "for dirname, _, filenames in os.walk('/kaggle/input'):\n",
    "    for filename in filenames:\n",
    "        print(os.path.join(dirname, filename))\n",
    "\n",
    "# Any results you write to the current directory are saved as output."
   ]
  },
  {
   "cell_type": "code",
   "execution_count": 128,
   "metadata": {},
   "outputs": [],
   "source": [
    "import torch\n",
    "import torchvision\n",
    "import torchvision.transforms as transforms\n",
    "import matplotlib.pyplot as plt\n",
    "import numpy as np\n",
    "%matplotlib inline"
   ]
  },
  {
   "cell_type": "code",
   "execution_count": 149,
   "metadata": {},
   "outputs": [],
   "source": [
    "#Hyper Parameters\n",
    "torch.manual_seed(40)\n",
    "batch_size = 128\n",
    "EPOCH = 100\n",
    "lr = 0.05"
   ]
  },
  {
   "cell_type": "code",
   "execution_count": 150,
   "metadata": {},
   "outputs": [
    {
     "name": "stdout",
     "output_type": "stream",
     "text": [
      "Dataset MNIST\n",
      "    Number of datapoints: 60000\n",
      "    Root location: ./data\n",
      "    Split: Train\n",
      "    StandardTransform\n",
      "Transform: Compose(\n",
      "               ToTensor()\n",
      "               Normalize(mean=[0], std=[1])\n",
      "           )\n",
      "****************************************************************************************************\n",
      "Dataset MNIST\n",
      "    Number of datapoints: 10000\n",
      "    Root location: ./data\n",
      "    Split: Test\n",
      "    StandardTransform\n",
      "Transform: Compose(\n",
      "               ToTensor()\n",
      "               Normalize(mean=[0], std=[1])\n",
      "           )\n"
     ]
    }
   ],
   "source": [
    "# Dataset & DataLoader\n",
    "\n",
    "transform = transforms.Compose(\n",
    "[\n",
    "    transforms.ToTensor(),\n",
    "    transforms.Normalize([0], [1])\n",
    "])\n",
    "\n",
    "trainset = torchvision.datasets.MNIST(root = './data', train = True,\n",
    "                                      download = True, transform=transform)\n",
    "\n",
    "trainloader = torch.utils.data.DataLoader(trainset, batch_size = batch_size,\n",
    "                                          shuffle = True, num_workers=1)\n",
    "\n",
    "testset = torchvision.datasets.MNIST(root = './data', train = False,\n",
    "                                     download = True, transform=transform)\n",
    "\n",
    "testloader = torch.utils.data.DataLoader(testset, batch_size = batch_size,\n",
    "                                         shuffle = True, num_workers=1)\n",
    "\n",
    "classes = {'0', '1', '2', '3', '4', '5', '6', '7', '8', '9'}\n",
    "\n",
    "print(trainset)\n",
    "print('*'*100)\n",
    "print(testset)"
   ]
  },
  {
   "cell_type": "code",
   "execution_count": 151,
   "metadata": {},
   "outputs": [
    {
     "name": "stdout",
     "output_type": "stream",
     "text": [
      "torch.Size([32, 1, 28, 28])\n"
     ]
    },
    {
     "data": {
      "image/png": "[encoded data removed]",
      "text/plain": [
       "<Figure size 432x288 with 1 Axes>"
      ]
     },
     "metadata": {
      "needs_background": "light"
     },
     "output_type": "display_data"
    }
   ],
   "source": [
    "# Visualization Datasets\n",
    "\n",
    "def show(img):\n",
    "    print(img.size())\n",
    "    grid = torchvision.utils.make_grid(img, padding = 0) # make_grid 함수는 3채널로 만든다(모두 같은 format으로)\n",
    "    tranimg = grid.permute(1,2,0)\n",
    "    plt.imshow(tranimg)\n",
    "\n",
    "images, labels = iter(trainloader).next()\n",
    "show(images[:32])"
   ]
  },
  {
   "cell_type": "code",
   "execution_count": 152,
   "metadata": {},
   "outputs": [],
   "source": [
    "# Make Model\n",
    "\n",
    "import torch.nn as nn\n",
    "import torch.nn.functional as F\n",
    "\n",
    "class Net(nn.Module):\n",
    "    \n",
    "    def __init__(self):\n",
    "        super(Net, self).__init__()\n",
    "        self.conv1 = nn.Conv2d(1, 10, 7, padding = 3)\n",
    "        self.conv2 = nn.Conv2d(10, 50, 7, padding = 3)\n",
    "        self.conv3 = nn.Conv2d(50, 120, 7, padding = 3)\n",
    "        self.conv4 = nn.Conv2d(120, 100, 5)\n",
    "        self.conv5 = nn.Conv2d(100, 20, 5)\n",
    "        self.conv6 = nn.Conv2d(20, 10, 5)\n",
    "        self.conv7 = nn.Conv2d(10, 10, 3)\n",
    "        self.pool = nn.MaxPool2d(2,2)\n",
    "        self.fc1 = nn.Linear(10 * 8 * 8, 120)\n",
    "        self.fc2 = nn.Linear(120, 360)\n",
    "        self.fc3 = nn.Linear(360, 50)\n",
    "        self.fc4 = nn.Linear(50, 10)\n",
    "        \n",
    "    def forward(self, x):\n",
    "        x = F.relu(self.conv1(x)) # 28 28\n",
    "        x = F.relu(self.conv2(x)) # 28 28\n",
    "        x = F.relu(self.conv3(x)) # 28 28\n",
    "        x = F.relu(self.conv4(x)) # 24 24\n",
    "        x = F.relu(self.conv5(x)) # 20 20\n",
    "        x = self.pool(F.relu(self.conv6(x))) # 8 8\n",
    "        x = x.view(-1, 10 * 8 * 8)\n",
    "        x = F.relu(self.fc1(x))\n",
    "        x = F.relu(self.fc2(x))\n",
    "        x = F.relu(self.fc3(x))\n",
    "        x = self.fc4(x)\n",
    "        \n",
    "        return x   "
   ]
  },
  {
   "cell_type": "markdown",
   "metadata": {},
   "source": [
    "## GPU 사용여부 확인"
   ]
  },
  {
   "cell_type": "code",
   "execution_count": 153,
   "metadata": {},
   "outputs": [
    {
     "name": "stdout",
     "output_type": "stream",
     "text": [
      "cuda\n"
     ]
    }
   ],
   "source": [
    "if torch.cuda.is_available():\n",
    "    device = torch.device('cuda')\n",
    "else:\n",
    "    device = torch.device('cpu')\n",
    "print(device)"
   ]
  },
  {
   "cell_type": "code",
   "execution_count": 154,
   "metadata": {},
   "outputs": [
    {
     "name": "stdout",
     "output_type": "stream",
     "text": [
      "CrossEntropyLoss() SGD (\n",
      "Parameter Group 0\n",
      "    dampening: 0\n",
      "    initial_lr: 0.05\n",
      "    lr: 0.05\n",
      "    momentum: 0\n",
      "    nesterov: False\n",
      "    weight_decay: 0\n",
      ")\n"
     ]
    }
   ],
   "source": [
    "import torch.optim as optim\n",
    "\n",
    "model = Net().to(device)\n",
    "\n",
    "# Weight 초기화\n",
    "def weight_init(m):\n",
    "    if ((type(m) == nn.Conv2d) or (type(m) == nn.Linear)):\n",
    "        torch.nn.init.xavier_uniform_(m.weight)\n",
    "        m.bias.data.fill_(0)\n",
    "        \n",
    "model.apply(weight_init)\n",
    "\n",
    "loss_func = nn.CrossEntropyLoss()\n",
    "optimizer = optim.SGD(model.parameters(), lr = lr)\n",
    "scheduler = optim.lr_scheduler.StepLR(optimizer, step_size = 30, gamma = 0.1)\n",
    "print(loss_func, optimizer)"
   ]
  },
  {
   "cell_type": "code",
   "execution_count": 155,
   "metadata": {},
   "outputs": [
    {
     "name": "stdout",
     "output_type": "stream",
     "text": [
      "torch.Size([128, 1, 28, 28])\n",
      "Test :  tensor([[-0.0193,  0.0045,  0.0006,  ...,  0.0112,  0.0094,  0.0083],\n",
      "        [-0.0203,  0.0002, -0.0024,  ...,  0.0093,  0.0032,  0.0108],\n",
      "        [-0.0258,  0.0123, -0.0033,  ...,  0.0066,  0.0156,  0.0180],\n",
      "        ...,\n",
      "        [-0.0244,  0.0127, -0.0071,  ...,  0.0062,  0.0162,  0.0223],\n",
      "        [-0.0216,  0.0014, -0.0041,  ...,  0.0081,  0.0065,  0.0118],\n",
      "        [-0.0201,  0.0038,  0.0018,  ...,  0.0047,  0.0115,  0.0104]],\n",
      "       device='cuda:0')\n",
      "torch.Size([128, 10])\n"
     ]
    }
   ],
   "source": [
    "model.eval()\n",
    "with torch.no_grad():\n",
    "    images, labels = next(iter(trainloader))\n",
    "    images, labels = images.to(device), labels.to(device)\n",
    "    print(images.size())\n",
    "    example = model(images)\n",
    "    print('Test : ', example)\n",
    "    print(example.size())"
   ]
  },
  {
   "cell_type": "code",
   "execution_count": 144,
   "metadata": {},
   "outputs": [
    {
     "name": "stdout",
     "output_type": "stream",
     "text": [
      "[1/100]-----[469/468] LOSS : 494.673------ Time : 16 ------- Current lr : 0.100000\n",
      "\n",
      "[2/100]-----[469/468] LOSS : 49.258------ Time : 16 ------- Current lr : 0.100000\n",
      "\n",
      "[3/100]-----[469/468] LOSS : 27.285------ Time : 16 ------- Current lr : 0.100000\n",
      "\n",
      "[4/100]-----[469/468] LOSS : 20.278------ Time : 16 ------- Current lr : 0.100000\n",
      "\n",
      "[5/100]-----[469/468] LOSS : 16.011------ Time : 16 ------- Current lr : 0.100000\n",
      "\n",
      "[6/100]-----[469/468] LOSS : 13.519------ Time : 16 ------- Current lr : 0.100000\n",
      "\n",
      "[7/100]-----[469/468] LOSS : 11.765------ Time : 16 ------- Current lr : 0.100000\n",
      "\n",
      "[8/100]-----[469/468] LOSS : 9.600------ Time : 16 ------- Current lr : 0.100000\n",
      "\n",
      "[9/100]-----[469/468] LOSS : 8.450------ Time : 16 ------- Current lr : 0.100000\n",
      "\n",
      "[10/100]-----[469/468] LOSS : 7.485------ Time : 16 ------- Current lr : 0.100000\n",
      "\n",
      "[11/100]-----[469/468] LOSS : 6.457------ Time : 17 ------- Current lr : 0.100000\n",
      "\n",
      "[12/100]-----[469/468] LOSS : 5.445------ Time : 16 ------- Current lr : 0.100000\n",
      "\n",
      "[13/100]-----[469/468] LOSS : 5.307------ Time : 16 ------- Current lr : 0.100000\n",
      "\n",
      "[14/100]-----[469/468] LOSS : 4.792------ Time : 16 ------- Current lr : 0.100000\n",
      "\n",
      "[15/100]-----[469/468] LOSS : 4.078------ Time : 16 ------- Current lr : 0.100000\n",
      "\n",
      "[16/100]-----[469/468] LOSS : 3.294------ Time : 16 ------- Current lr : 0.100000\n",
      "\n",
      "[17/100]-----[469/468] LOSS : 3.517------ Time : 16 ------- Current lr : 0.100000\n",
      "\n",
      "[18/100]-----[469/468] LOSS : 2.696------ Time : 16 ------- Current lr : 0.100000\n",
      "\n",
      "[19/100]-----[469/468] LOSS : 2.560------ Time : 16 ------- Current lr : 0.100000\n",
      "\n",
      "[20/100]-----[469/468] LOSS : 2.305------ Time : 16 ------- Current lr : 0.100000\n",
      "\n",
      "[21/100]-----[469/468] LOSS : 2.442------ Time : 16 ------- Current lr : 0.100000\n",
      "\n",
      "[22/100]-----[469/468] LOSS : 1.994------ Time : 16 ------- Current lr : 0.100000\n",
      "\n",
      "[23/100]-----[469/468] LOSS : 2.436------ Time : 16 ------- Current lr : 0.100000\n",
      "\n",
      "[24/100]-----[469/468] LOSS : 2.454------ Time : 16 ------- Current lr : 0.100000\n",
      "\n",
      "[25/100]-----[469/468] LOSS : 1.799------ Time : 16 ------- Current lr : 0.100000\n",
      "\n",
      "[26/100]-----[469/468] LOSS : 1.658------ Time : 16 ------- Current lr : 0.100000\n",
      "\n",
      "[27/100]-----[469/468] LOSS : 1.146------ Time : 16 ------- Current lr : 0.100000\n",
      "\n",
      "[28/100]-----[469/468] LOSS : 1.050------ Time : 16 ------- Current lr : 0.100000\n",
      "\n",
      "[29/100]-----[469/468] LOSS : 0.232------ Time : 17 ------- Current lr : 0.100000\n",
      "\n",
      "[30/100]-----[469/468] LOSS : 0.271------ Time : 16 ------- Current lr : 0.100000\n",
      "\n",
      "[31/100]-----[469/468] LOSS : 0.217------ Time : 16 ------- Current lr : 0.100000\n",
      "\n",
      "[32/100]-----[469/468] LOSS : nan------ Time : 16 ------- Current lr : 0.100000 0.100000\n",
      "\n",
      "[33/100]-----[469/468] LOSS : nan------ Time : 16 ------- Current lr : 0.100000\n",
      "\n",
      "[34/100]-----[469/468] LOSS : nan------ Time : 16 ------- Current lr : 0.100000\n",
      "\n",
      "[35/100]-----[469/468] LOSS : nan------ Time : 16 ------- Current lr : 0.100000\n",
      "\n",
      "[36/100]-----[469/468] LOSS : nan------ Time : 16 ------- Current lr : 0.100000\n",
      "\n",
      "[37/100]-----[469/468] LOSS : nan------ Time : 16 ------- Current lr : 0.100000\n",
      "\n",
      "[38/100]-----[469/468] LOSS : nan------ Time : 16 ------- Current lr : 0.100000\n",
      "\n",
      "[39/100]-----[469/468] LOSS : nan------ Time : 16 ------- Current lr : 0.100000\n",
      "\n",
      "[40/100]-----[469/468] LOSS : nan------ Time : 16 ------- Current lr : 0.100000\n",
      "\n",
      "[41/100]-----[469/468] LOSS : nan------ Time : 16 ------- Current lr : 0.100000\n",
      "\n",
      "[42/100]-----[469/468] LOSS : nan------ Time : 16 ------- Current lr : 0.100000\n",
      "\n",
      "[43/100]-----[469/468] LOSS : nan------ Time : 16 ------- Current lr : 0.100000\n",
      "\n",
      "[44/100]-----[469/468] LOSS : nan------ Time : 16 ------- Current lr : 0.100000\n",
      "\n",
      "[45/100]-----[469/468] LOSS : nan------ Time : 16 ------- Current lr : 0.100000\n",
      "\n",
      "[46/100]-----[469/468] LOSS : nan------ Time : 16 ------- Current lr : 0.100000\n",
      "\n",
      "[47/100]-----[469/468] LOSS : nan------ Time : 17 ------- Current lr : 0.100000\n",
      "\n",
      "[48/100]-----[469/468] LOSS : nan------ Time : 16 ------- Current lr : 0.100000\n",
      "\n",
      "[49/100]-----[469/468] LOSS : nan------ Time : 16 ------- Current lr : 0.100000\n",
      "\n",
      "[50/100]-----[469/468] LOSS : nan------ Time : 16 ------- Current lr : 0.100000\n",
      "\n",
      "[51/100]-----[469/468] LOSS : nan------ Time : 16 ------- Current lr : 0.100000\n",
      "\n",
      "[52/100]-----[469/468] LOSS : nan------ Time : 16 ------- Current lr : 0.100000\n",
      "\n",
      "[53/100]-----[469/468] LOSS : nan------ Time : 16 ------- Current lr : 0.100000\n",
      "\n",
      "[54/100]-----[469/468] LOSS : nan------ Time : 16 ------- Current lr : 0.100000\n",
      "\n",
      "[55/100]-----[469/468] LOSS : nan------ Time : 16 ------- Current lr : 0.100000\n",
      "\n",
      "[56/100]-----[469/468] LOSS : nan------ Time : 16 ------- Current lr : 0.100000\n",
      "\n",
      "[57/100]-----[469/468] LOSS : nan------ Time : 16 ------- Current lr : 0.100000\n",
      "\n",
      "[58/100]-----[469/468] LOSS : nan------ Time : 16 ------- Current lr : 0.100000\n",
      "\n",
      "[59/100]-----[469/468] LOSS : nan------ Time : 16 ------- Current lr : 0.100000\n",
      "\n",
      "[60/100]-----[469/468] LOSS : nan------ Time : 16 ------- Current lr : 0.100000\n",
      "\n",
      "[61/100]-----[469/468] LOSS : nan------ Time : 16 ------- Current lr : 0.100000\n",
      "\n",
      "[62/100]-----[469/468] LOSS : nan------ Time : 16 ------- Current lr : 0.100000\n",
      "\n",
      "[63/100]-----[469/468] LOSS : nan------ Time : 16 ------- Current lr : 0.100000\n",
      "\n",
      "[64/100]-----[469/468] LOSS : nan------ Time : 16 ------- Current lr : 0.100000\n",
      "\n",
      "[65/100]-----[469/468] LOSS : nan------ Time : 16 ------- Current lr : 0.100000\n",
      "\n",
      "[66/100]-----[469/468] LOSS : nan------ Time : 16 ------- Current lr : 0.100000\n",
      "\n",
      "[67/100]-----[469/468] LOSS : nan------ Time : 16 ------- Current lr : 0.100000\n",
      "\n",
      "[68/100]-----[469/468] LOSS : nan------ Time : 16 ------- Current lr : 0.100000\n",
      "\n",
      "[69/100]-----[469/468] LOSS : nan------ Time : 16 ------- Current lr : 0.100000\n",
      "\n",
      "[70/100]-----[469/468] LOSS : nan------ Time : 16 ------- Current lr : 0.100000\n",
      "\n",
      "[71/100]-----[469/468] LOSS : nan------ Time : 16 ------- Current lr : 0.100000\n",
      "\n",
      "[72/100]-----[469/468] LOSS : nan------ Time : 16 ------- Current lr : 0.100000\n",
      "\n",
      "[73/100]-----[469/468] LOSS : nan------ Time : 16 ------- Current lr : 0.100000\n",
      "\n",
      "[74/100]-----[469/468] LOSS : nan------ Time : 16 ------- Current lr : 0.100000\n",
      "\n",
      "[75/100]-----[469/468] LOSS : nan------ Time : 16 ------- Current lr : 0.100000\n",
      "\n",
      "[76/100]-----[469/468] LOSS : nan------ Time : 16 ------- Current lr : 0.100000\n",
      "\n",
      "[77/100]-----[469/468] LOSS : nan------ Time : 16 ------- Current lr : 0.100000\n",
      "\n",
      "[78/100]-----[469/468] LOSS : nan------ Time : 16 ------- Current lr : 0.100000\n",
      "\n",
      "[79/100]-----[469/468] LOSS : nan------ Time : 16 ------- Current lr : 0.100000\n",
      "\n",
      "[80/100]-----[469/468] LOSS : nan------ Time : 16 ------- Current lr : 0.100000\n",
      "\n",
      "[81/100]-----[469/468] LOSS : nan------ Time : 16 ------- Current lr : 0.100000\n",
      "\n",
      "[82/100]-----[469/468] LOSS : nan------ Time : 16 ------- Current lr : 0.100000\n",
      "\n",
      "[83/100]-----[469/468] LOSS : nan------ Time : 17 ------- Current lr : 0.100000\n",
      "\n",
      "[84/100]-----[469/468] LOSS : nan------ Time : 16 ------- Current lr : 0.100000\n",
      "\n",
      "[85/100]-----[469/468] LOSS : nan------ Time : 16 ------- Current lr : 0.100000\n",
      "\n",
      "[86/100]-----[469/468] LOSS : nan------ Time : 16 ------- Current lr : 0.100000\n",
      "\n",
      "[87/100]-----[469/468] LOSS : nan------ Time : 16 ------- Current lr : 0.100000\n",
      "\n",
      "[88/100]-----[469/468] LOSS : nan------ Time : 16 ------- Current lr : 0.100000\n",
      "\n",
      "[89/100]-----[469/468] LOSS : nan------ Time : 16 ------- Current lr : 0.100000\n",
      "\n",
      "[90/100]-----[469/468] LOSS : nan------ Time : 16 ------- Current lr : 0.100000\n",
      "\n",
      "[91/100]-----[469/468] LOSS : nan------ Time : 16 ------- Current lr : 0.100000\n",
      "\n",
      "[92/100]-----[469/468] LOSS : nan------ Time : 16 ------- Current lr : 0.100000\n",
      "\n",
      "[93/100]-----[469/468] LOSS : nan------ Time : 16 ------- Current lr : 0.100000\n",
      "\n",
      "[94/100]-----[469/468] LOSS : nan------ Time : 16 ------- Current lr : 0.100000\n",
      "\n",
      "[95/100]-----[469/468] LOSS : nan------ Time : 16 ------- Current lr : 0.100000\n",
      "\n",
      "[96/100]-----[469/468] LOSS : nan------ Time : 16 ------- Current lr : 0.100000\n",
      "\n",
      "[97/100]-----[469/468] LOSS : nan------ Time : 16 ------- Current lr : 0.100000\n",
      "\n",
      "[98/100]-----[469/468] LOSS : nan------ Time : 16 ------- Current lr : 0.100000\n",
      "\n",
      "[99/100]-----[469/468] LOSS : nan------ Time : 16 ------- Current lr : 0.100000\n",
      "\n",
      "[100/100]-----[469/468] LOSS : nan------ Time : 16 ------- Current lr : 0.100000\n",
      "\n"
     ]
    }
   ],
   "source": [
    "import time\n",
    "\n",
    "# Train\n",
    "\n",
    "model.train()\n",
    "for e in range(1, EPOCH+1):\n",
    "    start_time = time.time()\n",
    "    running_loss = 0\n",
    "    \n",
    "    for param_group in optimizer.param_groups:\n",
    "        learning_rate = param_group['lr']\n",
    "        \n",
    "    for i, data in enumerate(trainloader):\n",
    "        images, labels = data\n",
    "        images, labels = images.to(device), labels.to(device)\n",
    "        \n",
    "        optimizer.zero_grad()\n",
    "        outputs = model(images)\n",
    "        loss = loss_func(outputs, labels)\n",
    "        loss.backward()\n",
    "        optimizer.step()\n",
    "\n",
    "        running_loss += loss\n",
    "        now = time.time()\n",
    "\n",
    "        print('\\r[%d/%d]-----[%d/%d] LOSS : %.3f------ Time : %d ------- Current lr : %f' \n",
    "              %(e, EPOCH, i+1, 60000/batch_size, running_loss, now - start_time, learning_rate), end = '')    \n",
    "    scheduler.step()        \n",
    "    print('\\n')"
   ]
  },
  {
   "cell_type": "code",
   "execution_count": 145,
   "metadata": {},
   "outputs": [
    {
     "name": "stderr",
     "output_type": "stream",
     "text": [
      "/opt/conda/lib/python3.6/site-packages/torch/serialization.py:292: UserWarning: Couldn't retrieve source code for container of type Net. It won't be checked for correctness upon loading.\n",
      "  \"type \" + obj.__name__ + \". It won't be checked \"\n",
      "/opt/conda/lib/python3.6/site-packages/torch/serialization.py:292: UserWarning: Couldn't retrieve source code for container of type Conv2d. It won't be checked for correctness upon loading.\n",
      "  \"type \" + obj.__name__ + \". It won't be checked \"\n",
      "/opt/conda/lib/python3.6/site-packages/torch/serialization.py:292: UserWarning: Couldn't retrieve source code for container of type MaxPool2d. It won't be checked for correctness upon loading.\n",
      "  \"type \" + obj.__name__ + \". It won't be checked \"\n",
      "/opt/conda/lib/python3.6/site-packages/torch/serialization.py:292: UserWarning: Couldn't retrieve source code for container of type Linear. It won't be checked for correctness upon loading.\n",
      "  \"type \" + obj.__name__ + \". It won't be checked \"\n"
     ]
    },
    {
     "data": {
      "text/plain": [
       "Net(\n",
       "  (conv1): Conv2d(1, 10, kernel_size=(7, 7), stride=(1, 1), padding=(3, 3))\n",
       "  (conv2): Conv2d(10, 50, kernel_size=(7, 7), stride=(1, 1), padding=(3, 3))\n",
       "  (conv3): Conv2d(50, 120, kernel_size=(7, 7), stride=(1, 1), padding=(3, 3))\n",
       "  (conv4): Conv2d(120, 100, kernel_size=(5, 5), stride=(1, 1))\n",
       "  (conv5): Conv2d(100, 20, kernel_size=(5, 5), stride=(1, 1))\n",
       "  (conv6): Conv2d(20, 10, kernel_size=(5, 5), stride=(1, 1))\n",
       "  (conv7): Conv2d(10, 10, kernel_size=(3, 3), stride=(1, 1))\n",
       "  (pool): MaxPool2d(kernel_size=2, stride=2, padding=0, dilation=1, ceil_mode=False)\n",
       "  (fc1): Linear(in_features=640, out_features=120, bias=True)\n",
       "  (fc2): Linear(in_features=120, out_features=360, bias=True)\n",
       "  (fc3): Linear(in_features=360, out_features=50, bias=True)\n",
       "  (fc4): Linear(in_features=50, out_features=10, bias=True)\n",
       ")"
      ]
     },
     "execution_count": 145,
     "metadata": {},
     "output_type": "execute_result"
    }
   ],
   "source": [
    "torch.save(model, 'data/mnist_classifier.pth')\n",
    "test_model = torch.load('data/mnist_classifier.pth')\n",
    "test_model"
   ]
  },
  {
   "cell_type": "code",
   "execution_count": 146,
   "metadata": {},
   "outputs": [
    {
     "name": "stdout",
     "output_type": "stream",
     "text": [
      "torch.Size([8, 1, 28, 28])\n",
      "GroundTruth :  6 6 7 0 2 1 4 9\n",
      "Predicted :  0 0 0 0 0 0 0 0\n"
     ]
    },
    {
     "data": {
      "image/png": "[encoded data removed]",
      "text/plain": [
       "<Figure size 432x288 with 1 Axes>"
      ]
     },
     "metadata": {
      "needs_background": "light"
     },
     "output_type": "display_data"
    }
   ],
   "source": [
    "model.eval()\n",
    "with torch.no_grad():\n",
    "    classes = ('0', '1', '2', '3', '4', '5', '6', '7', '8', '9')\n",
    "    \n",
    "    test_data = iter(testloader)\n",
    "    test_images, test_labels = iter(testloader).next()\n",
    "    show(test_images[:8])\n",
    "    test_images, test_labels = test_images[:8].to(device), test_labels[:8].to(device)\n",
    "    \n",
    "    test_outputs = test_model(test_images)\n",
    "    predicted = test_outputs.argmax(dim=1)\n",
    "    \n",
    "    \n",
    "    print('GroundTruth : ', ' '.join(classes[test_labels[j]] for j in range(8)))\n",
    "    print('Predicted : ', ' '.join(classes[predicted[i]] for i in range(8)))\n"
   ]
  },
  {
   "cell_type": "code",
   "execution_count": 147,
   "metadata": {},
   "outputs": [
    {
     "name": "stdout",
     "output_type": "stream",
     "text": [
      "Accuracy of the network on the 10000 test images : 9.800 %\n"
     ]
    }
   ],
   "source": [
    "correct = 0\n",
    "test_loss = 0\n",
    "model.eval()\n",
    "\n",
    "with torch.no_grad():\n",
    "    for data in testloader:\n",
    "        val_images, val_labels = data\n",
    "        val_images, val_labels = val_images.to(device), val_labels.to(device)\n",
    "        \n",
    "        val_outputs = model(val_images)\n",
    "        pred = val_outputs.argmax(dim=1, keepdim=True)\n",
    "        correct += pred.eq(val_labels.view_as(pred)).sum().item()\n",
    "        \n",
    "        \n",
    "print('Accuracy of the network on the 10000 test images : %.3f %%' \n",
    "      %(100 * correct / len(testloader.dataset)))"
   ]
  }
 ],
 "metadata": {
  "kernelspec": {
   "display_name": "Python 3",
   "language": "python",
   "name": "python3"
  },
  "language_info": {
   "codemirror_mode": {
    "name": "ipython",
    "version": 3
   },
   "file_extension": ".py",
   "mimetype": "text/x-python",
   "name": "python",
   "nbconvert_exporter": "python",
   "pygments_lexer": "ipython3",
   "version": "3.6.2"
  },
  "varInspector": {
   "cols": {
    "lenName": 16,
    "lenType": 16,
    "lenVar": 40
   },
   "kernels_config": {
    "python": {
     "delete_cmd_postfix": "",
     "delete_cmd_prefix": "del ",
     "library": "var_list.py",
     "varRefreshCmd": "print(var_dic_list())"
    },
    "r": {
     "delete_cmd_postfix": ") ",
     "delete_cmd_prefix": "rm(",
     "library": "var_list.r",
     "varRefreshCmd": "cat(var_dic_list()) "
    }
   },
   "types_to_exclude": [
    "module",
    "function",
    "builtin_function_or_method",
    "instance",
    "_Feature"
   ],
   "window_display": false
  }
 },
 "nbformat": 4,
 "nbformat_minor": 1
}
