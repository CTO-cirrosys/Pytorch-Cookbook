{
 "cells": [
  {
   "cell_type": "markdown",
   "metadata": {},
   "source": [
    "# Master Pytorch 7 : RNN Basic\n",
    "- RNN의 기초에 대해 알아보자"
   ]
  },
  {
   "cell_type": "code",
   "execution_count": 5,
   "metadata": {
    "ExecuteTime": {
     "end_time": "2018-12-03T18:00:55.373422Z",
     "start_time": "2018-12-03T18:00:55.365939Z"
    }
   },
   "outputs": [],
   "source": [
    "import torch\n",
    "import torch.nn as nn\n",
    "\n",
    "# hello에 있는 각각의 문자들을 원핫벡터로 변환\n",
    "h = [1, 0, 0, 0]\n",
    "e = [0, 1, 0, 0]\n",
    "l = [0, 0, 1, 0]\n",
    "o = [0, 0, 0, 1]"
   ]
  },
  {
   "cell_type": "code",
   "execution_count": 6,
   "metadata": {
    "ExecuteTime": {
     "end_time": "2018-12-03T18:01:06.027417Z",
     "start_time": "2018-12-03T18:01:06.017932Z"
    }
   },
   "outputs": [
    {
     "data": {
      "text/plain": [
       "RNN(4, 2, batch_first=True)"
      ]
     },
     "execution_count": 6,
     "metadata": {},
     "output_type": "execute_result"
    }
   ],
   "source": [
    "# RNN의 한 cell 정의 후 출력\n",
    "cell = nn.RNN(input_size = 4, hidden_size = 2, batch_first = True)\n",
    "cell"
   ]
  },
  {
   "cell_type": "code",
   "execution_count": 13,
   "metadata": {
    "ExecuteTime": {
     "end_time": "2018-12-03T18:04:00.732251Z",
     "start_time": "2018-12-03T18:04:00.723266Z"
    }
   },
   "outputs": [
    {
     "data": {
      "text/plain": [
       "tensor([[[-0.4238,  0.3536]]])"
      ]
     },
     "execution_count": 13,
     "metadata": {},
     "output_type": "execute_result"
    }
   ],
   "source": [
    "hidden = torch.randn(1, 1, 2) # (num_layers * num_direction) X batch_size X hidden_size\n",
    "hidden"
   ]
  },
  {
   "cell_type": "code",
   "execution_count": 14,
   "metadata": {
    "ExecuteTime": {
     "end_time": "2018-12-03T18:04:52.085551Z",
     "start_time": "2018-12-03T18:04:52.076567Z"
    }
   },
   "outputs": [
    {
     "data": {
      "text/plain": [
       "tensor([[1., 0., 0., 0.],\n",
       "        [0., 1., 0., 0.],\n",
       "        [0., 0., 1., 0.],\n",
       "        [0., 0., 1., 0.],\n",
       "        [0., 0., 0., 1.]])"
      ]
     },
     "execution_count": 14,
     "metadata": {},
     "output_type": "execute_result"
    }
   ],
   "source": [
    "inputs = torch.Tensor([h, e, l, l, o])\n",
    "inputs"
   ]
  },
  {
   "cell_type": "code",
   "execution_count": 20,
   "metadata": {
    "ExecuteTime": {
     "end_time": "2018-12-03T18:07:58.101653Z",
     "start_time": "2018-12-03T18:07:58.086182Z"
    }
   },
   "outputs": [
    {
     "name": "stdout",
     "output_type": "stream",
     "text": [
      "torch.Size([1, 1, 4]) torch.Size([1, 1, 2])\n",
      "torch.Size([1, 1, 4]) torch.Size([1, 1, 2])\n",
      "torch.Size([1, 1, 4]) torch.Size([1, 1, 2])\n",
      "torch.Size([1, 1, 4]) torch.Size([1, 1, 2])\n",
      "torch.Size([1, 1, 4]) torch.Size([1, 1, 2])\n"
     ]
    }
   ],
   "source": [
    "for c in inputs:\n",
    "    c = c.view(1, 1, -1) # input : (batch_size X seq_len X input_size) if batch_first = True\n",
    "    out, hidden = cell(c, hidden)\n",
    "    print(c.size(), out.size())"
   ]
  },
  {
   "cell_type": "code",
   "execution_count": 22,
   "metadata": {
    "ExecuteTime": {
     "end_time": "2018-12-03T18:09:48.500260Z",
     "start_time": "2018-12-03T18:09:48.489778Z"
    }
   },
   "outputs": [
    {
     "name": "stdout",
     "output_type": "stream",
     "text": [
      "torch.Size([1, 5, 2]) torch.Size([1, 1, 2])\n"
     ]
    }
   ],
   "source": [
    "# 위 작업은 한 번에 가능하다.\n",
    "# input : (Batch_size X seq_len X input_size) if batch_first == True\n",
    "inputs = inputs.view(1, 5, -1) # Batch X seq_len X input_size\n",
    "out, hidden = cell(inputs, hidden)\n",
    "print(out.size(), hidden.size())"
   ]
  },
  {
   "cell_type": "code",
   "execution_count": 23,
   "metadata": {
    "ExecuteTime": {
     "end_time": "2018-12-03T18:09:57.490205Z",
     "start_time": "2018-12-03T18:09:57.481721Z"
    }
   },
   "outputs": [
    {
     "data": {
      "text/plain": [
       "tensor([[[-0.7397,  0.1493],\n",
       "         [ 0.6228, -0.2843],\n",
       "         [ 0.2307, -0.6084],\n",
       "         [ 0.2356, -0.6865],\n",
       "         [ 0.1505, -0.4903]]], grad_fn=<TransposeBackward0>)"
      ]
     },
     "execution_count": 23,
     "metadata": {},
     "output_type": "execute_result"
    }
   ],
   "source": [
    "out"
   ]
  },
  {
   "cell_type": "markdown",
   "metadata": {},
   "source": [
    "# 새로 배운 것\n",
    "\n",
    "## 1. nn.rnn(batch_first = True)\n",
    " - batch_first가 True일 땐 input과 output이 batch로 만들어진다.\n",
    " - batch_first – If True, then the input and output tensors are provided as (batch, seq, feature). Default: False"
   ]
  }
 ],
 "metadata": {
  "kernelspec": {
   "display_name": "Python 3",
   "language": "python",
   "name": "python3"
  },
  "language_info": {
   "codemirror_mode": {
    "name": "ipython",
    "version": 3
   },
   "file_extension": ".py",
   "mimetype": "text/x-python",
   "name": "python",
   "nbconvert_exporter": "python",
   "pygments_lexer": "ipython3",
   "version": "3.6.2"
  },
  "varInspector": {
   "cols": {
    "lenName": 16,
    "lenType": 16,
    "lenVar": 40
   },
   "kernels_config": {
    "python": {
     "delete_cmd_postfix": "",
     "delete_cmd_prefix": "del ",
     "library": "var_list.py",
     "varRefreshCmd": "print(var_dic_list())"
    },
    "r": {
     "delete_cmd_postfix": ") ",
     "delete_cmd_prefix": "rm(",
     "library": "var_list.r",
     "varRefreshCmd": "cat(var_dic_list()) "
    }
   },
   "types_to_exclude": [
    "module",
    "function",
    "builtin_function_or_method",
    "instance",
    "_Feature"
   ],
   "window_display": false
  }
 },
 "nbformat": 4,
 "nbformat_minor": 2
}
