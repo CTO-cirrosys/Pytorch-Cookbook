{
 "cells": [
  {
   "cell_type": "markdown",
   "metadata": {},
   "source": [
    "# Master Pytorch 8 : Basic with Sequence\n",
    "- 앞에 진행했던 Basic을 Sequence로 입력해서 학습"
   ]
  },
  {
   "cell_type": "code",
   "execution_count": 65,
   "metadata": {},
   "outputs": [
    {
     "name": "stdout",
     "output_type": "stream",
     "text": [
      "tensor([[[1., 0., 0., 0., 0.],\n",
      "         [0., 1., 0., 0., 0.],\n",
      "         [1., 0., 0., 0., 0.],\n",
      "         [0., 0., 1., 0., 0.],\n",
      "         [0., 0., 0., 1., 0.],\n",
      "         [0., 0., 0., 1., 0.]]])\n",
      "tensor([1, 0, 2, 3, 3, 4])\n"
     ]
    }
   ],
   "source": [
    "import torch\n",
    "\n",
    "letters = ['h', 'i', 'e', 'l', 'o']\n",
    "\n",
    "# hihell -> ihello\n",
    "\n",
    "x_data = [0, 1, 0, 2, 3, 3]\n",
    "y_data = [1, 0, 2, 3, 3, 4]\n",
    "\n",
    "inputs = torch.zeros(1, len(x_data), len(letters))\n",
    "for i, idx in enumerate(x_data):\n",
    "    inputs[0][i][idx] = 1\n",
    "\n",
    "labels = torch.LongTensor(y_data)\n",
    "\n",
    "print(inputs)\n",
    "print(labels)"
   ]
  },
  {
   "cell_type": "code",
   "execution_count": 66,
   "metadata": {},
   "outputs": [
    {
     "name": "stdout",
     "output_type": "stream",
     "text": [
      "RNN(\n",
      "  (rnn): RNN(5, 5, batch_first=True)\n",
      ")\n"
     ]
    }
   ],
   "source": [
    "import torch.nn as nn\n",
    "import torch.optim as optim\n",
    "\n",
    "class_n = 5\n",
    "input_size = 5\n",
    "hidden_size = 5\n",
    "batch_size = 1\n",
    "seq_n = 6\n",
    "layer_n = 1\n",
    "\n",
    "class RNN(nn.Module):\n",
    "    \n",
    "    def __init__(self, class_n, input_size, hidden_size, layer_n):\n",
    "        super(RNN, self).__init__()\n",
    "        \n",
    "        self.class_n = class_n\n",
    "        self.input_size = input_size\n",
    "        self.hidden_size = hidden_size\n",
    "        self.layer_n = layer_n\n",
    "        self.seq_n = seq_n\n",
    "        \n",
    "        self.rnn = nn.RNN(input_size = 5, hidden_size = 5,\n",
    "                          batch_first = True)\n",
    "        \n",
    "    def forward(self, x):\n",
    "        h0 = torch.zeros(self.layer_n, x.size(0), self.hidden_size)\n",
    "        x = x.view(x.size(0), self.seq_n, self.input_size)\n",
    "        \n",
    "        output, _ = self.rnn(x, h0)\n",
    "        \n",
    "        return output.view(-1, class_n)               \n",
    "\n",
    "model = RNN(class_n, input_size, hidden_size, layer_n)\n",
    "loss_function = nn.CrossEntropyLoss()\n",
    "optimizer = optim.SGD(model.parameters(), lr = 0.1)\n",
    "\n",
    "print(model)"
   ]
  },
  {
   "cell_type": "code",
   "execution_count": 67,
   "metadata": {
    "scrolled": true
   },
   "outputs": [
    {
     "name": "stdout",
     "output_type": "stream",
     "text": [
      "tensor([[-0.5731,  0.4166,  0.5236, -0.3369, -0.5740],\n",
      "        [-0.3872,  0.3059,  0.1732, -0.2040, -0.1998],\n",
      "        [-0.6863,  0.3789,  0.5690, -0.3485, -0.4284],\n",
      "        [-0.6875,  0.3078,  0.5422, -0.0775, -0.2991],\n",
      "        [-0.4715, -0.0335,  0.5258, -0.2689,  0.0209],\n",
      "        [-0.4502, -0.0124,  0.3715, -0.3620, -0.0715]])\n"
     ]
    }
   ],
   "source": [
    "with torch.no_grad():\n",
    "    outputs = model(inputs)\n",
    "print(outputs)"
   ]
  },
  {
   "cell_type": "code",
   "execution_count": 68,
   "metadata": {},
   "outputs": [
    {
     "name": "stdout",
     "output_type": "stream",
     "text": [
      "eieeee Epoch : 1/100, Loss : 1.579\n",
      "eieeee Epoch : 2/100, Loss : 1.547\n",
      "eieeee Epoch : 3/100, Loss : 1.518\n",
      "eieeee Epoch : 4/100, Loss : 1.492\n",
      "eieeee Epoch : 5/100, Loss : 1.470\n",
      "iieeee Epoch : 6/100, Loss : 1.450\n",
      "iieeee Epoch : 7/100, Loss : 1.432\n",
      "ileeee Epoch : 8/100, Loss : 1.416\n",
      "ilelee Epoch : 9/100, Loss : 1.401\n",
      "ilelee Epoch : 10/100, Loss : 1.387\n",
      "ilelee Epoch : 11/100, Loss : 1.374\n",
      "ilelee Epoch : 12/100, Loss : 1.362\n",
      "ilelll Epoch : 13/100, Loss : 1.350\n",
      "ilelll Epoch : 14/100, Loss : 1.338\n",
      "ilelll Epoch : 15/100, Loss : 1.327\n",
      "ilelll Epoch : 16/100, Loss : 1.317\n",
      "ilelll Epoch : 17/100, Loss : 1.307\n",
      "ilelll Epoch : 18/100, Loss : 1.297\n",
      "ilelll Epoch : 19/100, Loss : 1.287\n",
      "ilelll Epoch : 20/100, Loss : 1.278\n",
      "ilelll Epoch : 21/100, Loss : 1.269\n",
      "ihelll Epoch : 22/100, Loss : 1.260\n",
      "ihelll Epoch : 23/100, Loss : 1.251\n",
      "ihilll Epoch : 24/100, Loss : 1.242\n",
      "ihilll Epoch : 25/100, Loss : 1.234\n",
      "ihilll Epoch : 26/100, Loss : 1.225\n",
      "ihilll Epoch : 27/100, Loss : 1.217\n",
      "ihilll Epoch : 28/100, Loss : 1.209\n",
      "ihilll Epoch : 29/100, Loss : 1.201\n",
      "ihilll Epoch : 30/100, Loss : 1.193\n",
      "ihilll Epoch : 31/100, Loss : 1.185\n",
      "ihilll Epoch : 32/100, Loss : 1.177\n",
      "ihilll Epoch : 33/100, Loss : 1.169\n",
      "ihilll Epoch : 34/100, Loss : 1.161\n",
      "ihilll Epoch : 35/100, Loss : 1.153\n",
      "ihillo Epoch : 36/100, Loss : 1.146\n",
      "ihello Epoch : 37/100, Loss : 1.138\n",
      "ihello Epoch : 38/100, Loss : 1.131\n",
      "ihello Epoch : 39/100, Loss : 1.123\n",
      "ihello Epoch : 40/100, Loss : 1.116\n",
      "ihello Epoch : 41/100, Loss : 1.109\n",
      "ihello Epoch : 42/100, Loss : 1.101\n",
      "ihello Epoch : 43/100, Loss : 1.094\n",
      "ihello Epoch : 44/100, Loss : 1.087\n",
      "ihello Epoch : 45/100, Loss : 1.080\n",
      "ihello Epoch : 46/100, Loss : 1.073\n",
      "ihello Epoch : 47/100, Loss : 1.066\n",
      "ihello Epoch : 48/100, Loss : 1.059\n",
      "ihello Epoch : 49/100, Loss : 1.052\n",
      "ihello Epoch : 50/100, Loss : 1.046\n",
      "ihello Epoch : 51/100, Loss : 1.039\n",
      "ihello Epoch : 52/100, Loss : 1.033\n",
      "ihello Epoch : 53/100, Loss : 1.026\n",
      "ihello Epoch : 54/100, Loss : 1.020\n",
      "ihello Epoch : 55/100, Loss : 1.013\n",
      "ihello Epoch : 56/100, Loss : 1.007\n",
      "ihello Epoch : 57/100, Loss : 1.001\n",
      "ihello Epoch : 58/100, Loss : 0.995\n",
      "ihello Epoch : 59/100, Loss : 0.989\n",
      "ihello Epoch : 60/100, Loss : 0.983\n",
      "ihello Epoch : 61/100, Loss : 0.977\n",
      "ihello Epoch : 62/100, Loss : 0.972\n",
      "ihello Epoch : 63/100, Loss : 0.966\n",
      "ihello Epoch : 64/100, Loss : 0.961\n",
      "ihello Epoch : 65/100, Loss : 0.955\n",
      "ihello Epoch : 66/100, Loss : 0.950\n",
      "ihello Epoch : 67/100, Loss : 0.944\n",
      "ihello Epoch : 68/100, Loss : 0.939\n",
      "ihello Epoch : 69/100, Loss : 0.934\n",
      "ihello Epoch : 70/100, Loss : 0.929\n",
      "ihello Epoch : 71/100, Loss : 0.924\n",
      "ihello Epoch : 72/100, Loss : 0.919\n",
      "ihello Epoch : 73/100, Loss : 0.915\n",
      "ihello Epoch : 74/100, Loss : 0.910\n",
      "ihello Epoch : 75/100, Loss : 0.905\n",
      "ihello Epoch : 76/100, Loss : 0.901\n",
      "ihello Epoch : 77/100, Loss : 0.896\n",
      "ihello Epoch : 78/100, Loss : 0.892\n",
      "ihello Epoch : 79/100, Loss : 0.887\n",
      "ihello Epoch : 80/100, Loss : 0.883\n",
      "ihello Epoch : 81/100, Loss : 0.879\n",
      "ihello Epoch : 82/100, Loss : 0.875\n",
      "ihello Epoch : 83/100, Loss : 0.871\n",
      "ihello Epoch : 84/100, Loss : 0.867\n",
      "ihello Epoch : 85/100, Loss : 0.863\n",
      "ihello Epoch : 86/100, Loss : 0.859\n",
      "ihello Epoch : 87/100, Loss : 0.856\n",
      "ihello Epoch : 88/100, Loss : 0.852\n",
      "ihello Epoch : 89/100, Loss : 0.848\n",
      "ihello Epoch : 90/100, Loss : 0.845\n",
      "ihello Epoch : 91/100, Loss : 0.841\n",
      "ihello Epoch : 92/100, Loss : 0.838\n",
      "ihello Epoch : 93/100, Loss : 0.835\n",
      "ihello Epoch : 94/100, Loss : 0.831\n",
      "ihello Epoch : 95/100, Loss : 0.828\n",
      "ihello Epoch : 96/100, Loss : 0.825\n",
      "ihello Epoch : 97/100, Loss : 0.822\n",
      "ihello Epoch : 98/100, Loss : 0.819\n",
      "ihello Epoch : 99/100, Loss : 0.816\n",
      "ihello Epoch : 100/100, Loss : 0.813\n"
     ]
    }
   ],
   "source": [
    "epoch_n = 100\n",
    "\n",
    "for epoch in range(epoch_n):\n",
    "    \n",
    "    outputs = model(inputs)\n",
    "    \n",
    "    optimizer.zero_grad()\n",
    "    loss = loss_function(outputs, labels)\n",
    "    \n",
    "    loss.backward()\n",
    "    optimizer.step()\n",
    "    \n",
    "    val, idx = outputs.max(1)\n",
    "    for i in idx.data:\n",
    "        print(letters[i], end = '')\n",
    "        \n",
    "    print(' Epoch : %d/100, Loss : %1.3f' %(epoch + 1, loss))"
   ]
  },
  {
   "cell_type": "code",
   "execution_count": 69,
   "metadata": {},
   "outputs": [
    {
     "name": "stdout",
     "output_type": "stream",
     "text": [
      "Parameter containing:\n",
      "tensor([[-0.7061,  1.1220, -0.4812, -0.4455, -0.4390],\n",
      "        [ 0.8600,  0.1712,  0.1434, -0.6813, -0.1535],\n",
      "        [ 0.3478, -0.4307, -0.0200, -0.1877, -0.0876],\n",
      "        [-0.4548, -0.1330,  0.7126,  0.1548,  0.2003],\n",
      "        [-0.3064, -0.4344, -0.4054,  0.8540,  0.0526]], requires_grad=True)\n",
      "Parameter containing:\n",
      "tensor([[-0.1355,  0.5127, -0.1252,  0.0140,  0.2459],\n",
      "        [-0.0911, -0.3827,  0.2478, -0.2696,  0.1706],\n",
      "        [ 0.8697,  0.3078, -0.0048,  0.3784, -0.4636],\n",
      "        [-0.3512,  0.6472,  0.3746,  0.5062, -0.2655],\n",
      "        [-0.0491, -0.3713,  0.3258,  0.2245,  0.5007]], requires_grad=True)\n",
      "Parameter containing:\n",
      "tensor([ 0.0060,  0.2282, -0.0727, -0.3003, -0.3133], requires_grad=True)\n",
      "Parameter containing:\n",
      "tensor([-0.2728, -0.3283, -0.5207,  0.2857,  0.0372], requires_grad=True)\n"
     ]
    }
   ],
   "source": [
    "for p in model.parameters():\n",
    "    print(p)"
   ]
  },
  {
   "cell_type": "code",
   "execution_count": 51,
   "metadata": {},
   "outputs": [
    {
     "name": "stdout",
     "output_type": "stream",
     "text": [
      "Parameter containing:\n",
      "tensor([[-0.3651,  0.4372, -0.2112, -0.3771, -0.4384],\n",
      "        [ 0.5541, -0.6538, -0.1807, -0.6441,  0.3463],\n",
      "        [ 0.5799, -0.4453, -0.1979, -0.0918, -0.3984],\n",
      "        [-0.8246, -0.6549,  0.3858,  0.6312,  0.1640],\n",
      "        [-0.4563, -0.2114, -0.0334,  0.5247,  0.2790]], requires_grad=True)\n",
      "Parameter containing:\n",
      "tensor([[ 0.3403,  0.7079,  0.4363, -0.1476, -0.4179],\n",
      "        [ 0.2320,  0.0728,  0.7911, -0.2040,  0.7990],\n",
      "        [ 0.2963, -0.5207, -0.2082,  0.0169, -0.1907],\n",
      "        [ 0.0032,  0.2315, -0.0497, -0.0555, -0.1450],\n",
      "        [-0.1473, -0.5750, -0.1234,  0.8123,  0.1105]], requires_grad=True)\n",
      "Parameter containing:\n",
      "tensor([-0.0860,  0.1304, -0.4031,  0.0056, -0.5441], requires_grad=True)\n",
      "Parameter containing:\n",
      "tensor([-0.1727,  0.2225, -0.4469,  0.2588, -0.3504], requires_grad=True)\n"
     ]
    }
   ],
   "source": [
    "for p in model.parameters():\n",
    "    print(p)"
   ]
  },
  {
   "cell_type": "markdown",
   "metadata": {},
   "source": [
    "# 한글 버젼\n",
    "- 한글로 학습 시도\n",
    "- sequence의 길이를 늘려서 시도"
   ]
  },
  {
   "cell_type": "code",
   "execution_count": 33,
   "metadata": {
    "ExecuteTime": {
     "end_time": "2018-12-04T17:56:42.037829Z",
     "start_time": "2018-12-04T17:56:41.983931Z"
    }
   },
   "outputs": [
    {
     "name": "stdout",
     "output_type": "stream",
     "text": [
      "['행복', '은', '항상', '미래', '에', '있다', ' '] 7\n",
      "tensor([[[1., 0., 0., 0., 0., 0., 0.],\n",
      "         [0., 1., 0., 0., 0., 0., 0.],\n",
      "         [0., 0., 0., 0., 0., 0., 1.],\n",
      "         [0., 0., 1., 0., 0., 0., 0.],\n",
      "         [0., 0., 0., 0., 0., 0., 1.],\n",
      "         [0., 0., 0., 1., 0., 0., 0.],\n",
      "         [0., 0., 0., 0., 1., 0., 0.],\n",
      "         [0., 0., 0., 0., 0., 0., 1.]]])\n",
      "tensor([1, 6, 2, 6, 3, 4, 6, 5])\n"
     ]
    }
   ],
   "source": [
    "from konlpy.tag import Okt\n",
    "\n",
    "okt = Okt()\n",
    "\n",
    "my_string = '행복은 항상 미래에 있다'\n",
    "letters = [val for val, pos in okt.pos(my_string)] + [' ']\n",
    "print(letters, len(letters))\n",
    "\n",
    "# 행복은 항상 미래에 -> 은 항상 미래에 있다\n",
    "import torch\n",
    "\n",
    "x_data = [0, 1, 6, 2, 6, 3, 4, 6] # 행복은 항상 미래에\n",
    "y_data = [1, 6, 2, 6, 3, 4, 6, 5] # 은 항상 미래에 있다\n",
    "\n",
    "inputs = torch.zeros(1, len(x_data), len(letters))\n",
    "for i, idx in enumerate(x_data):\n",
    "    inputs[0][i][idx] = 1\n",
    "\n",
    "labels = torch.LongTensor(y_data)\n",
    "\n",
    "print(inputs)\n",
    "print(labels)"
   ]
  },
  {
   "cell_type": "code",
   "execution_count": 43,
   "metadata": {
    "ExecuteTime": {
     "end_time": "2018-12-04T17:57:19.564786Z",
     "start_time": "2018-12-04T17:57:19.504399Z"
    }
   },
   "outputs": [
    {
     "name": "stdout",
     "output_type": "stream",
     "text": [
      "RNN(\n",
      "  (rnn): RNN(7, 7, batch_first=True)\n",
      ")\n"
     ]
    }
   ],
   "source": [
    "import torch.nn as nn\n",
    "import torch.optim as optim\n",
    "\n",
    "class_n = len(letters) # 7\n",
    "input_size = len(letters) # 7\n",
    "hidden_size = 7 # input_size와 같다\n",
    "batch_size = 1\n",
    "seq_n = 8\n",
    "layer_n = 1\n",
    "\n",
    "class RNN(nn.Module):\n",
    "    \n",
    "    def __init__(self, input_size, hidden_size, class_n, layer_n):\n",
    "        super(RNN, self).__init__()\n",
    "        \n",
    "        self.input_size = input_size\n",
    "        self.hidden_size = hidden_size\n",
    "        self.class_n = class_n\n",
    "        self.layer_n = layer_n\n",
    "        self.seq_n = seq_n\n",
    "        \n",
    "        self.rnn = nn.RNN(input_size = 7, hidden_size = 7, batch_first = True)\n",
    "        \n",
    "    def forward(self, x):\n",
    "        h0 = torch.Tensor(self.layer_n, batch_size, hidden_size)\n",
    "        x = x.view(batch_size, self.seq_n, -1)\n",
    "        \n",
    "        output, _ = self.rnn(x, h0)\n",
    "        \n",
    "        return output.view(-1, self.class_n)\n",
    "\n",
    "model = RNN(input_size, hidden_size, class_n, layer_n)\n",
    "print(model)"
   ]
  },
  {
   "cell_type": "code",
   "execution_count": 44,
   "metadata": {
    "ExecuteTime": {
     "end_time": "2018-12-04T17:57:20.367295Z",
     "start_time": "2018-12-04T17:57:19.687059Z"
    }
   },
   "outputs": [
    {
     "name": "stdout",
     "output_type": "stream",
     "text": [
      "은항상은에은은은은 Epoch : 1/100, Loss = 2.094\n",
      "은에에에에  에 Epoch : 2/100, Loss = 1.864\n",
      " 에에에미래  있다 Epoch : 3/100, Loss = 1.707\n",
      "은 항상에미래  있다 Epoch : 4/100, Loss = 1.495\n",
      "    있다에 있다 Epoch : 5/100, Loss = 1.483\n",
      "은 항상 있다에 있다 Epoch : 6/100, Loss = 1.301\n",
      "항상 항상 있다에 있다 Epoch : 7/100, Loss = 1.258\n",
      "은 항상 있다에 있다 Epoch : 8/100, Loss = 1.166\n",
      " 항상항상 미래에 있다 Epoch : 9/100, Loss = 1.131\n",
      "항상 항상 있다에 있다 Epoch : 10/100, Loss = 1.062\n",
      "항상 항상 미래에 있다 Epoch : 11/100, Loss = 0.993\n",
      "은 항상 미래에 있다 Epoch : 12/100, Loss = 0.950\n",
      "  항상 미래에 있다 Epoch : 13/100, Loss = 1.047\n",
      " 미래미래 미래에 있다 Epoch : 14/100, Loss = 1.174\n",
      "은 항상 미래에 있다 Epoch : 15/100, Loss = 0.966\n",
      "은 항상 미래에 있다 Epoch : 16/100, Loss = 0.938\n",
      "은 항상 미래에 항상 Epoch : 17/100, Loss = 0.995\n",
      "은 항상 미래에 있다 Epoch : 18/100, Loss = 0.937\n",
      "은 항상 미래에 있다 Epoch : 19/100, Loss = 0.896\n",
      "은 항상 미래에 있다 Epoch : 20/100, Loss = 0.885\n",
      "은 항상 미래에 있다 Epoch : 21/100, Loss = 0.881\n",
      "은 항상 미래에 있다 Epoch : 22/100, Loss = 0.841\n",
      "은 항상 미래에 있다 Epoch : 23/100, Loss = 0.917\n",
      "항상 항상 미래에 있다 Epoch : 24/100, Loss = 0.854\n",
      "은 항상 미래에 있다 Epoch : 25/100, Loss = 0.846\n",
      "은항상항상 미래에 있다 Epoch : 26/100, Loss = 0.814\n",
      "은 항상 미래에 있다 Epoch : 27/100, Loss = 0.777\n",
      "미래에  미래에 있다 Epoch : 28/100, Loss = 1.220\n",
      "은 항상 미래에 있다 Epoch : 29/100, Loss = 0.768\n",
      "은 항상 미래에 있다 Epoch : 30/100, Loss = 0.859\n",
      "은 항상 미래에 있다 Epoch : 31/100, Loss = 0.766\n",
      "은미래항상 미래에 있다 Epoch : 32/100, Loss = 0.783\n",
      "은 항상 미래에 있다 Epoch : 33/100, Loss = 0.870\n",
      "은 항상 미래에 있다 Epoch : 34/100, Loss = 0.863\n",
      "은 항상 미래에 있다 Epoch : 35/100, Loss = 0.758\n",
      "은 항상 미래에 있다 Epoch : 36/100, Loss = 0.755\n",
      "은 항상 미래에 있다 Epoch : 37/100, Loss = 0.849\n",
      "은 항상 미래에 있다 Epoch : 38/100, Loss = 0.808\n",
      "은 항상 미래에 있다 Epoch : 39/100, Loss = 0.765\n",
      "은 항상 미래에 있다 Epoch : 40/100, Loss = 0.738\n",
      "은 항상 미래에 있다 Epoch : 41/100, Loss = 0.823\n",
      "은 항상 미래에 있다 Epoch : 42/100, Loss = 0.735\n",
      "은 항상 미래에 있다 Epoch : 43/100, Loss = 0.723\n",
      "은 항상 미래에 있다 Epoch : 44/100, Loss = 0.750\n",
      "은 항상 미래에 있다 Epoch : 45/100, Loss = 0.800\n",
      "은 있다 미래에 있다 Epoch : 46/100, Loss = 0.789\n",
      "은 항상 미래에 있다 Epoch : 47/100, Loss = 0.718\n",
      "은 항상 미래에 있다 Epoch : 48/100, Loss = 0.712\n",
      "은 항상 미래에 있다 Epoch : 49/100, Loss = 0.719\n",
      "미래항상항상 미래에 있다 Epoch : 50/100, Loss = 0.852\n",
      "은 항상 미래에 있다 Epoch : 51/100, Loss = 0.750\n",
      "은 항상 미래에 있다 Epoch : 52/100, Loss = 0.817\n",
      "은항상항상 미래에 있다 Epoch : 53/100, Loss = 0.751\n",
      "은 항상 미래에 있다 Epoch : 54/100, Loss = 0.713\n",
      "은 항상 미래에 있다 Epoch : 55/100, Loss = 0.713\n",
      "은 항상 미래에 있다 Epoch : 56/100, Loss = 0.812\n",
      "은 항상 미래에 있다 Epoch : 57/100, Loss = 0.810\n",
      "은 항상 미래에 있다 Epoch : 58/100, Loss = 0.725\n",
      "은 항상 미래에 있다 Epoch : 59/100, Loss = 0.705\n",
      "은 항상 미래에 있다 Epoch : 60/100, Loss = 0.699\n",
      "은 항상 미래에 있다 Epoch : 61/100, Loss = 0.723\n",
      "은 항상 미래에 있다 Epoch : 62/100, Loss = 0.700\n",
      "은 항상 미래에 있다 Epoch : 63/100, Loss = 0.716\n",
      "은 항상 미래에 있다 Epoch : 64/100, Loss = 0.696\n",
      "은 항상 미래에 있다 Epoch : 65/100, Loss = 0.709\n",
      "은항상항상 미래에 있다 Epoch : 66/100, Loss = 0.801\n",
      "은 항상 미래에 있다 Epoch : 67/100, Loss = 0.702\n",
      "은 항상 미래에 있다 Epoch : 68/100, Loss = 0.697\n",
      "은 항상 미래에 있다 Epoch : 69/100, Loss = 0.697\n",
      "은 항상 미래에 있다 Epoch : 70/100, Loss = 0.697\n",
      "은항상항상 미래에 있다 Epoch : 71/100, Loss = 0.800\n",
      "은항상항상 미래에 있다 Epoch : 72/100, Loss = 0.800\n",
      "은 항상 미래에 있다 Epoch : 73/100, Loss = 0.720\n",
      "은항상항상 미래에 있다 Epoch : 74/100, Loss = 0.798\n",
      "은항상항상 미래에 있다 Epoch : 75/100, Loss = 0.797\n",
      "은 항상 미래에 있다 Epoch : 76/100, Loss = 0.689\n",
      "은 항상 미래에 있다 Epoch : 77/100, Loss = 0.688\n",
      "은 항상 미래에 있다 Epoch : 78/100, Loss = 0.688\n",
      "은 항상 미래에 있다 Epoch : 79/100, Loss = 0.711\n",
      "은항상항상 미래에 있다 Epoch : 80/100, Loss = 0.768\n",
      "은 항상 미래에 있다 Epoch : 81/100, Loss = 0.685\n",
      "미래항상항상 미래에 있다 Epoch : 82/100, Loss = 0.768\n",
      "은 항상 미래에 있다 Epoch : 83/100, Loss = 0.685\n",
      "은 항상 미래에 있다 Epoch : 84/100, Loss = 0.684\n",
      "은 항상 미래에 있다 Epoch : 85/100, Loss = 0.684\n",
      "은 항상 미래에 있다 Epoch : 86/100, Loss = 0.683\n",
      "은 항상 미래에 있다 Epoch : 87/100, Loss = 0.683\n",
      "은항상항상 미래에 있다 Epoch : 88/100, Loss = 0.792\n",
      "은 항상 미래에 있다 Epoch : 89/100, Loss = 0.681\n",
      "은 항상 미래에 있다 Epoch : 90/100, Loss = 0.681\n",
      "은 항상 미래에 있다 Epoch : 91/100, Loss = 0.681\n",
      "은 항상 미래에 있다 Epoch : 92/100, Loss = 0.680\n",
      "은 항상 미래에 있다 Epoch : 93/100, Loss = 0.680\n",
      "은 항상 미래에 있다 Epoch : 94/100, Loss = 0.682\n",
      "은 항상 미래에 있다 Epoch : 95/100, Loss = 0.680\n",
      "은항상항상 미래에 있다 Epoch : 96/100, Loss = 0.786\n",
      "은항상항상 미래에 있다 Epoch : 97/100, Loss = 0.761\n",
      "은항상항상 미래에 있다 Epoch : 98/100, Loss = 0.761\n",
      "은 항상 미래에 있다 Epoch : 99/100, Loss = 0.678\n"
     ]
    }
   ],
   "source": [
    "import torch.optim as optim\n",
    "\n",
    "loss_function = nn.CrossEntropyLoss()\n",
    "optimizer = optim.Adam(model.parameters(), lr = 0.1)\n",
    "\n",
    "epoch_n = 100\n",
    "loss_list = []\n",
    "\n",
    "for epoch in range(1, epoch_n):\n",
    "    optimizer.zero_grad()\n",
    "    \n",
    "    output = model(inputs)\n",
    "    \n",
    "    loss = loss_function(output, labels)\n",
    "    loss.backward()\n",
    "    optimizer.step()\n",
    "    \n",
    "    val, idx = output.max(1)\n",
    "    for i in idx.data:\n",
    "        print(letters[i], end = '')\n",
    "    print(' Epoch : %d/100, Loss = %1.3f' %(epoch, loss))\n",
    "    loss_list.append(loss)"
   ]
  },
  {
   "cell_type": "code",
   "execution_count": 45,
   "metadata": {
    "ExecuteTime": {
     "end_time": "2018-12-04T17:57:22.290838Z",
     "start_time": "2018-12-04T17:57:22.140600Z"
    }
   },
   "outputs": [
    {
     "data": {
      "text/plain": [
       "[<matplotlib.lines.Line2D at 0x1375469a4e0>]"
      ]
     },
     "execution_count": 45,
     "metadata": {},
     "output_type": "execute_result"
    },
    {
     "data": {
      "image/png": "[encoded data removed]",
      "text/plain": [
       "<matplotlib.figure.Figure at 0x1374f410588>"
      ]
     },
     "metadata": {},
     "output_type": "display_data"
    }
   ],
   "source": [
    "import matplotlib.pyplot as plt\n",
    "%matplotlib inline\n",
    "plt.plot(loss_list)"
   ]
  }
 ],
 "metadata": {
  "kernelspec": {
   "display_name": "Python 3",
   "language": "python",
   "name": "python3"
  },
  "language_info": {
   "codemirror_mode": {
    "name": "ipython",
    "version": 3
   },
   "file_extension": ".py",
   "mimetype": "text/x-python",
   "name": "python",
   "nbconvert_exporter": "python",
   "pygments_lexer": "ipython3",
   "version": "3.6.2"
  },
  "varInspector": {
   "cols": {
    "lenName": 16,
    "lenType": 16,
    "lenVar": 40
   },
   "kernels_config": {
    "python": {
     "delete_cmd_postfix": "",
     "delete_cmd_prefix": "del ",
     "library": "var_list.py",
     "varRefreshCmd": "print(var_dic_list())"
    },
    "r": {
     "delete_cmd_postfix": ") ",
     "delete_cmd_prefix": "rm(",
     "library": "var_list.r",
     "varRefreshCmd": "cat(var_dic_list()) "
    }
   },
   "types_to_exclude": [
    "module",
    "function",
    "builtin_function_or_method",
    "instance",
    "_Feature"
   ],
   "window_display": false
  }
 },
 "nbformat": 4,
 "nbformat_minor": 2
}
