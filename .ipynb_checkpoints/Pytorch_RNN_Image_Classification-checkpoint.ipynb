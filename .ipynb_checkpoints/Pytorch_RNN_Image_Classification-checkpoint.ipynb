{
 "cells": [
  {
   "cell_type": "markdown",
   "metadata": {},
   "source": [
    "# RNN으로 Image 분류하기\n",
    "RNN을 이용하여 0부터 9까지의 이미지를 분류하기"
   ]
  },
  {
   "cell_type": "markdown",
   "metadata": {},
   "source": [
    "# Data Load\n",
    "Mnist 이미지 다운로드(0~9까지의 손글씨 이미지)"
   ]
  },
  {
   "cell_type": "code",
   "execution_count": null,
   "metadata": {},
   "outputs": [],
   "source": [
    "import torchvision\n",
    "import torchvision.transforms as transforms\n",
    "import torch\n",
    "BATCH_SIZE = 64"
   ]
  },
  {
   "cell_type": "code",
   "execution_count": null,
   "metadata": {},
   "outputs": [],
   "source": [
    "# list all transformations\n",
    "transform = transforms.Compose([transforms.ToTensor()])"
   ]
  },
  {
   "cell_type": "code",
   "execution_count": null,
   "metadata": {},
   "outputs": [],
   "source": [
    "trainset = torchvision.datasets.MNIST(root = './data', train = True,\n",
    "                                     download = True, transform = transform)\n",
    "trainloader = torch.utils.data.DataLoader(trainset, batch_size = BATCH_SIZE,\n",
    "                                         shuffle = True, num_workers = 3)\n",
    "testset = torchvision.datasets.MNIST(root='./data', train=False,\n",
    "                                       download=True, transform=transform)\n",
    "testloader = torch.utils.data.DataLoader(testset, batch_size=BATCH_SIZE,\n",
    "                                         shuffle=False, num_workers=3)"
   ]
  },
  {
   "cell_type": "markdown",
   "metadata": {},
   "source": [
    "# EDA\n",
    "어떤 이미지인지 확인해보자"
   ]
  },
  {
   "cell_type": "code",
   "execution_count": null,
   "metadata": {},
   "outputs": [],
   "source": [
    "import matplotlib.pyplot as plt\n",
    "import numpy as np\n",
    "%matplotlib inline\n",
    "\n",
    "def imshow(img):\n",
    "    npimg = img.numpy()\n",
    "    plt.imshow(np.transpose(npimg, (1,2,0)))\n",
    "    \n",
    "dataiter = iter(trainloader)\n",
    "images, labels = dataiter.next()\n",
    "\n",
    "imshow(torchvision.utils.make_grid(images))"
   ]
  },
  {
   "cell_type": "code",
   "execution_count": null,
   "metadata": {},
   "outputs": [],
   "source": [
    "images.size()"
   ]
  },
  {
   "cell_type": "code",
   "execution_count": null,
   "metadata": {},
   "outputs": [],
   "source": [
    "steps_n = 28 # -> 총 28행으로 되어 있다.\n",
    "input_size = 28 # -> 총 28열로 되어 있다.\n",
    "hidden_size = 150 # -> hidden layer의 사이즈, 재량이다.\n",
    "output_size = 10 # -> 숫자가 0~9까지임으로 10개(분류)\n",
    "epoch_n = 10 # -> 훈련 반복 횟수"
   ]
  },
  {
   "cell_type": "code",
   "execution_count": null,
   "metadata": {},
   "outputs": [],
   "source": [
    "import torch.nn as nn\n",
    "\n",
    "class ImageRNN(nn.Module):\n",
    "    def __init__(self, batch_size, steps_n, input_size, hidden_size, output_size):\n",
    "        super(ImageRNN, self).__init__()\n",
    "        \n",
    "        self.hidden_size = hidden_size\n",
    "        self.batch_size = batch_size\n",
    "        self.steps_n = steps_n\n",
    "        self.input_size = input_size\n",
    "        self.output_size = output_size\n",
    "        \n",
    "        self.basic_rnn = nn.RNN(self.input_size, self.hidden_size)\n",
    "        self.fc = nn.Linear(self.hidden_size, output_size)\n",
    "        \n",
    "    def init_hidden(self):\n",
    "        \n",
    "        return torch.zeros(1, self.batch_size, hidden_size)\n",
    "    \n",
    "    def forward(self, x):\n",
    "        # n_stenps X batch_size X input_size\n",
    "        x = x.permute(1,0,2)\n",
    "        \n",
    "        self.batch_size = x.size(1)\n",
    "        self.hidden = self.init_hidden()\n",
    "        \n",
    "        lstm_out, self.hidden = self.basic_rnn(x, self.hidden)\n",
    "        output = self.fc(self.hidden)\n",
    "        \n",
    "        return output.view(-1, self.output_size) # batch_size X output_size"
   ]
  },
  {
   "cell_type": "markdown",
   "metadata": {},
   "source": [
    "# Model Example"
   ]
  },
  {
   "cell_type": "code",
   "execution_count": null,
   "metadata": {},
   "outputs": [],
   "source": [
    "dataiter = iter(trainloader) # trainloader는 input과 label 두 리스트로 구성되어 있다.\n",
    "images, labels = dataiter.next()\n",
    "model = ImageRNN(BATCH_SIZE, steps_n, input_size, hidden_size, output_size)\n",
    "with torch.no_grad():\n",
    "    output = model(images.squeeze())\n",
    "    print(output.size())"
   ]
  },
  {
   "cell_type": "markdown",
   "metadata": {},
   "source": [
    "# Train"
   ]
  },
  {
   "cell_type": "code",
   "execution_count": null,
   "metadata": {},
   "outputs": [],
   "source": [
    "import torch.optim as optim\n",
    "\n",
    "loss_function = nn.CrossEntropyLoss()\n",
    "optimizer = optim.SGD(model.parameters(), lr = 0.1)"
   ]
  },
  {
   "cell_type": "code",
   "execution_count": null,
   "metadata": {},
   "outputs": [],
   "source": [
    "def get_accuracy(output, target, batch_size):\n",
    "    val, idx = output.max(1)\n",
    "    correct = (idx.data == target.data).sum().float()\n",
    "    accuracy = (correct / batch_size) * 100\n",
    "    return accuracy.item()"
   ]
  },
  {
   "cell_type": "code",
   "execution_count": null,
   "metadata": {},
   "outputs": [],
   "source": [
    "for epoch in range(epoch_n):\n",
    "    train_loss = 0\n",
    "    train_acc = 0\n",
    "    model.train() # training 시작 -> 원래 필요 없는데 확실히 하기 위해\n",
    "    \n",
    "    for i, data in enumerate(trainloader):\n",
    "        \n",
    "        optimizer.zero_grad()\n",
    "        \n",
    "        model.hidden = model.init_hidden()\n",
    "        \n",
    "        inputs, labels = data\n",
    "        inputs = inputs.view(-1, 28, 28)\n",
    "        \n",
    "        outputs = model(inputs)\n",
    "        \n",
    "        loss = loss_function(outputs, labels)\n",
    "        loss.backward()\n",
    "        optimizer.step()\n",
    "        \n",
    "        train_loss += loss\n",
    "        train_acc += get_accuracy(outputs, labels, BATCH_SIZE)\n",
    "        \n",
    "    model.eval()\n",
    "    print('Epoch : %d | Loss : %.4f | Train Accuracy : %.2f'%(epoch, train_loss/i, train_acc/i))"
   ]
  },
  {
   "cell_type": "markdown",
   "metadata": {},
   "source": [
    "# Test"
   ]
  },
  {
   "cell_type": "code",
   "execution_count": null,
   "metadata": {},
   "outputs": [],
   "source": [
    "with torch.no_grad(): # 역전파 추적하지 않기 옵션\n",
    "    test_acc = 0\n",
    "    for i, data in enumerate(testloader):\n",
    "        inputs, labels = data\n",
    "        inputs = inputs.squeeze() # 64,1,28,28 -> 64 X 28 X 28\n",
    "        output = model(inputs)\n",
    "        \n",
    "        test_acc += get_accuracy(output, labels, BATCH_SIZE)\n",
    "        \n",
    "    print('Test Accuracy : %.2f' %(test_acc/i))"
   ]
  },
  {
   "cell_type": "code",
   "execution_count": null,
   "metadata": {},
   "outputs": [],
   "source": []
  },
  {
   "cell_type": "markdown",
   "metadata": {},
   "source": [
    "# 스스로 해보기"
   ]
  },
  {
   "cell_type": "code",
   "execution_count": 2,
   "metadata": {
    "ExecuteTime": {
     "end_time": "2018-12-10T18:11:03.370333Z",
     "start_time": "2018-12-10T18:11:03.308951Z"
    }
   },
   "outputs": [],
   "source": [
    "import torch\n",
    "import torchvision\n",
    "import torchvision.transforms as transforms\n",
    "\n",
    "BATCH_SIZE = 64\n",
    "\n",
    "# list all transformations\n",
    "transform = transforms.Compose(\n",
    "    [transforms.ToTensor()])\n",
    "\n",
    "# download and load training dataset\n",
    "trainset = torchvision.datasets.MNIST(root='./data', train=True,\n",
    "                                        download=True, transform=transform)\n",
    "trainloader = torch.utils.data.DataLoader(trainset, batch_size=BATCH_SIZE,\n",
    "                                          shuffle=True, num_workers=2)\n",
    "\n",
    "# download and load testing dataset\n",
    "testset = torchvision.datasets.MNIST(root='./data', train=False,\n",
    "                                       download=True, transform=transform)\n",
    "testloader = torch.utils.data.DataLoader(testset, batch_size=BATCH_SIZE,\n",
    "                                         shuffle=False, num_workers=2)"
   ]
  },
  {
   "cell_type": "code",
   "execution_count": 5,
   "metadata": {
    "ExecuteTime": {
     "end_time": "2018-12-10T18:11:26.157756Z",
     "start_time": "2018-12-10T18:11:24.774427Z"
    },
    "scrolled": true
   },
   "outputs": [
    {
     "data": {
      "image/png": "[encoded data removed]",
      "text/plain": [
       "<matplotlib.figure.Figure at 0x1d44de9ce48>"
      ]
     },
     "metadata": {},
     "output_type": "display_data"
    }
   ],
   "source": [
    "import matplotlib.pyplot as plt\n",
    "import numpy as np\n",
    "%matplotlib inline\n",
    "\n",
    "def showimg(image):\n",
    "    npimg = image.numpy()\n",
    "    plt.imshow(np.transpose(npimg, (1,2,0)))\n",
    "    \n",
    "dataiter = iter(trainloader)\n",
    "images, labels = dataiter.next()\n",
    "\n",
    "# show images\n",
    "showimg(torchvision.utils.make_grid(images))"
   ]
  },
  {
   "cell_type": "code",
   "execution_count": 44,
   "metadata": {
    "ExecuteTime": {
     "end_time": "2018-12-10T18:26:19.075481Z",
     "start_time": "2018-12-10T18:26:19.004610Z"
    }
   },
   "outputs": [
    {
     "data": {
      "text/plain": [
       "ImageRNN(\n",
       "  (rnn): RNN(28, 150)\n",
       "  (fc): Linear(in_features=150, out_features=10, bias=True)\n",
       ")"
      ]
     },
     "execution_count": 44,
     "metadata": {},
     "output_type": "execute_result"
    }
   ],
   "source": [
    "import torch.nn as nn\n",
    "\n",
    "class ImageRNN(nn.Module):\n",
    "    def __init__(self, batch_size, input_size, hidden_size, output_size):\n",
    "        super(ImageRNN, self).__init__()\n",
    "        \n",
    "        self.batch_size = batch_size\n",
    "        self.input_size = input_size\n",
    "        self.hidden_size = hidden_size\n",
    "        self.output_size = output_size\n",
    "        \n",
    "        # input_size, hidden_size, layer_n\n",
    "        self.rnn = nn.RNN(self.input_size, self.hidden_size)\n",
    "        self.fc = nn.Linear(self.hidden_size, self.output_size)\n",
    "    \n",
    "    def forward(self, x):\n",
    "        # inputs(x) : seq_n X batch_size X input_size\n",
    "        # image = (64, 1, 28, 28) -> squeeze(64, 28, 28) -> (28, 64, 28)\n",
    "        self.hidden = torch.zeros(1, x.size(0), self.hidden_size)\n",
    "        x = x.permute(1,0,2)\n",
    "        \n",
    "        output, self.hidden = self.rnn(x, self.hidden)\n",
    "        output = self.fc(self.hidden)\n",
    "        \n",
    "        return output.view(-1, self.output_size)\n",
    "    \n",
    "Batch_size = 64\n",
    "Input_size = 28\n",
    "Hidden_size = 150\n",
    "Output_size = 10\n",
    "\n",
    "model = ImageRNN(Batch_size, Input_size, Hidden_size, Output_size)\n",
    "model"
   ]
  },
  {
   "cell_type": "code",
   "execution_count": 55,
   "metadata": {
    "ExecuteTime": {
     "end_time": "2018-12-10T18:31:41.562995Z",
     "start_time": "2018-12-10T18:31:40.340265Z"
    },
    "scrolled": true
   },
   "outputs": [
    {
     "data": {
      "text/plain": [
       "57.8125"
      ]
     },
     "execution_count": 55,
     "metadata": {},
     "output_type": "execute_result"
    }
   ],
   "source": [
    "with torch.no_grad():\n",
    "    iterdata = iter(trainloader)\n",
    "    inputs, labels = next(iterdata)\n",
    "    inputs = inputs.squeeze()\n",
    "    output = model(inputs)\n",
    "    val, idx = output.max(1)\n",
    "    #print(output.size())\n",
    "\n",
    "def accuracy(output, labels, batch_size):\n",
    "    val, idx = output.max(1)\n",
    "    correct = (idx == labels).sum().float()\n",
    "    acc = (correct*100) / batch_size\n",
    "    return acc.item()\n",
    "\n",
    "\n",
    "#print(idx)\n",
    "#print(labels)\n",
    "accuracy(output, labels, inputs.size(0))"
   ]
  },
  {
   "cell_type": "code",
   "execution_count": null,
   "metadata": {
    "ExecuteTime": {
     "start_time": "2018-12-10T18:31:42.654Z"
    },
    "scrolled": true
   },
   "outputs": [],
   "source": [
    "import torch.optim as optim\n",
    "\n",
    "loss_function = nn.CrossEntropyLoss()\n",
    "optimizer = optim.SGD(model.parameters(), lr = 0.01)\n",
    "\n",
    "epoch_n = 10\n",
    "loss_list = []\n",
    "\n",
    "for epoch in range(1, epoch_n+1):\n",
    "    loss_avg = 0\n",
    "    train_acc = 0\n",
    "    \n",
    "    for i, data in enumerate(trainloader):\n",
    "        optimizer.zero_grad()\n",
    "        \n",
    "        inputs, labels = data\n",
    "        inputs = inputs.squeeze()\n",
    "        output = model(inputs)\n",
    "        loss = loss_function(output, labels)\n",
    "        loss_avg += loss\n",
    "        loss_list.append(loss)\n",
    "        train_acc += accuracy(output, labels, inputs.size(0))\n",
    "        \n",
    "        loss.backward()\n",
    "        optimizer.step()\n",
    "        \n",
    "    print('Epoch : %d | Loss : %.2f | Accuracy : %.2f%%'\n",
    "         %(epoch, loss_avg/i, train_acc/i))"
   ]
  },
  {
   "cell_type": "markdown",
   "metadata": {},
   "source": [
    "# 새로 배운 것\n",
    "1. torch.permute(1,0,2)\n",
    " - index를 이용해 size 변경하기\n",
    "\n",
    "\n",
    "2. DataLoader는 batch_size X Channel_size X H X W\n",
    " - NLP인 경우 Channel_size가 없기 때문에 squeeze 필요함"
   ]
  }
 ],
 "metadata": {
  "kernelspec": {
   "display_name": "Python 3",
   "language": "python",
   "name": "python3"
  },
  "language_info": {
   "codemirror_mode": {
    "name": "ipython",
    "version": 3
   },
   "file_extension": ".py",
   "mimetype": "text/x-python",
   "name": "python",
   "nbconvert_exporter": "python",
   "pygments_lexer": "ipython3",
   "version": "3.6.2"
  },
  "varInspector": {
   "cols": {
    "lenName": 16,
    "lenType": 16,
    "lenVar": 40
   },
   "kernels_config": {
    "python": {
     "delete_cmd_postfix": "",
     "delete_cmd_prefix": "del ",
     "library": "var_list.py",
     "varRefreshCmd": "print(var_dic_list())"
    },
    "r": {
     "delete_cmd_postfix": ") ",
     "delete_cmd_prefix": "rm(",
     "library": "var_list.r",
     "varRefreshCmd": "cat(var_dic_list()) "
    }
   },
   "types_to_exclude": [
    "module",
    "function",
    "builtin_function_or_method",
    "instance",
    "_Feature"
   ],
   "window_display": false
  }
 },
 "nbformat": 4,
 "nbformat_minor": 2
}
