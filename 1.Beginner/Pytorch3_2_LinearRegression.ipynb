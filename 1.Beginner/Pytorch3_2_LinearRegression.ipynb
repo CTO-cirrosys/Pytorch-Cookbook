{
 "cells": [
  {
   "cell_type": "code",
   "execution_count": 24,
   "metadata": {
    "scrolled": true
   },
   "outputs": [
    {
     "name": "stdout",
     "output_type": "stream",
     "text": [
      "1.4.0\n"
     ]
    }
   ],
   "source": [
    "import torch\n",
    "print(torch.__version__)"
   ]
  },
  {
   "cell_type": "markdown",
   "metadata": {},
   "source": [
    "$y = \\theta_1x + \\theta_0$\n",
    "<br>\n",
    "$\\theta_1 = 0.6, \\theta_0 = -44$"
   ]
  },
  {
   "cell_type": "markdown",
   "metadata": {},
   "source": [
    "대충 내가 가진 데이터로 계산을 해보니"
   ]
  },
  {
   "cell_type": "code",
   "execution_count": 25,
   "metadata": {},
   "outputs": [
    {
     "name": "stdout",
     "output_type": "stream",
     "text": [
      "Linear(in_features=1, out_features=1, bias=True)\n"
     ]
    }
   ],
   "source": [
    "import torch.nn as nn\n",
    "\n",
    "simple_regression = nn.Linear(1, 1, bias=True)\n",
    "print(simple_regression)"
   ]
  },
  {
   "cell_type": "code",
   "execution_count": 26,
   "metadata": {},
   "outputs": [
    {
     "name": "stdout",
     "output_type": "stream",
     "text": [
      "Parameter containing:\n",
      "tensor([[-0.5959]], requires_grad=True)\n",
      "Parameter containing:\n",
      "tensor([-0.7601], requires_grad=True)\n",
      "torch.Size([1, 1])\n",
      "torch.Size([1])\n"
     ]
    }
   ],
   "source": [
    "init_weight = simple_regression.weight\n",
    "init_bias = simple_regression.bias\n",
    "\n",
    "print(init_weight)\n",
    "print(init_bias)\n",
    "\n",
    "print(init_weight.size())\n",
    "print(init_bias.size())"
   ]
  },
  {
   "cell_type": "code",
   "execution_count": 27,
   "metadata": {},
   "outputs": [
    {
     "name": "stdout",
     "output_type": "stream",
     "text": [
      "Parameter containing:\n",
      "tensor([[0.6666]], requires_grad=True)\n",
      "Parameter containing:\n",
      "tensor([-44.], requires_grad=True)\n"
     ]
    }
   ],
   "source": [
    "my_weight = torch.tensor([0.6666], dtype=torch.float).reshape_as(init_weight)\n",
    "my_bias = torch.tensor([-44], dtype=torch.float).reshape_as(init_bias)\n",
    "\n",
    "new_weight = nn.Parameter(my_weight)\n",
    "new_bias = nn.Parameter(my_bias)\n",
    "\n",
    "simple_regression.weight = new_weight\n",
    "simple_regression.bias = new_bias\n",
    "\n",
    "print(simple_regression.weight)\n",
    "print(simple_regression.bias)"
   ]
  },
  {
   "cell_type": "code",
   "execution_count": 28,
   "metadata": {},
   "outputs": [
    {
     "name": "stdout",
     "output_type": "stream",
     "text": [
      "tensor([[71.9884, 75.9880, 68.6554, 69.9886]])\n",
      "tensor([[72., 76., 65., 68.]])\n"
     ]
    }
   ],
   "source": [
    "cm = [174, 180, 169, 171]\n",
    "kg = [ 72,  76,  65,  68]\n",
    "\n",
    "data_x = torch.tensor(cm, dtype=torch.float, requires_grad=False).reshape(len(cm), 1)\n",
    "data_y = torch.tensor(kg, dtype=torch.float, requires_grad=False).reshape(len(cm), 1)\n",
    "\n",
    "with torch.no_grad():\n",
    "    kg_prediction = simple_regression(data_x)\n",
    "\n",
    "print(kg_prediction.reshape(1,-1))\n",
    "print(data_y.reshape(1,-1))"
   ]
  },
  {
   "cell_type": "code",
   "execution_count": 1,
   "metadata": {},
   "outputs": [
    {
     "ename": "AttributeError",
     "evalue": "module 'seaborn' has no attribute 'set_theme'",
     "output_type": "error",
     "traceback": [
      "\u001b[1;31m---------------------------------------------------------------------------\u001b[0m",
      "\u001b[1;31mAttributeError\u001b[0m                            Traceback (most recent call last)",
      "\u001b[1;32m<ipython-input-1-2032354f4bfc>\u001b[0m in \u001b[0;36m<module>\u001b[1;34m\u001b[0m\n\u001b[0;32m      1\u001b[0m \u001b[1;32mimport\u001b[0m \u001b[0mseaborn\u001b[0m \u001b[1;32mas\u001b[0m \u001b[0msns\u001b[0m\u001b[1;33m\u001b[0m\u001b[1;33m\u001b[0m\u001b[0m\n\u001b[1;32m----> 2\u001b[1;33m \u001b[0msns\u001b[0m\u001b[1;33m.\u001b[0m\u001b[0mset_theme\u001b[0m\u001b[1;33m(\u001b[0m\u001b[0mcolor_codes\u001b[0m\u001b[1;33m=\u001b[0m\u001b[1;32mTrue\u001b[0m\u001b[1;33m)\u001b[0m\u001b[1;33m\u001b[0m\u001b[1;33m\u001b[0m\u001b[0m\n\u001b[0m\u001b[0;32m      3\u001b[0m \u001b[1;33m\u001b[0m\u001b[0m\n\u001b[0;32m      4\u001b[0m \u001b[0mplot1\u001b[0m \u001b[1;33m=\u001b[0m \u001b[0msns\u001b[0m\u001b[1;33m.\u001b[0m\u001b[0mregplot\u001b[0m\u001b[1;33m(\u001b[0m\u001b[0mx\u001b[0m\u001b[1;33m=\u001b[0m\u001b[0mcm\u001b[0m\u001b[1;33m,\u001b[0m \u001b[0my\u001b[0m\u001b[1;33m=\u001b[0m\u001b[0mkg\u001b[0m\u001b[1;33m)\u001b[0m\u001b[1;33m\u001b[0m\u001b[1;33m\u001b[0m\u001b[0m\n\u001b[0;32m      5\u001b[0m \u001b[0mplot1\u001b[0m\u001b[1;33m.\u001b[0m\u001b[0mset\u001b[0m\u001b[1;33m(\u001b[0m\u001b[0mxlabel\u001b[0m\u001b[1;33m=\u001b[0m\u001b[1;34m'cm'\u001b[0m\u001b[1;33m,\u001b[0m \u001b[0mylabel\u001b[0m\u001b[1;33m=\u001b[0m\u001b[1;34m'kg'\u001b[0m\u001b[1;33m)\u001b[0m\u001b[1;33m\u001b[0m\u001b[1;33m\u001b[0m\u001b[0m\n",
      "\u001b[1;31mAttributeError\u001b[0m: module 'seaborn' has no attribute 'set_theme'"
     ]
    }
   ],
   "source": [
    "import seaborn as sns\n",
    "sns.set_theme(color_codes=True)\n",
    "\n",
    "plot1 = sns.regplot(x=cm, y=kg)\n",
    "plot1.set(xlabel='cm', ylabel='kg')"
   ]
  },
  {
   "cell_type": "markdown",
   "metadata": {},
   "source": [
    "$$\n",
    "\\hat{\\theta} = (\\text{X}^T\\cdot X)^{-1} \\cdot \\text{X}^T\\cdot y\n",
    "$$\n",
    "\n",
    "\\begin{aligned}\n",
    "& (1)\\qquad (\\text{X}^T\\cdot \\text{X})^{-1}   \\\\\n",
    "& (2)\\qquad (1)\\cdot \\text{X}^T  \\\\ \n",
    "& (3)\\qquad (2)\\cdot y\\\\\n",
    "\\end{aligned}"
   ]
  },
  {
   "cell_type": "code",
   "execution_count": 83,
   "metadata": {},
   "outputs": [
    {
     "name": "stdout",
     "output_type": "stream",
     "text": [
      "tensor([[174.],\n",
      "        [180.],\n",
      "        [169.],\n",
      "        [171.]]) torch.Size([4, 1])\n",
      "tensor([[72.],\n",
      "        [76.],\n",
      "        [65.],\n",
      "        [68.]]) torch.Size([4, 1])\n"
     ]
    },
    {
     "data": {
      "text/plain": [
       "tensor([[-99.4848],\n",
       "        [  0.9784]])"
      ]
     },
     "execution_count": 83,
     "metadata": {},
     "output_type": "execute_result"
    }
   ],
   "source": [
    "cm = [174, 180, 169, 171] # x\n",
    "kg = [ 72,  76,  65,  68] # y\n",
    "\n",
    "# cm = [174, 180] # x\n",
    "# kg = [ 72,  76]\n",
    "\n",
    "data_x = torch.tensor(cm, dtype=torch.float, requires_grad=False).reshape(len(cm), 1)\n",
    "data_y = torch.tensor(kg, dtype=torch.float, requires_grad=False).reshape(len(cm), 1)\n",
    "\n",
    "print(data_x, data_x.size())\n",
    "print(data_y, data_y.size())\n",
    "\n",
    "def dot(a,b):\n",
    "    return torch.matmul(a,b)\n",
    "\n",
    "X = torch.cat((torch.ones_like(data_x), data_x,), 1)\n",
    "y = data_y\n",
    "\n",
    "\n",
    "dot1 = torch.inverse(dot(X.T, X))\n",
    "dot2 = dot(dot1, X.T)\n",
    "dot3 = dot(dot2, y)\n",
    "dot3"
   ]
  },
  {
   "cell_type": "code",
   "execution_count": 85,
   "metadata": {},
   "outputs": [
    {
     "data": {
      "text/plain": [
       "tensor([[  1., 174.],\n",
       "        [  1., 180.],\n",
       "        [  1., 169.],\n",
       "        [  1., 171.]])"
      ]
     },
     "execution_count": 85,
     "metadata": {},
     "output_type": "execute_result"
    }
   ],
   "source": [
    "X"
   ]
  },
  {
   "cell_type": "code",
   "execution_count": 84,
   "metadata": {},
   "outputs": [
    {
     "data": {
      "text/plain": [
       "tensor([[1.],\n",
       "        [1.],\n",
       "        [1.],\n",
       "        [1.]])"
      ]
     },
     "execution_count": 84,
     "metadata": {},
     "output_type": "execute_result"
    }
   ],
   "source": [
    "torch.ones_like(data_x)"
   ]
  }
 ],
 "metadata": {
  "kernelspec": {
   "display_name": "Python 3",
   "language": "python",
   "name": "python3"
  },
  "language_info": {
   "codemirror_mode": {
    "name": "ipython",
    "version": 3
   },
   "file_extension": ".py",
   "mimetype": "text/x-python",
   "name": "python",
   "nbconvert_exporter": "python",
   "pygments_lexer": "ipython3",
   "version": "3.7.4"
  }
 },
 "nbformat": 4,
 "nbformat_minor": 2
}
