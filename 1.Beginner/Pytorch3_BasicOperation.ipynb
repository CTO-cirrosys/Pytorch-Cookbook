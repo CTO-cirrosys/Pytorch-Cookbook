{
 "cells": [
  {
   "cell_type": "markdown",
   "metadata": {},
   "source": [
    "# Basic Operation\n",
    "- 가장 기본적인 Linear layer 만들기"
   ]
  },
  {
   "cell_type": "code",
   "execution_count": 117,
   "metadata": {
    "ExecuteTime": {
     "end_time": "2018-12-01T18:15:04.102192Z",
     "start_time": "2018-12-01T18:15:03.598603Z"
    }
   },
   "outputs": [],
   "source": [
    "import torch\n",
    "import torch.nn as nn\n",
    "import matplotlib.pyplot as plt\n",
    "\n",
    "class MyLinear(nn.Module): # Pytorch 모듈 중 nn 상속받기(nn에 있는 기능 사용 가능)\n",
    "    def __init__(self, input_size, output_size): # 초기화 함수\n",
    "        super().__init__()\n",
    "        self.linear = nn.Linear(input_size, output_size, bias=True) # nn모듈에 있는 Linear함수 사용하기\n",
    "    \n",
    "    def forward(self, x):\n",
    "        y = self.linear(x) # x 연산하기(단순 linear)\n",
    "        \n",
    "        return y"
   ]
  },
  {
   "cell_type": "code",
   "execution_count": 118,
   "metadata": {},
   "outputs": [
    {
     "data": {
      "text/plain": [
       "tensor([[ 1.2025, 14.3210],\n",
       "        [-0.5589,  4.3369],\n",
       "        [ 0.4206,  9.2237],\n",
       "        [ 0.2766,  9.3295],\n",
       "        [-0.5722,  0.9275],\n",
       "        [ 0.1889,  4.7121],\n",
       "        [ 0.7884,  6.0376],\n",
       "        [ 0.2709,  4.9489],\n",
       "        [-0.4151,  3.7727],\n",
       "        [ 0.1426,  3.7130]])"
      ]
     },
     "execution_count": 118,
     "metadata": {},
     "output_type": "execute_result"
    }
   ],
   "source": [
    "x = torch.randn((100,1))\n",
    "y = 7*x + 5 + torch.normal(0,2,(100,1)) # 노이즈 첨가\n",
    "\n",
    "torch.cat((x,y),1)[:10]"
   ]
  },
  {
   "cell_type": "code",
   "execution_count": 119,
   "metadata": {},
   "outputs": [
    {
     "data": {
      "image/png": "[encoded data removed]",
      "text/plain": [
       "<Figure size 432x288 with 1 Axes>"
      ]
     },
     "metadata": {
      "needs_background": "light"
     },
     "output_type": "display_data"
    }
   ],
   "source": [
    "import seaborn as sns\n",
    "\n",
    "plot1 = sns.regplot(x.view(-1),y.view(-1))\n",
    "plot1.set(xlabel='x', ylabel='y')\n",
    "plot1.figure.savefig('reg.jpg')"
   ]
  },
  {
   "cell_type": "code",
   "execution_count": 120,
   "metadata": {},
   "outputs": [
    {
     "name": "stdout",
     "output_type": "stream",
     "text": [
      "tensor([[0.0213],\n",
      "        [0.4862],\n",
      "        [0.2277],\n",
      "        [0.2657],\n",
      "        [0.4897],\n",
      "        [0.2888],\n",
      "        [0.1306],\n",
      "        [0.2672],\n",
      "        [0.4483],\n",
      "        [0.3010]])\n"
     ]
    }
   ],
   "source": [
    "with torch.no_grad():\n",
    "    model = MyLinear(1,1)\n",
    "    out = model(x)\n",
    "print(out[:10])"
   ]
  },
  {
   "cell_type": "code",
   "execution_count": 121,
   "metadata": {},
   "outputs": [
    {
     "data": {
      "text/plain": [
       "<matplotlib.legend.Legend at 0x18dd6848bc8>"
      ]
     },
     "execution_count": 121,
     "metadata": {},
     "output_type": "execute_result"
    },
    {
     "data": {
      "image/png": "[encoded data removed]",
      "text/plain": [
       "<Figure size 432x288 with 1 Axes>"
      ]
     },
     "metadata": {
      "needs_background": "light"
     },
     "output_type": "display_data"
    }
   ],
   "source": [
    "fig, ax = plt.subplots()\n",
    "ax.scatter(x,y,label='Real Data')\n",
    "ax.scatter(x,out, label='Predict Data')\n",
    "plt.legend()\n",
    "\n",
    "# fig.savefig('reg2.jpg')"
   ]
  },
  {
   "cell_type": "code",
   "execution_count": 122,
   "metadata": {
    "ExecuteTime": {
     "end_time": "2018-12-01T18:15:04.163055Z",
     "start_time": "2018-12-01T18:15:04.142095Z"
    }
   },
   "outputs": [
    {
     "data": {
      "text/plain": [
       "[Parameter containing:\n",
       " tensor([[-0.2640]], requires_grad=True), Parameter containing:\n",
       " tensor([0.3387], requires_grad=True)]"
      ]
     },
     "execution_count": 122,
     "metadata": {},
     "output_type": "execute_result"
    }
   ],
   "source": [
    "# Parameters 확인하기\n",
    "[p for p in model.parameters()]"
   ]
  },
  {
   "cell_type": "code",
   "execution_count": 123,
   "metadata": {},
   "outputs": [
    {
     "name": "stdout",
     "output_type": "stream",
     "text": [
      "tensor(57.3058, grad_fn=<AddBackward0>)\n",
      "tensor(41.2604, grad_fn=<AddBackward0>)\n",
      "tensor(30.0514, grad_fn=<AddBackward0>)\n",
      "tensor(22.1966, grad_fn=<AddBackward0>)\n",
      "tensor(16.6747, grad_fn=<AddBackward0>)\n",
      "tensor(12.7807, grad_fn=<AddBackward0>)\n",
      "tensor(10.0258, grad_fn=<AddBackward0>)\n",
      "tensor(8.0708, grad_fn=<AddBackward0>)\n",
      "tensor(6.6791, grad_fn=<AddBackward0>)\n",
      "tensor(5.6855, grad_fn=<AddBackward0>)\n",
      "tensor(4.9739, grad_fn=<AddBackward0>)\n",
      "tensor(4.4629, grad_fn=<AddBackward0>)\n",
      "tensor(4.0950, grad_fn=<AddBackward0>)\n",
      "tensor(3.8294, grad_fn=<AddBackward0>)\n",
      "tensor(3.6372, grad_fn=<AddBackward0>)\n",
      "tensor(3.4978, grad_fn=<AddBackward0>)\n",
      "tensor(3.3965, grad_fn=<AddBackward0>)\n",
      "tensor(3.3227, grad_fn=<AddBackward0>)\n",
      "tensor(3.2689, grad_fn=<AddBackward0>)\n",
      "tensor(3.2296, grad_fn=<AddBackward0>)\n"
     ]
    }
   ],
   "source": [
    "import torch.optim as optim\n",
    "import torch.nn as nn\n",
    "loss_func = nn.MSELoss()\n",
    "optimizer = optim.SGD(model.parameters(), lr=0.01)\n",
    "\n",
    "EPOCH = 20\n",
    "BATCH_SIZE = 10\n",
    "\n",
    "for e in range(EPOCH):\n",
    "    \n",
    "    epoch_loss = 0\n",
    "    batch = int(len(x) / BATCH_SIZE)\n",
    "    batch_start = 0\n",
    "    \n",
    "    for i in range(BATCH_SIZE):\n",
    "        x_data = x[batch_start:batch_start+BATCH_SIZE]\n",
    "        y_data = y[batch_start:batch_start+BATCH_SIZE]\n",
    "        \n",
    "        optimizer.zero_grad()\n",
    "        output = model(x_data)\n",
    "        loss = loss_func(output, y_data)\n",
    "        loss.backward()\n",
    "        optimizer.step()\n",
    "        \n",
    "        epoch_loss += loss/10\n",
    "        \n",
    "        batch_start += BATCH_SIZE\n",
    "    print(epoch_loss)\n",
    "        \n",
    "        \n"
   ]
  },
  {
   "cell_type": "code",
   "execution_count": 126,
   "metadata": {},
   "outputs": [
    {
     "data": {
      "image/png": "[encoded data removed]",
      "text/plain": [
       "<Figure size 432x288 with 1 Axes>"
      ]
     },
     "metadata": {
      "needs_background": "light"
     },
     "output_type": "display_data"
    }
   ],
   "source": [
    "out = model(x)\n",
    "\n",
    "fig, ax = plt.subplots()\n",
    "ax.scatter(x,y,label='Real Data')\n",
    "ax.scatter(x,out.detach(), label='Predict Data')\n",
    "plt.legend()\n",
    "\n",
    "fig.savefig('result.jpg')"
   ]
  },
  {
   "cell_type": "code",
   "execution_count": 128,
   "metadata": {},
   "outputs": [
    {
     "name": "stdout",
     "output_type": "stream",
     "text": [
      "Parameter containing:\n",
      "tensor([[6.4488]], requires_grad=True)\n",
      "Parameter containing:\n",
      "tensor([5.1844], requires_grad=True)\n"
     ]
    }
   ],
   "source": [
    "# Parameters 확인하기\n",
    "for p in model.parameters():\n",
    "    print(p)"
   ]
  },
  {
   "cell_type": "markdown",
   "metadata": {},
   "source": [
    "# Example 1\n",
    "- 회귀식을 예측하는 신경망 설계\n",
    "- y = 2x -> 기울기 '2' 예측하기\n",
    "- 예상 결과 : weight(기울기)는 2에 가깝고 bias(y 절편)는 0에 가깝다."
   ]
  },
  {
   "cell_type": "code",
   "execution_count": 124,
   "metadata": {
    "ExecuteTime": {
     "end_time": "2018-12-01T18:15:04.629188Z",
     "start_time": "2018-12-01T18:15:04.168045Z"
    }
   },
   "outputs": [
    {
     "data": {
      "text/plain": [
       "[<matplotlib.lines.Line2D at 0x2b48529ef88>]"
      ]
     },
     "execution_count": 124,
     "metadata": {},
     "output_type": "execute_result"
    },
    {
     "data": {
      "image/png": "[encoded data removed]",
      "text/plain": [
       "<Figure size 432x288 with 1 Axes>"
      ]
     },
     "metadata": {
      "needs_background": "light"
     },
     "output_type": "display_data"
    }
   ],
   "source": [
    "# 예상되는 결과\n",
    "x = torch.randn(100,1)\n",
    "y = 2*x\n",
    "\n",
    "import matplotlib.pyplot as plt\n",
    "import numpy as np\n",
    "%matplotlib inline\n",
    "\n",
    "plt.figure()\n",
    "plt.plot(x.numpy(), y.numpy())"
   ]
  },
  {
   "cell_type": "code",
   "execution_count": 5,
   "metadata": {
    "ExecuteTime": {
     "end_time": "2018-12-01T18:15:04.666120Z",
     "start_time": "2018-12-01T18:15:04.635178Z"
    }
   },
   "outputs": [
    {
     "data": {
      "text/plain": [
       "[Parameter containing:\n",
       " tensor([[0.0407]], requires_grad=True), Parameter containing:\n",
       " tensor([0.1184], requires_grad=True)]"
      ]
     },
     "execution_count": 5,
     "metadata": {},
     "output_type": "execute_result"
    }
   ],
   "source": [
    "# model 정의\n",
    "import torch\n",
    "import torch.nn as nn\n",
    "class MyModel(nn.Module):\n",
    "    \n",
    "    def __init__(self, input_size, output_size):\n",
    "        super(MyModel, self).__init__()\n",
    "        self.linear = nn.Linear(input_size, output_size)\n",
    "        #torch.nn.init.zeros_(self.linear.weight) # 가중치(weight)를 0으로 초기화하기\n",
    "        #torch.nn.init.zeros_(self.linear.bias) # bias를 0으로 초기화하기\n",
    "        #self.linear.weight.data.fill_(2) # 원하는 숫자로 초기화(기울기)\n",
    "        #self.linear.bias.data.fill_(0) # 원하는 숫자로 초기화(y절편)\n",
    "        \n",
    "    def forward(self, x):\n",
    "        y = self.linear(x)\n",
    "        \n",
    "        return y\n",
    "model = MyModel(1,1)\n",
    "list(model.parameters()) # parameter 확인"
   ]
  },
  {
   "cell_type": "code",
   "execution_count": 6,
   "metadata": {
    "ExecuteTime": {
     "end_time": "2018-12-01T18:15:04.692071Z",
     "start_time": "2018-12-01T18:15:04.670112Z"
    }
   },
   "outputs": [],
   "source": [
    "# 정답 함수 정의\n",
    "def answer(x):\n",
    "    return 2 * x"
   ]
  },
  {
   "cell_type": "code",
   "execution_count": 7,
   "metadata": {
    "ExecuteTime": {
     "end_time": "2018-12-01T18:15:04.726516Z",
     "start_time": "2018-12-01T18:15:04.699060Z"
    }
   },
   "outputs": [],
   "source": [
    "# train 정의\n",
    "def train(model, x, y, optim):\n",
    "    optim.zero_grad() # module안에 있는 모든 parameters 초기화\n",
    "    \n",
    "    # feed-forward\n",
    "    y_hat = model(x)\n",
    "    \n",
    "    # 에러 계산하기\n",
    "    loss = ((y - y_hat).pow(2)).sum() / x.size(0)\n",
    "    \n",
    "    # 오차값에 대한 기울기 구하기\n",
    "    loss.backward()\n",
    "    \n",
    "    # 파라미터 갱신하기\n",
    "    optimizer.step()\n",
    "    \n",
    "    # loss값 출력\n",
    "    return loss"
   ]
  },
  {
   "cell_type": "code",
   "execution_count": 8,
   "metadata": {
    "ExecuteTime": {
     "end_time": "2018-12-01T18:15:04.772422Z",
     "start_time": "2018-12-01T18:15:04.731499Z"
    }
   },
   "outputs": [
    {
     "name": "stdout",
     "output_type": "stream",
     "text": [
      "MyModel(\n",
      "  (linear): Linear(in_features=1, out_features=1, bias=True)\n",
      ") \n",
      "\n",
      "Parameter containing:\n",
      "tensor([[0.9508]], requires_grad=True)\n",
      "Parameter containing:\n",
      "tensor([-0.0010], requires_grad=True)\n"
     ]
    },
    {
     "data": {
      "text/plain": [
       "[None, None]"
      ]
     },
     "execution_count": 8,
     "metadata": {},
     "output_type": "execute_result"
    }
   ],
   "source": [
    "import torch.optim as optim\n",
    "\n",
    "# 하이퍼-파라미터 설정\n",
    "batch_size = 1\n",
    "iter_size = 10000\n",
    "epoch_size = 10000\n",
    "\n",
    "model = MyModel(1,1)\n",
    "optimizer = optim.SGD(model.parameters(), lr = 0.0001, momentum = 0.1)\n",
    "\n",
    "print(model, '\\n')\n",
    "[print(p) for p in model.parameters()]"
   ]
  },
  {
   "cell_type": "code",
   "execution_count": 9,
   "metadata": {
    "ExecuteTime": {
     "end_time": "2018-12-01T18:15:18.328743Z",
     "start_time": "2018-12-01T18:15:04.778911Z"
    }
   },
   "outputs": [
    {
     "name": "stdout",
     "output_type": "stream",
     "text": [
      "tensor(2448.6677, grad_fn=<ThAddBackward>) tensor([0.2000]) tensor([0.1889])\n",
      "tensor(28.9848, grad_fn=<ThAddBackward>) tensor([0.2000]) tensor([0.1984])\n",
      "tensor(0.3396, grad_fn=<ThAddBackward>) tensor([0.2000]) tensor([0.1998])\n",
      "tensor(0.0044, grad_fn=<ThAddBackward>) tensor([0.2000]) tensor([0.2000])\n",
      "tensor(0.0001, grad_fn=<ThAddBackward>) tensor([0.2000]) tensor([0.2000])\n"
     ]
    }
   ],
   "source": [
    "for epoch in range(epoch_size):\n",
    "    avg_loss = 0\n",
    "    \n",
    "    for i in range(iter_size):\n",
    "        \n",
    "        x = torch.randn(batch_size, 1)\n",
    "        y = answer(x)\n",
    "        \n",
    "        loss = train(model, x, y, optimizer)\n",
    "        \n",
    "        avg_loss += loss\n",
    "    avg_loss / iter_size\n",
    "    \n",
    "    x_valid = torch.FloatTensor([[.1]])\n",
    "    y_valid = answer(x_valid)\n",
    "    \n",
    "    model.eval()\n",
    "    y_hat = model(x_valid)\n",
    "    model.train()\n",
    "    \n",
    "    print(avg_loss, y_valid.data[0], y_hat.data[0])\n",
    "    \n",
    "    if avg_loss < .001:\n",
    "        break"
   ]
  },
  {
   "cell_type": "code",
   "execution_count": 10,
   "metadata": {
    "ExecuteTime": {
     "end_time": "2018-12-01T18:15:18.345212Z",
     "start_time": "2018-12-01T18:15:18.334233Z"
    }
   },
   "outputs": [
    {
     "name": "stdout",
     "output_type": "stream",
     "text": [
      "Parameter containing:\n",
      "tensor([[1.9999]], requires_grad=True)\n",
      "Parameter containing:\n",
      "tensor([1.5046e-07], requires_grad=True)\n"
     ]
    }
   ],
   "source": [
    "for p in model.parameters():\n",
    "    print(p) "
   ]
  },
  {
   "cell_type": "markdown",
   "metadata": {},
   "source": [
    "# Example 2\n",
    "- y = 3 * X1 + X2 - 2 * X3\n",
    "- 예상되는 결과 : weight = [3, 1, -2], bias = [0]"
   ]
  },
  {
   "cell_type": "code",
   "execution_count": 11,
   "metadata": {
    "ExecuteTime": {
     "end_time": "2018-12-01T18:15:22.155135Z",
     "start_time": "2018-12-01T18:15:18.351700Z"
    }
   },
   "outputs": [
    {
     "name": "stdout",
     "output_type": "stream",
     "text": [
      "Parameters : \n",
      "Parameter containing:\n",
      "tensor([[0.1412, 0.0810, 0.4799]], requires_grad=True)\n",
      "Parameter containing:\n",
      "tensor([0.2757], requires_grad=True)\n",
      "\n",
      "Optimizer : \n",
      "SGD (\n",
      "Parameter Group 0\n",
      "    dampening: 0\n",
      "    lr: 0.001\n",
      "    momentum: 0\n",
      "    nesterov: False\n",
      "    weight_decay: 0\n",
      ")\n",
      "\n",
      "\n",
      "epoch : [1/1000](1000/1000) Train Loss : 3.75 tensor(-1.) tensor([-0.5340])\n",
      "epoch : [2/1000](1000/1000) Train Loss : 0.07 tensor(-1.) tensor([-0.9277])\n",
      "epoch : [3/1000](1000/1000) Train Loss : 0.00 tensor(-1.) tensor([-0.9918])\n",
      "epoch : [4/1000](1000/1000) Train Loss : 0.00 tensor(-1.) tensor([-0.9990])\n",
      "\n",
      "\n",
      "The Parameters of model\n",
      "Parameter containing:\n",
      "tensor([[ 2.9992,  0.9997, -1.9992]], requires_grad=True)\n",
      "Parameter containing:\n",
      "tensor([0.0001], requires_grad=True)\n"
     ]
    }
   ],
   "source": [
    "import torch\n",
    "import torch.nn as nn\n",
    "import torch.optim as optim\n",
    "\n",
    "class model(nn.Module):\n",
    "    \n",
    "    def __init__(self, input_size, output_size):\n",
    "        super(model, self).__init__()\n",
    "        \n",
    "        self.linear = nn.Linear(input_size, output_size)\n",
    "        \n",
    "    def forward(self, x):\n",
    "        \n",
    "        y = self.linear(x)\n",
    "        return y\n",
    "    \n",
    "model = model(3,1)\n",
    "optimizer = optim.SGD(model.parameters(), lr = 0.001)\n",
    "\n",
    "def generate_data(batch_size):\n",
    "    x = torch.randn(batch_size, 3)\n",
    "    \n",
    "    return x\n",
    "\n",
    "def answer(x):\n",
    "    \n",
    "    return 3 * x[:,0] + x[:,1] - 2 * x[:,2]\n",
    "\n",
    "def loss_f(x):\n",
    "    \n",
    "    y = answer(x)\n",
    "    y_hat = model(x)\n",
    "    \n",
    "    loss = ((y.view(batch_size,1) - y_hat).pow(2)).sum() / x.size(0)\n",
    "    \n",
    "    return loss\n",
    "\n",
    "batch_size = 3\n",
    "epoch_n = 1000\n",
    "iter_n = 1000\n",
    "\n",
    "print('Parameters : ')\n",
    "for p in model.parameters():\n",
    "    print(p)\n",
    "\n",
    "print('')\n",
    "print('Optimizer : ')\n",
    "print(optimizer)\n",
    "print('\\n')\n",
    "\n",
    "for epoch in range(1, epoch_n+1):\n",
    "    avg_loss = 0\n",
    "    \n",
    "    for i in range(1, iter_n+1):\n",
    "        x = torch.randn(batch_size, 3)\n",
    "        \n",
    "        optimizer.zero_grad()\n",
    "        loss = loss_f(x.data)\n",
    "        loss.backward()\n",
    "        optimizer.step()\n",
    "        \n",
    "        avg_loss += loss\n",
    "        \n",
    "        print('\\repoch : [{}/{}]({}/{})'.format(epoch, epoch_n, i, iter_n), end = ' ')\n",
    "        \n",
    "    avg_loss = avg_loss / iter_n\n",
    "    \n",
    "    x_valid = torch.FloatTensor([[1,2,3]])\n",
    "    y_valid = answer(x_valid)\n",
    "    \n",
    "    model.eval()\n",
    "    y_hat = model(x_valid)\n",
    "    model.train()\n",
    "    \n",
    "    print('Train Loss : %.2f' %avg_loss.item(), y_valid.data[0], y_hat.data[0])\n",
    "    \n",
    "    if avg_loss < 0.001:\n",
    "        print('\\n')\n",
    "        print('The Parameters of model')\n",
    "        for p in model.parameters():\n",
    "            print(p)\n",
    "        break"
   ]
  },
  {
   "cell_type": "markdown",
   "metadata": {},
   "source": [
    "# Example 3\n",
    "- y = X1^2 + X2^2"
   ]
  },
  {
   "cell_type": "code",
   "execution_count": 12,
   "metadata": {
    "ExecuteTime": {
     "end_time": "2018-12-01T18:15:26.075353Z",
     "start_time": "2018-12-01T18:15:22.163621Z"
    }
   },
   "outputs": [
    {
     "name": "stdout",
     "output_type": "stream",
     "text": [
      "Model(\n",
      "  (linear1): Linear(in_features=2, out_features=10, bias=True)\n",
      "  (linear2): Linear(in_features=10, out_features=1, bias=True)\n",
      ") \n",
      "\n",
      "SGD (\n",
      "Parameter Group 0\n",
      "    dampening: 0\n",
      "    lr: 0.001\n",
      "    momentum: 0\n",
      "    nesterov: False\n",
      "    weight_decay: 0\n",
      ")\n",
      "\n",
      "tensor(5.0093, grad_fn=<DivBackward0>)\n",
      "tensor(1.2818, grad_fn=<DivBackward0>)\n",
      "tensor(1.1506, grad_fn=<DivBackward0>)\n",
      "tensor(0.5915, grad_fn=<DivBackward0>)\n",
      "tensor(0.2667, grad_fn=<DivBackward0>)\n",
      "tensor(0.2847, grad_fn=<DivBackward0>)\n",
      "tensor(0.2594, grad_fn=<DivBackward0>)\n",
      "tensor(0.2054, grad_fn=<DivBackward0>)\n",
      "tensor(0.1404, grad_fn=<DivBackward0>)\n",
      "tensor(0.1265, grad_fn=<DivBackward0>)\n"
     ]
    },
    {
     "data": {
      "image/png": "[encoded data removed]",
      "text/plain": [
       "<matplotlib.figure.Figure at 0x18b768b6c88>"
      ]
     },
     "metadata": {},
     "output_type": "display_data"
    }
   ],
   "source": [
    "import torch\n",
    "import torch.nn as nn\n",
    "import torch.optim as optim\n",
    "import torch.nn.functional as F\n",
    "\n",
    "# y = X1^2 + X2^2\n",
    "def answer(x):\n",
    "    \n",
    "    y = x[:,0].pow(2) + x[:,1].pow(2)\n",
    "    \n",
    "    return y\n",
    "\n",
    "class Model(nn.Module):\n",
    "    \n",
    "    def __init__(self, input_size, output_size):\n",
    "        super(Model, self).__init__()\n",
    "        \n",
    "        self.linear1 = nn.Linear(input_size, 10)\n",
    "        self.linear2 = nn.Linear(10, 1)\n",
    "        \n",
    "    def forward(self, x):\n",
    "        \n",
    "        y = F.relu(self.linear1(x))\n",
    "        y = F.relu(self.linear2(y))\n",
    "        \n",
    "        return y\n",
    "    \n",
    "model = Model(2,1)\n",
    "print(model, '\\n')\n",
    "\n",
    "loss_func = nn.MSELoss()\n",
    "optimizer = optim.SGD(model.parameters(), lr = 0.001)\n",
    "\n",
    "print(optimizer)\n",
    "print('')\n",
    "\n",
    "batch_size = 3\n",
    "epoch_n = 100\n",
    "iter_n = 100\n",
    "loss_list = []\n",
    "for epoch in range(epoch_n):\n",
    "    loss_avg = 0\n",
    "    for i in range(iter_n):\n",
    "        \n",
    "        x = torch.randn(batch_size, 2)\n",
    "        y_hat = model(x)\n",
    "        y = answer(x).view(y_hat.shape)\n",
    "        \n",
    "        optimizer.zero_grad()\n",
    "        loss = loss_func(y_hat, y)\n",
    "        loss.backward()\n",
    "        optimizer.step()\n",
    "        \n",
    "        loss_avg += loss\n",
    "        loss_list.append(loss_avg)\n",
    "    \n",
    "    loss_avg = loss_avg / iter_n\n",
    "    \n",
    "    if epoch % 10 == 0:\n",
    "        print(loss_avg)\n",
    "    \n",
    "    if loss_avg < 0.0001:\n",
    "        break\n",
    "        \n",
    "\n",
    "import matplotlib.pyplot as plt\n",
    "%matplotlib inline\n",
    "\n",
    "plt.plot(loss_list, label = 'Loss')\n",
    "plt.legend()\n",
    "plt.show()"
   ]
  },
  {
   "cell_type": "markdown",
   "metadata": {},
   "source": [
    "# 새로 배운 것\n",
    "\n",
    "## 1. 서로 다른 사이즈의 두 Tensor의 size 맞춰주기\n",
    "- tensor1.view(tensor2.shape)\n",
    "- https://stackoverflow.com/questions/53569050/pytorch-how-can-i-make-same-size-of-tensor-modelx-and-answerx/53569303?noredirect=1#comment94007240_53569303\n",
    "\n",
    "## 2. Regression에서는 손실함수로 CrossEntropyLoss를 사용하지 않는다.\n",
    "- 대신 MSELoss나 L1loss를 사용한다.\n",
    "- https://stackoverflow.com/questions/53571621/pytorch-crossentropy-error-in-simple-example-of-nn/53571764?noredirect=1#comment94011455_53571764"
   ]
  },
  {
   "cell_type": "code",
   "execution_count": 1,
   "metadata": {},
   "outputs": [],
   "source": [
    "import torch"
   ]
  },
  {
   "cell_type": "code",
   "execution_count": 18,
   "metadata": {},
   "outputs": [],
   "source": [
    "class country():\n",
    "    \n",
    "    def __init__(self, name):\n",
    "        self.name = name\n",
    "    def aaa(self):\n",
    "        print('country')\n",
    "        \n",
    "        \n",
    "class korea(country):\n",
    "    \n",
    "    def __init__(self, name):\n",
    "        self.name = name\n",
    "        \n",
    "    def aaa(self):\n",
    "        print('korea')"
   ]
  },
  {
   "cell_type": "code",
   "execution_count": 23,
   "metadata": {},
   "outputs": [
    {
     "name": "stdout",
     "output_type": "stream",
     "text": [
      "korea\n"
     ]
    }
   ],
   "source": [
    "a = korea('한국')\n",
    "a.aaa()"
   ]
  },
  {
   "cell_type": "code",
   "execution_count": 15,
   "metadata": {},
   "outputs": [
    {
     "data": {
      "text/plain": [
       "'한국'"
      ]
     },
     "execution_count": 15,
     "metadata": {},
     "output_type": "execute_result"
    }
   ],
   "source": [
    "k = korea('한국')\n",
    "k.name"
   ]
  },
  {
   "cell_type": "code",
   "execution_count": 16,
   "metadata": {},
   "outputs": [
    {
     "data": {
      "text/plain": [
       "'일본'"
      ]
     },
     "execution_count": 16,
     "metadata": {},
     "output_type": "execute_result"
    }
   ],
   "source": [
    "c = country('일본')\n",
    "c.name"
   ]
  },
  {
   "cell_type": "code",
   "execution_count": 28,
   "metadata": {},
   "outputs": [
    {
     "data": {
      "text/plain": [
       "Module()"
      ]
     },
     "execution_count": 28,
     "metadata": {},
     "output_type": "execute_result"
    }
   ],
   "source": [
    "import torch\n",
    "import torch.nn as nn\n",
    "\n",
    "nn.Module().\n",
    "\n",
    "\n",
    "\n"
   ]
  },
  {
   "cell_type": "code",
   "execution_count": 101,
   "metadata": {},
   "outputs": [],
   "source": [
    "class person():\n",
    "    \n",
    "    def __init__(self):\n",
    "        print('hello')\n",
    "        self.aaa = 'aaa'\n",
    "    def bbb(self):\n",
    "        self.bbb = 'bbb'\n",
    "        print('나는 안 보여?')"
   ]
  },
  {
   "cell_type": "code",
   "execution_count": 102,
   "metadata": {},
   "outputs": [],
   "source": [
    "class student(person):\n",
    "    \n",
    "    def __init__(self):\n",
    "        self.name = 'aaa'\n",
    "        print(self.name)\n",
    "        \n",
    "    def ccc(self):\n",
    "        self.ccc = 'ccc'\n",
    "        print('내가 보여?')"
   ]
  },
  {
   "cell_type": "code",
   "execution_count": 104,
   "metadata": {},
   "outputs": [
    {
     "ename": "SyntaxError",
     "evalue": "unexpected EOF while parsing (<ipython-input-104-ba769f377a37>, line 3)",
     "output_type": "error",
     "traceback": [
      "\u001b[1;36m  File \u001b[1;32m\"<ipython-input-104-ba769f377a37>\"\u001b[1;36m, line \u001b[1;32m3\u001b[0m\n\u001b[1;33m    def __init__(self):\u001b[0m\n\u001b[1;37m                       ^\u001b[0m\n\u001b[1;31mSyntaxError\u001b[0m\u001b[1;31m:\u001b[0m unexpected EOF while parsing\n"
     ]
    }
   ],
   "source": [
    "class mymodel():\n",
    "    \n",
    "    def __init__(self):\n",
    "        "
   ]
  },
  {
   "cell_type": "code",
   "execution_count": null,
   "metadata": {},
   "outputs": [],
   "source": []
  }
 ],
 "metadata": {
  "kernelspec": {
   "display_name": "Python 3",
   "language": "python",
   "name": "python3"
  },
  "language_info": {
   "codemirror_mode": {
    "name": "ipython",
    "version": 3
   },
   "file_extension": ".py",
   "mimetype": "text/x-python",
   "name": "python",
   "nbconvert_exporter": "python",
   "pygments_lexer": "ipython3",
   "version": "3.7.4"
  },
  "varInspector": {
   "cols": {
    "lenName": 16,
    "lenType": 16,
    "lenVar": 40
   },
   "kernels_config": {
    "python": {
     "delete_cmd_postfix": "",
     "delete_cmd_prefix": "del ",
     "library": "var_list.py",
     "varRefreshCmd": "print(var_dic_list())"
    },
    "r": {
     "delete_cmd_postfix": ") ",
     "delete_cmd_prefix": "rm(",
     "library": "var_list.r",
     "varRefreshCmd": "cat(var_dic_list()) "
    }
   },
   "types_to_exclude": [
    "module",
    "function",
    "builtin_function_or_method",
    "instance",
    "_Feature"
   ],
   "window_display": false
  }
 },
 "nbformat": 4,
 "nbformat_minor": 2
}
