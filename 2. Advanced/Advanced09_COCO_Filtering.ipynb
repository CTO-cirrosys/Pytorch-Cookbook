{
 "cells": [
  {
   "cell_type": "markdown",
   "id": "a749423b",
   "metadata": {},
   "source": [
    "# COCO dataset Filtering\n",
    "- GPU 1개로 coco를 학습하려고 하면 너무 오래 걸림\n",
    "- 데이터수가 너무 많기 때문에\n",
    "- **특정 class만 가져와서 적은 데이터셋으로 training연습**\n",
    "- **bbox의 사이즈가 1미만은 데이터는 제거**"
   ]
  },
  {
   "cell_type": "code",
   "execution_count": 1,
   "id": "c1827447",
   "metadata": {},
   "outputs": [],
   "source": [
    "import os\n",
    "\n",
    "import torch\n",
    "import torchvision.transforms as transforms\n",
    "from torch.utils.data import DataLoader, Dataset\n",
    "from torchvision.datasets import CocoDetection\n",
    "\n",
    "import matplotlib.pyplot as plt\n",
    "import matplotlib.patches as patches\n",
    "from PIL import Image\n",
    "import numpy as np\n",
    "\n",
    "%matplotlib inline"
   ]
  },
  {
   "cell_type": "markdown",
   "id": "4fecf9a8",
   "metadata": {},
   "source": [
    "## Original"
   ]
  },
  {
   "cell_type": "code",
   "execution_count": 20,
   "id": "223565d8",
   "metadata": {},
   "outputs": [],
   "source": [
    "class myCocoDetection(CocoDetection):\n",
    "    \n",
    "    def __getitem__(self, index: int):\n",
    "        idx = self.ids[index]\n",
    "        image = self._load_image(idx)\n",
    "        target = self._load_target(idx)\n",
    "        \n",
    "        bboxes, labels = [], []\n",
    "        for obj in target:\n",
    "            bboxes.append(obj['bbox'])\n",
    "            labels.append(obj['category_id'])\n",
    "            \n",
    "        labels = torch.tensor(labels)\n",
    "        if self.transform:\n",
    "            image = self.transform(image)\n",
    "            bboxes = self.transform(np.array(bboxes))\n",
    "            \n",
    "        return image, bboxes, labels\n",
    "    \n",
    "    def _load_image(self, idx: int):\n",
    "        path = self.coco.loadImgs(idx)[0][\"file_name\"]\n",
    "        return Image.open(os.path.join(self.root, path)).convert(\"RGB\")\n",
    "    \n",
    "    def _load_target(self, idx):\n",
    "        return self.coco.loadAnns(self.coco.getAnnIds(idx))\n",
    "    \n",
    "def collate_fn(batch):\n",
    "    return tuple(zip(*batch))"
   ]
  },
  {
   "cell_type": "code",
   "execution_count": 21,
   "id": "26b8c8df",
   "metadata": {},
   "outputs": [
    {
     "name": "stdout",
     "output_type": "stream",
     "text": [
      "loading annotations into memory...\n",
      "Done (t=0.64s)\n",
      "creating index...\n",
      "index created!\n",
      "Shape of Image : torch.Size([3, 426, 640])\n",
      "Shape of bboxes : torch.Size([1, 20, 4])\n",
      "Shape of labels : 4\n"
     ]
    }
   ],
   "source": [
    "test_path = '../../data/COCO/val2017'\n",
    "test_ann = '../../data/COCO/annotations/instances_val2017.json'\n",
    "\n",
    "test_set = myCocoDetection(root=test_path, annFile=test_ann, transform=transforms.ToTensor())\n",
    "\n",
    "test_loader = DataLoader(test_set, batch_size=4, collate_fn=collate_fn)\n",
    "\n",
    "images, bboxes, labels = iter(test_loader).next()\n",
    "\n",
    "print('Shape of Image :', images[0].shape)\n",
    "print('Shape of bboxes :', bboxes[0].shape)\n",
    "print('Shape of labels :', len(labels))"
   ]
  },
  {
   "cell_type": "markdown",
   "id": "e2660e96",
   "metadata": {},
   "source": [
    "### Number of class"
   ]
  },
  {
   "cell_type": "code",
   "execution_count": 22,
   "id": "4090213e",
   "metadata": {},
   "outputs": [
    {
     "data": {
      "text/plain": [
       "80"
      ]
     },
     "execution_count": 22,
     "metadata": {},
     "output_type": "execute_result"
    }
   ],
   "source": [
    "len(test_set.coco.getCatIds())"
   ]
  },
  {
   "cell_type": "markdown",
   "id": "dfc876dd",
   "metadata": {},
   "source": [
    "## 1. bbox의 크기가 1보다 작은 데이터 제거\n",
    "- img_ids : 각 image의 id\n",
    "- ann_ids : 각 image에 있는 object의 id"
   ]
  },
  {
   "cell_type": "code",
   "execution_count": 26,
   "id": "28ac586e",
   "metadata": {},
   "outputs": [],
   "source": [
    "from pycocotools.coco import COCO"
   ]
  },
  {
   "cell_type": "code",
   "execution_count": 41,
   "id": "de5e66bf",
   "metadata": {},
   "outputs": [
    {
     "name": "stdout",
     "output_type": "stream",
     "text": [
      "loading annotations into memory...\n",
      "Done (t=0.84s)\n",
      "creating index...\n",
      "index created!\n",
      "5000\n",
      "20\n"
     ]
    }
   ],
   "source": [
    "test_path = '../../data/COCO/val2017'\n",
    "test_ann = '../../data/COCO/annotations/instances_val2017.json'\n",
    "\n",
    "coco = COCO(test_ann) # coco data의 target데이터\n",
    "img_ids = list(sorted(coco.imgs.keys())) # 모든 이미지의 ids\n",
    "ann_ids = coco.getAnnIds(img_ids[0])     # 이미지 내에 있는 object의 ids\n",
    "\n",
    "print(len(img_ids))\n",
    "print(len(ann_ids))"
   ]
  },
  {
   "cell_type": "code",
   "execution_count": null,
   "id": "cf72356c",
   "metadata": {},
   "outputs": [],
   "source": [
    "for img_id in ids:\n",
    "    ann_i"
   ]
  },
  {
   "cell_type": "code",
   "execution_count": 23,
   "id": "c6f72e25",
   "metadata": {},
   "outputs": [],
   "source": [
    "class myCocoDetection(CocoDetection):\n",
    "    \n",
    "    def __getitem__(self, index: int):\n",
    "        idx = self.ids[index]\n",
    "        image = self._load_image(idx)\n",
    "        target = self._load_target(idx)\n",
    "        \n",
    "        bboxes, labels = [], []\n",
    "        for obj in target:\n",
    "            bboxes.append(obj['bbox'])\n",
    "            labels.append(obj['category_id'])\n",
    "            \n",
    "        labels = torch.tensor(labels)\n",
    "        if self.transform:\n",
    "            image = self.transform(image)\n",
    "            bboxes = self.transform(np.array(bboxes))\n",
    "            \n",
    "        return image, bboxes, labels\n",
    "    \n",
    "    def _load_image(self, idx: int):\n",
    "        path = self.coco.loadImgs(idx)[0][\"file_name\"]\n",
    "        return Image.open(os.path.join(self.root, path)).convert(\"RGB\")\n",
    "    \n",
    "    def _load_target(self, idx):\n",
    "        return self.coco.loadAnns(self.coco.getAnnIds(idx))\n",
    "    \n",
    "def collate_fn(batch):\n",
    "    return tuple(zip(*batch))"
   ]
  }
 ],
 "metadata": {
  "kernelspec": {
   "display_name": "pytorch",
   "language": "python",
   "name": "pytorch"
  },
  "language_info": {
   "codemirror_mode": {
    "name": "ipython",
    "version": 3
   },
   "file_extension": ".py",
   "mimetype": "text/x-python",
   "name": "python",
   "nbconvert_exporter": "python",
   "pygments_lexer": "ipython3",
   "version": "3.8.8"
  },
  "varInspector": {
   "cols": {
    "lenName": 16,
    "lenType": 16,
    "lenVar": 40
   },
   "kernels_config": {
    "python": {
     "delete_cmd_postfix": "",
     "delete_cmd_prefix": "del ",
     "library": "var_list.py",
     "varRefreshCmd": "print(var_dic_list())"
    },
    "r": {
     "delete_cmd_postfix": ") ",
     "delete_cmd_prefix": "rm(",
     "library": "var_list.r",
     "varRefreshCmd": "cat(var_dic_list()) "
    }
   },
   "types_to_exclude": [
    "module",
    "function",
    "builtin_function_or_method",
    "instance",
    "_Feature"
   ],
   "window_display": false
  }
 },
 "nbformat": 4,
 "nbformat_minor": 5
}
