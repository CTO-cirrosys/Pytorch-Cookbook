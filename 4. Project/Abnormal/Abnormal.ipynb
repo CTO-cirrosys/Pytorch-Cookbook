{
 "cells": [
  {
   "cell_type": "code",
   "execution_count": 1,
   "id": "254a50e7",
   "metadata": {},
   "outputs": [],
   "source": [
    "import torch\n",
    "import torch.nn as nn\n",
    "import torch.nn.functional as F\n",
    "import torch.optim as optim\n",
    "import torchvision"
   ]
  },
  {
   "cell_type": "markdown",
   "id": "d66e1194",
   "metadata": {},
   "source": [
    "# Model"
   ]
  },
  {
   "cell_type": "code",
   "execution_count": 2,
   "id": "e03113dc",
   "metadata": {},
   "outputs": [],
   "source": [
    "class Autoencoder(nn.Module):\n",
    "    \n",
    "    def __init__(self):\n",
    "        super(Autoencoder, self).__init__()\n",
    "        self.encoder1 = nn.Conv2d(3, 16, 3, padding=1)\n",
    "        self.encoder2 = nn.Conv2d(16, 8, 3, padding=1)\n",
    "        self.encoder3 = nn.Conv2d(8, 4, 3, padding=1)\n",
    "        self.encoder4 = nn.Conv2d(4, 4, 3, padding=1)\n",
    "        \n",
    "        self.pool = nn.MaxPool2d(2, ceil_mode=True)\n",
    "        self.up1 = nn.Upsample(75, mode='nearest')\n",
    "        self.up = nn.Upsample(scale_factor=2, mode='nearest')\n",
    "        \n",
    "        self.decoder1 = nn.Conv2d(4, 4, 3, padding=1)\n",
    "        self.decoder2 = nn.Conv2d(4, 4, 3, padding=1)\n",
    "        self.decoder3 = nn.Conv2d(4, 8, 3, padding=1)\n",
    "        self.decoder4 = nn.Conv2d(8, 16, 3, padding=1)\n",
    "        self.decoder5 = nn.Conv2d(16, 3, 3, padding=1)\n",
    "        \n",
    "    def forward(self, x):\n",
    "        x = F.relu(self.encoder1(x))\n",
    "        x = self.pool(x)\n",
    "        x = F.relu(self.encoder2(x))\n",
    "        x = self.pool(x)\n",
    "        x = F.relu(self.encoder3(x))\n",
    "        x = self.pool(x)\n",
    "        x = F.relu(self.encoder4(x))\n",
    "        encoder = self.pool(x)\n",
    "        \n",
    "        x = F.relu(self.decoder1(encoder))\n",
    "        x = self.up1(x)\n",
    "        x = F.relu(self.decoder2(x))\n",
    "        x = self.up(x)\n",
    "        x = F.relu(self.decoder3(x))\n",
    "        x = self.up(x)\n",
    "        x = F.relu(self.decoder4(x))\n",
    "        x = self.up(x)\n",
    "        decoder = F.relu(self.decoder5(x))\n",
    "        \n",
    "        return decoder"
   ]
  },
  {
   "cell_type": "code",
   "execution_count": 3,
   "id": "7949294b",
   "metadata": {},
   "outputs": [
    {
     "data": {
      "text/plain": [
       "Autoencoder(\n",
       "  (encoder1): Conv2d(3, 16, kernel_size=(3, 3), stride=(1, 1), padding=(1, 1))\n",
       "  (encoder2): Conv2d(16, 8, kernel_size=(3, 3), stride=(1, 1), padding=(1, 1))\n",
       "  (encoder3): Conv2d(8, 4, kernel_size=(3, 3), stride=(1, 1), padding=(1, 1))\n",
       "  (encoder4): Conv2d(4, 4, kernel_size=(3, 3), stride=(1, 1), padding=(1, 1))\n",
       "  (pool): MaxPool2d(kernel_size=2, stride=2, padding=0, dilation=1, ceil_mode=True)\n",
       "  (up1): Upsample(size=75, mode=nearest)\n",
       "  (up): Upsample(scale_factor=2.0, mode=nearest)\n",
       "  (decoder1): Conv2d(4, 4, kernel_size=(3, 3), stride=(1, 1), padding=(1, 1))\n",
       "  (decoder2): Conv2d(4, 4, kernel_size=(3, 3), stride=(1, 1), padding=(1, 1))\n",
       "  (decoder3): Conv2d(4, 8, kernel_size=(3, 3), stride=(1, 1), padding=(1, 1))\n",
       "  (decoder4): Conv2d(8, 16, kernel_size=(3, 3), stride=(1, 1), padding=(1, 1))\n",
       "  (decoder5): Conv2d(16, 3, kernel_size=(3, 3), stride=(1, 1), padding=(1, 1))\n",
       ")"
      ]
     },
     "execution_count": 3,
     "metadata": {},
     "output_type": "execute_result"
    }
   ],
   "source": [
    "model = Autoencoder()\n",
    "model"
   ]
  },
  {
   "cell_type": "code",
   "execution_count": 4,
   "id": "731031bc",
   "metadata": {},
   "outputs": [
    {
     "name": "stdout",
     "output_type": "stream",
     "text": [
      "torch.Size([6, 3, 600, 600])\n"
     ]
    }
   ],
   "source": [
    "with torch.no_grad():\n",
    "    model.eval()\n",
    "    img = torch.rand(6,3,600,600)\n",
    "    print(model(img).shape)"
   ]
  },
  {
   "cell_type": "markdown",
   "id": "a0c927cf",
   "metadata": {},
   "source": [
    "# Dataset"
   ]
  },
  {
   "cell_type": "code",
   "execution_count": 5,
   "id": "380294e2",
   "metadata": {},
   "outputs": [],
   "source": [
    "import os\n",
    "import glob\n",
    "\n",
    "from torch.utils.data import DataLoader, Dataset\n",
    "from PIL import Image\n",
    "\n",
    "class myDataset(Dataset):\n",
    "    \n",
    "    def __init__(self, image_path, transform=None):\n",
    "        self.image_path = image_path\n",
    "        self.transform = transform\n",
    "        self.image_list = glob.glob(image_path + '/*')\n",
    "        \n",
    "    def __len__(self):\n",
    "        \n",
    "        return len(self.image_list)\n",
    "    \n",
    "    def __getitem__(self, idx):\n",
    "        file_name = self.image_list[idx]\n",
    "        \n",
    "        image = Image.open(file_name)\n",
    "        \n",
    "        if self.transform:\n",
    "            image = self.transform(image)\n",
    "            \n",
    "        return image, image  \n",
    "\n",
    "def collate_fn(batch):\n",
    "    return tuple(zip(*batch))"
   ]
  },
  {
   "cell_type": "code",
   "execution_count": 6,
   "id": "42ebb0b7",
   "metadata": {
    "scrolled": true
   },
   "outputs": [],
   "source": [
    "import torchvision.transforms as transforms\n",
    "\n",
    "transform = transforms.Compose([\n",
    "    transforms.Resize((600,600)),\n",
    "    transforms.Grayscale(3),\n",
    "    transforms.ToTensor()\n",
    "])\n",
    "\n",
    "train_path = r'C:\\Users\\gjust\\Documents\\Github\\data\\fruit\\apple'\n",
    "test_path = r'C:\\Users\\gjust\\Documents\\Github\\data\\fruit\\apple'\n",
    "\n",
    "trainset = myDataset(train_path, transform=transform)\n",
    "testset = myDataset(test_path, transform=transform)\n",
    "\n",
    "trainloader = DataLoader(trainset, batch_size=4)\n",
    "testloader = DataLoader(testset, batch_size=4)\n",
    "\n",
    "inputs, outputs = iter(trainloader).next()"
   ]
  },
  {
   "cell_type": "markdown",
   "id": "dff5fbe4",
   "metadata": {},
   "source": [
    "# GPU"
   ]
  },
  {
   "cell_type": "code",
   "execution_count": 7,
   "id": "43914c1d",
   "metadata": {},
   "outputs": [
    {
     "name": "stdout",
     "output_type": "stream",
     "text": [
      "cuda\n"
     ]
    }
   ],
   "source": [
    "device = 'cuda' if torch.cuda.is_available() else 'cpu'\n",
    "model.to(device)\n",
    "print(device)"
   ]
  },
  {
   "cell_type": "markdown",
   "id": "3539bb7c",
   "metadata": {},
   "source": [
    "# Optimizer"
   ]
  },
  {
   "cell_type": "code",
   "execution_count": 8,
   "id": "2d060d1c",
   "metadata": {},
   "outputs": [
    {
     "data": {
      "text/plain": [
       "MSELoss()"
      ]
     },
     "execution_count": 8,
     "metadata": {},
     "output_type": "execute_result"
    }
   ],
   "source": [
    "optimizer = optim.Adam(model.parameters(), lr=0.001)\n",
    "loss_func = nn.MSELoss()\n",
    "loss_func"
   ]
  },
  {
   "cell_type": "markdown",
   "id": "1fbf5980",
   "metadata": {},
   "source": [
    "# 학습"
   ]
  },
  {
   "cell_type": "code",
   "execution_count": 12,
   "id": "091e9b38",
   "metadata": {},
   "outputs": [
    {
     "name": "stdout",
     "output_type": "stream",
     "text": [
      "Train Epoch[1/5] / Loss : 0.005480456631630659\n",
      "Train Epoch[2/5] / Loss : 0.00514173461124301\n",
      "Train Epoch[3/5] / Loss : 0.005242711864411831\n",
      "Train Epoch[4/5] / Loss : 0.005308091174811125\n",
      "Train Epoch[5/5] / Loss : 0.004775404930114746\n",
      "Validation Epoch[5/5] / Loss : 0.004396789241582155\n"
     ]
    }
   ],
   "source": [
    "EPOCH = 5\n",
    "train_epoch_loss = []\n",
    "val_peoch_loss = []\n",
    "\n",
    "for e in range(EPOCH):\n",
    "    \n",
    "    # Train\n",
    "    model.train()\n",
    "    train_iter_loss = []\n",
    "    for i, (images, labels) in enumerate(trainloader):\n",
    "        images, labels = images.to(device), labels.to(device)\n",
    "        \n",
    "        optimizer.zero_grad()\n",
    "        outputs = model(images)\n",
    "        loss = loss_func(outputs, labels)\n",
    "        loss.backward()\n",
    "        optimizer.step()\n",
    "        \n",
    "        train_iter_loss.append(loss.item())\n",
    "        \n",
    "    train_epoch_loss.append(sum(train_iter_loss))\n",
    "    print(f'Train Epoch[{e+1}/{EPOCH}] / Loss : {loss}')\n",
    "    \n",
    "    # Validation\n",
    "    \n",
    "    if e+1 == 5:\n",
    "        model.eval()\n",
    "        val_iter_loss = []\n",
    "        for i, (images, labels) in enumerate(testloader):\n",
    "            images, labels = images.to(device), labels.to(device)\n",
    "\n",
    "            outputs = model(images)\n",
    "            loss = loss_func(outputs, labels)\n",
    "            val_iter_loss.append(loss.item())\n",
    "\n",
    "        val_peoch_loss.append(sum(val_iter_loss))\n",
    "        print(f'Validation Epoch[{e+1}/{EPOCH}] / Loss : {loss}')"
   ]
  }
 ],
 "metadata": {
  "kernelspec": {
   "display_name": "pytorch",
   "language": "python",
   "name": "pytorch"
  },
  "language_info": {
   "codemirror_mode": {
    "name": "ipython",
    "version": 3
   },
   "file_extension": ".py",
   "mimetype": "text/x-python",
   "name": "python",
   "nbconvert_exporter": "python",
   "pygments_lexer": "ipython3",
   "version": "3.8.8"
  },
  "varInspector": {
   "cols": {
    "lenName": 16,
    "lenType": 16,
    "lenVar": 40
   },
   "kernels_config": {
    "python": {
     "delete_cmd_postfix": "",
     "delete_cmd_prefix": "del ",
     "library": "var_list.py",
     "varRefreshCmd": "print(var_dic_list())"
    },
    "r": {
     "delete_cmd_postfix": ") ",
     "delete_cmd_prefix": "rm(",
     "library": "var_list.r",
     "varRefreshCmd": "cat(var_dic_list()) "
    }
   },
   "types_to_exclude": [
    "module",
    "function",
    "builtin_function_or_method",
    "instance",
    "_Feature"
   ],
   "window_display": false
  }
 },
 "nbformat": 4,
 "nbformat_minor": 5
}
