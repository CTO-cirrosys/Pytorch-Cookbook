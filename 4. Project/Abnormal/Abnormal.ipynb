{
 "cells": [
  {
   "cell_type": "code",
   "execution_count": 171,
   "id": "a42120c2",
   "metadata": {},
   "outputs": [],
   "source": [
    "import torch\n",
    "import torch.nn as nn\n",
    "import torch.nn.functional as F\n",
    "import torch.optim as optim\n",
    "import torchvision"
   ]
  },
  {
   "cell_type": "markdown",
   "id": "1f92af2c",
   "metadata": {},
   "source": [
    "# Model"
   ]
  },
  {
   "cell_type": "code",
   "execution_count": 172,
   "id": "d3c74794",
   "metadata": {},
   "outputs": [],
   "source": [
    "class Autoencoder(nn.Module):\n",
    "    \n",
    "    def __init__(self):\n",
    "        super(Autoencoder, self).__init__()\n",
    "        self.encoder1 = nn.Conv2d(3, 16, 3, padding=1)\n",
    "        self.encoder2 = nn.Conv2d(16, 8, 3, padding=1)\n",
    "        self.encoder3 = nn.Conv2d(8, 4, 3, padding=1)\n",
    "        self.encoder4 = nn.Conv2d(4, 4, 3, padding=1)\n",
    "        \n",
    "        self.pool = nn.MaxPool2d(2, ceil_mode=True)\n",
    "        self.up1 = nn.Upsample(75, mode='nearest')\n",
    "        self.up = nn.Upsample(scale_factor=2, mode='nearest')\n",
    "        \n",
    "        self.decoder1 = nn.Conv2d(4, 4, 3, padding=1)\n",
    "        self.decoder2 = nn.Conv2d(4, 4, 3, padding=1)\n",
    "        self.decoder3 = nn.Conv2d(4, 8, 3, padding=1)\n",
    "        self.decoder4 = nn.Conv2d(8, 16, 3, padding=1)\n",
    "        self.decoder5 = nn.Conv2d(16, 3, 3, padding=1)\n",
    "        \n",
    "    def forward(self, x):\n",
    "        x = F.relu(self.encoder1(x))\n",
    "        x = self.pool(x)\n",
    "        x = F.relu(self.encoder2(x))\n",
    "        x = self.pool(x)\n",
    "        x = F.relu(self.encoder3(x))\n",
    "        x = self.pool(x)\n",
    "        x = F.relu(self.encoder4(x))\n",
    "        encoder = self.pool(x)\n",
    "        \n",
    "        x = F.relu(self.decoder1(encoder))\n",
    "        x = self.up1(x)\n",
    "        x = F.relu(self.decoder2(x))\n",
    "        x = self.up(x)\n",
    "        x = F.relu(self.decoder3(x))\n",
    "        x = self.up(x)\n",
    "        x = F.relu(self.decoder4(x))\n",
    "        x = self.up(x)\n",
    "        decoder = F.relu(self.decoder5(x))\n",
    "        \n",
    "        return decoder"
   ]
  },
  {
   "cell_type": "code",
   "execution_count": 173,
   "id": "a23d446d",
   "metadata": {},
   "outputs": [
    {
     "data": {
      "text/plain": [
       "Autoencoder(\n",
       "  (encoder1): Conv2d(3, 16, kernel_size=(3, 3), stride=(1, 1), padding=(1, 1))\n",
       "  (encoder2): Conv2d(16, 8, kernel_size=(3, 3), stride=(1, 1), padding=(1, 1))\n",
       "  (encoder3): Conv2d(8, 4, kernel_size=(3, 3), stride=(1, 1), padding=(1, 1))\n",
       "  (encoder4): Conv2d(4, 4, kernel_size=(3, 3), stride=(1, 1), padding=(1, 1))\n",
       "  (pool): MaxPool2d(kernel_size=2, stride=2, padding=0, dilation=1, ceil_mode=True)\n",
       "  (up1): Upsample(size=75, mode=nearest)\n",
       "  (up): Upsample(scale_factor=2.0, mode=nearest)\n",
       "  (decoder1): Conv2d(4, 4, kernel_size=(3, 3), stride=(1, 1), padding=(1, 1))\n",
       "  (decoder2): Conv2d(4, 4, kernel_size=(3, 3), stride=(1, 1), padding=(1, 1))\n",
       "  (decoder3): Conv2d(4, 8, kernel_size=(3, 3), stride=(1, 1), padding=(1, 1))\n",
       "  (decoder4): Conv2d(8, 16, kernel_size=(3, 3), stride=(1, 1), padding=(1, 1))\n",
       "  (decoder5): Conv2d(16, 3, kernel_size=(3, 3), stride=(1, 1), padding=(1, 1))\n",
       ")"
      ]
     },
     "execution_count": 173,
     "metadata": {},
     "output_type": "execute_result"
    }
   ],
   "source": [
    "model = Autoencoder()\n",
    "model"
   ]
  },
  {
   "cell_type": "code",
   "execution_count": 174,
   "id": "c0c27bc6",
   "metadata": {},
   "outputs": [
    {
     "name": "stdout",
     "output_type": "stream",
     "text": [
      "torch.Size([6, 3, 600, 600])\n"
     ]
    }
   ],
   "source": [
    "with torch.no_grad():\n",
    "    model.eval()\n",
    "    img = torch.rand(6,3,600,600)\n",
    "    print(model(img).shape)"
   ]
  },
  {
   "cell_type": "markdown",
   "id": "e1c887f1",
   "metadata": {},
   "source": [
    "# Dataset"
   ]
  },
  {
   "cell_type": "code",
   "execution_count": 175,
   "id": "0136b2c5",
   "metadata": {},
   "outputs": [],
   "source": [
    "import os\n",
    "import glob\n",
    "\n",
    "from torch.utils.data import DataLoader, Dataset\n",
    "from PIL import Image\n",
    "\n",
    "class myDataset(Dataset):\n",
    "    \n",
    "    def __init__(self, image_path, transform=None):\n",
    "        self.image_path = image_path\n",
    "        self.transform = transform\n",
    "        self.image_list = glob.glob(image_path + '/*')\n",
    "        \n",
    "    def __len__(self):\n",
    "        \n",
    "        return len(self.image_list)\n",
    "    \n",
    "    def __getitem__(self, idx):\n",
    "        file_name = self.image_list[idx]\n",
    "        \n",
    "        image = Image.open(file_name)\n",
    "        \n",
    "        if self.transform:\n",
    "            image = self.transform(image)\n",
    "            \n",
    "        return image, image  \n",
    "\n",
    "def collate_fn(batch):\n",
    "    return tuple(zip(*batch))"
   ]
  },
  {
   "cell_type": "code",
   "execution_count": 176,
   "id": "a720b972",
   "metadata": {
    "scrolled": true
   },
   "outputs": [],
   "source": [
    "import torchvision.transforms as transforms\n",
    "\n",
    "transform = transforms.Compose([\n",
    "    transforms.Resize((600,600)),\n",
    "    transforms.Grayscale(3),\n",
    "    transforms.ToTensor()\n",
    "])\n",
    "\n",
    "train_path = r'C:\\Users\\gjust\\Documents\\Github\\data\\fruit\\apple'\n",
    "test_path = r'C:\\Users\\gjust\\Documents\\Github\\data\\fruit\\apple'\n",
    "\n",
    "trainset = myDataset(train_path, transform=transform)\n",
    "testset = myDataset(test_path, transform=transform)\n",
    "\n",
    "trainloader = DataLoader(trainset, batch_size=4)\n",
    "testloader = DataLoader(testset, batch_size=4)\n",
    "\n",
    "inputs, outputs = iter(trainloader).next()"
   ]
  },
  {
   "cell_type": "code",
   "execution_count": 3,
   "id": "1c2a1afb",
   "metadata": {},
   "outputs": [
    {
     "name": "stderr",
     "output_type": "stream",
     "text": [
      "usage: ipykernel_launcher.py [-h] [--train_path TRAIN_PATH] [--val_path VAL_PATH] [--epoch EPOCH] [--train_batch_size TRAIN_BATCH_SIZE] [--val_batch_size VAL_BATCH_SIZE] [--lr LR]\n",
      "ipykernel_launcher.py: error: unrecognized arguments: -f C:\\Users\\gjust\\AppData\\Roaming\\jupyter\\runtime\\kernel-c497b08d-1a8f-49a5-8891-f0dd3862425f.json\n"
     ]
    },
    {
     "ename": "SystemExit",
     "evalue": "2",
     "output_type": "error",
     "traceback": [
      "An exception has occurred, use %tb to see the full traceback.\n",
      "\u001b[1;31mSystemExit\u001b[0m\u001b[1;31m:\u001b[0m 2\n"
     ]
    },
    {
     "name": "stderr",
     "output_type": "stream",
     "text": [
      "C:\\Users\\gjust\\Documents\\Github\\Pytorch-Cookbook\\pytorch\\lib\\site-packages\\IPython\\core\\interactiveshell.py:3452: UserWarning: To exit: use 'exit', 'quit', or Ctrl-D.\n",
      "  warn(\"To exit: use 'exit', 'quit', or Ctrl-D.\", stacklevel=1)\n"
     ]
    }
   ],
   "source": [
    "import os\n",
    "import glob\n",
    "\n",
    "from dataset import myDataset\n",
    "from model import AutoEncoder\n",
    "\n",
    "import torch\n",
    "import torch.nn as nn\n",
    "import torch.optim as optim\n",
    "from torch.utils.data import DataLoader, Dataset\n",
    "import torchvision\n",
    "\n",
    "from PIL import Image\n",
    "import torchvision.transforms as transforms\n",
    "\n",
    "\n",
    "import argparse\n",
    "\n",
    "# Train\n",
    "def train(opt, model, dataloader, optimizer, loss_func, device):\n",
    "    model.train()\n",
    "    train_iter_loss = []\n",
    "    print('hello')\n",
    "    for i, (images, labels) in enumerate(dataloader):\n",
    "        images, labels = images.to(device), labels.to(device)\n",
    "        \n",
    "        optimizer.zero_grad()\n",
    "        outputs = model(images)\n",
    "        loss = loss_func(outputs, labels)\n",
    "        loss.backward()\n",
    "        optimizer.step()\n",
    "        \n",
    "        train_iter_loss.append(loss.item())\n",
    "        \n",
    "    return train_iter_loss\n",
    "\n",
    "# Test\n",
    "def test(opt, model, dataloader, loss_func, device):\n",
    "    model.eval()\n",
    "    val_iter_loss = []\n",
    "    \n",
    "    for i, (images, labels) in enumerate(dataloader):\n",
    "        images, labels = images.to(device), labels.to(device)\n",
    "\n",
    "        outputs = model(images)\n",
    "        loss = loss_func(outputs, labels)\n",
    "        val_iter_loss.append(loss.item())\n",
    "    \n",
    "    return val_iter_loss\n",
    "    \n",
    "# HyperParameters\n",
    "## LR, EPOCH, Batchsize, \n",
    "def parse_opt():\n",
    "    parser = argparse.ArgumentParser(description='Train AutoEncoder Network')\n",
    "    parser.add_argument('--train_path', help='training dataset', type=str)\n",
    "    parser.add_argument('--val_path', help='validation dataset', type=str)\n",
    "\n",
    "    parser.add_argument('--epoch', help='epoch', default=20, type=int)\n",
    "    parser.add_argument('--train_batch_size', help='train batch_size', default=16, type=int)\n",
    "    parser.add_argument('--val_batch_size', help='validation batch_size', default=8, type=int)\n",
    "    parser.add_argument('--lr', help='learning rate', default=0.001, type=float)\n",
    "    \n",
    "    opt = parser.parse_args()\n",
    "    \n",
    "    return opt\n",
    "\n",
    "def main(opt):\n",
    "    \n",
    "    device = 'cuda' if torch.cuda.is_available() else 'cpu'\n",
    "    \n",
    "    # Dataset\n",
    "    print('Dataset....')\n",
    "    transform = transforms.Compose([\n",
    "        transforms.Resize((600,600)),\n",
    "        transforms.Grayscale(3),\n",
    "        transforms.ToTensor()\n",
    "    ])\n",
    "    \n",
    "    train_set = myDataset(image_path=opt.train_path, transform=transform)\n",
    "    val_set = myDataset(image_path=opt.val_path, transform=transform)\n",
    "    \n",
    "    train_loader = DataLoader(train_set, batch_size=opt.train_batch_size)\n",
    "    val_loader = DataLoader(val_set, batch_size=opt.val_batch_size)\n",
    "    \n",
    "    # Model\n",
    "    print('Model....')\n",
    "    model = AutoEncoder()\n",
    "    model.to(device)\n",
    "    \n",
    "    # Optimizer\n",
    "    optimizer = optim.Adam(model.parameters(), lr=opt.lr)\n",
    "    loss_func = nn.MSELoss()\n",
    "        \n",
    "    # Train\n",
    "    print('Training....')\n",
    "    for e in range(opt.epoch):\n",
    "        print(device)\n",
    "        train_iter_loss = train(opt, model, train_loader, optimizer, loss_func, device)\n",
    "        print(f'Train Epoch[{e+1}/{opt.epoch}] / Loss : {sum(train_iter_loss)/len(train_loader)}')\n",
    "        \n",
    "        val_iter_loss = train(opt, model, val_loader, loss_func, device)\n",
    "        print(f'Validation Epoch[{e+1}/{opt.epoch}] / Loss : {sum(val_iter_loss)/len(val_loader)}')\n",
    "        \n",
    "if __name__ == '__main__':\n",
    "    opt = parse_opt()\n",
    "    main(opt)"
   ]
  },
  {
   "cell_type": "code",
   "execution_count": null,
   "id": "31b9c483",
   "metadata": {},
   "outputs": [],
   "source": []
  },
  {
   "cell_type": "markdown",
   "id": "ae2b6500",
   "metadata": {},
   "source": [
    "# GPU"
   ]
  },
  {
   "cell_type": "code",
   "execution_count": 177,
   "id": "e5f35a36",
   "metadata": {},
   "outputs": [
    {
     "name": "stdout",
     "output_type": "stream",
     "text": [
      "cuda\n"
     ]
    }
   ],
   "source": [
    "device = 'cuda' if torch.cuda.is_available() else 'cpu'\n",
    "model.to(device)\n",
    "print(device)"
   ]
  },
  {
   "cell_type": "markdown",
   "id": "3005ebf9",
   "metadata": {},
   "source": [
    "# Optimizer"
   ]
  },
  {
   "cell_type": "code",
   "execution_count": 178,
   "id": "4aa14bd7",
   "metadata": {},
   "outputs": [
    {
     "data": {
      "text/plain": [
       "MSELoss()"
      ]
     },
     "execution_count": 178,
     "metadata": {},
     "output_type": "execute_result"
    }
   ],
   "source": [
    "optimizer = optim.Adam(model.parameters(), lr=0.001)\n",
    "loss_func = nn.MSELoss()\n",
    "loss_func"
   ]
  },
  {
   "cell_type": "markdown",
   "id": "2668acf8",
   "metadata": {},
   "source": [
    "# 학습"
   ]
  },
  {
   "cell_type": "code",
   "execution_count": 180,
   "id": "29aebbe3",
   "metadata": {},
   "outputs": [
    {
     "ename": "NameError",
     "evalue": "name 'iter_loss' is not defined",
     "output_type": "error",
     "traceback": [
      "\u001b[1;31m---------------------------------------------------------------------------\u001b[0m",
      "\u001b[1;31mNameError\u001b[0m                                 Traceback (most recent call last)",
      "\u001b[1;32m~\\AppData\\Local\\Temp/ipykernel_21184/3617330217.py\u001b[0m in \u001b[0;36m<module>\u001b[1;34m\u001b[0m\n\u001b[0;32m     19\u001b[0m         \u001b[0mtrain_iter_loss\u001b[0m\u001b[1;33m.\u001b[0m\u001b[0mappend\u001b[0m\u001b[1;33m(\u001b[0m\u001b[0mloss\u001b[0m\u001b[1;33m.\u001b[0m\u001b[0mitem\u001b[0m\u001b[1;33m(\u001b[0m\u001b[1;33m)\u001b[0m\u001b[1;33m)\u001b[0m\u001b[1;33m\u001b[0m\u001b[1;33m\u001b[0m\u001b[0m\n\u001b[0;32m     20\u001b[0m \u001b[1;33m\u001b[0m\u001b[0m\n\u001b[1;32m---> 21\u001b[1;33m     \u001b[0mtrain_epoch_loss\u001b[0m\u001b[1;33m.\u001b[0m\u001b[0mappend\u001b[0m\u001b[1;33m(\u001b[0m\u001b[0msum\u001b[0m\u001b[1;33m(\u001b[0m\u001b[0miter_loss\u001b[0m\u001b[1;33m)\u001b[0m\u001b[1;33m.\u001b[0m\u001b[0mitem\u001b[0m\u001b[1;33m(\u001b[0m\u001b[1;33m)\u001b[0m\u001b[1;33m)\u001b[0m\u001b[1;33m\u001b[0m\u001b[1;33m\u001b[0m\u001b[0m\n\u001b[0m\u001b[0;32m     22\u001b[0m     \u001b[0mprint\u001b[0m\u001b[1;33m(\u001b[0m\u001b[1;34mf'Train Epoch[{e+1}/{EPOCH}] / Loss : {loss}'\u001b[0m\u001b[1;33m)\u001b[0m\u001b[1;33m\u001b[0m\u001b[1;33m\u001b[0m\u001b[0m\n\u001b[0;32m     23\u001b[0m \u001b[1;33m\u001b[0m\u001b[0m\n",
      "\u001b[1;31mNameError\u001b[0m: name 'iter_loss' is not defined"
     ]
    }
   ],
   "source": [
    "EPOCH = 10\n",
    "train_epoch_loss = []\n",
    "val_peoch_loss = []\n",
    "\n",
    "for e in range(EPOCH):\n",
    "    \n",
    "    # Train\n",
    "    model.train()\n",
    "    train_iter_loss = []\n",
    "    for i, (images, labels) in enumerate(trainloader):\n",
    "        images, labels = images.to(device), labels.to(device)\n",
    "        \n",
    "        optimizer.zero_grad()\n",
    "        outputs = model(images)\n",
    "        loss = loss_func(outputs, labels)\n",
    "        loss.backward()\n",
    "        optimizer.step()\n",
    "        \n",
    "        train_iter_loss.append(loss.item())\n",
    "        \n",
    "    train_epoch_loss.append(sum(iter_loss).item())\n",
    "    print(f'Train Epoch[{e+1}/{EPOCH}] / Loss : {loss}')\n",
    "    \n",
    "    # Validation\n",
    "    \n",
    "    if e+1 == 5:\n",
    "        model.eval()\n",
    "        val_iter_loss = []\n",
    "        for i, (images, labels) in enumerate(testloader):\n",
    "            images, labels = images.to(device), labels.to(device)\n",
    "\n",
    "            outputs = model(images)\n",
    "            loss = loss_func(outputs, labels)\n",
    "            val_iter_loss.append(loss.item())\n",
    "\n",
    "        val_peoch_loss.append(sum(val_iter_loss).item())\n",
    "        print(f'Validation Epoch[{e+1}/{EPOCH}] / Loss : {loss}')"
   ]
  }
 ],
 "metadata": {
  "kernelspec": {
   "display_name": "pytorch",
   "language": "python",
   "name": "pytorch"
  },
  "language_info": {
   "codemirror_mode": {
    "name": "ipython",
    "version": 3
   },
   "file_extension": ".py",
   "mimetype": "text/x-python",
   "name": "python",
   "nbconvert_exporter": "python",
   "pygments_lexer": "ipython3",
   "version": "3.8.8"
  },
  "varInspector": {
   "cols": {
    "lenName": 16,
    "lenType": 16,
    "lenVar": 40
   },
   "kernels_config": {
    "python": {
     "delete_cmd_postfix": "",
     "delete_cmd_prefix": "del ",
     "library": "var_list.py",
     "varRefreshCmd": "print(var_dic_list())"
    },
    "r": {
     "delete_cmd_postfix": ") ",
     "delete_cmd_prefix": "rm(",
     "library": "var_list.r",
     "varRefreshCmd": "cat(var_dic_list()) "
    }
   },
   "types_to_exclude": [
    "module",
    "function",
    "builtin_function_or_method",
    "instance",
    "_Feature"
   ],
   "window_display": false
  }
 },
 "nbformat": 4,
 "nbformat_minor": 5
}
