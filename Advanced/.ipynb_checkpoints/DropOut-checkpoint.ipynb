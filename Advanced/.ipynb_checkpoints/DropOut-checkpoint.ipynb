{
 "cells": [
  {
   "cell_type": "markdown",
   "metadata": {},
   "source": [
    "# Dropout"
   ]
  },
  {
   "cell_type": "code",
   "execution_count": 1,
   "metadata": {},
   "outputs": [
    {
     "data": {
      "text/plain": [
       "mymodel(\n",
       "  (fc1): Linear(in_features=5, out_features=4, bias=True)\n",
       "  (fc2): Linear(in_features=4, out_features=3, bias=True)\n",
       "  (fc3): Linear(in_features=3, out_features=2, bias=True)\n",
       "  (dropout): Dropout(p=0.5, inplace=False)\n",
       ")"
      ]
     },
     "execution_count": 1,
     "metadata": {},
     "output_type": "execute_result"
    }
   ],
   "source": [
    "import torch\n",
    "import torch.nn as nn\n",
    "\n",
    "class mymodel(nn.Module):\n",
    "    \n",
    "    def __init__(self):\n",
    "        super(mymodel, self).__init__()\n",
    "        self.fc1 = nn.Linear(5,4)\n",
    "        self.fc2 = nn.Linear(4,3)\n",
    "        self.fc3 = nn.Linear(3,2)\n",
    "        self.dropout = nn.Dropout(p=0.5)\n",
    "        \n",
    "    def forward(self, x):\n",
    "        print('input(==x) =====', x)\n",
    "        \n",
    "        x1 = self.fc1(x)      \n",
    "        print('x1 =====', x1)\n",
    "        \n",
    "        x2 = self.dropout(x1)    \n",
    "        print('drop ====', x2)\n",
    "        \n",
    "        x3 = self.fc2(x2)\n",
    "        print('x2 =====', x3)\n",
    "        \n",
    "        x4 = self.fc3(x3)\n",
    "        print('x3 =====', x4)\n",
    "        \n",
    "        return x\n",
    "    \n",
    "model = mymodel()\n",
    "model"
   ]
  },
  {
   "cell_type": "code",
   "execution_count": 2,
   "metadata": {},
   "outputs": [
    {
     "name": "stdout",
     "output_type": "stream",
     "text": [
      "tensor([1., 1., 1., 1., 1.])\n",
      "input(==x) ===== tensor([1., 1., 1., 1., 1.])\n",
      "x1 ===== tensor([ 0.6792,  0.0767, -0.1639, -0.4744], grad_fn=<AddBackward0>)\n",
      "drop ==== tensor([ 0.0000,  0.1535, -0.3277, -0.0000], grad_fn=<MulBackward0>)\n",
      "x2 ===== tensor([-0.2572,  0.0924,  0.3573], grad_fn=<AddBackward0>)\n",
      "x3 ===== tensor([0.0434, 0.4619], grad_fn=<AddBackward0>)\n"
     ]
    },
    {
     "data": {
      "text/plain": [
       "tensor([1., 1., 1., 1., 1.])"
      ]
     },
     "execution_count": 2,
     "metadata": {},
     "output_type": "execute_result"
    }
   ],
   "source": [
    "model.train()\n",
    "a = torch.ones((5))\n",
    "print(a)\n",
    "\n",
    "model(a)"
   ]
  },
  {
   "cell_type": "code",
   "execution_count": 3,
   "metadata": {},
   "outputs": [
    {
     "name": "stdout",
     "output_type": "stream",
     "text": [
      "input(==x) ===== tensor([1., 1., 1., 1., 1.])\n",
      "x1 ===== tensor([ 0.6792,  0.0767, -0.1639, -0.4744], grad_fn=<AddBackward0>)\n",
      "drop ==== tensor([ 0.6792,  0.0767, -0.1639, -0.4744], grad_fn=<AddBackward0>)\n",
      "x2 ===== tensor([-0.0987, -0.2586, -0.0511], grad_fn=<AddBackward0>)\n",
      "x3 ===== tensor([-0.1455,  0.1071], grad_fn=<AddBackward0>)\n"
     ]
    },
    {
     "data": {
      "text/plain": [
       "tensor([1., 1., 1., 1., 1.])"
      ]
     },
     "execution_count": 3,
     "metadata": {},
     "output_type": "execute_result"
    }
   ],
   "source": [
    "model.eval()\n",
    "\n",
    "model(a)"
   ]
  }
 ],
 "metadata": {
  "kernelspec": {
   "display_name": "Python 3",
   "language": "python",
   "name": "python3"
  },
  "language_info": {
   "codemirror_mode": {
    "name": "ipython",
    "version": 3
   },
   "file_extension": ".py",
   "mimetype": "text/x-python",
   "name": "python",
   "nbconvert_exporter": "python",
   "pygments_lexer": "ipython3",
   "version": "3.8.5"
  }
 },
 "nbformat": 4,
 "nbformat_minor": 4
}
