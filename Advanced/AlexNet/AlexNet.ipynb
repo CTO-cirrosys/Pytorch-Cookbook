{
 "cells": [
  {
   "cell_type": "markdown",
   "metadata": {},
   "source": [
    "# AlexNet\n",
    "\n",
    "[ImageNet Classification with Deep Convolutional\n",
    "Neural Networks](https://papers.nips.cc/paper/2012/file/c399862d3b9d6b76c8436e924a68c45b-Paper.pdf)"
   ]
  },
  {
   "cell_type": "markdown",
   "metadata": {},
   "source": [
    "## 요약\n",
    "- ILSVRC-2012 Dataset(120만개 train data, 5만개 val data, 15만개 test data)\n",
    "- Image는 256x256x3이지만 실제 input은 cropped 된 227x227x3(Augmentation)\n",
    "- Batch_size 128, momentum 0.9, lr=0.0005, 90 epochs\n",
    "- Weight init : zero-mean Gaussian distribution and std=0.01\n",
    "- Bias init : 2,4,5의 conv layer와 FC 는 1, 나머지는 0\n",
    "- 5 Conv Layer, 3 FC Layer, 3 Overlapping max pooling layer, ReLU, Cross-entropy, LRN(Local Response Normalization)\n",
    "- 2 GPU 사용했지만 우리는 불가하니 1개로만 한다.<br>\n",
    "(2개로 하면 각각이 다른 종류의 feature를 추출하기 때문에 성능이 더 좋아진다.)\n",
    "- Translation(그냥 x,y 좌표로 움직이는거) & Horizontal reflections<br>\n",
    "(256x256 -> 227x227)"
   ]
  },
  {
   "cell_type": "markdown",
   "metadata": {},
   "source": [
    "연구자들이 해보니까 LRN은 별로 쓸모가 없더라, 그래서 중요하게 다루지 않는다."
   ]
  },
  {
   "cell_type": "code",
   "execution_count": null,
   "metadata": {},
   "outputs": [],
   "source": []
  }
 ],
 "metadata": {
  "kernelspec": {
   "display_name": "Python 3",
   "language": "python",
   "name": "python3"
  },
  "language_info": {
   "codemirror_mode": {
    "name": "ipython",
    "version": 3
   },
   "file_extension": ".py",
   "mimetype": "text/x-python",
   "name": "python",
   "nbconvert_exporter": "python",
   "pygments_lexer": "ipython3",
   "version": "3.8.5"
  }
 },
 "nbformat": 4,
 "nbformat_minor": 4
}
