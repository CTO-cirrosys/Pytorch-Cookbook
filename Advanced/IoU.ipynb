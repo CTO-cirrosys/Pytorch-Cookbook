{
 "cells": [
  {
   "cell_type": "markdown",
   "id": "9dd8115d",
   "metadata": {},
   "source": [
    "# IoU(Intersection of Union)\n",
    "[블로그](https://gjustin40.github.io/pytorch/2021/07/11/Pytorch-IOU.html)"
   ]
  },
  {
   "cell_type": "code",
   "execution_count": 46,
   "id": "af1693f7",
   "metadata": {},
   "outputs": [],
   "source": [
    "import torch\n",
    "import numpy as np\n",
    "import matplotlib\n",
    "import matplotlib.pyplot as plt"
   ]
  },
  {
   "cell_type": "code",
   "execution_count": 185,
   "id": "02fee8ec",
   "metadata": {},
   "outputs": [],
   "source": [
    "def intersection_over_union(boxes_preds, boxes_labels, box_format='corners'):\n",
    "    # boxes_preds의 shape은 (N, 4), N은 예측한 객체의 개수\n",
    "    # boxes_labels의 shape은 (N, 4)\n",
    "\n",
    "    if box_format == 'corners': # YOLO dataset\n",
    "        preds_x1 = boxes_preds[..., 0:1]\n",
    "        preds_y1 = boxes_preds[:, 1:2]\n",
    "        preds_x2 = boxes_preds[:, 2:3]\n",
    "        preds_y2 = boxes_preds[:, 3:4]\n",
    "        labels_x1 = boxes_labels[:, 0:1]\n",
    "        labels_y1 = boxes_labels[:, 1:2]\n",
    "        labels_x2 = boxes_labels[:, 2:3]\n",
    "        labels_y2 = boxes_labels[:, 3:4]\n",
    "\n",
    "    elif box_format == 'midpoint': # VOC-PASCAL dataset\n",
    "        preds_x1 = bboxes_preds[:, 0:1] - bboxes_preds[:, 2:3] / 2\n",
    "        preds_y1 = bboxes_preds[:, 1:2] - bboxes_preds[:, 3:4] / 2\n",
    "        preds_x2 = bboxes_preds[:, 0:1] + bboxes_preds[:, 2:3] / 2\n",
    "        preds_y2 = bboxes_preds[:, 1:2] + bboxes_preds[:, 3:4] / 2\n",
    "        labels_x1 = bboxes_labels[:, 0:1] - bboxes_labels[:, 2:3] / 2\n",
    "        labels_y1 = bboxes_labels[:, 1:2] - bboxes_labels[:, 3:4] / 2\n",
    "        labels_x2 = bboxes_labels[:, 0:1] + bboxes_labels[:, 2:3] / 2\n",
    "        labels_y2 = bboxes_labels[:, 1:2] + bboxes_labels[:, 3:4] / 2\n",
    "        \n",
    "    else: # COCO dataset\n",
    "        preds_x1 = boxes_preds[:, 0:1]\n",
    "        preds_y1 = boxes_preds[:, 1:2]\n",
    "        preds_x2 = boxes_preds[:, 0:1] + boxes_preds[:, 2:3]\n",
    "        preds_y2 = boxes_preds[:, 1:2] + boxes_preds[:, 3:4]\n",
    "        labels_x1 = boxes_labels[:, 0:1]\n",
    "        labels_y1 = boxes_labels[:, 1:2]\n",
    "        labels_x2 = boxes_labels[:, 0:1] + boxes_labels[:, 2:3]\n",
    "        labels_y2 = boxes_labels[:, 1:2] + boxes_labels[:, 3:4]\n",
    "\n",
    "    # Intersection Area\n",
    "    x1 = torch.max(preds_x1, labels_x1)\n",
    "    y1 = torch.max(preds_y1, labels_y1)\n",
    "    x2 = torch.min(preds_x2, labels_x2)\n",
    "    y2 = torch.min(preds_y2, labels_y2)\n",
    "    \n",
    "    intersection = (x2 - x1).clamp(min=0) * (y2 - y1).clamp(min=0)\n",
    "\n",
    "    preds_area = abs((preds_x2 - preds_x1) * (preds_y2 - preds_y1))\n",
    "    labels_area = abs((labels_x2 - labels_x1) * (labels_y2 - labels_y1))\n",
    "    \n",
    "    print(f\"bbox1 Area : {preds_area.item()} \\nbbox2 Area : {labels_area.item()} \\nIntersection Area : {intersection.item()}\")\n",
    "    return (intersection / (preds_area + labels_area - intersection + 1e-6)).item()"
   ]
  },
  {
   "cell_type": "markdown",
   "id": "666cd8f9",
   "metadata": {},
   "source": [
    "# Example bbox"
   ]
  },
  {
   "cell_type": "code",
   "execution_count": 197,
   "id": "1117a858",
   "metadata": {
    "scrolled": true
   },
   "outputs": [
    {
     "data": {
      "image/png": "[encoded data removed]",
      "text/plain": [
       "<Figure size 432x288 with 1 Axes>"
      ]
     },
     "metadata": {
      "needs_background": "light"
     },
     "output_type": "display_data"
    }
   ],
   "source": [
    "figure, ax = plt.subplots(1)\n",
    "\n",
    "bbox1 = torch.Tensor([100, 50, 230, 200])\n",
    "bbox2 = torch.Tensor([50, 100, 150, 250])\n",
    "\n",
    "background = np.ones((300,300, 3), dtype=np.uint8) * 255\n",
    "rect1 = patches.Rectangle((bbox1[0], bbox1[1]), bbox1[2]-bbox1[0], bbox1[3]-bbox1[1], edgecolor='b', facecolor=\"none\")\n",
    "rect2 = patches.Rectangle((bbox2[0], bbox2[1]), bbox2[2]-bbox2[0], bbox2[3]-bbox2[1], edgecolor='r', facecolor=\"none\")\n",
    "ax.add_patch(rect1)\n",
    "ax.add_patch(rect2)\n",
    "\n",
    "ax.imshow(background); plt.show()"
   ]
  },
  {
   "cell_type": "code",
   "execution_count": 187,
   "id": "20f97358",
   "metadata": {},
   "outputs": [
    {
     "name": "stdout",
     "output_type": "stream",
     "text": [
      "bbox1 Area : 19500.0 \n",
      "bbox2 Area : 15000.0 \n",
      "Intersection Area : 5000.0\n"
     ]
    },
    {
     "data": {
      "text/plain": [
       "0.16949152946472168"
      ]
     },
     "execution_count": 187,
     "metadata": {},
     "output_type": "execute_result"
    }
   ],
   "source": [
    "bbox1 = torch.Tensor([[100, 50, 230, 200]])\n",
    "bbox2 = torch.Tensor([[50, 100, 150, 250]])\n",
    "\n",
    "intersection_over_union(bbox1, bbox2)"
   ]
  },
  {
   "cell_type": "code",
   "execution_count": 202,
   "id": "3eb2eee0",
   "metadata": {},
   "outputs": [
    {
     "data": {
      "image/png": "[encoded data removed]",
      "text/plain": [
       "<Figure size 432x288 with 1 Axes>"
      ]
     },
     "metadata": {
      "needs_background": "light"
     },
     "output_type": "display_data"
    },
    {
     "name": "stdout",
     "output_type": "stream",
     "text": [
      "bbox1 Area : 19500.0 \n",
      "bbox2 Area : 19600.0 \n",
      "Intersection Area : 15600.0\n"
     ]
    },
    {
     "data": {
      "text/plain": [
       "0.6638298034667969"
      ]
     },
     "execution_count": 202,
     "metadata": {},
     "output_type": "execute_result"
    }
   ],
   "source": [
    "figure, ax = plt.subplots(1)\n",
    "\n",
    "bbox1 = torch.Tensor([100, 50, 230, 200])\n",
    "bbox2 = torch.Tensor([80, 40, 220, 180])\n",
    "\n",
    "background = np.ones((300,300, 3), dtype=np.uint8) * 255\n",
    "rect1 = patches.Rectangle((bbox1[0], bbox1[1]), bbox1[2]-bbox1[0], bbox1[3]-bbox1[1], edgecolor='b', facecolor=\"none\")\n",
    "rect2 = patches.Rectangle((bbox2[0], bbox2[1]), bbox2[2]-bbox2[0], bbox2[3]-bbox2[1], edgecolor='r', facecolor=\"none\")\n",
    "ax.add_patch(rect1)\n",
    "ax.add_patch(rect2)\n",
    "\n",
    "ax.imshow(background); plt.show()\n",
    "\n",
    "bbox1 = torch.Tensor([[100, 50, 230, 200]])\n",
    "bbox2 = torch.Tensor([[80, 40, 220, 180]])\n",
    "intersection_over_union(bbox1, bbox2)"
   ]
  },
  {
   "cell_type": "markdown",
   "id": "c8ed7faf",
   "metadata": {},
   "source": [
    "# Slice할 때 : 대신 ...로 대체"
   ]
  },
  {
   "cell_type": "code",
   "execution_count": 203,
   "id": "e838a136",
   "metadata": {},
   "outputs": [],
   "source": [
    "def intersection_over_union(boxes_preds, boxes_labels, box_format='corners'):\n",
    "    # boxes_preds의 shape은 (N, 4), N은 예측한 객체의 개수\n",
    "    # boxes_labels의 shape은 (N, 4)\n",
    "\n",
    "    if box_format == 'corners': # YOLO dataset\n",
    "        preds_x1 = boxes_preds[..., 0:1]\n",
    "        preds_y1 = boxes_preds[..., 1:2]\n",
    "        preds_x2 = boxes_preds[..., 2:3]\n",
    "        preds_y2 = boxes_preds[..., 3:4]\n",
    "        labels_x1 = boxes_labels[..., 0:1]\n",
    "        labels_y1 = boxes_labels[..., 1:2]\n",
    "        labels_x2 = boxes_labels[..., 2:3]\n",
    "        labels_y2 = boxes_labels[..., 3:4]\n",
    "\n",
    "    elif box_format == 'midpoint': # VOC-PASCAL dataset\n",
    "        preds_x1 = bboxes_preds[..., 0:1] - bboxes_preds[..., 2:3] / 2\n",
    "        preds_y1 = bboxes_preds[..., 1:2] - bboxes_preds[..., 3:4] / 2\n",
    "        preds_x2 = bboxes_preds[..., 0:1] + bboxes_preds[..., 2:3] / 2\n",
    "        preds_y2 = bboxes_preds[..., 1:2] + bboxes_preds[..., 3:4] / 2\n",
    "        labels_x1 = bboxes_labels[..., 0:1] - bboxes_labels[..., 2:3] / 2\n",
    "        labels_y1 = bboxes_labels[..., 1:2] - bboxes_labels[..., 3:4] / 2\n",
    "        labels_x2 = bboxes_labels[..., 0:1] + bboxes_labels[..., 2:3] / 2\n",
    "        labels_y2 = bboxes_labels[..., 1:2] + bboxes_labels[..., 3:4] / 2\n",
    "        \n",
    "    else: # COCO dataset\n",
    "        preds_x1 = boxes_preds[..., 0:1]\n",
    "        preds_y1 = boxes_preds[..., 1:2]\n",
    "        preds_x2 = boxes_preds[..., 0:1] + boxes_preds[..., 2:3]\n",
    "        preds_y2 = boxes_preds[..., 1:2] + boxes_preds[..., 3:4]\n",
    "        labels_x1 = boxes_labels[..., 0:1]\n",
    "        labels_y1 = boxes_labels[..., 1:2]\n",
    "        labels_x2 = boxes_labels[..., 0:1] + boxes_labels[..., 2:3]\n",
    "        labels_y2 = boxes_labels[..., 1:2] + boxes_labels[..., 3:4]\n",
    "\n",
    "    # Intersection Area\n",
    "    x1 = torch.max(preds_x1, labels_x1)\n",
    "    y1 = torch.max(preds_y1, labels_y1)\n",
    "    x2 = torch.min(preds_x2, labels_x2)\n",
    "    y2 = torch.min(preds_y2, labels_y2)\n",
    "    \n",
    "    intersection = (x2 - x1).clamp(min=0) * (y2 - y1).clamp(min=0)\n",
    "\n",
    "    preds_area = abs((preds_x2 - preds_x1) * (preds_y2 - preds_y1))\n",
    "    labels_area = abs((labels_x2 - labels_x1) * (labels_y2 - labels_y1))\n",
    "    \n",
    "    print(f\"bbox1 Area : {preds_area.item()} \\nbbox2 Area : {labels_area.item()} \\nIntersection Area : {intersection.item()}\")\n",
    "    return (intersection / (preds_area + labels_area - intersection + 1e-6)).item()"
   ]
  },
  {
   "cell_type": "code",
   "execution_count": 204,
   "id": "cc1152fb",
   "metadata": {},
   "outputs": [
    {
     "data": {
      "image/png": "[encoded data removed]",
      "text/plain": [
       "<Figure size 432x288 with 1 Axes>"
      ]
     },
     "metadata": {
      "needs_background": "light"
     },
     "output_type": "display_data"
    },
    {
     "name": "stdout",
     "output_type": "stream",
     "text": [
      "bbox1 Area : 19500.0 \n",
      "bbox2 Area : 19600.0 \n",
      "Intersection Area : 15600.0\n"
     ]
    },
    {
     "data": {
      "text/plain": [
       "0.6638298034667969"
      ]
     },
     "execution_count": 204,
     "metadata": {},
     "output_type": "execute_result"
    }
   ],
   "source": [
    "figure, ax = plt.subplots(1)\n",
    "\n",
    "bbox1 = torch.Tensor([100, 50, 230, 200])\n",
    "bbox2 = torch.Tensor([80, 40, 220, 180])\n",
    "\n",
    "background = np.ones((300,300, 3), dtype=np.uint8) * 255\n",
    "rect1 = patches.Rectangle((bbox1[0], bbox1[1]), bbox1[2]-bbox1[0], bbox1[3]-bbox1[1], edgecolor='b', facecolor=\"none\")\n",
    "rect2 = patches.Rectangle((bbox2[0], bbox2[1]), bbox2[2]-bbox2[0], bbox2[3]-bbox2[1], edgecolor='r', facecolor=\"none\")\n",
    "ax.add_patch(rect1)\n",
    "ax.add_patch(rect2)\n",
    "\n",
    "ax.imshow(background); plt.show()\n",
    "\n",
    "intersection_over_union(bbox1, bbox2)"
   ]
  }
 ],
 "metadata": {
  "kernelspec": {
   "display_name": "Python 3",
   "language": "python",
   "name": "python3"
  },
  "language_info": {
   "codemirror_mode": {
    "name": "ipython",
    "version": 3
   },
   "file_extension": ".py",
   "mimetype": "text/x-python",
   "name": "python",
   "nbconvert_exporter": "python",
   "pygments_lexer": "ipython3",
   "version": "3.8.10"
  },
  "varInspector": {
   "cols": {
    "lenName": 16,
    "lenType": 16,
    "lenVar": 40
   },
   "kernels_config": {
    "python": {
     "delete_cmd_postfix": "",
     "delete_cmd_prefix": "del ",
     "library": "var_list.py",
     "varRefreshCmd": "print(var_dic_list())"
    },
    "r": {
     "delete_cmd_postfix": ") ",
     "delete_cmd_prefix": "rm(",
     "library": "var_list.r",
     "varRefreshCmd": "cat(var_dic_list()) "
    }
   },
   "types_to_exclude": [
    "module",
    "function",
    "builtin_function_or_method",
    "instance",
    "_Feature"
   ],
   "window_display": false
  }
 },
 "nbformat": 4,
 "nbformat_minor": 5
}
