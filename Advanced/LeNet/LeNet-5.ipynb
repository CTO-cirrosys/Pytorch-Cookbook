{
 "cells": [
  {
   "cell_type": "markdown",
   "metadata": {},
   "source": [
    "# LeNet5\n",
    "[Gradient-Based Learning Applied to Document Recognition](https://d1wqtxts1xzle7.cloudfront.net/61181394/Gradient_Based_Learning_Lecun20191110-2628-k1dtd1.pdf?1573449385=&response-content-disposition=inline%3B+filename%3DGradient_Based_Learning_Lecun.pdf&Expires=1609063666&Signature=cvOPVDwciyy28Kx718WuwMBl~s-PJDH6AXdTEzkW0K1npnWoTsYkXbAWFM4aj5ppegmBEyk5kFaDgjGUQwh2ax7EYPPuYF0-KTIQiaKagbpRa46eprf2OkUXLeVUPefRuYYPUk8qs-86E-VgJ2YTqnFI5VwKE5NdOd9MDmR-IGwftxsRoLg6GbYhsMMOyRfluBC9hTu2eQC8svtqC~8HvxHn1aUQO6URXAqc-6BAAYVrfH94wRSW6DvUmZYicFMtlBzp6mojBIXUHNLzjQgvboa-PxX76-5p3BeMnXzBh38YwF5qTb-W39XICSe4fH1wNSVAhzj~LH3zSxZ0azyfCw__&Key-Pair-Id=APKAJLOHF5GGSLRBV4ZA)\n",
    "- "
   ]
  },
  {
   "cell_type": "markdown",
   "metadata": {},
   "source": [
    "## 요약\n",
    "- Convoultional Layer 2개\n",
    "- Fully-connected Layer 3개\n",
    "- Average Pooling Layer 2개\n",
    "- Activation Function(활성화 함수) : Tanh\n",
    "- 출력값 Softmax 사용\n",
    "- 데이터 6만개(MNIST)\n",
    "- Cost Function(손실함수) : Cross-Entropy"
   ]
  },
  {
   "cell_type": "code",
   "execution_count": 226,
   "metadata": {},
   "outputs": [],
   "source": [
    "import torch\n",
    "import torch.nn as nn\n",
    "import torch.optim as optim\n",
    "from torch.utils.data import DataLoader, random_split\n",
    "from torchvision import transforms, datasets\n",
    "import torchvision.transforms as transforms\n",
    "import numpy as np\n",
    "import matplotlib.pyplot as plt"
   ]
  },
  {
   "cell_type": "markdown",
   "metadata": {},
   "source": [
    "### Datasets"
   ]
  },
  {
   "cell_type": "code",
   "execution_count": 227,
   "metadata": {},
   "outputs": [],
   "source": [
    "transform = transforms.Compose([transforms.Resize((32,32)),\n",
    "                                transforms.ToTensor(),\n",
    "                                transforms.Normalize(mean=[0.5], std=[0.5])])\n",
    "\n",
    "train_dataset = datasets.MNIST(root='../../data', train=True, download=True, transform=transform)\n",
    "test_dataset = datasets.MNIST(root='../../data', train=False, download=True, transform=transform)\n",
    "\n",
    "train_dataset, val_dataset = random_split(train_dataset, (55000, 5000))\n",
    "\n",
    "train_loader = DataLoader(train_dataset, batch_size=16, shuffle=True)\n",
    "val_loader = DataLoader(val_dataset, batch_size=16, shuffle=True)\n",
    "test_loader = DataLoader(test_dataset, batch_size=8, shuffle=False)"
   ]
  },
  {
   "cell_type": "markdown",
   "metadata": {},
   "source": [
    "### Visualization"
   ]
  },
  {
   "cell_type": "code",
   "execution_count": 228,
   "metadata": {},
   "outputs": [],
   "source": [
    "def show_image(x, y, y_pred=None):\n",
    "    \n",
    "    x = x[:9, 0, ...]\n",
    "    y = y[:9]\n",
    "    \n",
    "    fig, axes = plt.subplots(3, 3)\n",
    "    fig.subplots_adjust(hspace=0.3)\n",
    "    \n",
    "    for i, ax in enumerate(axes.flat):\n",
    "        \n",
    "        ax.imshow(x[i], cmap='gray')\n",
    "        \n",
    "        if y_pred is None:\n",
    "            xlabel = \"True: {}\".format(y[i])\n",
    "        else:\n",
    "            xlabel = \"True: {}, Pred: {}\".format(y[i], y_pred[i])\n",
    "            \n",
    "        ax.set_xlabel(xlabel)\n",
    "        \n",
    "        ax.set_xticks([])\n",
    "        ax.set_yticks([])\n",
    "        \n",
    "    plt.show()"
   ]
  },
  {
   "cell_type": "code",
   "execution_count": 229,
   "metadata": {},
   "outputs": [
    {
     "data": {
      "image/png": "[encoded data removed]",
      "text/plain": [
       "<Figure size 432x288 with 9 Axes>"
      ]
     },
     "metadata": {},
     "output_type": "display_data"
    }
   ],
   "source": [
    "images, labels = iter(train_loader).next()\n",
    "show_image(images, labels)"
   ]
  },
  {
   "cell_type": "markdown",
   "metadata": {},
   "source": [
    "### Model"
   ]
  },
  {
   "cell_type": "code",
   "execution_count": 230,
   "metadata": {},
   "outputs": [],
   "source": [
    "class Lenet5(nn.Module):\n",
    "    \n",
    "    def __init__(self):\n",
    "        super(Lenet5, self).__init__()\n",
    "        \n",
    "        self.conv1 = nn.Conv2d(1, 6, 5)\n",
    "        self.conv2 = nn.Conv2d(6, 16, 5)\n",
    "        \n",
    "        self.maxpool = nn.MaxPool2d(2, 2)\n",
    "        \n",
    "        self.fc1 = nn.Linear(5*5*16, 120)\n",
    "        self.fc2 = nn.Linear(120, 84)\n",
    "        self.fc3 = nn.Linear(84, 10)\n",
    "        \n",
    "    def forward(self, x):\n",
    "       \n",
    "        x = torch.tanh(self.conv1(x))\n",
    "        \n",
    "        x = self.maxpool(x)\n",
    "        \n",
    "        x = torch.tanh(self.conv2(x))\n",
    "        x = self.maxpool(x)\n",
    "        \n",
    "        x = x.view(-1, 16*5*5)\n",
    "        \n",
    "        x = torch.tanh(self.fc1(x))\n",
    "        x = torch.tanh(self.fc2(x))\n",
    "        x = torch.tanh(self.fc3(x))\n",
    "        \n",
    "        return x\n",
    "                "
   ]
  },
  {
   "cell_type": "code",
   "execution_count": 231,
   "metadata": {},
   "outputs": [
    {
     "data": {
      "text/plain": [
       "Lenet5(\n",
       "  (conv1): Conv2d(1, 6, kernel_size=(5, 5), stride=(1, 1))\n",
       "  (conv2): Conv2d(6, 16, kernel_size=(5, 5), stride=(1, 1))\n",
       "  (maxpool): MaxPool2d(kernel_size=2, stride=2, padding=0, dilation=1, ceil_mode=False)\n",
       "  (fc1): Linear(in_features=400, out_features=120, bias=True)\n",
       "  (fc2): Linear(in_features=120, out_features=84, bias=True)\n",
       "  (fc3): Linear(in_features=84, out_features=10, bias=True)\n",
       ")"
      ]
     },
     "execution_count": 231,
     "metadata": {},
     "output_type": "execute_result"
    }
   ],
   "source": [
    "model = Lenet5()\n",
    "model"
   ]
  },
  {
   "cell_type": "markdown",
   "metadata": {},
   "source": [
    "### Optimizer & Loss Function"
   ]
  },
  {
   "cell_type": "code",
   "execution_count": 232,
   "metadata": {},
   "outputs": [],
   "source": [
    "loss_func = nn.CrossEntropyLoss()\n",
    "optimizer = optim.SGD(model.parameters(), lr=0.001)"
   ]
  },
  {
   "cell_type": "markdown",
   "metadata": {},
   "source": [
    "### Cuda"
   ]
  },
  {
   "cell_type": "code",
   "execution_count": 233,
   "metadata": {},
   "outputs": [
    {
     "name": "stdout",
     "output_type": "stream",
     "text": [
      "cuda\n"
     ]
    }
   ],
   "source": [
    "if torch.cuda.is_available():\n",
    "    device = torch.device('cuda')\n",
    "else:\n",
    "    device = torch.device('cpu')\n",
    "print(device)"
   ]
  },
  {
   "cell_type": "markdown",
   "metadata": {},
   "source": [
    "### Training"
   ]
  },
  {
   "cell_type": "code",
   "execution_count": 234,
   "metadata": {},
   "outputs": [
    {
     "name": "stdout",
     "output_type": "stream",
     "text": [
      "[EPOCH 1/20] : train-loss = 0.1360 | train-acc = 0.4093 | val-loss = 0.1187 | val-acc = 0.6798\n",
      "[EPOCH 2/20] : train-loss = 0.1021 | train-acc = 0.7702 | val-loss = 0.0911 | val-acc = 0.8190\n",
      "[EPOCH 3/20] : train-loss = 0.0847 | train-acc = 0.8347 | val-loss = 0.0800 | val-acc = 0.8588\n",
      "[EPOCH 4/20] : train-loss = 0.0768 | train-acc = 0.8653 | val-loss = 0.0743 | val-acc = 0.8800\n",
      "[EPOCH 5/20] : train-loss = 0.0723 | train-acc = 0.8831 | val-loss = 0.0706 | val-acc = 0.8918\n",
      "[EPOCH 6/20] : train-loss = 0.0692 | train-acc = 0.8953 | val-loss = 0.0680 | val-acc = 0.9036\n",
      "[EPOCH 7/20] : train-loss = 0.0669 | train-acc = 0.9069 | val-loss = 0.0660 | val-acc = 0.9124\n",
      "[EPOCH 8/20] : train-loss = 0.0650 | train-acc = 0.9163 | val-loss = 0.0642 | val-acc = 0.9210\n",
      "[EPOCH 9/20] : train-loss = 0.0634 | train-acc = 0.9234 | val-loss = 0.0628 | val-acc = 0.9256\n",
      "[EPOCH 10/20] : train-loss = 0.0621 | train-acc = 0.9291 | val-loss = 0.0617 | val-acc = 0.9298\n",
      "[EPOCH 11/20] : train-loss = 0.0610 | train-acc = 0.9334 | val-loss = 0.0607 | val-acc = 0.9338\n",
      "[EPOCH 12/20] : train-loss = 0.0601 | train-acc = 0.9373 | val-loss = 0.0599 | val-acc = 0.9382\n",
      "[EPOCH 13/20] : train-loss = 0.0594 | train-acc = 0.9410 | val-loss = 0.0592 | val-acc = 0.9428\n",
      "[EPOCH 14/20] : train-loss = 0.0587 | train-acc = 0.9443 | val-loss = 0.0587 | val-acc = 0.9448\n",
      "[EPOCH 15/20] : train-loss = 0.0582 | train-acc = 0.9472 | val-loss = 0.0582 | val-acc = 0.9464\n",
      "[EPOCH 16/20] : train-loss = 0.0577 | train-acc = 0.9499 | val-loss = 0.0577 | val-acc = 0.9494\n",
      "[EPOCH 17/20] : train-loss = 0.0572 | train-acc = 0.9520 | val-loss = 0.0574 | val-acc = 0.9506\n",
      "[EPOCH 18/20] : train-loss = 0.0569 | train-acc = 0.9539 | val-loss = 0.0570 | val-acc = 0.9536\n",
      "[EPOCH 19/20] : train-loss = 0.0565 | train-acc = 0.9560 | val-loss = 0.0567 | val-acc = 0.9542\n",
      "[EPOCH 20/20] : train-loss = 0.0562 | train-acc = 0.9578 | val-loss = 0.0564 | val-acc = 0.9550\n"
     ]
    }
   ],
   "source": [
    "EPOCH = 20\n",
    "train_loss_list, val_loss_list = [], []\n",
    "\n",
    "for e in range(EPOCH):\n",
    "    \n",
    "    train_loss = 0\n",
    "    train_correct = 0\n",
    "    \n",
    "    model.to(device)\n",
    "    model.train()\n",
    "    \n",
    "    for i, data in enumerate(train_loader):\n",
    "        images, labels = data\n",
    "        images, labels = images.to(device), labels.to(device)\n",
    "        \n",
    "        optimizer.zero_grad()\n",
    "        \n",
    "        output = model(images)\n",
    "        \n",
    "        loss = loss_func(output, labels)\n",
    "        \n",
    "        loss.backward()\n",
    "        \n",
    "        optimizer.step()\n",
    "        \n",
    "        train_loss += loss.cpu().item()\n",
    "        \n",
    "        pred = output.argmax(1)\n",
    "        train_correct += (pred == labels).cpu().sum().item()\n",
    "        \n",
    "    train_acc = train_correct / len(train_dataset)\n",
    "    train_loss = train_loss / len(train_dataset)\n",
    "    train_loss_list.append(train_loss)\n",
    "    \n",
    "    val_loss = 0\n",
    "    val_correct = 0\n",
    "    \n",
    "    model.eval()\n",
    "    \n",
    "    with torch.no_grad():\n",
    "        for i, data in enumerate(val_loader):\n",
    "            images, labels = data\n",
    "            images, labels = images.to(device), labels.to(device)\n",
    "            \n",
    "            output = model(images)\n",
    "            \n",
    "            loss = loss_func(output, labels)\n",
    "            \n",
    "            val_loss += loss.cpu().item()\n",
    "            \n",
    "            val_pred = output.argmax(1)\n",
    "            val_correct += (val_pred == labels).cpu().sum().item()\n",
    "            \n",
    "        val_acc = val_correct / len(val_dataset)\n",
    "        val_loss = val_loss / len(val_dataset)\n",
    "        val_loss_list.append(val_loss)\n",
    "    \n",
    "    info = '[EPOCH {}/{}] : train-loss = {:0.4f} | train-acc = {:0.4f} | val-loss = {:0.4f} | val-acc = {:0.4f}'\n",
    "    print(info.format(e+1, EPOCH, train_loss, train_acc, val_loss, val_acc))\n",
    "    \n",
    "    torch.save(model.state_dict(), '../../data/weight')"
   ]
  },
  {
   "cell_type": "markdown",
   "metadata": {},
   "source": [
    "### Test"
   ]
  },
  {
   "cell_type": "code",
   "execution_count": 266,
   "metadata": {},
   "outputs": [
    {
     "name": "stdout",
     "output_type": "stream",
     "text": [
      "Accuracy of Test Data : 96.07%\n"
     ]
    },
    {
     "data": {
      "image/png": "[encoded data removed]",
      "text/plain": [
       "<Figure size 432x288 with 1 Axes>"
      ]
     },
     "metadata": {
      "needs_background": "light"
     },
     "output_type": "display_data"
    }
   ],
   "source": [
    "model.cpu()\n",
    "model.eval()\n",
    "\n",
    "test_correct = 0\n",
    "\n",
    "with torch.no_grad():\n",
    "    for data in test_loader:\n",
    "        images, labels = data\n",
    "\n",
    "        prediction = model(images)\n",
    "        \n",
    "        test_correct += (prediction.argmax(1) == labels).sum().item()\n",
    "        \n",
    "    \n",
    "    test_acc = test_correct / len(test_dataset)\n",
    "    print('Accuracy of Test Data : %0.2f%%' %(test_acc*100))\n",
    "\n",
    "plt.plot(train_loss_list)\n",
    "plt.plot(val_loss_list)\n",
    "\n",
    "plt.xlabel('Epoch')\n",
    "plt.ylabel('Loss')\n",
    "plt.legend(['Train-loss', 'Val-loss'])\n",
    "\n",
    "plt.show()"
   ]
  }
 ],
 "metadata": {
  "kernelspec": {
   "display_name": "Python 3",
   "language": "python",
   "name": "python3"
  },
  "language_info": {
   "codemirror_mode": {
    "name": "ipython",
    "version": 3
   },
   "file_extension": ".py",
   "mimetype": "text/x-python",
   "name": "python",
   "nbconvert_exporter": "python",
   "pygments_lexer": "ipython3",
   "version": "3.8.5"
  }
 },
 "nbformat": 4,
 "nbformat_minor": 4
}
