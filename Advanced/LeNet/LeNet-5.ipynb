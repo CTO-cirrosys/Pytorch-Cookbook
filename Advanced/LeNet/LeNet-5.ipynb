{
 "cells": [
  {
   "cell_type": "markdown",
   "metadata": {},
   "source": [
    "# LeNet5\n",
    "[블로그](https://gjustin40.github.io/classification/2020/12/30/Model-LeNet5.html)에서 이론 확인하기"
   ]
  },
  {
   "cell_type": "markdown",
   "metadata": {},
   "source": [
    "## 요약\n",
    "- MNSIT Dataset 이용\n",
    "- Convoultional Layer 2개\n",
    "- Fully-connected Layer 3개\n",
    "- Average Pooling Layer 2개\n",
    "- Activation Function(활성화 함수) : Tanh\n",
    "- 출력값 Softmax 사용\n",
    "- 데이터 6만개(MNIST)\n",
    "- Cost Function(손실함수) : Cross-Entropy"
   ]
  },
  {
   "cell_type": "code",
   "execution_count": 1,
   "metadata": {},
   "outputs": [],
   "source": [
    "import torch\n",
    "import torch.nn as nn\n",
    "import torch.optim as optim\n",
    "from torch.utils.data import DataLoader, random_split\n",
    "from torchvision import transforms, datasets\n",
    "import torchvision.transforms as transforms\n",
    "import numpy as np\n",
    "import matplotlib.pyplot as plt"
   ]
  },
  {
   "cell_type": "markdown",
   "metadata": {},
   "source": [
    "### Datasets"
   ]
  },
  {
   "cell_type": "code",
   "execution_count": 2,
   "metadata": {},
   "outputs": [],
   "source": [
    "transform = transforms.Compose([transforms.Resize((32,32)),\n",
    "                                transforms.ToTensor(),\n",
    "                                transforms.Normalize(mean=[0.5], std=[0.5])])\n",
    "\n",
    "train_dataset = datasets.MNIST(root='../../data', train=True, download=True, transform=transform)\n",
    "test_dataset = datasets.MNIST(root='../../data', train=False, download=True, transform=transform)\n",
    "\n",
    "train_dataset, val_dataset = random_split(train_dataset, (55000, 5000))\n",
    "\n",
    "train_loader = DataLoader(train_dataset, batch_size=16, shuffle=True)\n",
    "val_loader = DataLoader(val_dataset, batch_size=16, shuffle=True)\n",
    "test_loader = DataLoader(test_dataset, batch_size=8, shuffle=False)"
   ]
  },
  {
   "cell_type": "markdown",
   "metadata": {},
   "source": [
    "### Visualization"
   ]
  },
  {
   "cell_type": "code",
   "execution_count": 3,
   "metadata": {},
   "outputs": [],
   "source": [
    "def show_image(x, y, y_pred=None):\n",
    "    \n",
    "    x = x[:9, 0, ...]\n",
    "    y = y[:9]\n",
    "    \n",
    "    fig, axes = plt.subplots(3, 3)\n",
    "    fig.subplots_adjust(hspace=0.3)\n",
    "    \n",
    "    for i, ax in enumerate(axes.flat):\n",
    "        \n",
    "        ax.imshow(x[i], cmap='gray')\n",
    "        \n",
    "        if y_pred is None:\n",
    "            xlabel = \"True: {}\".format(y[i])\n",
    "        else:\n",
    "            xlabel = \"True: {}, Pred: {}\".format(y[i], y_pred[i])\n",
    "            \n",
    "        ax.set_xlabel(xlabel)\n",
    "        \n",
    "        ax.set_xticks([])\n",
    "        ax.set_yticks([])\n",
    "        \n",
    "    plt.show()"
   ]
  },
  {
   "cell_type": "code",
   "execution_count": 4,
   "metadata": {},
   "outputs": [
    {
     "data": {
      "image/png": "[encoded data removed]",
      "text/plain": [
       "<Figure size 432x288 with 9 Axes>"
      ]
     },
     "metadata": {},
     "output_type": "display_data"
    }
   ],
   "source": [
    "images, labels = iter(train_loader).next()\n",
    "show_image(images, labels)"
   ]
  },
  {
   "cell_type": "markdown",
   "metadata": {},
   "source": [
    "### Model\n",
    "\n",
    "![LeNet-5 Architecture](lenet5-arch.PNG)"
   ]
  },
  {
   "cell_type": "code",
   "execution_count": 5,
   "metadata": {},
   "outputs": [],
   "source": [
    "class Lenet5(nn.Module):\n",
    "    \n",
    "    def __init__(self):\n",
    "        super(Lenet5, self).__init__()\n",
    "        \n",
    "        self.conv1 = nn.Conv2d(1, 6, 5)\n",
    "        self.conv2 = nn.Conv2d(6, 16, 5)\n",
    "        \n",
    "        self.avgpool = nn.AvgPool2d(2,2)\n",
    "        \n",
    "        self.fc1 = nn.Linear(5*5*16, 120)\n",
    "        self.fc2 = nn.Linear(120, 84)\n",
    "        self.fc3 = nn.Linear(84, 10)\n",
    "        \n",
    "    def forward(self, x):\n",
    "       \n",
    "        x = torch.tanh(self.conv1(x))\n",
    "        x = self.avgpool(x)\n",
    "        \n",
    "        x = torch.tanh(self.conv2(x))\n",
    "        x = self.avgpool(x)\n",
    "        \n",
    "        x = x.view(-1, 16*5*5)\n",
    "        \n",
    "        x = torch.tanh(self.fc1(x))\n",
    "        x = torch.tanh(self.fc2(x))\n",
    "        x = torch.tanh(self.fc3(x))\n",
    "        \n",
    "        return x\n",
    "                "
   ]
  },
  {
   "cell_type": "code",
   "execution_count": 6,
   "metadata": {},
   "outputs": [
    {
     "data": {
      "text/plain": [
       "Lenet5(\n",
       "  (conv1): Conv2d(1, 6, kernel_size=(5, 5), stride=(1, 1))\n",
       "  (conv2): Conv2d(6, 16, kernel_size=(5, 5), stride=(1, 1))\n",
       "  (avgpool): AvgPool2d(kernel_size=2, stride=2, padding=0)\n",
       "  (fc1): Linear(in_features=400, out_features=120, bias=True)\n",
       "  (fc2): Linear(in_features=120, out_features=84, bias=True)\n",
       "  (fc3): Linear(in_features=84, out_features=10, bias=True)\n",
       ")"
      ]
     },
     "execution_count": 6,
     "metadata": {},
     "output_type": "execute_result"
    }
   ],
   "source": [
    "model = Lenet5()\n",
    "model"
   ]
  },
  {
   "cell_type": "markdown",
   "metadata": {},
   "source": [
    "### Optimizer & Loss Function"
   ]
  },
  {
   "cell_type": "code",
   "execution_count": 7,
   "metadata": {},
   "outputs": [],
   "source": [
    "loss_func = nn.CrossEntropyLoss()\n",
    "optimizer = optim.SGD(model.parameters(), lr=0.001)"
   ]
  },
  {
   "cell_type": "markdown",
   "metadata": {},
   "source": [
    "### Cuda"
   ]
  },
  {
   "cell_type": "code",
   "execution_count": 8,
   "metadata": {},
   "outputs": [
    {
     "name": "stdout",
     "output_type": "stream",
     "text": [
      "cuda\n"
     ]
    }
   ],
   "source": [
    "if torch.cuda.is_available():\n",
    "    device = torch.device('cuda')\n",
    "else:\n",
    "    device = torch.device('cpu')\n",
    "print(device)"
   ]
  },
  {
   "cell_type": "markdown",
   "metadata": {},
   "source": [
    "### Training"
   ]
  },
  {
   "cell_type": "code",
   "execution_count": 9,
   "metadata": {},
   "outputs": [
    {
     "name": "stdout",
     "output_type": "stream",
     "text": [
      "[EPOCH 1/20] : train-loss = 0.1371 | train-acc = 0.3397 | val-loss = 0.1230 | val-acc = 0.6344\n",
      "[EPOCH 2/20] : train-loss = 0.1057 | train-acc = 0.7445 | val-loss = 0.0940 | val-acc = 0.8016\n",
      "[EPOCH 3/20] : train-loss = 0.0882 | train-acc = 0.8119 | val-loss = 0.0827 | val-acc = 0.8358\n",
      "[EPOCH 4/20] : train-loss = 0.0801 | train-acc = 0.8370 | val-loss = 0.0766 | val-acc = 0.8538\n",
      "[EPOCH 5/20] : train-loss = 0.0754 | train-acc = 0.8490 | val-loss = 0.0730 | val-acc = 0.8664\n",
      "[EPOCH 6/20] : train-loss = 0.0724 | train-acc = 0.8593 | val-loss = 0.0705 | val-acc = 0.8710\n",
      "[EPOCH 7/20] : train-loss = 0.0703 | train-acc = 0.8665 | val-loss = 0.0686 | val-acc = 0.8790\n",
      "[EPOCH 8/20] : train-loss = 0.0686 | train-acc = 0.8752 | val-loss = 0.0671 | val-acc = 0.8868\n",
      "[EPOCH 9/20] : train-loss = 0.0673 | train-acc = 0.8850 | val-loss = 0.0659 | val-acc = 0.8922\n",
      "[EPOCH 10/20] : train-loss = 0.0661 | train-acc = 0.8947 | val-loss = 0.0649 | val-acc = 0.9050\n",
      "[EPOCH 11/20] : train-loss = 0.0650 | train-acc = 0.9033 | val-loss = 0.0639 | val-acc = 0.9112\n",
      "[EPOCH 12/20] : train-loss = 0.0640 | train-acc = 0.9093 | val-loss = 0.0630 | val-acc = 0.9176\n",
      "[EPOCH 13/20] : train-loss = 0.0631 | train-acc = 0.9141 | val-loss = 0.0622 | val-acc = 0.9208\n",
      "[EPOCH 14/20] : train-loss = 0.0623 | train-acc = 0.9177 | val-loss = 0.0615 | val-acc = 0.9238\n",
      "[EPOCH 15/20] : train-loss = 0.0616 | train-acc = 0.9207 | val-loss = 0.0610 | val-acc = 0.9272\n",
      "[EPOCH 16/20] : train-loss = 0.0610 | train-acc = 0.9245 | val-loss = 0.0604 | val-acc = 0.9292\n",
      "[EPOCH 17/20] : train-loss = 0.0605 | train-acc = 0.9271 | val-loss = 0.0600 | val-acc = 0.9312\n",
      "[EPOCH 18/20] : train-loss = 0.0600 | train-acc = 0.9295 | val-loss = 0.0596 | val-acc = 0.9334\n",
      "[EPOCH 19/20] : train-loss = 0.0596 | train-acc = 0.9320 | val-loss = 0.0592 | val-acc = 0.9350\n",
      "[EPOCH 20/20] : train-loss = 0.0592 | train-acc = 0.9343 | val-loss = 0.0589 | val-acc = 0.9358\n"
     ]
    }
   ],
   "source": [
    "EPOCH = 20\n",
    "train_loss_list, val_loss_list = [], []\n",
    "\n",
    "for e in range(EPOCH):\n",
    "    \n",
    "    train_loss = 0\n",
    "    train_correct = 0\n",
    "    \n",
    "    model.to(device)\n",
    "    model.train()\n",
    "    for i, data in enumerate(train_loader):\n",
    "        images, labels = data\n",
    "        images, labels = images.to(device), labels.to(device)\n",
    "        \n",
    "        optimizer.zero_grad()\n",
    "        \n",
    "        output = model(images)\n",
    "        loss = loss_func(output, labels)\n",
    "        loss.backward()\n",
    "        train_loss += loss.cpu().item()\n",
    "        \n",
    "        optimizer.step()\n",
    "        \n",
    "        pred = output.argmax(1)\n",
    "        train_correct += (pred == labels).cpu().sum().item()\n",
    "        \n",
    "    train_acc = train_correct / len(train_dataset)\n",
    "    train_loss = train_loss / len(train_dataset)\n",
    "    train_loss_list.append(train_loss)\n",
    "    \n",
    "    val_loss = 0\n",
    "    val_correct = 0\n",
    "    \n",
    "    model.to(device)\n",
    "    model.eval()\n",
    "    with torch.no_grad():\n",
    "        for i, data in enumerate(val_loader):\n",
    "            images, labels = data\n",
    "            images, labels = images.to(device), labels.to(device)\n",
    "            \n",
    "            output = model(images)\n",
    "            loss = loss_func(output, labels)\n",
    "            val_loss += loss.cpu().item()\n",
    "            \n",
    "            val_pred = output.argmax(1)\n",
    "            val_correct += (val_pred == labels).cpu().sum().item()\n",
    "            \n",
    "        val_acc = val_correct / len(val_dataset)\n",
    "        val_loss = val_loss / len(val_dataset)\n",
    "        val_loss_list.append(val_loss)\n",
    "    \n",
    "    info = '[EPOCH {}/{}] : train-loss = {:0.4f} | train-acc = {:0.4f} | val-loss = {:0.4f} | val-acc = {:0.4f}'\n",
    "    print(info.format(e+1, EPOCH, train_loss, train_acc, val_loss, val_acc))\n",
    "    \n",
    "    torch.save(model.state_dict(), '../../data/weight')"
   ]
  },
  {
   "cell_type": "markdown",
   "metadata": {},
   "source": [
    "### Test"
   ]
  },
  {
   "cell_type": "code",
   "execution_count": 10,
   "metadata": {},
   "outputs": [
    {
     "name": "stdout",
     "output_type": "stream",
     "text": [
      "Accuracy of Test Data : 93.84%\n"
     ]
    },
    {
     "data": {
      "image/png": "[encoded data removed]",
      "text/plain": [
       "<Figure size 432x288 with 1 Axes>"
      ]
     },
     "metadata": {
      "needs_background": "light"
     },
     "output_type": "display_data"
    }
   ],
   "source": [
    "model.cpu()\n",
    "model.eval()\n",
    "\n",
    "test_correct = 0\n",
    "\n",
    "with torch.no_grad():\n",
    "    for data in test_loader:\n",
    "        images, labels = data\n",
    "        \n",
    "        prediction = model(images)\n",
    "        test_correct += (prediction.argmax(1) == labels).sum().item()\n",
    "        \n",
    "    test_acc = test_correct / len(test_dataset)\n",
    "    print('Accuracy of Test Data : %0.2f%%' %(test_acc*100))\n",
    "\n",
    "plt.plot(train_loss_list)\n",
    "plt.plot(val_loss_list)\n",
    "\n",
    "plt.xlabel('Epoch')\n",
    "plt.ylabel('Loss')\n",
    "plt.legend(['Train-loss', 'Val-loss'])\n",
    "\n",
    "plt.show()"
   ]
  },
  {
   "cell_type": "code",
   "execution_count": null,
   "metadata": {},
   "outputs": [],
   "source": []
  }
 ],
 "metadata": {
  "kernelspec": {
   "display_name": "Python 3",
   "language": "python",
   "name": "python3"
  },
  "language_info": {
   "codemirror_mode": {
    "name": "ipython",
    "version": 3
   },
   "file_extension": ".py",
   "mimetype": "text/x-python",
   "name": "python",
   "nbconvert_exporter": "python",
   "pygments_lexer": "ipython3",
   "version": "3.8.10"
  },
  "varInspector": {
   "cols": {
    "lenName": 16,
    "lenType": 16,
    "lenVar": 40
   },
   "kernels_config": {
    "python": {
     "delete_cmd_postfix": "",
     "delete_cmd_prefix": "del ",
     "library": "var_list.py",
     "varRefreshCmd": "print(var_dic_list())"
    },
    "r": {
     "delete_cmd_postfix": ") ",
     "delete_cmd_prefix": "rm(",
     "library": "var_list.r",
     "varRefreshCmd": "cat(var_dic_list()) "
    }
   },
   "types_to_exclude": [
    "module",
    "function",
    "builtin_function_or_method",
    "instance",
    "_Feature"
   ],
   "window_display": false
  }
 },
 "nbformat": 4,
 "nbformat_minor": 4
}
