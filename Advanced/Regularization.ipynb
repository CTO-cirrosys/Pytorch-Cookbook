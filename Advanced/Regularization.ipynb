{
 "cells": [
  {
   "cell_type": "markdown",
   "metadata": {},
   "source": [
    "# Regularization"
   ]
  },
  {
   "cell_type": "markdown",
   "metadata": {},
   "source": [
    "### L1과 L2의 특징"
   ]
  },
  {
   "cell_type": "code",
   "execution_count": 2,
   "metadata": {},
   "outputs": [],
   "source": [
    "import matplotlib.pyplot as plt\n",
    "import numpy as np"
   ]
  },
  {
   "cell_type": "code",
   "execution_count": 51,
   "metadata": {},
   "outputs": [
    {
     "data": {
      "image/png": "[encoded data removed]",
      "text/plain": [
       "<Figure size 720x288 with 2 Axes>"
      ]
     },
     "metadata": {
      "needs_background": "light"
     },
     "output_type": "display_data"
    }
   ],
   "source": [
    "x = np.arange(-100,100)\n",
    "\n",
    "y1 = x**2\n",
    "y2 = 2*x\n",
    "\n",
    "plt.figure(figsize=(10,4))\n",
    "\n",
    "plt.subplot(1,2,1)\n",
    "plt.plot(x, y1)\n",
    "plt.yticks([])\n",
    "plt.xlabel(r'$\\theta$')\n",
    "plt.axvline(x=0, lw=0.3, c ='black')\n",
    "\n",
    "plt.subplot(1,2,2)\n",
    "plt.plot(x,y2)\n",
    "plt.yticks([])\n",
    "plt.xlabel(r'$\\theta$')\n",
    "plt.axvline(x=0, lw=0.3, c ='black')\n",
    "plt.axhline(y=0, lw=0.3, c ='black')\n",
    "\n",
    "plt.savefig('L2.png')"
   ]
  },
  {
   "cell_type": "code",
   "execution_count": 52,
   "metadata": {},
   "outputs": [
    {
     "data": {
      "image/png": "[encoded data removed]",
      "text/plain": [
       "<Figure size 720x288 with 2 Axes>"
      ]
     },
     "metadata": {
      "needs_background": "light"
     },
     "output_type": "display_data"
    }
   ],
   "source": [
    "x = np.arange(-100,100)\n",
    "\n",
    "y1 = abs(x)\n",
    "y2 = np.sign(x)\n",
    "\n",
    "plt.figure(figsize=(10,4))\n",
    "\n",
    "plt.subplot(1,2,1)\n",
    "plt.plot(x, y1)\n",
    "plt.yticks([])\n",
    "plt.xlabel(r'$\\theta$')\n",
    "plt.axvline(x=0, lw=0.3, c ='black')\n",
    "\n",
    "plt.subplot(1,2,2)\n",
    "plt.plot(x,y2)\n",
    "plt.yticks([])\n",
    "plt.xlabel(r'$\\theta$')\n",
    "plt.axvline(x=0, lw=0.3, c ='black')\n",
    "plt.axhline(y=0, lw=0.3, c ='black')\n",
    "\n",
    "plt.savefig('L1.png')"
   ]
  },
  {
   "cell_type": "markdown",
   "metadata": {},
   "source": [
    "### Regularization 사용하기"
   ]
  },
  {
   "cell_type": "markdown",
   "metadata": {},
   "source": [
    "### L2 Regularization"
   ]
  },
  {
   "cell_type": "code",
   "execution_count": 60,
   "metadata": {},
   "outputs": [
    {
     "data": {
      "text/plain": [
       "SGD (\n",
       "Parameter Group 0\n",
       "    dampening: 0\n",
       "    lr: 0.01\n",
       "    momentum: 0\n",
       "    nesterov: False\n",
       "    weight_decay: 0.001\n",
       ")"
      ]
     },
     "execution_count": 60,
     "metadata": {},
     "output_type": "execute_result"
    }
   ],
   "source": [
    "import torch\n",
    "import torch.nn as nn\n",
    "import torch.optim as optim\n",
    "\n",
    "class mymodel(nn.Module):\n",
    "    \n",
    "    def __init__(self):\n",
    "        super(mymodel, self).__init__()\n",
    "        self.fc1 = nn.Linear(10,10)\n",
    "        self.fc2 = nn.Linear(10,2)\n",
    "        \n",
    "    def forward(self, x):\n",
    "        \n",
    "        x = self.fc1(x)\n",
    "        x = self.fc2(x)\n",
    "        \n",
    "        return x\n",
    "\n",
    "model = mymodel()\n",
    "\n",
    "optimizer = optim.SGD(model.parameters(), lr=0.01, weight_decay=0.001)\n",
    "optimizer"
   ]
  },
  {
   "cell_type": "markdown",
   "metadata": {},
   "source": [
    "### L1 Regularization\n",
    "- Pytorch에서 제공하지 않기 때문에 따로 구현을 해야한다.\n",
    "- L1 Loss를 따로 구현한 후에 학습 과정에서 Loss를 합쳐주면 된다."
   ]
  },
  {
   "cell_type": "code",
   "execution_count": 66,
   "metadata": {},
   "outputs": [
    {
     "name": "stdout",
     "output_type": "stream",
     "text": [
      "tensor(20.5460, grad_fn=<AddBackward0>)\n"
     ]
    }
   ],
   "source": [
    "L1_loss = 0\n",
    "for param in model.parameters():\n",
    "    L1_loss = L1_loss + torch.sum(abs(param))\n",
    "    \n",
    "print(L1_loss)"
   ]
  },
  {
   "cell_type": "code",
   "execution_count": 68,
   "metadata": {},
   "outputs": [
    {
     "data": {
      "text/plain": [
       "MSELoss()"
      ]
     },
     "execution_count": 68,
     "metadata": {},
     "output_type": "execute_result"
    }
   ],
   "source": [
    "import torch\n",
    "import torch.nn as nn\n",
    "import torch.optim as optim\n",
    "\n",
    "model = mymodel()\n",
    "\n",
    "optimizer = optim.SGD(model.parameters(), lr=0.001)\n",
    "loss_func = nn.MSELoss()\n",
    "\n",
    "\n",
    "EPOCH = 10\n",
    "\n",
    "for e in range(1, EPOCH+1):\n",
    "    model.train()\n",
    "    running_loss = 0\n",
    "    \n",
    "    for i, data in enumerate(trainloader):\n",
    "        images, labels = data\n",
    "        \n",
    "        optimizer.zero_grad()\n",
    "        outputs = model(images)\n",
    "        \n",
    "        MSE_Loss = loss_func(outputs, labels) # MSE loss\n",
    "        \n",
    "        L1_Loss = 0\n",
    "        for param in model.parameters():\n",
    "            L1_loss += torch.sum(abs(param))\n",
    "            \n",
    "        Loss = MSE_Loss + a * L1_Loss \n",
    "        \n",
    "        Loss.backward()\n",
    "        optimizer.step()\n",
    "        \n",
    "        running_loss += Loss\n",
    "        now = time.time()\n",
    "        print('\\r[%d/%d]-----[%d/%d] LOSS : %.3f' %(e, EPOCH, i, 60000/128), end = '')\n",
    "        \n",
    "    print('\\n')"
   ]
  },
  {
   "cell_type": "code",
   "execution_count": null,
   "metadata": {},
   "outputs": [],
   "source": []
  },
  {
   "cell_type": "code",
   "execution_count": null,
   "metadata": {},
   "outputs": [],
   "source": []
  },
  {
   "cell_type": "code",
   "execution_count": null,
   "metadata": {},
   "outputs": [],
   "source": []
  },
  {
   "cell_type": "code",
   "execution_count": null,
   "metadata": {},
   "outputs": [],
   "source": []
  },
  {
   "cell_type": "code",
   "execution_count": null,
   "metadata": {},
   "outputs": [],
   "source": []
  },
  {
   "cell_type": "code",
   "execution_count": null,
   "metadata": {},
   "outputs": [],
   "source": []
  },
  {
   "cell_type": "code",
   "execution_count": null,
   "metadata": {},
   "outputs": [],
   "source": []
  },
  {
   "cell_type": "code",
   "execution_count": null,
   "metadata": {},
   "outputs": [],
   "source": []
  },
  {
   "cell_type": "code",
   "execution_count": null,
   "metadata": {},
   "outputs": [],
   "source": []
  },
  {
   "cell_type": "code",
   "execution_count": null,
   "metadata": {},
   "outputs": [],
   "source": []
  },
  {
   "cell_type": "code",
   "execution_count": null,
   "metadata": {},
   "outputs": [],
   "source": []
  },
  {
   "cell_type": "code",
   "execution_count": null,
   "metadata": {},
   "outputs": [],
   "source": []
  },
  {
   "cell_type": "code",
   "execution_count": null,
   "metadata": {},
   "outputs": [],
   "source": []
  },
  {
   "cell_type": "code",
   "execution_count": null,
   "metadata": {},
   "outputs": [],
   "source": []
  },
  {
   "cell_type": "code",
   "execution_count": null,
   "metadata": {},
   "outputs": [],
   "source": []
  }
 ],
 "metadata": {
  "kernelspec": {
   "display_name": "Python 3",
   "language": "python",
   "name": "python3"
  },
  "language_info": {
   "codemirror_mode": {
    "name": "ipython",
    "version": 3
   },
   "file_extension": ".py",
   "mimetype": "text/x-python",
   "name": "python",
   "nbconvert_exporter": "python",
   "pygments_lexer": "ipython3",
   "version": "3.8.5"
  }
 },
 "nbformat": 4,
 "nbformat_minor": 4
}
