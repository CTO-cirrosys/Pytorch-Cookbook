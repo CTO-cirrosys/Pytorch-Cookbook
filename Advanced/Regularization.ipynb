{
 "cells": [
  {
   "cell_type": "markdown",
   "metadata": {},
   "source": [
    "# Regularization"
   ]
  },
  {
   "cell_type": "markdown",
   "metadata": {},
   "source": [
    "### L1과 L2의 특징"
   ]
  },
  {
   "cell_type": "code",
   "execution_count": 1,
   "metadata": {},
   "outputs": [],
   "source": [
    "import matplotlib.pyplot as plt\n",
    "import numpy as np"
   ]
  },
  {
   "cell_type": "code",
   "execution_count": 2,
   "metadata": {},
   "outputs": [
    {
     "data": {
      "image/png": "[encoded data removed]",
      "text/plain": [
       "<Figure size 720x288 with 2 Axes>"
      ]
     },
     "metadata": {
      "needs_background": "light"
     },
     "output_type": "display_data"
    }
   ],
   "source": [
    "x = np.arange(-100,100)\n",
    "\n",
    "y1 = x**2\n",
    "y2 = 2*x\n",
    "\n",
    "plt.figure(figsize=(10,4))\n",
    "\n",
    "plt.subplot(1,2,1)\n",
    "plt.plot(x, y1)\n",
    "plt.yticks([])\n",
    "plt.xlabel(r'$\\theta$')\n",
    "plt.axvline(x=0, lw=0.3, c ='black')\n",
    "\n",
    "plt.subplot(1,2,2)\n",
    "plt.plot(x,y2)\n",
    "plt.yticks([])\n",
    "plt.xlabel(r'$\\theta$')\n",
    "plt.axvline(x=0, lw=0.3, c ='black')\n",
    "plt.axhline(y=0, lw=0.3, c ='black')\n",
    "\n",
    "plt.savefig('L2.png')"
   ]
  },
  {
   "cell_type": "code",
   "execution_count": 3,
   "metadata": {},
   "outputs": [
    {
     "data": {
      "image/png": "[encoded data removed]",
      "text/plain": [
       "<Figure size 720x288 with 2 Axes>"
      ]
     },
     "metadata": {
      "needs_background": "light"
     },
     "output_type": "display_data"
    }
   ],
   "source": [
    "x = np.arange(-100,100)\n",
    "\n",
    "y1 = abs(x)\n",
    "y2 = np.sign(x)\n",
    "\n",
    "plt.figure(figsize=(10,4))\n",
    "\n",
    "plt.subplot(1,2,1)\n",
    "plt.plot(x, y1)\n",
    "plt.yticks([])\n",
    "plt.xlabel(r'$\\theta$')\n",
    "plt.axvline(x=0, lw=0.3, c ='black')\n",
    "\n",
    "plt.subplot(1,2,2)\n",
    "plt.plot(x,y2)\n",
    "plt.yticks([])\n",
    "plt.xlabel(r'$\\theta$')\n",
    "plt.axvline(x=0, lw=0.3, c ='black')\n",
    "plt.axhline(y=0, lw=0.3, c ='black')\n",
    "\n",
    "plt.savefig('L1.png')"
   ]
  },
  {
   "cell_type": "markdown",
   "metadata": {},
   "source": [
    "### Regularization 사용하기"
   ]
  },
  {
   "cell_type": "markdown",
   "metadata": {},
   "source": [
    "### L2 Regularization"
   ]
  },
  {
   "cell_type": "code",
   "execution_count": 4,
   "metadata": {},
   "outputs": [
    {
     "data": {
      "text/plain": [
       "SGD (\n",
       "Parameter Group 0\n",
       "    dampening: 0\n",
       "    lr: 0.01\n",
       "    momentum: 0\n",
       "    nesterov: False\n",
       "    weight_decay: 0.001\n",
       ")"
      ]
     },
     "execution_count": 4,
     "metadata": {},
     "output_type": "execute_result"
    }
   ],
   "source": [
    "import torch\n",
    "import torch.nn as nn\n",
    "import torch.optim as optim\n",
    "\n",
    "class mymodel(nn.Module):\n",
    "    \n",
    "    def __init__(self):\n",
    "        super(mymodel, self).__init__()\n",
    "        self.fc1 = nn.Linear(10,10)\n",
    "        self.fc2 = nn.Linear(10,2)\n",
    "        \n",
    "    def forward(self, x):\n",
    "        \n",
    "        x = self.fc1(x)\n",
    "        x = self.fc2(x)\n",
    "        \n",
    "        return x\n",
    "\n",
    "model = mymodel()\n",
    "\n",
    "optimizer = optim.SGD(model.parameters(), lr=0.01, weight_decay=0.001)\n",
    "optimizer"
   ]
  },
  {
   "cell_type": "markdown",
   "metadata": {},
   "source": [
    "### L1 Regularization\n",
    "- Pytorch에서 제공하지 않기 때문에 따로 구현을 해야한다.\n",
    "- L1 Loss를 따로 구현한 후에 학습 과정에서 Loss를 합쳐주면 된다."
   ]
  },
  {
   "cell_type": "code",
   "execution_count": 5,
   "metadata": {},
   "outputs": [
    {
     "name": "stdout",
     "output_type": "stream",
     "text": [
      "tensor(22.1328, grad_fn=<AddBackward0>)\n"
     ]
    }
   ],
   "source": [
    "L1_loss = 0\n",
    "for param in model.parameters():\n",
    "    L1_loss = L1_loss + torch.sum(abs(param))\n",
    "    \n",
    "print(L1_loss)"
   ]
  },
  {
   "cell_type": "code",
   "execution_count": null,
   "metadata": {},
   "outputs": [],
   "source": [
    "import torch\n",
    "import torch.nn as nn\n",
    "import torch.optim as optim\n",
    "\n",
    "model = mymodel()\n",
    "\n",
    "optimizer = optim.SGD(model.parameters(), lr=0.001)\n",
    "loss_func = nn.MSELoss()\n",
    "\n",
    "\n",
    "EPOCH = 10\n",
    "\n",
    "for e in range(1, EPOCH+1):\n",
    "    model.train()\n",
    "    running_loss = 0\n",
    "    \n",
    "    for i, data in enumerate(trainloader):\n",
    "        images, labels = data\n",
    "        \n",
    "        optimizer.zero_grad()\n",
    "        outputs = model(images)\n",
    "        \n",
    "        MSE_Loss = loss_func(outputs, labels) # MSE loss\n",
    "        \n",
    "        L1_Loss = 0\n",
    "        for param in model.parameters():\n",
    "            L1_loss += torch.sum(abs(param))\n",
    "            \n",
    "        Loss = MSE_Loss + a * L1_Loss \n",
    "        \n",
    "        Loss.backward()\n",
    "        optimizer.step()\n",
    "        \n",
    "        running_loss += Loss\n",
    "        now = time.time()\n",
    "        print('\\r[%d/%d]-----[%d/%d] LOSS : %.3f' %(e, EPOCH, i, 60000/128), end = '')\n",
    "        \n",
    "    print('\\n')"
   ]
  },
  {
   "cell_type": "markdown",
   "metadata": {},
   "source": [
    "### 실험\n",
    "- LeNet-5의 [코드](https://github.com/gjustin40/Pytorch-Cookbook/tree/master/Advanced/LeNet)를 참고했다.\n",
    "- train 메소드를 구현해서 L1과 L2를 선택할 수 있도록 구현했다."
   ]
  },
  {
   "cell_type": "code",
   "execution_count": 6,
   "metadata": {},
   "outputs": [],
   "source": [
    "import torch\n",
    "import torch.nn as nn\n",
    "import torch.optim as optim\n",
    "from torch.utils.data import DataLoader, random_split\n",
    "from torchvision import transforms, datasets\n",
    "import torchvision.transforms as transforms\n",
    "import numpy as np\n",
    "import matplotlib.pyplot as plt\n",
    "\n",
    "transform = transforms.Compose([transforms.Resize((32,32)),\n",
    "                                transforms.ToTensor(),\n",
    "                                transforms.Normalize(mean=[0.5], std=[0.5])])\n",
    "\n",
    "train_dataset = datasets.MNIST(root='../../data', train=True, download=True, transform=transform)\n",
    "test_dataset = datasets.MNIST(root='../../data', train=False, download=True, transform=transform)\n",
    "\n",
    "train_dataset, val_dataset = random_split(train_dataset, (55000, 5000))\n",
    "\n",
    "train_loader = DataLoader(train_dataset, batch_size=16, shuffle=True)\n",
    "val_loader = DataLoader(val_dataset, batch_size=16, shuffle=True)\n",
    "test_loader = DataLoader(test_dataset, batch_size=8, shuffle=False)"
   ]
  },
  {
   "cell_type": "code",
   "execution_count": 7,
   "metadata": {},
   "outputs": [],
   "source": [
    "def show_image(x, y, y_pred=None):\n",
    "    \n",
    "    x = x[:9, 0, ...]\n",
    "    y = y[:9]\n",
    "    \n",
    "    fig, axes = plt.subplots(3, 3)\n",
    "    fig.subplots_adjust(hspace=0.3)\n",
    "    \n",
    "    for i, ax in enumerate(axes.flat):\n",
    "        \n",
    "        ax.imshow(x[i], cmap='gray')\n",
    "        \n",
    "        if y_pred is None:\n",
    "            xlabel = \"True: {}\".format(y[i])\n",
    "        else:\n",
    "            xlabel = \"True: {}, Pred: {}\".format(y[i], y_pred[i])\n",
    "            \n",
    "        ax.set_xlabel(xlabel)\n",
    "        \n",
    "        ax.set_xticks([])\n",
    "        ax.set_yticks([])\n",
    "        \n",
    "    plt.show()"
   ]
  },
  {
   "cell_type": "code",
   "execution_count": 8,
   "metadata": {},
   "outputs": [
    {
     "data": {
      "image/png": "[encoded data removed]",
      "text/plain": [
       "<Figure size 432x288 with 9 Axes>"
      ]
     },
     "metadata": {},
     "output_type": "display_data"
    }
   ],
   "source": [
    "images, labels = iter(train_loader).next()\n",
    "show_image(images, labels)"
   ]
  },
  {
   "cell_type": "code",
   "execution_count": 9,
   "metadata": {},
   "outputs": [],
   "source": [
    "class Lenet5(nn.Module):\n",
    "    \n",
    "    def __init__(self):\n",
    "        super(Lenet5, self).__init__()\n",
    "        \n",
    "        self.conv1 = nn.Conv2d(1, 6, 5)\n",
    "        self.conv2 = nn.Conv2d(6, 16, 5)\n",
    "        \n",
    "        self.avgpool = nn.AvgPool2d(2,2)\n",
    "        \n",
    "        self.fc1 = nn.Linear(5*5*16, 120)\n",
    "        self.fc2 = nn.Linear(120, 84)\n",
    "        self.fc3 = nn.Linear(84, 10)\n",
    "        \n",
    "    def forward(self, x):\n",
    "       \n",
    "        x = torch.tanh(self.conv1(x))\n",
    "        x = self.avgpool(x)\n",
    "        \n",
    "        x = torch.tanh(self.conv2(x))\n",
    "        x = self.avgpool(x)\n",
    "        \n",
    "        x = x.view(-1, 16*5*5)\n",
    "        \n",
    "        x = torch.tanh(self.fc1(x))\n",
    "        x = torch.tanh(self.fc2(x))\n",
    "        x = torch.tanh(self.fc3(x))\n",
    "        \n",
    "        return x\n",
    "                "
   ]
  },
  {
   "cell_type": "code",
   "execution_count": 10,
   "metadata": {},
   "outputs": [
    {
     "data": {
      "text/plain": [
       "Lenet5(\n",
       "  (conv1): Conv2d(1, 6, kernel_size=(5, 5), stride=(1, 1))\n",
       "  (conv2): Conv2d(6, 16, kernel_size=(5, 5), stride=(1, 1))\n",
       "  (avgpool): AvgPool2d(kernel_size=2, stride=2, padding=0)\n",
       "  (fc1): Linear(in_features=400, out_features=120, bias=True)\n",
       "  (fc2): Linear(in_features=120, out_features=84, bias=True)\n",
       "  (fc3): Linear(in_features=84, out_features=10, bias=True)\n",
       ")"
      ]
     },
     "execution_count": 10,
     "metadata": {},
     "output_type": "execute_result"
    }
   ],
   "source": [
    "model = Lenet5()\n",
    "model"
   ]
  },
  {
   "cell_type": "code",
   "execution_count": 11,
   "metadata": {},
   "outputs": [],
   "source": [
    "loss_func = nn.CrossEntropyLoss()"
   ]
  },
  {
   "cell_type": "code",
   "execution_count": 12,
   "metadata": {},
   "outputs": [
    {
     "name": "stdout",
     "output_type": "stream",
     "text": [
      "cuda\n"
     ]
    }
   ],
   "source": [
    "if torch.cuda.is_available():\n",
    "    device = torch.device('cuda')\n",
    "else:\n",
    "    device = torch.device('cpu')\n",
    "print(device)"
   ]
  },
  {
   "cell_type": "code",
   "execution_count": 13,
   "metadata": {},
   "outputs": [],
   "source": [
    "def train(epoch, reg, a=0):\n",
    "    \n",
    "    if reg == 'L2':\n",
    "        optimizer = optim.SGD(model.parameters(), lr=0.001, weight_decay=a)\n",
    "    else:\n",
    "        optimizer = optim.SGD(model.parameters(), lr=0.001)\n",
    "    \n",
    "    EPOCH = epoch\n",
    "    train_loss_list, val_loss_list = [], []\n",
    "\n",
    "    for e in range(EPOCH):\n",
    "\n",
    "        train_loss = 0\n",
    "        train_correct = 0\n",
    "\n",
    "        model.to(device)\n",
    "        model.train()\n",
    "\n",
    "        for i, data in enumerate(train_loader):\n",
    "            images, labels = data\n",
    "            images, labels = images.to(device), labels.to(device)\n",
    "\n",
    "            optimizer.zero_grad()\n",
    "        \n",
    "            output = model(images)\n",
    "            CEE_Loss = loss_func(output, labels)\n",
    "            \n",
    "            if reg == 'L1':\n",
    "                \n",
    "                L1_Loss = 0\n",
    "                for param in model.parameters():\n",
    "                    L1_Loss += torch.sum(abs(param))\n",
    "                    loss = CEE_Loss + L1_Loss * a\n",
    "                    \n",
    "            else:\n",
    "                loss = CEE_Loss\n",
    "                \n",
    "            loss.backward()\n",
    "            optimizer.step()\n",
    "\n",
    "            train_loss += loss.cpu().item()\n",
    "\n",
    "            pred = output.argmax(1)\n",
    "            train_correct += (pred == labels).cpu().sum().item()\n",
    "\n",
    "        train_acc = train_correct / len(train_dataset)\n",
    "        train_loss = train_loss / len(train_dataset)\n",
    "        train_loss_list.append(train_loss)\n",
    "\n",
    "        val_loss = 0\n",
    "        val_correct = 0\n",
    "\n",
    "        model.eval()\n",
    "\n",
    "        with torch.no_grad():\n",
    "            for i, data in enumerate(val_loader):\n",
    "                images, labels = data\n",
    "                images, labels = images.to(device), labels.to(device)\n",
    "\n",
    "                output = model(images)\n",
    "\n",
    "                loss = loss_func(output, labels)\n",
    "\n",
    "                val_loss += loss.cpu().item()\n",
    "\n",
    "                val_pred = output.argmax(1)\n",
    "                val_correct += (val_pred == labels).cpu().sum().item()\n",
    "\n",
    "            val_acc = val_correct / len(val_dataset)\n",
    "            val_loss = val_loss / len(val_dataset)\n",
    "            val_loss_list.append(val_loss)\n",
    "\n",
    "        info = '[EPOCH {}/{}] : train-loss = {:0.4f} | train-acc = {:0.4f} | val-loss = {:0.4f} | val-acc = {:0.4f} | Regularization = {}'\n",
    "        print(info.format(e+1, EPOCH, train_loss, train_acc, val_loss, val_acc, reg))"
   ]
  },
  {
   "cell_type": "code",
   "execution_count": 14,
   "metadata": {
    "scrolled": true
   },
   "outputs": [
    {
     "name": "stdout",
     "output_type": "stream",
     "text": [
      "[EPOCH 1/3] : train-loss = 0.2458 | train-acc = 0.3133 | val-loss = 0.1258 | val-acc = 0.5742 | Regularization = L1\n",
      "[EPOCH 2/3] : train-loss = 0.2091 | train-acc = 0.6950 | val-loss = 0.1008 | val-acc = 0.7612 | Regularization = L1\n",
      "[EPOCH 3/3] : train-loss = 0.1846 | train-acc = 0.7835 | val-loss = 0.0898 | val-acc = 0.8024 | Regularization = L1\n"
     ]
    }
   ],
   "source": [
    "train(epoch=3, reg='L1', a=0.001)"
   ]
  },
  {
   "cell_type": "code",
   "execution_count": 15,
   "metadata": {},
   "outputs": [
    {
     "name": "stdout",
     "output_type": "stream",
     "text": [
      "[EPOCH 1/3] : train-loss = 0.0850 | train-acc = 0.8056 | val-loss = 0.0809 | val-acc = 0.8166 | Regularization = L2\n",
      "[EPOCH 2/3] : train-loss = 0.0784 | train-acc = 0.8151 | val-loss = 0.0761 | val-acc = 0.8244 | Regularization = L2\n",
      "[EPOCH 3/3] : train-loss = 0.0746 | train-acc = 0.8201 | val-loss = 0.0730 | val-acc = 0.8250 | Regularization = L2\n"
     ]
    }
   ],
   "source": [
    "train(epoch=3, reg='L2', a=0.001)"
   ]
  }
 ],
 "metadata": {
  "kernelspec": {
   "display_name": "Python 3",
   "language": "python",
   "name": "python3"
  },
  "language_info": {
   "codemirror_mode": {
    "name": "ipython",
    "version": 3
   },
   "file_extension": ".py",
   "mimetype": "text/x-python",
   "name": "python",
   "nbconvert_exporter": "python",
   "pygments_lexer": "ipython3",
   "version": "3.8.5"
  }
 },
 "nbformat": 4,
 "nbformat_minor": 4
}
