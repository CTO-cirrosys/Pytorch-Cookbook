{
 "cells": [
  {
   "cell_type": "code",
   "execution_count": 1,
   "metadata": {},
   "outputs": [],
   "source": [
    "import torch\n",
    "import torch.nn as nn"
   ]
  },
  {
   "cell_type": "code",
   "execution_count": 168,
   "metadata": {},
   "outputs": [],
   "source": [
    "class MyModel(nn.Module):\n",
    "    \n",
    "    def __init__(self):\n",
    "        super(MyModel, self).__init__()\n",
    "        \n",
    "        self.fc1 = nn.Linear(4,3)\n",
    "        self.fc2 = nn.Linear(3,2)\n",
    "        self.dropout = nn.Dropout(0.5)\n",
    "        \n",
    "    def forward(self, x):\n",
    "        x0 = x\n",
    "        print('x0 == ', x0)\n",
    "        \n",
    "        x1 = self.fc1(x0)\n",
    "        print('Before Dropout == ', x1)\n",
    "        \n",
    "        x2 = self.dropout(x1)\n",
    "        print('After Dropout == ', x2)\n",
    "        \n",
    "        x3 = self.fc2(x2)\n",
    "        print('FC2 == ', x3)\n",
    "        \n",
    "        return x\n",
    "    \n",
    "model = MyModel()"
   ]
  },
  {
   "cell_type": "code",
   "execution_count": 169,
   "metadata": {},
   "outputs": [
    {
     "name": "stdout",
     "output_type": "stream",
     "text": [
      "tensor([[-0.7419, -0.4527, -0.0508, -0.3620]])\n"
     ]
    }
   ],
   "source": [
    "a = torch.randn(1,4)\n",
    "print(a)"
   ]
  },
  {
   "cell_type": "markdown",
   "metadata": {},
   "source": [
    "### model.eval()\n",
    "- Dropout이나 Batch Normalize 등을 off한다."
   ]
  },
  {
   "cell_type": "code",
   "execution_count": 174,
   "metadata": {
    "scrolled": true
   },
   "outputs": [
    {
     "name": "stdout",
     "output_type": "stream",
     "text": [
      "x0 ==  tensor([[-0.7419, -0.4527, -0.0508, -0.3620]])\n",
      "Before Dropout ==  tensor([[0.1675, 0.4831, 0.2952]], grad_fn=<AddmmBackward>)\n",
      "After Dropout ==  tensor([[0.0000, 0.9662, 0.0000]], grad_fn=<MulBackward0>)\n",
      "FC2 ==  tensor([[-0.6466, -0.0197]], grad_fn=<AddmmBackward>)\n"
     ]
    },
    {
     "data": {
      "text/plain": [
       "tensor([[-0.7419, -0.4527, -0.0508, -0.3620]])"
      ]
     },
     "execution_count": 174,
     "metadata": {},
     "output_type": "execute_result"
    }
   ],
   "source": [
    "model.train()\n",
    "model(a)"
   ]
  },
  {
   "cell_type": "code",
   "execution_count": 175,
   "metadata": {},
   "outputs": [
    {
     "name": "stdout",
     "output_type": "stream",
     "text": [
      "x0 ==  tensor([[-0.7419, -0.4527, -0.0508, -0.3620]])\n",
      "Before Dropout ==  tensor([[0.1675, 0.4831, 0.2952]], grad_fn=<AddmmBackward>)\n",
      "After Dropout ==  tensor([[0.1675, 0.4831, 0.2952]], grad_fn=<AddmmBackward>)\n",
      "FC2 ==  tensor([[-0.3929,  0.1284]], grad_fn=<AddmmBackward>)\n"
     ]
    },
    {
     "data": {
      "text/plain": [
       "tensor([[-0.7419, -0.4527, -0.0508, -0.3620]])"
      ]
     },
     "execution_count": 175,
     "metadata": {},
     "output_type": "execute_result"
    }
   ],
   "source": [
    "model.eval()\n",
    "model(a)"
   ]
  },
  {
   "cell_type": "markdown",
   "metadata": {},
   "source": [
    "### torch.no_grad()\n",
    "- 자동미분(Autograd)를 off한다.\n",
    "- 메모리 사용 감소"
   ]
  },
  {
   "cell_type": "code",
   "execution_count": 176,
   "metadata": {},
   "outputs": [
    {
     "name": "stdout",
     "output_type": "stream",
     "text": [
      "x0 ==  tensor([[-0.7419, -0.4527, -0.0508, -0.3620]])\n",
      "Before Dropout ==  tensor([[0.1675, 0.4831, 0.2952]])\n",
      "After Dropout ==  tensor([[0.0000, 0.0000, 0.5904]])\n",
      "FC2 ==  tensor([[-0.1809,  0.3306]])\n"
     ]
    }
   ],
   "source": [
    "with torch.no_grad():\n",
    "    model.train()\n",
    "    model(a)"
   ]
  },
  {
   "cell_type": "code",
   "execution_count": 177,
   "metadata": {},
   "outputs": [
    {
     "name": "stdout",
     "output_type": "stream",
     "text": [
      "x0 ==  tensor([[-0.7419, -0.4527, -0.0508, -0.3620]])\n",
      "Before Dropout ==  tensor([[0.1675, 0.4831, 0.2952]])\n",
      "After Dropout ==  tensor([[0.1675, 0.4831, 0.2952]])\n",
      "FC2 ==  tensor([[-0.3929,  0.1284]])\n"
     ]
    }
   ],
   "source": [
    "with torch.no_grad():\n",
    "    model.eval()\n",
    "    model(a)"
   ]
  },
  {
   "cell_type": "code",
   "execution_count": null,
   "metadata": {},
   "outputs": [],
   "source": []
  }
 ],
 "metadata": {
  "kernelspec": {
   "display_name": "Python 3",
   "language": "python",
   "name": "python3"
  },
  "language_info": {
   "codemirror_mode": {
    "name": "ipython",
    "version": 3
   },
   "file_extension": ".py",
   "mimetype": "text/x-python",
   "name": "python",
   "nbconvert_exporter": "python",
   "pygments_lexer": "ipython3",
   "version": "3.8.5"
  }
 },
 "nbformat": 4,
 "nbformat_minor": 4
}
