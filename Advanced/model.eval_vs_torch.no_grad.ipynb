{
 "cells": [
  {
   "cell_type": "code",
   "execution_count": 1,
   "metadata": {},
   "outputs": [],
   "source": [
    "import torch\n",
    "import torch.nn as nn"
   ]
  },
  {
   "cell_type": "code",
   "execution_count": 152,
   "metadata": {},
   "outputs": [],
   "source": [
    "class MyModel(nn.Module):\n",
    "    \n",
    "    def __init__(self):\n",
    "        super(MyModel, self).__init__()\n",
    "        \n",
    "        self.fc1 = nn.Linear(4,3)\n",
    "        self.fc2 = nn.Linear(3,2)\n",
    "        self.dropout = nn.Dropout(0.4)\n",
    "        \n",
    "    def forward(self, x):\n",
    "        x0 = x\n",
    "        print('x0 == ', x0)\n",
    "        \n",
    "        x1 = self.fc1(x0)\n",
    "        print('FC1 == ', x1)\n",
    "        \n",
    "        x2 = self.dropout(x1)\n",
    "        print('Dropout == ', x2)\n",
    "        \n",
    "        x3 = self.fc2(x2)\n",
    "        print('FC2 == ', x3)\n",
    "        \n",
    "        return x\n",
    "    \n",
    "model = MyModel()"
   ]
  },
  {
   "cell_type": "code",
   "execution_count": 153,
   "metadata": {},
   "outputs": [
    {
     "name": "stdout",
     "output_type": "stream",
     "text": [
      "tensor([[ 0.8326,  0.6587, -1.3227,  0.4181]])\n"
     ]
    }
   ],
   "source": [
    "a = torch.randn(1,4)\n",
    "print(a)"
   ]
  },
  {
   "cell_type": "markdown",
   "metadata": {},
   "source": [
    "### model.eval()\n",
    "- Dropout이나 Batch Normalize 등을 off한다."
   ]
  },
  {
   "cell_type": "code",
   "execution_count": 154,
   "metadata": {
    "scrolled": true
   },
   "outputs": [
    {
     "name": "stdout",
     "output_type": "stream",
     "text": [
      "x0 ==  tensor([[ 0.8326,  0.6587, -1.3227,  0.4181]])\n",
      "FC1 ==  tensor([[-0.2478, -0.4852,  0.7671]], grad_fn=<AddmmBackward>)\n",
      "Dropout ==  tensor([[-0.4130, -0.0000,  0.0000]], grad_fn=<MulBackward0>)\n",
      "FC2 ==  tensor([[ 0.3536, -0.7196]], grad_fn=<AddmmBackward>)\n"
     ]
    },
    {
     "data": {
      "text/plain": [
       "tensor([[ 0.8326,  0.6587, -1.3227,  0.4181]])"
      ]
     },
     "execution_count": 154,
     "metadata": {},
     "output_type": "execute_result"
    }
   ],
   "source": [
    "model.train()\n",
    "model(a)"
   ]
  },
  {
   "cell_type": "code",
   "execution_count": 155,
   "metadata": {},
   "outputs": [
    {
     "name": "stdout",
     "output_type": "stream",
     "text": [
      "x0 ==  tensor([[ 0.8326,  0.6587, -1.3227,  0.4181]])\n",
      "FC1 ==  tensor([[-0.2478, -0.4852,  0.7671]], grad_fn=<AddmmBackward>)\n",
      "Dropout ==  tensor([[-0.2478, -0.4852,  0.7671]], grad_fn=<AddmmBackward>)\n",
      "FC2 ==  tensor([[ 0.1237, -0.5634]], grad_fn=<AddmmBackward>)\n"
     ]
    },
    {
     "data": {
      "text/plain": [
       "tensor([[ 0.8326,  0.6587, -1.3227,  0.4181]])"
      ]
     },
     "execution_count": 155,
     "metadata": {},
     "output_type": "execute_result"
    }
   ],
   "source": [
    "model.eval()\n",
    "model(a)"
   ]
  },
  {
   "cell_type": "markdown",
   "metadata": {},
   "source": [
    "### torch.no_grad()\n",
    "- 자동미분(Autograd)를 off한다.\n",
    "- 메모리 사용 감소"
   ]
  },
  {
   "cell_type": "code",
   "execution_count": 158,
   "metadata": {},
   "outputs": [
    {
     "name": "stdout",
     "output_type": "stream",
     "text": [
      "x0 ==  tensor([[ 0.8326,  0.6587, -1.3227,  0.4181]])\n",
      "FC1 ==  tensor([[-0.2478, -0.4852,  0.7671]])\n",
      "Dropout ==  tensor([[-0.4130, -0.0000,  1.2786]])\n",
      "FC2 ==  tensor([[-0.3012, -0.7093]])\n"
     ]
    }
   ],
   "source": [
    "with torch.no_grad():\n",
    "    model.train()\n",
    "    model(a)"
   ]
  },
  {
   "cell_type": "code",
   "execution_count": 159,
   "metadata": {},
   "outputs": [
    {
     "name": "stdout",
     "output_type": "stream",
     "text": [
      "x0 ==  tensor([[ 0.8326,  0.6587, -1.3227,  0.4181]])\n",
      "FC1 ==  tensor([[-0.2478, -0.4852,  0.7671]])\n",
      "Dropout ==  tensor([[-0.2478, -0.4852,  0.7671]])\n",
      "FC2 ==  tensor([[ 0.1237, -0.5634]])\n"
     ]
    }
   ],
   "source": [
    "with torch.no_grad():\n",
    "    model.eval()\n",
    "    model(a)"
   ]
  }
 ],
 "metadata": {
  "kernelspec": {
   "display_name": "Python 3",
   "language": "python",
   "name": "python3"
  },
  "language_info": {
   "codemirror_mode": {
    "name": "ipython",
    "version": 3
   },
   "file_extension": ".py",
   "mimetype": "text/x-python",
   "name": "python",
   "nbconvert_exporter": "python",
   "pygments_lexer": "ipython3",
   "version": "3.8.5"
  }
 },
 "nbformat": 4,
 "nbformat_minor": 4
}
