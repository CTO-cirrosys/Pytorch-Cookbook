{
 "cells": [
  {
   "cell_type": "markdown",
   "metadata": {},
   "source": [
    "# Master Pytorch Chapter 1 : Tensor\n",
    "https://9bow.github.io/PyTorch-tutorials-kr-0.3.1/index.html"
   ]
  },
  {
   "cell_type": "markdown",
   "metadata": {},
   "source": [
    "## Tensor(텐서)\n",
    "- 다차원의 행렬로 여러 type을 포함하는 데이터의 형태 중 하나이다."
   ]
  },
  {
   "cell_type": "code",
   "execution_count": 1,
   "metadata": {
    "ExecuteTime": {
     "end_time": "2019-08-15T13:07:08.675047Z",
     "start_time": "2019-08-15T13:07:08.665034Z"
    }
   },
   "outputs": [
    {
     "name": "stdout",
     "output_type": "stream",
     "text": [
      "1.4.0\n"
     ]
    }
   ],
   "source": [
    "import torch\n",
    "print(torch.__version__)"
   ]
  },
  {
   "cell_type": "code",
   "execution_count": 2,
   "metadata": {
    "ExecuteTime": {
     "end_time": "2019-08-15T12:49:26.369584Z",
     "start_time": "2019-08-15T12:49:26.332607Z"
    }
   },
   "outputs": [
    {
     "name": "stdout",
     "output_type": "stream",
     "text": [
      "tensor([[1.0653e-38, 4.2246e-39, 1.0286e-38],\n",
      "        [1.0653e-38, 1.0194e-38, 8.4490e-39],\n",
      "        [1.0469e-38, 9.3674e-39, 9.9184e-39],\n",
      "        [8.7245e-39, 9.2755e-39, 8.9082e-39],\n",
      "        [9.9184e-39, 8.4490e-39, 9.6429e-39]]) \n",
      "\n",
      "tensor([[1.0561e-38, 1.0653e-38, 4.1327e-39],\n",
      "        [8.9082e-39, 9.8265e-39, 9.4592e-39],\n",
      "        [1.0561e-38, 1.0653e-38, 1.0469e-38],\n",
      "        [9.5510e-39, 9.1837e-39, 1.0561e-38],\n",
      "        [1.0469e-38, 9.0000e-39, 1.0653e-38]]) \n",
      "\n",
      "<class 'torch.Tensor'> torch.float32 <class 'torch.Tensor'> torch.float32\n"
     ]
    }
   ],
   "source": [
    "x = torch.Tensor(5, 3)\n",
    "y = torch.empty(5, 3)\n",
    "print(x, '\\n')\n",
    "print(y, '\\n')\n",
    "print(type(x), x.dtype, type(y), y.dtype)"
   ]
  },
  {
   "cell_type": "code",
   "execution_count": 3,
   "metadata": {
    "ExecuteTime": {
     "end_time": "2019-08-15T12:41:14.210063Z",
     "start_time": "2019-08-15T12:41:14.185080Z"
    }
   },
   "outputs": [
    {
     "name": "stdout",
     "output_type": "stream",
     "text": [
      "tensor([[0.1592, 0.9484, 0.2205],\n",
      "        [0.0017, 0.5281, 0.5612],\n",
      "        [0.4098, 0.3284, 0.6591],\n",
      "        [0.3243, 0.4148, 0.8893],\n",
      "        [0.1024, 0.3662, 0.1407]])\n",
      "<class 'torch.Tensor'> torch.float32\n",
      "torch.Size([5, 3])\n"
     ]
    }
   ],
   "source": [
    "# 무작위로 초기화 된 행렬 생성\n",
    "x = torch.rand(5, 3)\n",
    "print(x)\n",
    "print(type(x), x.dtype)\n",
    "print(x.size())"
   ]
  },
  {
   "cell_type": "code",
   "execution_count": 4,
   "metadata": {
    "ExecuteTime": {
     "end_time": "2019-08-15T12:41:35.979612Z",
     "start_time": "2019-08-15T12:41:35.962621Z"
    }
   },
   "outputs": [
    {
     "name": "stdout",
     "output_type": "stream",
     "text": [
      "tensor([[0., 0., 0.],\n",
      "        [0., 0., 0.],\n",
      "        [0., 0., 0.],\n",
      "        [0., 0., 0.],\n",
      "        [0., 0., 0.]])\n",
      "torch.float32\n"
     ]
    }
   ],
   "source": [
    "# 값이 0인 행렬 생성\n",
    "x = torch.zeros(5, 3)\n",
    "print(x)\n",
    "print(x.dtype)"
   ]
  },
  {
   "cell_type": "code",
   "execution_count": 5,
   "metadata": {
    "ExecuteTime": {
     "end_time": "2019-08-15T12:42:04.358383Z",
     "start_time": "2019-08-15T12:42:04.341391Z"
    }
   },
   "outputs": [
    {
     "name": "stdout",
     "output_type": "stream",
     "text": [
      "tensor([[0, 0, 0],\n",
      "        [0, 0, 0],\n",
      "        [0, 0, 0],\n",
      "        [0, 0, 0],\n",
      "        [0, 0, 0]])\n",
      "torch.int64\n"
     ]
    }
   ],
   "source": [
    "# 값은 0이고 data type이 long인 행렬 생성\n",
    "x = torch.zeros(5, 3, dtype = torch.long)\n",
    "print(x)\n",
    "print(x.dtype)"
   ]
  },
  {
   "cell_type": "code",
   "execution_count": 6,
   "metadata": {
    "ExecuteTime": {
     "end_time": "2019-08-15T12:47:54.825943Z",
     "start_time": "2019-08-15T12:47:54.787983Z"
    }
   },
   "outputs": [
    {
     "name": "stdout",
     "output_type": "stream",
     "text": [
      "tensor([[0, 0, 0, 0, 0]], dtype=torch.int8)\n",
      "tensor([[0, 0, 0, 0, 0]], dtype=torch.uint8)\n",
      "tensor([[0., 0., 0., 0., 0.]])\n",
      "tensor([[0., 0., 0., 0., 0.]], dtype=torch.float64)\n",
      "tensor([[0, 0, 0, 0, 0]], dtype=torch.int32)\n"
     ]
    }
   ],
   "source": [
    "# 다양한 data type을 가진 행렬 생성\n",
    "x = torch.zeros(1, 5, dtype = torch.int8)\n",
    "y = torch.zeros(1, 5, dtype = torch.uint8)\n",
    "z = torch.zeros(1, 5, dtype = torch.float)\n",
    "a = torch.zeros(1, 5, dtype = torch.double)\n",
    "b = torch.zeros(1, 5, dtype = torch.int)\n",
    "print(x)\n",
    "print(y)\n",
    "print(z)\n",
    "print(a)\n",
    "print(b)"
   ]
  },
  {
   "cell_type": "code",
   "execution_count": 7,
   "metadata": {
    "ExecuteTime": {
     "end_time": "2019-08-15T12:49:12.197707Z",
     "start_time": "2019-08-15T12:49:12.175702Z"
    }
   },
   "outputs": [
    {
     "name": "stdout",
     "output_type": "stream",
     "text": [
      "tensor([1., 5.])\n",
      "<class 'torch.Tensor'> torch.float32\n"
     ]
    }
   ],
   "source": [
    "# 직접 값을 대입해여 행렬 생성\n",
    "x = torch.Tensor([1, 5])\n",
    "print(x)\n",
    "print(type(x), x.dtype)"
   ]
  },
  {
   "cell_type": "code",
   "execution_count": 11,
   "metadata": {
    "ExecuteTime": {
     "end_time": "2019-08-15T12:53:10.867189Z",
     "start_time": "2019-08-15T12:53:10.832209Z"
    }
   },
   "outputs": [
    {
     "name": "stdout",
     "output_type": "stream",
     "text": [
      "tensor([[0, 0, 0],\n",
      "        [0, 0, 0],\n",
      "        [0, 0, 0],\n",
      "        [0, 0, 0],\n",
      "        [0, 0, 0]], dtype=torch.uint8) torch.uint8 \n",
      "\n"
     ]
    },
    {
     "ename": "RuntimeError",
     "evalue": "_th_uniform_ not supported on CPUType for Byte",
     "output_type": "error",
     "traceback": [
      "\u001b[1;31m---------------------------------------------------------------------------\u001b[0m",
      "\u001b[1;31mRuntimeError\u001b[0m                              Traceback (most recent call last)",
      "\u001b[1;32m<ipython-input-11-091bc6165bd7>\u001b[0m in \u001b[0;36m<module>\u001b[1;34m\u001b[0m\n\u001b[0;32m      6\u001b[0m \u001b[1;33m\u001b[0m\u001b[0m\n\u001b[0;32m      7\u001b[0m \u001b[0mx\u001b[0m \u001b[1;33m=\u001b[0m \u001b[0mtorch\u001b[0m\u001b[1;33m.\u001b[0m\u001b[0mzeros\u001b[0m\u001b[1;33m(\u001b[0m\u001b[1;36m5\u001b[0m\u001b[1;33m,\u001b[0m \u001b[1;36m3\u001b[0m\u001b[1;33m,\u001b[0m \u001b[0mdtype\u001b[0m \u001b[1;33m=\u001b[0m \u001b[0mtorch\u001b[0m\u001b[1;33m.\u001b[0m\u001b[0muint8\u001b[0m\u001b[1;33m)\u001b[0m\u001b[1;33m\u001b[0m\u001b[1;33m\u001b[0m\u001b[0m\n\u001b[1;32m----> 8\u001b[1;33m \u001b[0my\u001b[0m \u001b[1;33m=\u001b[0m \u001b[0mtorch\u001b[0m\u001b[1;33m.\u001b[0m\u001b[0mrand_like\u001b[0m\u001b[1;33m(\u001b[0m\u001b[0mx\u001b[0m\u001b[1;33m)\u001b[0m\u001b[1;33m\u001b[0m\u001b[1;33m\u001b[0m\u001b[0m\n\u001b[0m\u001b[0;32m      9\u001b[0m \u001b[0mprint\u001b[0m\u001b[1;33m(\u001b[0m\u001b[0my\u001b[0m\u001b[1;33m,\u001b[0m \u001b[0my\u001b[0m\u001b[1;33m.\u001b[0m\u001b[0mdtype\u001b[0m\u001b[1;33m)\u001b[0m\u001b[1;33m\u001b[0m\u001b[1;33m\u001b[0m\u001b[0m\n",
      "\u001b[1;31mRuntimeError\u001b[0m: _th_uniform_ not supported on CPUType for Byte"
     ]
    }
   ],
   "source": [
    "# 이미 정의한 Tensor를 이용해 새로운 행렬 행성\n",
    "# 사용자가 새로운 값을 적용하지 않는 한, 입력 인자들의 속성 재사용\n",
    "# ex : dtype, size 등\n",
    "x = torch.zeros(5, 3, dtype = torch.uint8)\n",
    "print(x, x.dtype, '\\n')\n",
    "\n",
    "x = torch.zeros(5, 3, dtype = torch.uint8)\n",
    "y = torch.rand_like(x)\n",
    "print(y, y.dtype)"
   ]
  },
  {
   "cell_type": "code",
   "execution_count": 12,
   "metadata": {},
   "outputs": [
    {
     "ename": "RuntimeError",
     "evalue": "_th_normal_ not supported on CPUType for Byte",
     "output_type": "error",
     "traceback": [
      "\u001b[1;31m---------------------------------------------------------------------------\u001b[0m",
      "\u001b[1;31mRuntimeError\u001b[0m                              Traceback (most recent call last)",
      "\u001b[1;32m<ipython-input-12-ddad43ca4ff1>\u001b[0m in \u001b[0;36m<module>\u001b[1;34m\u001b[0m\n\u001b[1;32m----> 1\u001b[1;33m \u001b[0mtorch\u001b[0m\u001b[1;33m.\u001b[0m\u001b[0mrandn_like\u001b[0m\u001b[1;33m(\u001b[0m\u001b[0mx\u001b[0m\u001b[1;33m)\u001b[0m\u001b[1;33m\u001b[0m\u001b[1;33m\u001b[0m\u001b[0m\n\u001b[0m",
      "\u001b[1;31mRuntimeError\u001b[0m: _th_normal_ not supported on CPUType for Byte"
     ]
    }
   ],
   "source": [
    "torch.rand"
   ]
  },
  {
   "cell_type": "markdown",
   "metadata": {},
   "source": [
    "## Operations"
   ]
  },
  {
   "cell_type": "code",
   "execution_count": 9,
   "metadata": {
    "ExecuteTime": {
     "end_time": "2019-08-12T11:57:02.874720Z",
     "start_time": "2019-08-12T11:57:02.842738Z"
    }
   },
   "outputs": [
    {
     "name": "stdout",
     "output_type": "stream",
     "text": [
      "tensor([[0.2714, 0.3528, 0.7742],\n",
      "        [0.7774, 0.2155, 0.9337],\n",
      "        [0.5101, 0.5995, 0.5894],\n",
      "        [0.7326, 0.6084, 0.7885],\n",
      "        [0.3641, 0.9129, 0.0668]]) \n",
      "\n",
      "tensor([[0.5241, 0.7094, 0.9346],\n",
      "        [0.5110, 0.6513, 0.8371],\n",
      "        [0.9473, 0.5164, 0.5135],\n",
      "        [0.4330, 0.2406, 0.3173],\n",
      "        [0.3300, 0.7381, 0.4619]]) \n",
      "\n",
      "tensor([[0.7955, 1.0622, 1.7088],\n",
      "        [1.2884, 0.8667, 1.7708],\n",
      "        [1.4573, 1.1159, 1.1029],\n",
      "        [1.1656, 0.8489, 1.1057],\n",
      "        [0.6942, 1.6510, 0.5287]])\n"
     ]
    }
   ],
   "source": [
    "x = torch.rand(5, 3)\n",
    "y = torch.rand(5, 3)\n",
    "print(x, '\\n')\n",
    "print(y, '\\n')\n",
    "print(x + y)"
   ]
  },
  {
   "cell_type": "code",
   "execution_count": 8,
   "metadata": {
    "ExecuteTime": {
     "end_time": "2019-08-12T11:57:08.265634Z",
     "start_time": "2019-08-12T11:57:08.254640Z"
    },
    "scrolled": true
   },
   "outputs": [
    {
     "data": {
      "text/plain": [
       "tensor([[1.8024, 0.7773, 1.1118],\n",
       "        [1.2870, 1.3277, 1.5792],\n",
       "        [1.1237, 0.9229, 0.4539],\n",
       "        [1.2986, 1.5044, 1.3334],\n",
       "        [1.1523, 1.3030, 1.1117]])"
      ]
     },
     "execution_count": 8,
     "metadata": {},
     "output_type": "execute_result"
    }
   ],
   "source": [
    "torch.add(x, y)"
   ]
  },
  {
   "cell_type": "code",
   "execution_count": 9,
   "metadata": {
    "ExecuteTime": {
     "end_time": "2019-08-12T11:57:09.716805Z",
     "start_time": "2019-08-12T11:57:09.704812Z"
    }
   },
   "outputs": [
    {
     "data": {
      "text/plain": [
       "tensor([[1.8024, 0.7773, 1.1118],\n",
       "        [1.2870, 1.3277, 1.5792],\n",
       "        [1.1237, 0.9229, 0.4539],\n",
       "        [1.2986, 1.5044, 1.3334],\n",
       "        [1.1523, 1.3030, 1.1117]])"
      ]
     },
     "execution_count": 9,
     "metadata": {},
     "output_type": "execute_result"
    }
   ],
   "source": [
    "result = torch.Tensor(5, 3)\n",
    "torch.add(x, y, out=result)\n",
    "result"
   ]
  },
  {
   "cell_type": "code",
   "execution_count": 10,
   "metadata": {
    "ExecuteTime": {
     "end_time": "2019-08-12T11:57:13.303754Z",
     "start_time": "2019-08-12T11:57:13.293757Z"
    },
    "scrolled": true
   },
   "outputs": [
    {
     "data": {
      "text/plain": [
       "tensor([[1.8024, 0.7773, 1.1118],\n",
       "        [1.2870, 1.3277, 1.5792],\n",
       "        [1.1237, 0.9229, 0.4539],\n",
       "        [1.2986, 1.5044, 1.3334],\n",
       "        [1.1523, 1.3030, 1.1117]])"
      ]
     },
     "execution_count": 10,
     "metadata": {},
     "output_type": "execute_result"
    }
   ],
   "source": [
    "y.add(x)"
   ]
  },
  {
   "cell_type": "markdown",
   "metadata": {},
   "source": [
    "## Indexing"
   ]
  },
  {
   "cell_type": "code",
   "execution_count": 11,
   "metadata": {
    "ExecuteTime": {
     "end_time": "2019-08-12T11:57:14.867861Z",
     "start_time": "2019-08-12T11:57:14.836873Z"
    }
   },
   "outputs": [
    {
     "name": "stdout",
     "output_type": "stream",
     "text": [
      "tensor([[1.8024, 0.7773, 1.1118],\n",
      "        [1.2870, 1.3277, 1.5792],\n",
      "        [1.1237, 0.9229, 0.4539],\n",
      "        [1.2986, 1.5044, 1.3334],\n",
      "        [1.1523, 1.3030, 1.1117]]) \n",
      "\n",
      "tensor([0.7773, 1.3277, 0.9229, 1.5044, 1.3030])\n",
      "tensor([1.2870, 1.3277, 1.5792])\n",
      "<class 'torch.Tensor'>\n"
     ]
    }
   ],
   "source": [
    "x = torch.Tensor(5, 3)\n",
    "print(x, '\\n')\n",
    "print(x[:, 1]) # 1열 모든 행\n",
    "print(x[1, :]) # 1행 모든 열\n",
    "print(type(x))"
   ]
  },
  {
   "cell_type": "code",
   "execution_count": 12,
   "metadata": {
    "ExecuteTime": {
     "end_time": "2019-08-12T11:57:15.406549Z",
     "start_time": "2019-08-12T11:57:15.379565Z"
    }
   },
   "outputs": [
    {
     "name": "stdout",
     "output_type": "stream",
     "text": [
      "torch.Size([4, 4]) torch.Size([16]) torch.Size([2, 8]) torch.Size([8, 2])\n"
     ]
    }
   ],
   "source": [
    "x = torch.randn(4, 4)\n",
    "y = x.view(16)\n",
    "z = x.view(-1, 8) # 8열, 나머지는 행으로\n",
    "r = x.view(8, -1) # 8행, 나머지는 열로\n",
    "print(x.size(), y.size(), z.size(), r.size())"
   ]
  },
  {
   "cell_type": "code",
   "execution_count": 13,
   "metadata": {
    "ExecuteTime": {
     "end_time": "2019-08-12T11:57:16.404976Z",
     "start_time": "2019-08-12T11:57:16.395980Z"
    }
   },
   "outputs": [
    {
     "data": {
      "text/plain": [
       "tensor([[-0.3097],\n",
       "        [-0.5462],\n",
       "        [ 0.3203],\n",
       "        [ 0.2549],\n",
       "        [ 0.1549],\n",
       "        [ 0.1025],\n",
       "        [-1.5351],\n",
       "        [ 0.8920],\n",
       "        [ 0.9735],\n",
       "        [ 0.5652],\n",
       "        [ 0.6281],\n",
       "        [ 0.1152],\n",
       "        [-1.9538],\n",
       "        [-1.8905],\n",
       "        [-0.6775],\n",
       "        [-0.1306]])"
      ]
     },
     "execution_count": 13,
     "metadata": {},
     "output_type": "execute_result"
    }
   ],
   "source": [
    "z = x.view(16, -1) # 16행, 나머지는 열로\n",
    "z"
   ]
  },
  {
   "cell_type": "markdown",
   "metadata": {},
   "source": [
    "## Convert Tensor&Numpy"
   ]
  },
  {
   "cell_type": "code",
   "execution_count": 15,
   "metadata": {
    "ExecuteTime": {
     "end_time": "2019-08-12T11:57:57.402511Z",
     "start_time": "2019-08-12T11:57:57.329573Z"
    }
   },
   "outputs": [
    {
     "name": "stdout",
     "output_type": "stream",
     "text": [
      "[1. 1. 1. 1. 1.] <class 'numpy.ndarray'> \n",
      "\n",
      "[1. 1. 1. 1. 1.] <class 'numpy.ndarray'> \n",
      "\n",
      "[2. 2. 2. 2. 2.] <class 'numpy.ndarray'> \n",
      "\n",
      "tensor([2., 2., 2., 2., 2.], dtype=torch.float64) <class 'torch.Tensor'>\n"
     ]
    }
   ],
   "source": [
    "import numpy as np\n",
    "a = np.ones(5)\n",
    "print(a, type(a), '\\n')\n",
    "\n",
    "b = torch.from_numpy(a) # 주소를 공유하는 복사이기 때문에 a값이 변하면 같이 변한다.\n",
    "print(a, type(a), '\\n')\n",
    "\n",
    "np.add(a, 1, out=a)   # np.add를 사용하면 b값도 같이 변한다 <<< 이유가...(깊은 복사 vs 얕은 복사)\n",
    "print(a, type(a), '\\n')\n",
    "print(b, type(b))"
   ]
  },
  {
   "cell_type": "markdown",
   "metadata": {},
   "source": [
    "# CUDA Tensors\n",
    "- to. 메소드를 이용하면 Tensor를 어떠한 장치로도 옮길 수 있다.\n",
    "- CUDA가 사용 가능한 환경에서만 실행\n",
    "- torch.device 를 이용하여 Tensor를 GPU로 이동시킬 수 있다.\n"
   ]
  },
  {
   "cell_type": "code",
   "execution_count": 19,
   "metadata": {
    "ExecuteTime": {
     "end_time": "2019-08-12T11:59:30.004506Z",
     "start_time": "2019-08-12T11:59:29.991513Z"
    }
   },
   "outputs": [
    {
     "name": "stdout",
     "output_type": "stream",
     "text": [
      "0\n"
     ]
    }
   ],
   "source": [
    "print(torch.cuda.device_count()) # GPU 개수 확인\n",
    "# print(torch.cuda.current_device()) # 현재 GPU 확인\n",
    "# print(torch.cuda.device(0)) # GPU 주소 확인\n",
    "# print(torch.cuda.get_device_name(0)) # GPU 이름 확인"
   ]
  },
  {
   "cell_type": "code",
   "execution_count": 28,
   "metadata": {
    "ExecuteTime": {
     "end_time": "2019-08-12T12:00:34.348677Z",
     "start_time": "2019-08-12T12:00:34.324691Z"
    }
   },
   "outputs": [
    {
     "name": "stdout",
     "output_type": "stream",
     "text": [
      "GPU가 없습니다.\n"
     ]
    }
   ],
   "source": [
    "if torch.cuda.is_available(): # cuda 사용가능 여부(GPU가 있는지 확인)\n",
    "    device = torch.device('cuda') # CUDA 장치를 객체 device에 할당\n",
    "    x = torch.ones(1, 5)\n",
    "    y = torch.ones_like(x, device = device)\n",
    "    x = x.to(device)\n",
    "    z = x + y\n",
    "    print(x)\n",
    "    print(y)\n",
    "    print(z)\n",
    "    print(z.to('cpu'))\n",
    "    print(z.to('cpu', dtype = torch.float64))\n",
    "else:\n",
    "    print('GPU가 없습니다.')"
   ]
  },
  {
   "cell_type": "markdown",
   "metadata": {},
   "source": [
    "# New things I learned"
   ]
  },
  {
   "cell_type": "markdown",
   "metadata": {},
   "source": [
    "### 1. from __future__ import print_function\n",
    "- __future__를 통해 최신 python버젼의 function을 가져올 수 있다.\n",
    "- 참고https://ddanggle.gitbooks.io/interpy-kr/ch21-Targeting-python.html\n",
    "\n",
    "### 2. Reshaping tensor with view(-1, n)\n",
    "- -1값이 들어갈 땐 n을 보고 reshape할 모양을 유추\n",
    "\n",
    "### 3. Jupyter notebook extension toolkits\n",
    "- notebook의 추가 기능 사용\n",
    "- 참고https://www.slideshare.net/zzsza/10-jupyter-notebook\n",
    "\n",
    "### 4. _like의 기능(ex. zeros와 zeros_like의 차이)\n",
    "- 그냥 zeros(x)는 x의 size\n",
    "- zeros_like(input)은 input의 size로\n",
    "\n",
    "### 5. 일반 tensor와 cuda위의 tensor와는 연산 불가\n",
    "\n",
    "### 6. dtype에서 signed 와 unsigned integer의 차이\n",
    "- signed는 플러스(+)와 마이너스(-) 둘 다 가능하다.\n",
    "- unsigned는 플러스(+)만 가능하다.\n",
    "- 참고https://stackoverflow.com/questions/5739888/what-is-the-difference-between-signed-and-unsigned-int"
   ]
  }
 ],
 "metadata": {
  "kernelspec": {
   "display_name": "Python 3",
   "language": "python",
   "name": "python3"
  },
  "language_info": {
   "codemirror_mode": {
    "name": "ipython",
    "version": 3
   },
   "file_extension": ".py",
   "mimetype": "text/x-python",
   "name": "python",
   "nbconvert_exporter": "python",
   "pygments_lexer": "ipython3",
   "version": "3.7.4"
  },
  "varInspector": {
   "cols": {
    "lenName": 16,
    "lenType": 16,
    "lenVar": 40
   },
   "kernels_config": {
    "python": {
     "delete_cmd_postfix": "",
     "delete_cmd_prefix": "del ",
     "library": "var_list.py",
     "varRefreshCmd": "print(var_dic_list())"
    },
    "r": {
     "delete_cmd_postfix": ") ",
     "delete_cmd_prefix": "rm(",
     "library": "var_list.r",
     "varRefreshCmd": "cat(var_dic_list()) "
    }
   },
   "oldHeight": 218.877818,
   "position": {
    "height": "241.094px",
    "left": "871.818px",
    "right": "20px",
    "top": "120px",
    "width": "350px"
   },
   "types_to_exclude": [
    "module",
    "function",
    "builtin_function_or_method",
    "instance",
    "_Feature"
   ],
   "varInspector_section_display": "block",
   "window_display": false
  }
 },
 "nbformat": 4,
 "nbformat_minor": 2
}
