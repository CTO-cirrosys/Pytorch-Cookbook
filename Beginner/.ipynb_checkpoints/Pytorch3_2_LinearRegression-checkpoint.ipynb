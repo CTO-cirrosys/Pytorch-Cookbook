{
 "cells": [
  {
   "cell_type": "code",
   "execution_count": 3,
   "metadata": {},
   "outputs": [
    {
     "name": "stdout",
     "output_type": "stream",
     "text": [
      "1.4.0\n"
     ]
    }
   ],
   "source": [
    "import torch\n",
    "print(torch.__version__)"
   ]
  },
  {
   "cell_type": "markdown",
   "metadata": {},
   "source": [
    "$y = \\theta_1x + \\theta_0$\n",
    "<br>\n",
    "$\\theta_1 = 0.6, \\theta_0 = -44$"
   ]
  },
  {
   "cell_type": "markdown",
   "metadata": {},
   "source": [
    "대충 내가 가진 데이터로 계산을 해보니"
   ]
  },
  {
   "cell_type": "code",
   "execution_count": 242,
   "metadata": {},
   "outputs": [
    {
     "name": "stdout",
     "output_type": "stream",
     "text": [
      "Linear(in_features=1, out_features=1, bias=True)\n"
     ]
    }
   ],
   "source": [
    "import torch.nn as nn\n",
    "\n",
    "simple_regression = nn.Linear(1, 1, bias=True)\n",
    "print(simple_regression)"
   ]
  },
  {
   "cell_type": "code",
   "execution_count": 243,
   "metadata": {},
   "outputs": [
    {
     "name": "stdout",
     "output_type": "stream",
     "text": [
      "Parameter containing:\n",
      "tensor([[-0.1545]], requires_grad=True)\n",
      "Parameter containing:\n",
      "tensor([0.1121], requires_grad=True)\n",
      "torch.Size([1, 1])\n",
      "torch.Size([1])\n"
     ]
    }
   ],
   "source": [
    "init_weight = simple_regression.weight\n",
    "init_bias = simple_regression.bias\n",
    "\n",
    "print(init_weight)\n",
    "print(init_bias)\n",
    "\n",
    "print(init_weight.size())\n",
    "print(init_bias.size())"
   ]
  },
  {
   "cell_type": "code",
   "execution_count": 244,
   "metadata": {},
   "outputs": [
    {
     "name": "stdout",
     "output_type": "stream",
     "text": [
      "Parameter containing:\n",
      "tensor([[0.6666]], requires_grad=True)\n",
      "Parameter containing:\n",
      "tensor([-44.], requires_grad=True)\n"
     ]
    }
   ],
   "source": [
    "my_weight = torch.tensor([0.6666], dtype=torch.float).reshape_as(init_weight)\n",
    "my_bias = torch.tensor([-44], dtype=torch.float).reshape_as(init_bias)\n",
    "\n",
    "new_weight = nn.Parameter(my_weight)\n",
    "new_bias = nn.Parameter(my_bias)\n",
    "\n",
    "simple_regression.weight = new_weight\n",
    "simple_regression.bias = new_bias\n",
    "\n",
    "print(simple_regression.weight)\n",
    "print(simple_regression.bias)"
   ]
  },
  {
   "cell_type": "code",
   "execution_count": 257,
   "metadata": {},
   "outputs": [
    {
     "name": "stdout",
     "output_type": "stream",
     "text": [
      "tensor([[71.9884, 75.9880, 68.6554, 69.9886]])\n",
      "tensor([[72., 76., 65., 68.]])\n"
     ]
    }
   ],
   "source": [
    "cm = [174, 180, 169, 171]\n",
    "kg = [ 72,  76,  65,  68]\n",
    "\n",
    "data_x = torch.tensor(cm, dtype=torch.float, requires_grad=False).reshape(len(cm), 1)\n",
    "data_y = torch.tensor(kg, dtype=torch.float, requires_grad=False).reshape(len(cm), 1)\n",
    "\n",
    "with torch.no_grad():\n",
    "    kg_prediction = simple_regression(data_x)\n",
    "\n",
    "print(kg_prediction.reshape(1,-1))\n",
    "print(data_y.reshape(1,-1))"
   ]
  },
  {
   "cell_type": "code",
   "execution_count": 305,
   "metadata": {},
   "outputs": [
    {
     "data": {
      "text/plain": [
       "tensor([[174.],\n",
       "        [180.],\n",
       "        [169.],\n",
       "        [171.]])"
      ]
     },
     "execution_count": 305,
     "metadata": {},
     "output_type": "execute_result"
    }
   ],
   "source": [
    "data_x.dot"
   ]
  },
  {
   "cell_type": "code",
   "execution_count": 303,
   "metadata": {},
   "outputs": [
    {
     "data": {
      "text/plain": [
       "tensor([[174., 180., 169., 171.]])"
      ]
     },
     "execution_count": 303,
     "metadata": {},
     "output_type": "execute_result"
    }
   ],
   "source": [
    "data_x.T"
   ]
  },
  {
   "cell_type": "code",
   "execution_count": 306,
   "metadata": {},
   "outputs": [
    {
     "ename": "RuntimeError",
     "evalue": "1D tensors expected, got 2D, 2D tensors at C:\\w\\1\\s\\windows\\pytorch\\aten\\src\\TH/generic/THTensorEvenMoreMath.cpp:733",
     "output_type": "error",
     "traceback": [
      "\u001b[1;31m---------------------------------------------------------------------------\u001b[0m",
      "\u001b[1;31mRuntimeError\u001b[0m                              Traceback (most recent call last)",
      "\u001b[1;32m<ipython-input-306-a24300222cd8>\u001b[0m in \u001b[0;36m<module>\u001b[1;34m\u001b[0m\n\u001b[1;32m----> 1\u001b[1;33m \u001b[0mdata_x\u001b[0m\u001b[1;33m.\u001b[0m\u001b[0mT\u001b[0m\u001b[1;33m.\u001b[0m\u001b[0mdot\u001b[0m\u001b[1;33m(\u001b[0m\u001b[0mdata_x\u001b[0m\u001b[1;33m)\u001b[0m\u001b[1;33m\u001b[0m\u001b[1;33m\u001b[0m\u001b[0m\n\u001b[0m",
      "\u001b[1;31mRuntimeError\u001b[0m: 1D tensors expected, got 2D, 2D tensors at C:\\w\\1\\s\\windows\\pytorch\\aten\\src\\TH/generic/THTensorEvenMoreMath.cpp:733"
     ]
    }
   ],
   "source": [
    "data_x.T.dot(data_x)"
   ]
  },
  {
   "cell_type": "code",
   "execution_count": 299,
   "metadata": {},
   "outputs": [
    {
     "data": {
      "text/plain": [
       "[Text(0, 0.5, 'kg'), Text(0.5, 0, 'cm')]"
      ]
     },
     "execution_count": 299,
     "metadata": {},
     "output_type": "execute_result"
    },
    {
     "data": {
      "image/png": "[encoded data removed]",
      "text/plain": [
       "<Figure size 432x288 with 1 Axes>"
      ]
     },
     "metadata": {
      "needs_background": "light"
     },
     "output_type": "display_data"
    }
   ],
   "source": [
    "import seaborn as sns\n",
    "\n",
    "plot1 = sns.regplot(x=cm, y=kg)\n",
    "plot1.set(xlabel='cm', ylabel='kg')"
   ]
  }
 ],
 "metadata": {
  "kernelspec": {
   "display_name": "Python 3",
   "language": "python",
   "name": "python3"
  },
  "language_info": {
   "codemirror_mode": {
    "name": "ipython",
    "version": 3
   },
   "file_extension": ".py",
   "mimetype": "text/x-python",
   "name": "python",
   "nbconvert_exporter": "python",
   "pygments_lexer": "ipython3",
   "version": "3.7.4"
  }
 },
 "nbformat": 4,
 "nbformat_minor": 2
}
