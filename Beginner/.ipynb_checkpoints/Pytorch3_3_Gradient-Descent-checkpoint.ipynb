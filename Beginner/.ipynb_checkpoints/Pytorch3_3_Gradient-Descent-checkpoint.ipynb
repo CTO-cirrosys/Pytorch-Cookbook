{
 "cells": [
  {
   "cell_type": "markdown",
   "metadata": {},
   "source": [
    "# 경사하강법\n",
    "\n",
    "https://gjustin40.github.io/pytorch/2020/12/13/Pytorch-GradientDescent.html\n",
    "\n",
    "- 앞, 뒤 부분은 모두 생략하고 학습하는 부분만 작성하겠다."
   ]
  },
  {
   "cell_type": "markdown",
   "metadata": {},
   "source": [
    "#  Batch Gradient Descent(BGD)"
   ]
  },
  {
   "cell_type": "code",
   "execution_count": null,
   "metadata": {},
   "outputs": [],
   "source": [
    "# 데이터 정의\n",
    "# 모델 정의\n",
    "# 손실 및 최적화 함수 정의\n",
    "\n",
    "for e in range(EPOCH):\n",
    "    \n",
    "    train_loss = 0\n",
    "    for data in dataloader: # batch_size=1인 dataloader\n",
    "        image, label = data # image = 1개\n",
    "        \n",
    "        output = model(image)\n",
    "        loss = loss_func(output, label)\n",
    "        \n",
    "        train_loss = train_loss + loss\n",
    "        ### error 계산 완료\n",
    "        \n",
    "    optimizer.zero_grad()    \n",
    "    train_loss.backward()\n",
    "    otimizer.step()   "
   ]
  },
  {
   "cell_type": "markdown",
   "metadata": {},
   "source": [
    "# Stochastic Gradient Descent(SGD)"
   ]
  },
  {
   "cell_type": "code",
   "execution_count": null,
   "metadata": {},
   "outputs": [],
   "source": [
    "# 데이터 정의\n",
    "# 모델 정의\n",
    "# 손실 및 최적화 함수 정의\n",
    "\n",
    "for e in range(EPOCH):\n",
    "    \n",
    "    for data in dataloader: # batch_size=1인 dataloader\n",
    "        image, label = data # image = 1개\n",
    "        \n",
    "        optimizer.zero_grad()\n",
    "        \n",
    "        output = model(image)\n",
    "        loss = loss_func(output, label)\n",
    "        loss.backward()\n",
    "        \n",
    "        optimizer.step()      "
   ]
  }
 ],
 "metadata": {
  "kernelspec": {
   "display_name": "Python 3",
   "language": "python",
   "name": "python3"
  },
  "language_info": {
   "codemirror_mode": {
    "name": "ipython",
    "version": 3
   },
   "file_extension": ".py",
   "mimetype": "text/x-python",
   "name": "python",
   "nbconvert_exporter": "python",
   "pygments_lexer": "ipython3",
   "version": "3.8.5"
  }
 },
 "nbformat": 4,
 "nbformat_minor": 4
}
