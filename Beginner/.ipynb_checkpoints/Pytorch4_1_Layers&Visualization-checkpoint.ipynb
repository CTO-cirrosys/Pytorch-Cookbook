{
 "cells": [
  {
   "cell_type": "markdown",
   "metadata": {},
   "source": [
    "# Layer&Visualization\n",
    "**Layer들의 종류와 해당 Layer들의 Weight를 시각화**\n",
    "- 간단하게 몇 가지 Layer만 시도\n",
    "- 실제 Weight를 시각화해서 생김서 확인하기"
   ]
  },
  {
   "cell_type": "code",
   "execution_count": 9,
   "metadata": {
    "ExecuteTime": {
     "end_time": "2019-11-04T14:18:36.225282Z",
     "start_time": "2019-11-04T14:18:36.207278Z"
    }
   },
   "outputs": [],
   "source": [
    "import torch\n",
    "import torchvision\n",
    "from torchvision import transforms\n",
    "import numpy as np\n",
    "import matplotlib.pyplot as plt\n",
    "\n",
    "%matplotlib inline"
   ]
  },
  {
   "cell_type": "code",
   "execution_count": 10,
   "metadata": {
    "ExecuteTime": {
     "end_time": "2019-11-04T14:18:36.386170Z",
     "start_time": "2019-11-04T14:18:36.317218Z"
    }
   },
   "outputs": [],
   "source": [
    "transform = transforms.Compose([\n",
    "    transforms.ToTensor()\n",
    "])\n",
    "\n",
    "datasets = torchvision.datasets.MNIST('data/', train = True,\n",
    "                                      download = True, transform = transform)\n",
    "\n",
    "dataloader = torch.utils.data.DataLoader(datasets, batch_size = 1)"
   ]
  },
  {
   "cell_type": "code",
   "execution_count": 12,
   "metadata": {
    "ExecuteTime": {
     "end_time": "2019-11-04T14:20:06.753733Z",
     "start_time": "2019-11-04T14:20:06.739761Z"
    }
   },
   "outputs": [
    {
     "name": "stdout",
     "output_type": "stream",
     "text": [
      "torch.Size([1, 1, 28, 28])\n",
      "torch.Size([1])\n"
     ]
    }
   ],
   "source": [
    "image, label = next(iter(dataloader))\n",
    "print(image.shape) # Pytorch의 데이터는 batch_size x channel x H x W 로 표시\n",
    "print(label.shape)"
   ]
  },
  {
   "cell_type": "code",
   "execution_count": 25,
   "metadata": {
    "ExecuteTime": {
     "end_time": "2019-11-04T14:22:42.969219Z",
     "start_time": "2019-11-04T14:22:42.801316Z"
    }
   },
   "outputs": [
    {
     "data": {
      "text/plain": [
       "<matplotlib.image.AxesImage at 0x2925f2c76a0>"
      ]
     },
     "execution_count": 25,
     "metadata": {},
     "output_type": "execute_result"
    },
    {
     "data": {
      "image/png": "[encoded data removed]",
      "text/plain": [
       "<Figure size 432x288 with 1 Axes>"
      ]
     },
     "metadata": {
      "needs_background": "light"
     },
     "output_type": "display_data"
    }
   ],
   "source": [
    "# Visualization\n",
    "image_squ = torch.squeeze(image)\n",
    "image_arr = image_squ.numpy()\n",
    "plt.figure()\n",
    "plt.title(label.item())\n",
    "plt.imshow(image_arr, cmap = 'gray')"
   ]
  },
  {
   "cell_type": "markdown",
   "metadata": {},
   "source": [
    "# Convolution Layer\n",
    "- CNN의 대표 Layer인 합성곱 레이어 시각화\n",
    "- Pooling, Linear, Softmax도 시각화"
   ]
  },
  {
   "cell_type": "code",
   "execution_count": 28,
   "metadata": {
    "ExecuteTime": {
     "end_time": "2019-11-04T14:24:34.289615Z",
     "start_time": "2019-11-04T14:24:34.281623Z"
    }
   },
   "outputs": [],
   "source": [
    "import torch\n",
    "import torch.nn as nn\n",
    "import torch.nn.functional as F"
   ]
  },
  {
   "cell_type": "markdown",
   "metadata": {},
   "source": [
    "### 1. Conv2d"
   ]
  },
  {
   "cell_type": "code",
   "execution_count": 31,
   "metadata": {
    "ExecuteTime": {
     "end_time": "2019-11-04T14:26:34.847675Z",
     "start_time": "2019-11-04T14:26:34.836682Z"
    }
   },
   "outputs": [
    {
     "data": {
      "text/plain": [
       "Conv2d(1, 20, kernel_size=(5, 5), stride=(1, 1))"
      ]
     },
     "execution_count": 31,
     "metadata": {},
     "output_type": "execute_result"
    }
   ],
   "source": [
    "con_layer = nn.Conv2d(in_channels = 1, out_channels = 20, kernel_size = 5, stride = 1)\n",
    "con_layer"
   ]
  },
  {
   "cell_type": "code",
   "execution_count": 35,
   "metadata": {
    "ExecuteTime": {
     "end_time": "2019-11-04T14:28:17.014501Z",
     "start_time": "2019-11-04T14:28:17.006485Z"
    }
   },
   "outputs": [
    {
     "data": {
      "text/plain": [
       "torch.Size([20, 1, 5, 5])"
      ]
     },
     "execution_count": 35,
     "metadata": {},
     "output_type": "execute_result"
    }
   ],
   "source": [
    "con_weight = con_layer.weight\n",
    "con_weight.shape # out_channel 20, filter_channel = 1, filter_size = 5x5"
   ]
  },
  {
   "cell_type": "markdown",
   "metadata": {},
   "source": [
    "- 위에서 출력한 weight는 학습이 가능한 상태이기 때문에 추출이 불가능하다.(gradient)\n",
    "- 따라서 gradient 기능을 끄고 추출하기 위해 detach()함수를 사용"
   ]
  },
  {
   "cell_type": "code",
   "execution_count": 42,
   "metadata": {
    "ExecuteTime": {
     "end_time": "2019-11-04T14:32:58.375127Z",
     "start_time": "2019-11-04T14:32:58.366134Z"
    }
   },
   "outputs": [
    {
     "data": {
      "text/plain": [
       "(20, 1, 5, 5)"
      ]
     },
     "execution_count": 42,
     "metadata": {},
     "output_type": "execute_result"
    }
   ],
   "source": [
    "weight_example = con_weight.detach().numpy()\n",
    "weight_example.shape"
   ]
  },
  {
   "cell_type": "code",
   "execution_count": 46,
   "metadata": {
    "ExecuteTime": {
     "end_time": "2019-11-04T14:33:32.276844Z",
     "start_time": "2019-11-04T14:33:32.013995Z"
    }
   },
   "outputs": [
    {
     "data": {
      "text/plain": [
       "<matplotlib.colorbar.Colorbar at 0x2925f3fff98>"
      ]
     },
     "execution_count": 46,
     "metadata": {},
     "output_type": "execute_result"
    },
    {
     "data": {
      "image/png": "[encoded data removed]",
      "text/plain": [
       "<Figure size 432x288 with 2 Axes>"
      ]
     },
     "metadata": {
      "needs_background": "light"
     },
     "output_type": "display_data"
    }
   ],
   "source": [
    "plt.imshow(weight_example[0,0,:,:], cmap = 'jet')\n",
    "plt.colorbar()"
   ]
  },
  {
   "cell_type": "markdown",
   "metadata": {},
   "source": [
    "- **Input, Weight, Output Image를 출력하기**"
   ]
  },
  {
   "cell_type": "code",
   "execution_count": 58,
   "metadata": {
    "ExecuteTime": {
     "end_time": "2019-11-04T14:37:22.229844Z",
     "start_time": "2019-11-04T14:37:22.211855Z"
    }
   },
   "outputs": [
    {
     "data": {
      "text/plain": [
       "((28, 28), (20, 1, 5, 5), (1, 20, 24, 24))"
      ]
     },
     "execution_count": 58,
     "metadata": {},
     "output_type": "execute_result"
    }
   ],
   "source": [
    "output = con_layer(image)\n",
    "output_arr = output.detach().numpy() # output도 gradient가 있기 때문에 detach() 사용\n",
    "image_arr.shape, weight_example.shape, output_arr.shape"
   ]
  },
  {
   "cell_type": "code",
   "execution_count": 62,
   "metadata": {
    "ExecuteTime": {
     "end_time": "2019-11-04T14:39:26.209989Z",
     "start_time": "2019-11-04T14:39:25.722743Z"
    }
   },
   "outputs": [
    {
     "data": {
      "text/plain": [
       "<matplotlib.image.AxesImage at 0x2925f7dde48>"
      ]
     },
     "execution_count": 62,
     "metadata": {},
     "output_type": "execute_result"
    },
    {
     "data": {
      "image/png": "[encoded data removed]",
      "text/plain": [
       "<Figure size 720x1080 with 3 Axes>"
      ]
     },
     "metadata": {
      "needs_background": "light"
     },
     "output_type": "display_data"
    }
   ],
   "source": [
    "# Visualization\n",
    "plt.figure(figsize = (10, 15))\n",
    "plt.subplot(131)\n",
    "plt.title('Input')\n",
    "plt.imshow(image_arr, 'gray')\n",
    "\n",
    "plt.subplot(132)\n",
    "plt.title('Weight')\n",
    "plt.imshow(weight_example[0,0,:,:], 'jet')\n",
    "\n",
    "plt.subplot(133)\n",
    "plt.title('Output')\n",
    "plt.imshow(output_arr[0,0,:,:], 'gray')"
   ]
  },
  {
   "cell_type": "markdown",
   "metadata": {},
   "source": [
    "### 2. Pooling\n",
    "- 큰 특징을 추출해주는 Layer\n",
    "- 아래 예시의 경우 2x2 필터를 사용해 이미지의 크기를 1/2 줄여줌"
   ]
  },
  {
   "cell_type": "code",
   "execution_count": 71,
   "metadata": {
    "ExecuteTime": {
     "end_time": "2019-11-04T14:58:25.807689Z",
     "start_time": "2019-11-04T14:58:25.789699Z"
    }
   },
   "outputs": [
    {
     "name": "stdout",
     "output_type": "stream",
     "text": [
      "Before Shape :  torch.Size([1, 1, 28, 28])\n",
      "After Shape :  torch.Size([1, 1, 14, 14])\n"
     ]
    }
   ],
   "source": [
    "pool_layer = F.max_pool2d(image,2,2)\n",
    "print('Before Shape : ', image.shape)\n",
    "print('After Shape : ', pool_layer.shape)"
   ]
  },
  {
   "cell_type": "code",
   "execution_count": 77,
   "metadata": {
    "ExecuteTime": {
     "end_time": "2019-11-04T15:00:46.117562Z",
     "start_time": "2019-11-04T15:00:45.594864Z"
    }
   },
   "outputs": [
    {
     "data": {
      "text/plain": [
       "Text(0.5,1,'Pool Result(14x14)')"
      ]
     },
     "execution_count": 77,
     "metadata": {},
     "output_type": "execute_result"
    },
    {
     "data": {
      "image/png": "[encoded data removed]",
      "text/plain": [
       "<Figure size 720x1080 with 2 Axes>"
      ]
     },
     "metadata": {
      "needs_background": "light"
     },
     "output_type": "display_data"
    }
   ],
   "source": [
    "pool_arr = torch.squeeze(pool_layer).numpy() # Pool Layer의 경우 Weight가 없기 때문에 바로 numpy() 가능\n",
    "\n",
    "plt.figure(figsize = (10, 15))\n",
    "\n",
    "plt.subplot(121)\n",
    "plt.imshow(image_arr, 'gray')\n",
    "plt.title('Input(28x28)')\n",
    "\n",
    "plt.subplot(122)\n",
    "plt.imshow(pool_arr, 'gray')\n",
    "plt.title('Pool Result(14x14)')"
   ]
  },
  {
   "cell_type": "markdown",
   "metadata": {},
   "source": [
    "### 3. Linear\n",
    "- 기본으로 사용될 layer\n",
    "- Linear의 경우 2d가 아닌 1d이기 때문에 reshape 필요(or view)\n",
    "- 아래 예시의 경우 view()함수를 이용"
   ]
  },
  {
   "cell_type": "code",
   "execution_count": 85,
   "metadata": {
    "ExecuteTime": {
     "end_time": "2019-11-04T15:03:04.619958Z",
     "start_time": "2019-11-04T15:03:04.609942Z"
    }
   },
   "outputs": [
    {
     "data": {
      "text/plain": [
       "Linear(in_features=784, out_features=10, bias=True)"
      ]
     },
     "execution_count": 85,
     "metadata": {},
     "output_type": "execute_result"
    }
   ],
   "source": [
    "lin_layer = nn.Linear(28*28, 10) # input_size, output_size\n",
    "lin_layer"
   ]
  },
  {
   "cell_type": "code",
   "execution_count": 93,
   "metadata": {
    "ExecuteTime": {
     "end_time": "2019-11-04T15:04:25.070412Z",
     "start_time": "2019-11-04T15:04:25.055420Z"
    }
   },
   "outputs": [
    {
     "name": "stdout",
     "output_type": "stream",
     "text": [
      "tensor([[ 0.2891,  0.3113,  0.2044, -0.0863,  0.3559,  0.2755,  0.2509,  0.2539,\n",
      "          0.2906, -0.0995]], grad_fn=<AddmmBackward>)\n",
      "torch.Size([1, 10])\n"
     ]
    }
   ],
   "source": [
    "image_flatten = image.view(-1, 28*28) # 열을 28x28로 만들고 나머지를 행으로 만들어라(-1)\n",
    "lin_output = lin_layer(image_flatten)\n",
    "print(lin_output)\n",
    "print(lin_output.shape)"
   ]
  },
  {
   "cell_type": "code",
   "execution_count": 97,
   "metadata": {
    "ExecuteTime": {
     "end_time": "2019-11-04T15:05:23.950578Z",
     "start_time": "2019-11-04T15:05:23.753695Z"
    }
   },
   "outputs": [
    {
     "data": {
      "text/plain": [
       "Text(0.5,1,'Linear Result(1x10)')"
      ]
     },
     "execution_count": 97,
     "metadata": {},
     "output_type": "execute_result"
    },
    {
     "data": {
      "image/png": "[encoded data removed]",
      "text/plain": [
       "<Figure size 432x288 with 1 Axes>"
      ]
     },
     "metadata": {
      "needs_background": "light"
     },
     "output_type": "display_data"
    }
   ],
   "source": [
    "plt.imshow(lin_output.detach().numpy(), 'jet')\n",
    "plt.title('Linear Result(1x10)')"
   ]
  },
  {
   "cell_type": "markdown",
   "metadata": {},
   "source": [
    "### 4. Softmax\n",
    "- 출력층에 사용되는 Layer\n",
    "- 모델을 통과한 값이 출력층을 통과할 때 '확률'로 해석하기 위해 사용\n",
    "- 0~1사이의 확률값으로 변환\n",
    "- 아래 예시에서는 detach()를 사용 안 하고 다른 방법을 이용\n",
    "- 고것은 바로 with torch.no_grad()"
   ]
  },
  {
   "cell_type": "code",
   "execution_count": 108,
   "metadata": {
    "ExecuteTime": {
     "end_time": "2019-11-04T15:10:54.567055Z",
     "start_time": "2019-11-04T15:10:54.544072Z"
    }
   },
   "outputs": [
    {
     "name": "stdout",
     "output_type": "stream",
     "text": [
      "[[0.08616786 0.10344535 0.10251994 0.07755536 0.08927495 0.12112636\n",
      "  0.09921862 0.13336751 0.11068985 0.07663416]]\n",
      "1.0\n"
     ]
    }
   ],
   "source": [
    "with torch.no_grad():\n",
    "    image_flatten = image.view(-1, 28*28)\n",
    "    lin_layer = nn.Linear(28*28, 10)\n",
    "    image_output = lin_layer(image_flatten)\n",
    "    softmax_output = F.softmax(image_output, dim = 1)\n",
    "\n",
    "print(softmax_output.numpy())\n",
    "print(np.sum(softmax_output.numpy()))\n"
   ]
  }
 ],
 "metadata": {
  "kernelspec": {
   "display_name": "Python 3",
   "language": "python",
   "name": "python3"
  },
  "language_info": {
   "codemirror_mode": {
    "name": "ipython",
    "version": 3
   },
   "file_extension": ".py",
   "mimetype": "text/x-python",
   "name": "python",
   "nbconvert_exporter": "python",
   "pygments_lexer": "ipython3",
   "version": "3.7.4"
  },
  "varInspector": {
   "cols": {
    "lenName": 16,
    "lenType": 16,
    "lenVar": 40
   },
   "kernels_config": {
    "python": {
     "delete_cmd_postfix": "",
     "delete_cmd_prefix": "del ",
     "library": "var_list.py",
     "varRefreshCmd": "print(var_dic_list())"
    },
    "r": {
     "delete_cmd_postfix": ") ",
     "delete_cmd_prefix": "rm(",
     "library": "var_list.r",
     "varRefreshCmd": "cat(var_dic_list()) "
    }
   },
   "types_to_exclude": [
    "module",
    "function",
    "builtin_function_or_method",
    "instance",
    "_Feature"
   ],
   "window_display": false
  }
 },
 "nbformat": 4,
 "nbformat_minor": 2
}
