{
 "cells": [
  {
   "cell_type": "markdown",
   "metadata": {},
   "source": [
    "# DataLoader\n",
    "- 학습을 하기 위해서는 데이터를 불러와야 한다.\n",
    "- 이전에는 데이터를 하나하나 가져오는 방식으로 불러옴\n",
    "- Pytorch에 내장된 함수를 이용해서 편리하게 불러오는 방법을 알아보자"
   ]
  },
  {
   "cell_type": "markdown",
   "metadata": {},
   "source": [
    "### Custom Datasets\n",
    "- 기존에는 datasets을 바로 다운받아서 사용했다.(MNIST나 CIFAR10의 경우)\n",
    "- torch에 있는 Dataset를 직접 만들어서 DataLoader로 불러오기\n",
    "- Dataset 함수의 형태를 이해하고 customize 해보기"
   ]
  },
  {
   "cell_type": "code",
   "execution_count": 3,
   "metadata": {},
   "outputs": [],
   "source": [
    "import os\n",
    "import torch\n",
    "import torchvision\n",
    "import torchvision.transforms as transforms\n",
    "import numpy as np\n",
    "import matplotlib.pyplot as plt\n",
    "\n",
    "# Datasets 만들기\n",
    "transform = transforms.Compose([\n",
    "    transforms.ToTensor(),\n",
    "    transforms.Normalize((0.5, 0.5, 0.5), (0.5, 0.5, 0.5))\n",
    "])"
   ]
  },
  {
   "cell_type": "markdown",
   "metadata": {},
   "source": [
    "# Original Method\n",
    "- 필요한 데이터셋을 다운로드한 후 불러오기\n",
    "- 불러 온 데이터셋을 바로 Dataloader에 입력"
   ]
  },
  {
   "cell_type": "code",
   "execution_count": 8,
   "metadata": {
    "ExecuteTime": {
     "end_time": "2019-11-12T01:47:41.770228Z",
     "start_time": "2019-11-12T01:47:40.838747Z"
    }
   },
   "outputs": [
    {
     "name": "stdout",
     "output_type": "stream",
     "text": [
      "Dataset CIFAR10\n",
      "    Number of datapoints: 50000\n",
      "    Root location: ../data\n",
      "    Split: Train\n",
      "    StandardTransform\n",
      "Transform: Compose(\n",
      "               ToTensor()\n",
      "               Normalize(mean=(0.5, 0.5, 0.5), std=(0.5, 0.5, 0.5))\n",
      "           )\n"
     ]
    }
   ],
   "source": [
    "import torchvision\n",
    "\n",
    "trainset = torchvision.datasets.CIFAR10(root='../data', train=True,\n",
    "                                        download=False, transform=transform)\n",
    "\n",
    "trainloader = torch.utils.data.DataLoader(trainset, batch_size=4,\n",
    "                                        shuffle=True, num_workers=1)\n",
    "\n",
    "print(trainset)"
   ]
  },
  {
   "cell_type": "markdown",
   "metadata": {},
   "source": [
    "# Custom Dataset\n",
    "Dataset을 불러오는 class를 직접 코딩\n",
    "1. 데이터의 위치 파악\n",
    "2. 데이터와 해당 데이터의 레이블 확인"
   ]
  },
  {
   "cell_type": "code",
   "execution_count": 15,
   "metadata": {},
   "outputs": [],
   "source": [
    "from torch.utils.data import Dataset\n",
    "\n",
    "class MyDataset(Dataset): \n",
    "    def __init__(self):\n",
    "        pass\n",
    "    def __len__(self):\n",
    "        pass\n",
    "    def __getitem__(self, idx): \n",
    "        pass"
   ]
  },
  {
   "cell_type": "code",
   "execution_count": 39,
   "metadata": {},
   "outputs": [],
   "source": [
    "from torch.utils.data import Dataset\n",
    "\n",
    "class MyDataset(Dataset): \n",
    "    def __init__(self):\n",
    "        self.x = [[100,80,100,70],\n",
    "                  [70, 95, 92, 67],\n",
    "                  [60, 88, 73, 92],\n",
    "                  [80, 62, 91, 79]]\n",
    "        self.y = [[150],[200],[200],[300]]\n",
    "        \n",
    "    def __len__(self):\n",
    "        data_len = len(self.x)\n",
    "        \n",
    "        return data_len\n",
    "        \n",
    "    def __getitem__(self, idx):\n",
    "        \n",
    "        x = torch.Tensor(self.x)[idx]\n",
    "        y = torch.Tensor(self.y)[idx]\n",
    "        \n",
    "        return x, y\n",
    "\n",
    "mydata = MyDataset()\n",
    "print(mydata)"
   ]
  },
  {
   "cell_type": "code",
   "execution_count": 41,
   "metadata": {},
   "outputs": [
    {
     "data": {
      "text/plain": [
       "[tensor([[100.,  80., 100.,  70.]]), tensor([[150.]])]"
      ]
     },
     "execution_count": 41,
     "metadata": {},
     "output_type": "execute_result"
    }
   ],
   "source": [
    "from torch.utils.data import DataLoader\n",
    "\n",
    "data = DataLoader(mydata, batch_size=1)\n",
    "iter(data).next()"
   ]
  },
  {
   "cell_type": "markdown",
   "metadata": {},
   "source": [
    "# 이미지 데이터 정의"
   ]
  },
  {
   "cell_type": "code",
   "execution_count": 233,
   "metadata": {},
   "outputs": [
    {
     "name": "stdout",
     "output_type": "stream",
     "text": [
      "[tensor([[[[0.5843, 0.5843, 0.5843,  ..., 0.5882, 0.5882, 0.5882],\n",
      "          [0.5843, 0.5843, 0.5843,  ..., 0.5922, 0.5922, 0.5922],\n",
      "          [0.5882, 0.5882, 0.5882,  ..., 0.5922, 0.5922, 0.5922],\n",
      "          ...,\n",
      "          [0.1686, 0.1686, 0.1843,  ..., 0.0784, 0.0863, 0.0902],\n",
      "          [0.1608, 0.1490, 0.1529,  ..., 0.0902, 0.0980, 0.1020],\n",
      "          [0.1529, 0.1294, 0.1255,  ..., 0.1059, 0.1137, 0.1137]],\n",
      "\n",
      "         [[0.6941, 0.6941, 0.6941,  ..., 0.6980, 0.6980, 0.6980],\n",
      "          [0.6941, 0.6941, 0.6941,  ..., 0.7020, 0.7020, 0.7020],\n",
      "          [0.6980, 0.6980, 0.6980,  ..., 0.7020, 0.7020, 0.7020],\n",
      "          ...,\n",
      "          [0.2549, 0.2510, 0.2706,  ..., 0.1451, 0.1529, 0.1569],\n",
      "          [0.2471, 0.2314, 0.2431,  ..., 0.1569, 0.1647, 0.1686],\n",
      "          [0.2392, 0.2157, 0.2157,  ..., 0.1725, 0.1804, 0.1804]],\n",
      "\n",
      "         [[0.7882, 0.7882, 0.7882,  ..., 0.7843, 0.7843, 0.7843],\n",
      "          [0.7882, 0.7882, 0.7882,  ..., 0.7882, 0.7882, 0.7882],\n",
      "          [0.7922, 0.7922, 0.7922,  ..., 0.7882, 0.7882, 0.7882],\n",
      "          ...,\n",
      "          [0.4157, 0.4196, 0.4549,  ..., 0.2627, 0.2706, 0.2745],\n",
      "          [0.4078, 0.4000, 0.4157,  ..., 0.2745, 0.2824, 0.2863],\n",
      "          [0.3922, 0.3765, 0.3882,  ..., 0.2824, 0.2902, 0.2902]]]]), tensor([2])]\n"
     ]
    }
   ],
   "source": [
    "import glob\n",
    "import torchvision.transforms as transforms\n",
    "import re\n",
    "\n",
    "from torch.utils.data import Dataset\n",
    "from PIL import Image\n",
    "\n",
    "\n",
    "class MyImageData(Dataset):\n",
    "    \n",
    "    def __init__(self, data_path, class_to_label, transform=None):\n",
    "        self.data_path = data_path\n",
    "        self.transform = transform\n",
    "        self.class_to_label = class_to_label\n",
    "        self.image_list = glob.glob(self.data_path + '/*.jpg')\n",
    "        \n",
    "    def __len__(self):\n",
    "        \n",
    "        return len(self.image_list)\n",
    "    \n",
    "    def __getitem__(self, idx):\n",
    "        \n",
    "        file_name = self.image_list[idx]\n",
    "        \n",
    "        img = Image.open(file_name)\n",
    "\n",
    "        class_name = re.findall('[a-zA-Z]+', file_name)[-2]\n",
    "        label = self.class_to_label[class_name]\n",
    "        label = torch.tensor(label)\n",
    "        \n",
    "        img = self.transform(img)\n",
    "\n",
    "        return img, label\n",
    "    \n",
    "    \n",
    "data_path = 'data/image'\n",
    "class_to_label = {'dog' : 1, 'cat' : 2}\n",
    "transform = transforms.ToTensor()\n",
    "\n",
    "mydataset = MyImageData(data_path, class_to_label, transform=transform)\n",
    "\n",
    "data = DataLoader(mydataset)\n",
    "\n",
    "print(iter(data).next())"
   ]
  },
  {
   "cell_type": "markdown",
   "metadata": {},
   "source": [
    "# ImageFolder\n",
    "- Torchvision 라이브러리에 있는 함수\n",
    "- 데이터들이 각각의 레이블파일로 구축되어있을 때 사용하는 함수\n",
    "> **ImageFolder는 데이터를 3채널로만 출력을 하기 때문에 1채널만 있는 이미지에 대해서는 따로 수정을 해줘야한다.**"
   ]
  },
  {
   "cell_type": "code",
   "execution_count": null,
   "metadata": {},
   "outputs": [],
   "source": [
    "import torchvision.transforms as transforms\n",
    "from torchvision.datasets import ImageFolder\n",
    "from torch.utils.data import DataLoader\n",
    "\n",
    "transform = transforms.ToTensor()\n",
    "\n",
    "datasets = ImageFolder(root='../../data/fruit', transform=transform)\n",
    "print(datasets)\n",
    "# Dataset ImageFolder\n",
    "#     Number of datapoints: 8513\n",
    "#     Root location: ../../data/fruit\n",
    "\n",
    "data = DataLoader(datasets, batch_size=1)\n",
    ">>> print(iter(data).next())"
   ]
  }
 ],
 "metadata": {
  "kernelspec": {
   "display_name": "Python 3",
   "language": "python",
   "name": "python3"
  },
  "language_info": {
   "codemirror_mode": {
    "name": "ipython",
    "version": 3
   },
   "file_extension": ".py",
   "mimetype": "text/x-python",
   "name": "python",
   "nbconvert_exporter": "python",
   "pygments_lexer": "ipython3",
   "version": "3.8.5"
  },
  "varInspector": {
   "cols": {
    "lenName": 16,
    "lenType": 16,
    "lenVar": 40
   },
   "kernels_config": {
    "python": {
     "delete_cmd_postfix": "",
     "delete_cmd_prefix": "del ",
     "library": "var_list.py",
     "varRefreshCmd": "print(var_dic_list())"
    },
    "r": {
     "delete_cmd_postfix": ") ",
     "delete_cmd_prefix": "rm(",
     "library": "var_list.r",
     "varRefreshCmd": "cat(var_dic_list()) "
    }
   },
   "types_to_exclude": [
    "module",
    "function",
    "builtin_function_or_method",
    "instance",
    "_Feature"
   ],
   "window_display": false
  }
 },
 "nbformat": 4,
 "nbformat_minor": 2
}
