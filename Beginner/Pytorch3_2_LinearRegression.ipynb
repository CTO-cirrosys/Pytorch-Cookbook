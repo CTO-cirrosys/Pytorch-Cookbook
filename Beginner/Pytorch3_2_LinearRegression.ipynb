{
 "cells": [
  {
   "cell_type": "code",
   "execution_count": 3,
   "metadata": {},
   "outputs": [
    {
     "name": "stdout",
     "output_type": "stream",
     "text": [
      "1.4.0\n"
     ]
    }
   ],
   "source": [
    "import torch\n",
    "print(torch.__version__)"
   ]
  },
  {
   "cell_type": "markdown",
   "metadata": {},
   "source": [
    "$y = \\theta_1x + \\theta_0$\n",
    "<br>\n",
    "<br>\n",
    "$\\theta_1 = 0.6, \\theta_0 = -44$"
   ]
  },
  {
   "cell_type": "markdown",
   "metadata": {},
   "source": [
    "대충 내가 가진 데이터로 계산을 해보니"
   ]
  },
  {
   "cell_type": "code",
   "execution_count": 209,
   "metadata": {},
   "outputs": [
    {
     "name": "stdout",
     "output_type": "stream",
     "text": [
      "Linear(in_features=1, out_features=1, bias=True)\n"
     ]
    }
   ],
   "source": [
    "import torch.nn as nn\n",
    "\n",
    "simple_regression = nn.Linear(1, 1, bias=True)\n",
    "print(simple_regression)"
   ]
  },
  {
   "cell_type": "code",
   "execution_count": 210,
   "metadata": {},
   "outputs": [
    {
     "name": "stdout",
     "output_type": "stream",
     "text": [
      "Parameter containing:\n",
      "tensor([[-0.8308]], requires_grad=True)\n",
      "Parameter containing:\n",
      "tensor([0.7396], requires_grad=True)\n",
      "torch.Size([1, 1])\n",
      "torch.Size([1])\n"
     ]
    }
   ],
   "source": [
    "init_weight = simple_regression.weight\n",
    "init_bias = simple_regression.bias\n",
    "\n",
    "print(init_weight)\n",
    "print(init_bias)\n",
    "\n",
    "print(init_weight.size())\n",
    "print(init_bias.size())"
   ]
  },
  {
   "cell_type": "code",
   "execution_count": 211,
   "metadata": {},
   "outputs": [
    {
     "name": "stdout",
     "output_type": "stream",
     "text": [
      "Parameter containing:\n",
      "tensor([[0.6666]], requires_grad=True)\n",
      "Parameter containing:\n",
      "tensor([-44.], requires_grad=True)\n"
     ]
    }
   ],
   "source": [
    "my_weight = torch.tensor([0.6666], dtype=torch.float).reshape_as(init_weight)\n",
    "my_bias = torch.tensor([-44], dtype=torch.float).reshape_as(init_bias)\n",
    "\n",
    "new_weight = nn.Parameter(my_weight)\n",
    "new_bias = nn.Parameter(my_bias)\n",
    "\n",
    "simple_regression.weight = new_weight\n",
    "simple_regression.bias = new_bias\n",
    "\n",
    "print(simple_regression.weight)\n",
    "print(simple_regression.bias)"
   ]
  },
  {
   "cell_type": "code",
   "execution_count": 212,
   "metadata": {},
   "outputs": [
    {
     "name": "stdout",
     "output_type": "stream",
     "text": [
      "tensor([[71.9884],\n",
      "        [75.9880],\n",
      "        [68.6554],\n",
      "        [69.9886]], grad_fn=<AddmmBackward>)\n",
      "tensor([[72.],\n",
      "        [76.],\n",
      "        [65.],\n",
      "        [68.]])\n"
     ]
    }
   ],
   "source": [
    "cm = [174, 180, 169, 171]\n",
    "kg = [ 72,  76,  65,  68]\n",
    "\n",
    "data_x = torch.tensor(cm, dtype=torch.float, requires_grad=False).reshape(len(cm), 1)\n",
    "data_y = torch.tensor(kg, dtype=torch.float, requires_grad=False).reshape(len(cm), 1)\n",
    "\n",
    "kg_prediction = simple_regression(data_x)\n",
    "\n",
    "print(kg_prediction)\n",
    "print(data_y.reshape_as(cm_prediction))"
   ]
  }
 ],
 "metadata": {
  "kernelspec": {
   "display_name": "Python 3",
   "language": "python",
   "name": "python3"
  },
  "language_info": {
   "codemirror_mode": {
    "name": "ipython",
    "version": 3
   },
   "file_extension": ".py",
   "mimetype": "text/x-python",
   "name": "python",
   "nbconvert_exporter": "python",
   "pygments_lexer": "ipython3",
   "version": "3.7.4"
  }
 },
 "nbformat": 4,
 "nbformat_minor": 2
}
