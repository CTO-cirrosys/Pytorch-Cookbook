{
 "cells": [
  {
   "cell_type": "markdown",
   "metadata": {},
   "source": [
    "# Master Pytorch 6 : NLP - BoW Classifier\n",
    "- 논리 회귀 Bag-of-Words 분류기 만들기\n",
    "- BoW 표현을 레이블에 대한 로그 확률로 매핑"
   ]
  },
  {
   "cell_type": "code",
   "execution_count": 1,
   "metadata": {
    "ExecuteTime": {
     "end_time": "2018-12-02T09:06:36.215503Z",
     "start_time": "2018-12-02T09:06:32.916937Z"
    }
   },
   "outputs": [
    {
     "data": {
      "text/html": [
       "<div>\n",
       "<style scoped>\n",
       "    .dataframe tbody tr th:only-of-type {\n",
       "        vertical-align: middle;\n",
       "    }\n",
       "\n",
       "    .dataframe tbody tr th {\n",
       "        vertical-align: top;\n",
       "    }\n",
       "\n",
       "    .dataframe thead th {\n",
       "        text-align: right;\n",
       "    }\n",
       "</style>\n",
       "<table border=\"1\" class=\"dataframe\">\n",
       "  <thead>\n",
       "    <tr style=\"text-align: right;\">\n",
       "      <th></th>\n",
       "      <th>단어</th>\n",
       "    </tr>\n",
       "  </thead>\n",
       "  <tbody>\n",
       "    <tr>\n",
       "      <th>0</th>\n",
       "      <td>hello</td>\n",
       "    </tr>\n",
       "    <tr>\n",
       "      <th>1</th>\n",
       "      <td>world</td>\n",
       "    </tr>\n",
       "  </tbody>\n",
       "</table>\n",
       "</div>"
      ],
      "text/plain": [
       "      단어\n",
       "0  hello\n",
       "1  world"
      ]
     },
     "execution_count": 1,
     "metadata": {},
     "output_type": "execute_result"
    }
   ],
   "source": [
    "import pandas as pd\n",
    "\n",
    "data = {'단어' : ['hello', 'world']}\n",
    "df = pd.DataFrame(data)\n",
    "df"
   ]
  },
  {
   "cell_type": "markdown",
   "metadata": {},
   "source": [
    "- 각각 0과 1의 색인을 가진 두 단어(hello, world)가 있다.\n",
    "- 위 사전을 이용하면 다음과 같이 매핑된다.[count(hello), count(world)]\n",
    ">\"hello hello hello hello\" = [4,0]<br>\n",
    "\"helloworldworldhello\" = [2,2]\n",
    "\n"
   ]
  },
  {
   "cell_type": "markdown",
   "metadata": {},
   "source": [
    "## data 준비"
   ]
  },
  {
   "cell_type": "code",
   "execution_count": 2,
   "metadata": {
    "ExecuteTime": {
     "end_time": "2018-12-02T09:06:36.229477Z",
     "start_time": "2018-12-02T09:06:36.220993Z"
    }
   },
   "outputs": [],
   "source": [
    "data = [(\"me gusta comer en la cafeteria\".split(), 'SPANISH'),\n",
    "        (\"Give it to me\".split(), 'ENGLISH'),\n",
    "        (\"No creo que sea una buena idea\".split(), 'SPANISH'),\n",
    "        ('No it is not a good idea to get lost at sea'.split(), 'ENGLISH')]\n",
    "\n",
    "test_data = [('Yo creo que si'.split(), 'SPANISH'),\n",
    "             ('it is lost on me'.split(), 'ENGLISH')]"
   ]
  },
  {
   "cell_type": "markdown",
   "metadata": {},
   "source": [
    "## Word to ix\n",
    "- 각 단어를 고유한 숫자로 매핑"
   ]
  },
  {
   "cell_type": "code",
   "execution_count": 3,
   "metadata": {
    "ExecuteTime": {
     "end_time": "2018-12-02T09:06:36.275890Z",
     "start_time": "2018-12-02T09:06:36.235467Z"
    }
   },
   "outputs": [
    {
     "name": "stdout",
     "output_type": "stream",
     "text": [
      "{'me': 0, 'gusta': 1, 'comer': 2, 'en': 3, 'la': 4, 'cafeteria': 5, 'Give': 6, 'it': 7, 'to': 8, 'No': 9, 'creo': 10, 'que': 11, 'sea': 12, 'una': 13, 'buena': 14, 'idea': 15, 'is': 16, 'not': 17, 'a': 18, 'good': 19, 'get': 20, 'lost': 21, 'at': 22, 'Yo': 23, 'si': 24, 'on': 25}\n"
     ]
    }
   ],
   "source": [
    "word_to_ix = {}\n",
    "for sent, lan in data + test_data:\n",
    "    for word in sent:\n",
    "        if word not in word_to_ix:\n",
    "            word_to_ix[word] = len(word_to_ix)\n",
    "            \n",
    "print(word_to_ix)\n",
    "vocab_size = len(word_to_ix)\n",
    "labels_n = 2"
   ]
  },
  {
   "cell_type": "code",
   "execution_count": 4,
   "metadata": {
    "ExecuteTime": {
     "end_time": "2018-12-02T09:06:39.131471Z",
     "start_time": "2018-12-02T09:06:36.281881Z"
    }
   },
   "outputs": [],
   "source": [
    "import torch\n",
    "import torch.nn as nn\n",
    "import torch.nn.functional as F\n",
    "import torch.optim as optim"
   ]
  },
  {
   "cell_type": "code",
   "execution_count": 5,
   "metadata": {
    "ExecuteTime": {
     "end_time": "2018-12-02T09:06:39.186369Z",
     "start_time": "2018-12-02T09:06:39.136462Z"
    }
   },
   "outputs": [
    {
     "name": "stdout",
     "output_type": "stream",
     "text": [
      "BoWClassifier(\n",
      "  (linear): Linear(in_features=26, out_features=2, bias=True)\n",
      ")\n",
      "\n",
      "Parameter containing:\n",
      "tensor([[ 0.1035,  0.0093, -0.0486, -0.0721,  0.0149,  0.1658,  0.0544, -0.0806,\n",
      "         -0.1053, -0.0785, -0.1955,  0.1215,  0.1145,  0.1684,  0.0007,  0.0694,\n",
      "          0.1832, -0.0012,  0.1012, -0.0823, -0.1031,  0.0987,  0.0949, -0.0051,\n",
      "          0.1895, -0.0622],\n",
      "        [-0.1550,  0.1548, -0.0475, -0.0765, -0.0176, -0.1746,  0.1676, -0.0587,\n",
      "         -0.0842, -0.1545,  0.0199, -0.0701,  0.0995, -0.1513,  0.0943, -0.1480,\n",
      "         -0.1725, -0.1530, -0.1153,  0.1657, -0.1579,  0.1926,  0.0329,  0.1762,\n",
      "          0.1112, -0.0442]], requires_grad=True)\n",
      "Parameter containing:\n",
      "tensor([-0.1557,  0.1500], requires_grad=True)\n"
     ]
    }
   ],
   "source": [
    "class BoWClassifier(nn.Module):\n",
    "    \n",
    "    def __init__(self, input_size, output_size):\n",
    "        super(BoWClassifier, self).__init__()\n",
    "        \n",
    "        \n",
    "        self.linear = nn.Linear(input_size, output_size) # input : vocab_size, output : num_labels\n",
    "        \n",
    "    def forward(self, bow_vec):\n",
    "        \n",
    "        y = self.linear(bow_vec)\n",
    "        y = F.log_softmax(y, dim = 1)\n",
    "        \n",
    "        return y\n",
    "    \n",
    "def make_bow_vector(sentence, word_to_ix):\n",
    "    vec = torch.zeros(len(word_to_ix))\n",
    "    for word in sentence:\n",
    "        vec[word_to_ix[word]] += 1\n",
    "    \n",
    "    return vec.view(1, -1) # size가 [26]이 아닌 [26,1]로 나와야한다.\n",
    "\n",
    "def make_target(label, label_to_ix):\n",
    "    \n",
    "    return torch.LongTensor([label_to_ix[label]])\n",
    "\n",
    "model = BoWClassifier(vocab_size, labels_n)\n",
    "print(model)\n",
    "print('')\n",
    "for p in model.parameters():\n",
    "    print(p)"
   ]
  },
  {
   "cell_type": "code",
   "execution_count": 6,
   "metadata": {
    "ExecuteTime": {
     "end_time": "2018-12-02T09:06:39.212321Z",
     "start_time": "2018-12-02T09:06:39.190860Z"
    }
   },
   "outputs": [
    {
     "name": "stdout",
     "output_type": "stream",
     "text": [
      "tensor([[-0.6056, -0.7891]])\n"
     ]
    }
   ],
   "source": [
    "with torch.no_grad(): # grad없이(학습 없이) 그냥 결과만 확인하는 방법\n",
    "    sample = data[0]\n",
    "    bow_vector = make_bow_vector(sample[0], word_to_ix)\n",
    "    log_probs = model(bow_vector)\n",
    "    print(log_probs)"
   ]
  },
  {
   "cell_type": "code",
   "execution_count": 7,
   "metadata": {
    "ExecuteTime": {
     "end_time": "2018-12-02T09:06:39.289676Z",
     "start_time": "2018-12-02T09:06:39.224797Z"
    }
   },
   "outputs": [
    {
     "name": "stdout",
     "output_type": "stream",
     "text": [
      "tensor([[-0.9326, -0.5001]])\n",
      "tensor([[-0.6095, -0.7844]])\n"
     ]
    }
   ],
   "source": [
    "label_to_ix = {'SPANISH' : 0, 'ENGLISH' : 1}\n",
    "\n",
    "with torch.no_grad(): # test data 확인하기\n",
    "    for sent, label in test_data:\n",
    "        bow_vec = make_bow_vector(sent, word_to_ix)\n",
    "        log_probs = model(bow_vec)\n",
    "        print(log_probs)"
   ]
  },
  {
   "cell_type": "code",
   "execution_count": 8,
   "metadata": {
    "ExecuteTime": {
     "end_time": "2018-12-02T09:06:39.306645Z",
     "start_time": "2018-12-02T09:06:39.295166Z"
    }
   },
   "outputs": [
    {
     "name": "stdout",
     "output_type": "stream",
     "text": [
      "tensor([-0.1955,  0.0199], grad_fn=<SelectBackward>)\n",
      "tensor([ 0.1832, -0.1725], grad_fn=<SelectBackward>)\n"
     ]
    }
   ],
   "source": [
    "print(next(model.parameters())[:, word_to_ix['creo']]) # creo에 해당하는 가중치 행렬 부분 출력\n",
    "print(next(model.parameters())[:, word_to_ix['is']])"
   ]
  },
  {
   "cell_type": "code",
   "execution_count": 9,
   "metadata": {
    "ExecuteTime": {
     "end_time": "2018-12-02T09:06:39.731347Z",
     "start_time": "2018-12-02T09:06:39.319121Z"
    }
   },
   "outputs": [],
   "source": [
    "loss_function = nn.NLLLoss()\n",
    "optimizer = optim.SGD(model.parameters(), lr = 0.1)\n",
    "\n",
    "batch_size = 1\n",
    "epoch_n = 300\n",
    "iter_n = 1000\n",
    "\n",
    "for epoch in range(epoch_n):\n",
    "    loss_avg = 0\n",
    "    for sent, label in data:\n",
    "        \n",
    "        model.zero_grad()\n",
    "        \n",
    "        bow_vec = make_bow_vector(sent, word_to_ix)\n",
    "        target = make_target(label, label_to_ix)\n",
    "        \n",
    "        log_probs = model(bow_vec)\n",
    "        \n",
    "        loss = loss_function(log_probs, target)\n",
    "        loss.backward()\n",
    "        optimizer.step()"
   ]
  },
  {
   "cell_type": "code",
   "execution_count": 10,
   "metadata": {
    "ExecuteTime": {
     "end_time": "2018-12-02T09:06:39.744806Z",
     "start_time": "2018-12-02T09:06:39.734824Z"
    }
   },
   "outputs": [
    {
     "name": "stdout",
     "output_type": "stream",
     "text": [
      "tensor([ 0.3299, -0.5055], grad_fn=<SelectBackward>)\n",
      "tensor([-0.1390,  0.1497], grad_fn=<SelectBackward>)\n"
     ]
    }
   ],
   "source": [
    "print(next(model.parameters())[:, word_to_ix['creo']])\n",
    "print(next(model.parameters())[:, word_to_ix['is']])"
   ]
  },
  {
   "cell_type": "code",
   "execution_count": 11,
   "metadata": {
    "ExecuteTime": {
     "end_time": "2018-12-02T09:06:39.771756Z",
     "start_time": "2018-12-02T09:06:39.750795Z"
    }
   },
   "outputs": [
    {
     "name": "stdout",
     "output_type": "stream",
     "text": [
      "['Yo', 'creo', 'que', 'si'] tensor([[-0.1436, -2.0118]])\n",
      "['it', 'is', 'lost', 'on', 'me'] tensor([[-3.1194, -0.0452]])\n"
     ]
    }
   ],
   "source": [
    "label_to_ix = {'SPANISH' : 0, 'ENGLISH' : 1}\n",
    "\n",
    "with torch.no_grad(): # test data 확인하기\n",
    "    for sent, label in test_data:\n",
    "        bow_vec = make_bow_vector(sent, word_to_ix)\n",
    "        log_probs = model(bow_vec)\n",
    "        print(sent, log_probs)"
   ]
  },
  {
   "cell_type": "markdown",
   "metadata": {},
   "source": [
    "- Train 전, 후로 test data의 문장을 비교하면 각 언어로 prob이 증가한 것을 알 수 있다."
   ]
  }
 ],
 "metadata": {
  "kernelspec": {
   "display_name": "Python 3",
   "language": "python",
   "name": "python3"
  },
  "language_info": {
   "codemirror_mode": {
    "name": "ipython",
    "version": 3
   },
   "file_extension": ".py",
   "mimetype": "text/x-python",
   "name": "python",
   "nbconvert_exporter": "python",
   "pygments_lexer": "ipython3",
   "version": "3.6.2"
  },
  "varInspector": {
   "cols": {
    "lenName": 16,
    "lenType": 16,
    "lenVar": 40
   },
   "kernels_config": {
    "python": {
     "delete_cmd_postfix": "",
     "delete_cmd_prefix": "del ",
     "library": "var_list.py",
     "varRefreshCmd": "print(var_dic_list())"
    },
    "r": {
     "delete_cmd_postfix": ") ",
     "delete_cmd_prefix": "rm(",
     "library": "var_list.r",
     "varRefreshCmd": "cat(var_dic_list()) "
    }
   },
   "types_to_exclude": [
    "module",
    "function",
    "builtin_function_or_method",
    "instance",
    "_Feature"
   ],
   "window_display": false
  }
 },
 "nbformat": 4,
 "nbformat_minor": 2
}
