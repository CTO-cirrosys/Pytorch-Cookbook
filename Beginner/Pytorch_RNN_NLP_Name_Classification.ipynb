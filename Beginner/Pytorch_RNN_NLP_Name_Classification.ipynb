{
 "cells": [
  {
   "cell_type": "markdown",
   "metadata": {},
   "source": [
    "# 문자 단위 RNN으로 이름 분류하기\n",
    "- 문자 하나(ex. a, b,....,z)를 하나의 one-hot벡터로 표현하여 예측 실시\n",
    "- 한 문자의 벡터 길이는 alphabet의 길이(26)이다.\n",
    "- 18개 언어로 된 수천 개의 성을 훈련시킨 후, 철자에 따라 이름이 어떤 언어인지 예측"
   ]
  },
  {
   "cell_type": "markdown",
   "metadata": {},
   "source": [
    "#  DataLoad\n",
    "- data/name 디렉토리에 18개 텍스트 파일이 포함되어 있다.\n",
    "- 각 파일에는 한 줄에 하나의 이름이 포함되어 있다.(로마자)\n",
    "- ASCII로 변환해야 한다."
   ]
  },
  {
   "cell_type": "code",
   "execution_count": 1,
   "metadata": {
    "ExecuteTime": {
     "end_time": "2018-12-09T09:49:42.799201Z",
     "start_time": "2018-12-09T09:49:42.770256Z"
    },
    "scrolled": true
   },
   "outputs": [
    {
     "name": "stdout",
     "output_type": "stream",
     "text": [
      "['data/names\\\\Arabic.txt', 'data/names\\\\Chinese.txt', 'data/names\\\\Czech.txt', 'data/names\\\\Dutch.txt', 'data/names\\\\English.txt', 'data/names\\\\French.txt', 'data/names\\\\German.txt', 'data/names\\\\Greek.txt', 'data/names\\\\Irish.txt', 'data/names\\\\Italian.txt', 'data/names\\\\Japanese.txt', 'data/names\\\\Korean.txt', 'data/names\\\\Polish.txt', 'data/names\\\\Portuguese.txt', 'data/names\\\\Russian.txt', 'data/names\\\\Scottish.txt', 'data/names\\\\Spanish.txt', 'data/names\\\\Vietnamese.txt']\n",
      "\n",
      "18\n"
     ]
    }
   ],
   "source": [
    "# data 보기\n",
    "from io import open\n",
    "import glob\n",
    "import os\n",
    "\n",
    "path = 'data/names/'\n",
    "filenames = glob.glob(path + '*.txt')\n",
    "print(filenames)\n",
    "print('')\n",
    "print(len(filenames))"
   ]
  },
  {
   "cell_type": "code",
   "execution_count": 2,
   "metadata": {
    "ExecuteTime": {
     "end_time": "2018-12-09T09:49:42.843120Z",
     "start_time": "2018-12-09T09:49:42.804192Z"
    },
    "scrolled": true
   },
   "outputs": [
    {
     "name": "stdout",
     "output_type": "stream",
     "text": [
      "0123456789abcdefABCDEF\n",
      "!\"#$%&'()*+,-./:;<=>?@[\\]^_`{|}~\n",
      " \t\n",
      "\r",
      "\u000b",
      "\f",
      "\n",
      "0123456789abcdefghijklmnopqrstuvwxyzABCDEFGHIJKLMNOPQRSTUVWXYZ!\"#$%&'()*+,-./:;<=>?@[\\]^_`{|}~ \t\n",
      "\r",
      "\u000b",
      "\f",
      "\n"
     ]
    },
    {
     "data": {
      "text/plain": [
       "'abcdefghijklmnopqrstuvwxyzABCDEFGHIJKLMNOPQRSTUVWXYZ .,;'"
      ]
     },
     "execution_count": 2,
     "metadata": {},
     "output_type": "execute_result"
    }
   ],
   "source": [
    "import unicodedata\n",
    "import string # 모든 알파벳을 출력하기 위해 import\n",
    "\n",
    "print(string.hexdigits) # 16진수 표현하는 문자들\n",
    "print(string.punctuation) # 특수문자, 특수기호\n",
    "print(string.whitespace) # 공백문자\n",
    "print(string.printable) # 모든 문자 + 기호\n",
    "\n",
    "all_letters = string.ascii_letters + ' .,;' # 알파벳(대 + 소) + 공백 + ,.;\n",
    "all_letters"
   ]
  },
  {
   "cell_type": "code",
   "execution_count": 3,
   "metadata": {
    "ExecuteTime": {
     "end_time": "2018-12-09T09:49:42.865577Z",
     "start_time": "2018-12-09T09:49:42.849109Z"
    }
   },
   "outputs": [
    {
     "name": "stdout",
     "output_type": "stream",
     "text": [
      "Slusarski\n"
     ]
    }
   ],
   "source": [
    "# 유니코드 문자열을 일반 ASCII로 변환\n",
    "# 한 단어를 문자 하나하나로 쪼개서 각각을 ascii로 변환\n",
    "# 또한 변환된 단어의 분류가 'Mn'이 아니고 all_letters에 포함되어 있으면 출력\n",
    "def Unicode_to_Ascii(s):\n",
    "    word = ''.join(c for c in unicodedata.normalize('NFD', s)\n",
    "           if unicodedata.category(c) != 'Mn' # Nonspacing Mark, 특정 언어에서 사용되는 기호\n",
    "            and c in all_letters) # c가 all_letter에 포함되어 있는 것\n",
    "    \n",
    "    return word\n",
    "\n",
    "print(Unicode_to_Ascii('Ślusàrski'))"
   ]
  },
  {
   "cell_type": "code",
   "execution_count": 4,
   "metadata": {
    "ExecuteTime": {
     "end_time": "2018-12-09T09:49:42.916482Z",
     "start_time": "2018-12-09T09:49:42.870069Z"
    }
   },
   "outputs": [],
   "source": [
    "# 각 파일로부터 이름 불러오기\n",
    "def readline(filename):\n",
    "    lines = open(filename, encoding = 'utf-8').read().strip().split('\\n')\n",
    "    names = [name for name in lines]\n",
    "    \n",
    "    return names\n",
    "\n",
    "lan_list = []\n",
    "lan_name_list = {}\n",
    "\n",
    "# 국가별 이름 목록사전 만들기{lan : [name1, name2...]}\n",
    "for filename in filenames:\n",
    "    lan = os.path.splitext(os.path.basename(filename))[0]\n",
    "    lan_list.append(lan)\n",
    "    name = readline(filename)\n",
    "    lan_name_list[lan] = name\n",
    "    \n",
    "lan_n = len(lan_name_list)"
   ]
  },
  {
   "cell_type": "markdown",
   "metadata": {},
   "source": [
    "### 변수 설명\n",
    "- lan_list : 국가 목록\n",
    "- lan_name_list : 국가별 이름 목록\n",
    "- lan_name_list_n : 국가 개수"
   ]
  },
  {
   "cell_type": "markdown",
   "metadata": {},
   "source": [
    "# 이름을 Tensor로 변환\n",
    "- 하나의 문자(ex. a)를 표현하기 위해서는 size가 1xn_letter인 One-hot 벡터를 사용한다.\n",
    "- a : Tensor[[1,0,0,0......,0]]\n",
    "- b : Tensor[[0,1,0,0.......0]]\n",
    "- z : Tensor[[0,0,0,0.......1]]\n",
    "<br><br>\n",
    "- 단어를 만들어 주기 위해 2차원 행렬(len_of_word x 1 x n_letters)"
   ]
  },
  {
   "cell_type": "code",
   "execution_count": 5,
   "metadata": {
    "ExecuteTime": {
     "end_time": "2018-12-09T09:49:46.615218Z",
     "start_time": "2018-12-09T09:49:42.921473Z"
    }
   },
   "outputs": [
    {
     "name": "stdout",
     "output_type": "stream",
     "text": [
      "tensor([[0., 0., 0., 0., 0., 0., 0., 0., 0., 1., 0., 0., 0., 0., 0., 0., 0., 0.,\n",
      "         0., 0., 0., 0., 0., 0., 0., 0., 0., 0., 0., 0., 0., 0., 0., 0., 0., 0.,\n",
      "         0., 0., 0., 0., 0., 0., 0., 0., 0., 0., 0., 0., 0., 0., 0., 0., 0., 0.,\n",
      "         0., 0.]])\n",
      "torch.Size([6, 1, 56])\n"
     ]
    }
   ],
   "source": [
    "import torch\n",
    "\n",
    "# 한 letter의 index값을 출력\n",
    "def Letter_to_Index(letter):\n",
    "    letter_index = all_letters.find(letter) \n",
    "     \n",
    "    return letter_index\n",
    "\n",
    "# 각 letter별 index사전 만들기(one-hot 벡터)\n",
    "def Letter_to_Tensor(letter):\n",
    "    letter_tensor = torch.zeros(1, len(all_letters))\n",
    "    letter_tensor[0][Letter_to_Index(letter)] = 1\n",
    "    \n",
    "    return letter_tensor\n",
    "\n",
    "def Name_to_Tensor(name):\n",
    "    tensor = torch.zeros(len(name), 1, len(all_letters))\n",
    "    for i, c in enumerate(name):\n",
    "        tensor[i][0][Letter_to_Index(c)] = 1\n",
    "        \n",
    "    return tensor\n",
    "\n",
    "print(Letter_to_Tensor('j'))\n",
    "print(Name_to_Tensor('justin').size())"
   ]
  },
  {
   "cell_type": "markdown",
   "metadata": {},
   "source": [
    "# RNN 생성\n",
    "- input layer와 hidden layer가 합쳐져 output layer(i2o)를 형성\n",
    "- input layer와 hideen layer가 합쳐져 다음 hidden layer(i2h)를 형성\n",
    "- i2o인 경우 sofrmax 함수를 이용해 확률값 출력하고 정답label과 오차값 계산\n",
    "- i2h인 경우 두 번째 h2로 \n",
    "넘어간다.\n",
    "\n",
    "# 진행 과정\n",
    "1. 이름 하나를 구성하는 각각의 letter들이 한 글자씩 input으로 들어간다.\n",
    "2. "
   ]
  },
  {
   "cell_type": "code",
   "execution_count": 6,
   "metadata": {
    "ExecuteTime": {
     "end_time": "2018-12-09T09:49:46.690078Z",
     "start_time": "2018-12-09T09:49:46.622704Z"
    },
    "scrolled": true
   },
   "outputs": [],
   "source": [
    "import torch.nn as nn\n",
    "\n",
    "class RNN(nn.Module):\n",
    "    \n",
    "    def __init__(self, input_size, hidden_size, output_size):\n",
    "        super(RNN, self).__init__()\n",
    "        \n",
    "        self.hidden_size = hidden_size\n",
    "        \n",
    "        self.i2h = nn.Linear(input_size + hidden_size, hidden_size)\n",
    "        self.i2o = nn.Linear(input_size + hidden_size, output_size)\n",
    "        self.softmax = nn.LogSoftmax(dim = 1)\n",
    "        \n",
    "    def forward(self, input, hidden):\n",
    "        \n",
    "        combined = torch.cat((input, hidden), 1) # 열로 붙이기\n",
    "        hidden = self.i2h(combined)\n",
    "        output = self.i2o(combined)\n",
    "        output = self.softmax(output)\n",
    "        \n",
    "        return output, hidden\n",
    "\n",
    "    def initHidden(self):\n",
    "        \n",
    "        return torch.zeros(1, self.hidden_size)\n",
    "    \n",
    "hidden_n = 128\n",
    "letter_n = len(all_letters)\n",
    "lan_n = len(lan_name_list)\n",
    "\n",
    "\n",
    "rnn = RNN(letter_n, hidden_n, lan_n)"
   ]
  },
  {
   "cell_type": "code",
   "execution_count": 7,
   "metadata": {
    "ExecuteTime": {
     "end_time": "2018-12-09T09:49:46.744977Z",
     "start_time": "2018-12-09T09:49:46.693573Z"
    }
   },
   "outputs": [
    {
     "name": "stdout",
     "output_type": "stream",
     "text": [
      "tensor([[-2.8130, -2.8156, -2.8805, -2.9628, -2.8684, -2.9068, -3.0163, -2.8829,\n",
      "         -2.8716, -2.8223, -2.8996, -2.8302, -2.9353, -3.0007, -2.8497, -2.8181,\n",
      "         -2.9474, -2.9397]])\n"
     ]
    }
   ],
   "source": [
    "with torch.no_grad():\n",
    "    input = Letter_to_Tensor('a')\n",
    "    hidden = torch.zeros(1, hidden_n)\n",
    "\n",
    "    output, hidden = rnn(input, hidden)\n",
    "    print(output) # 출력은 국가 중 하나이고, 값이 높을수록 가능성이 높다."
   ]
  },
  {
   "cell_type": "code",
   "execution_count": 8,
   "metadata": {
    "ExecuteTime": {
     "end_time": "2018-12-09T09:49:46.770929Z",
     "start_time": "2018-12-09T09:49:46.751963Z"
    },
    "scrolled": true
   },
   "outputs": [
    {
     "name": "stdout",
     "output_type": "stream",
     "text": [
      "tensor([[-2.8659, -2.8775, -2.8675, -2.9458, -2.8337, -2.9207, -2.9108, -2.9311,\n",
      "         -2.8282, -2.8395, -2.8389, -2.9530, -2.9586, -2.9144, -2.8015, -2.8867,\n",
      "         -2.8588, -3.0215]])\n"
     ]
    }
   ],
   "source": [
    "with torch.no_grad():\n",
    "    input = Name_to_Tensor('justin')\n",
    "    hidden = torch.zeros(1, hidden_n)\n",
    "    output, hidden = rnn(input[0], hidden)\n",
    "    \n",
    "    print(output) # 출력은 국가 중 하나이고, 값이 높을수록 가능성이 높다."
   ]
  },
  {
   "cell_type": "markdown",
   "metadata": {},
   "source": [
    "# 학습하기 전 준비과정\n",
    "도움되는 함수 몇 가지가 필요하다.\n",
    " 1. output 결과로부터 가장 큰 값이 무엇인지 출력하기(가장 가능성이 큰 국가 출력)\n",
    " 2. 학습 예시를 출력해주는 함수"
   ]
  },
  {
   "cell_type": "code",
   "execution_count": 9,
   "metadata": {
    "ExecuteTime": {
     "end_time": "2018-12-09T09:49:46.798875Z",
     "start_time": "2018-12-09T09:49:46.776917Z"
    }
   },
   "outputs": [
    {
     "data": {
      "text/plain": [
       "('Russian', 14)"
      ]
     },
     "execution_count": 9,
     "metadata": {},
     "output_type": "execute_result"
    }
   ],
   "source": [
    "def LanfromOutput(output):\n",
    "    top_val, top_i = output.topk(1) # Tensor내에 최대값의 value와 index 찾기(input값으로 개수 선택)\n",
    "    lan_i = top_i[0].item()\n",
    "    \n",
    "    return lan_list[lan_i], lan_i\n",
    "\n",
    "LanfromOutput(output)"
   ]
  },
  {
   "cell_type": "code",
   "execution_count": 10,
   "metadata": {
    "ExecuteTime": {
     "end_time": "2018-12-09T09:49:46.856270Z",
     "start_time": "2018-12-09T09:49:46.804366Z"
    },
    "scrolled": true
   },
   "outputs": [
    {
     "name": "stdout",
     "output_type": "stream",
     "text": [
      "Langauge : French / name = Colbert\n",
      "Langauge : Vietnamese / name = Quach\n",
      "Langauge : Italian / name = Masin\n",
      "Langauge : Arabic / name = Bahar\n",
      "Langauge : Chinese / name = Xing\n",
      "Langauge : Irish / name = Devin\n",
      "Langauge : Irish / name = Quinn\n",
      "Langauge : Dutch / name = Roosevelt\n",
      "Langauge : Greek / name = Pefanis\n",
      "Langauge : Portuguese / name = Medeiros\n"
     ]
    }
   ],
   "source": [
    "# 학습 예시(이름과 언어) 얻는 빠른 방법도 필요하다.\n",
    "import random\n",
    "\n",
    "def RandomChoice(l):\n",
    "    lan_random = l[random.randint(0, len(l) - 1)]\n",
    "    \n",
    "    return lan_random\n",
    "\n",
    "def RandomTrainingExample():\n",
    "    lan_random = RandomChoice(lan_list) # 랜덤 국가 선택\n",
    "    name = RandomChoice(lan_name_list[lan_random]) # 선택된 국가 중 랜덤 이름 선택\n",
    "    lan_tensor = torch.tensor([lan_list.index(lan_random)], dtype = torch.long) # 국가 index의 tensor\n",
    "    name_tensor = Name_to_Tensor(name) # 이름을 tensor로\n",
    "    \n",
    "    return lan_random, name, lan_tensor, name_tensor\n",
    "\n",
    "for i in range(10):\n",
    "    lan, name, lan_tensor, name_tensor = RandomTrainingExample()\n",
    "    print('Langauge : %s / name = %s' %(lan, name))"
   ]
  },
  {
   "cell_type": "markdown",
   "metadata": {},
   "source": [
    "# 학습 과정\n",
    "1. input과 target의 Tensor 생성\n",
    "2. 0으로 초기화 된 hidden layer 생성\n",
    "3. 각 문자 읽기 - 다음 문자를 위한 은닉 상태 유지\n",
    "4. output과 target 비교하여 오차 계산\n",
    "5. 오차 역전파\n",
    "6. output과 loss 출력"
   ]
  },
  {
   "cell_type": "code",
   "execution_count": 11,
   "metadata": {
    "ExecuteTime": {
     "end_time": "2018-12-09T09:49:46.909670Z",
     "start_time": "2018-12-09T09:49:46.861759Z"
    }
   },
   "outputs": [],
   "source": [
    "# 일단 optimizer를 사용 안하고 그냥 했는데... 일단 그냥 해봄\n",
    "import torch.optim as optim\n",
    "optimizer = optim.SGD(rnn.parameters(), lr = 0.005)  \n",
    "\n",
    "loss_function = nn.NLLLoss()\n",
    "learning_rate = 0.005\n",
    "\n",
    "def train(lan_tensor, name_tensor):\n",
    "    \n",
    "    hidden = rnn.initHidden()\n",
    "    \n",
    "    optimizer.zero_grad()\n",
    "    \n",
    "    for i in range(name_tensor.size()[0]):\n",
    "        output, hidden = rnn(name_tensor[i], hidden)\n",
    "        \n",
    "    loss = loss_function(output, lan_tensor)\n",
    "    loss.backward()\n",
    "    \n",
    "    optimizer.step()\n",
    "    #for p in rnn.parameters():\n",
    "    #    p.data.add_(-learning_rate, p.grad.data)\n",
    "  \n",
    "    return output, loss.item()"
   ]
  },
  {
   "cell_type": "code",
   "execution_count": 12,
   "metadata": {
    "ExecuteTime": {
     "end_time": "2018-12-09T09:53:01.292614Z",
     "start_time": "2018-12-09T09:49:46.915661Z"
    },
    "scrolled": true
   },
   "outputs": [
    {
     "name": "stdout",
     "output_type": "stream",
     "text": [
      "5000 5% (0m 10s) 2.8048 Rios / Korean ✗ (Portuguese)\n",
      "10000 10% (0m 20s) 2.5161 Bazhaev / German ✗ (Russian)\n",
      "15000 15% (0m 30s) 1.2065 Seo / Chinese ✗ (Korean)\n",
      "20000 20% (0m 39s) 2.5200 Zimola / Japanese ✗ (Czech)\n",
      "25000 25% (0m 49s) 1.4307 Faerber / German ✓\n",
      "30000 30% (0m 58s) 1.5007 Vlasak / Polish ✗ (Czech)\n",
      "35000 35% (1m 8s) 1.0915 Santos / Portuguese ✓\n",
      "40000 40% (1m 17s) 0.1492 Vikhorev / Russian ✓\n",
      "45000 45% (1m 27s) 0.5221 Suh / Korean ✓\n",
      "50000 50% (1m 36s) 1.5349 Login / Russian ✗ (Irish)\n",
      "55000 55% (1m 46s) 0.0193 Abbracciabeni / Italian ✓\n",
      "60000 60% (1m 56s) 1.1287 Bach / Vietnamese ✓\n",
      "65000 65% (2m 6s) 2.6943 Specht / German ✗ (Dutch)\n",
      "70000 70% (2m 15s) 2.6231 Gouveia / Spanish ✗ (Portuguese)\n",
      "75000 75% (2m 25s) 0.0629 Nurmuhamedov / Russian ✓\n",
      "80000 80% (2m 36s) 0.0141 Kedzierski / Polish ✓\n",
      "85000 85% (2m 46s) 4.6938 Clark / Polish ✗ (Irish)\n",
      "90000 90% (2m 55s) 2.3861 Graham / Arabic ✗ (Scottish)\n",
      "95000 95% (3m 4s) 0.4466 Luu / Vietnamese ✓\n",
      "100000 100% (3m 14s) 1.4725 Rhee / Korean ✓\n"
     ]
    }
   ],
   "source": [
    "import time\n",
    "import math\n",
    "\n",
    "iter_n = 100000\n",
    "\n",
    "loss_avg = 0\n",
    "loss_list = []\n",
    "\n",
    "def timeSince(since):\n",
    "    now = time.time()\n",
    "    s = now - since\n",
    "    m = math.floor(s / 60)\n",
    "    s -= m * 60\n",
    "    return '%dm %ds' % (m, s)\n",
    "\n",
    "start = time.time()\n",
    "\n",
    "\n",
    "for i in range(1, iter_n + 1):\n",
    "    lan, name, lan_tensor, name_tensor = RandomTrainingExample()\n",
    "    output, loss = train(lan_tensor, name_tensor)\n",
    "    loss_avg += loss\n",
    "    \n",
    "    if i % 5000 == 0:\n",
    "        guess, guess_i = LanfromOutput(output)\n",
    "        correct = '✓' if guess == lan else  '✗ (%s)' % lan\n",
    "        print('%d %d%% (%s) %.4f %s / %s %s' % (i, i / iter_n * 100, timeSince(start), loss, name, guess, correct))\n",
    "\n",
    "    if i % 1000 == 0:\n",
    "        loss_list.append(loss_avg / 1000)\n",
    "        loss_avg = 0        "
   ]
  },
  {
   "cell_type": "markdown",
   "metadata": {},
   "source": [
    "# Loss값 시각화"
   ]
  },
  {
   "cell_type": "code",
   "execution_count": 13,
   "metadata": {
    "ExecuteTime": {
     "end_time": "2018-12-09T09:53:02.875967Z",
     "start_time": "2018-12-09T09:53:01.298105Z"
    }
   },
   "outputs": [
    {
     "data": {
      "text/plain": [
       "[<matplotlib.lines.Line2D at 0x219bf9a5518>]"
      ]
     },
     "execution_count": 13,
     "metadata": {},
     "output_type": "execute_result"
    },
    {
     "data": {
      "image/png": "[encoded data removed]",
      "text/plain": [
       "<matplotlib.figure.Figure at 0x219bcd60e80>"
      ]
     },
     "metadata": {},
     "output_type": "display_data"
    }
   ],
   "source": [
    "import matplotlib.pyplot as plt\n",
    "%matplotlib inline\n",
    "\n",
    "plt.figure()\n",
    "plt.plot(loss_list)"
   ]
  },
  {
   "cell_type": "markdown",
   "metadata": {},
   "source": [
    "# 나만의 방식으로 재도전\n",
    "- 문서에 나와있는 방식은 너무 복잡하다.\n",
    "- 좀 더 간단하게 구현 시도!\n",
    "- 사실 대부분 비슷한데.... 디테일이 다르다"
   ]
  },
  {
   "cell_type": "markdown",
   "metadata": {},
   "source": [
    "# 데이터 불러오기"
   ]
  },
  {
   "cell_type": "code",
   "execution_count": 14,
   "metadata": {
    "ExecuteTime": {
     "end_time": "2018-12-09T09:53:02.892416Z",
     "start_time": "2018-12-09T09:53:02.880939Z"
    }
   },
   "outputs": [
    {
     "name": "stdout",
     "output_type": "stream",
     "text": [
      "['data/names\\\\Arabic.txt', 'data/names\\\\Chinese.txt', 'data/names\\\\Czech.txt', 'data/names\\\\Dutch.txt', 'data/names\\\\English.txt', 'data/names\\\\French.txt', 'data/names\\\\German.txt', 'data/names\\\\Greek.txt', 'data/names\\\\Irish.txt', 'data/names\\\\Italian.txt', 'data/names\\\\Japanese.txt', 'data/names\\\\Korean.txt', 'data/names\\\\Polish.txt', 'data/names\\\\Portuguese.txt', 'data/names\\\\Russian.txt', 'data/names\\\\Scottish.txt', 'data/names\\\\Spanish.txt', 'data/names\\\\Vietnamese.txt']\n"
     ]
    }
   ],
   "source": [
    "import glob\n",
    "from io import open\n",
    "\n",
    "path = 'data/names/'\n",
    "filenames = glob.glob(path + '*.txt')\n",
    "print(filenames)"
   ]
  },
  {
   "cell_type": "markdown",
   "metadata": {},
   "source": [
    "# 국가별 이름 사전 만들기\n",
    "- {국가1 : [이름1, 이름2...], 국가2 : [이름1, 이름2...]}"
   ]
  },
  {
   "cell_type": "code",
   "execution_count": 15,
   "metadata": {
    "ExecuteTime": {
     "end_time": "2018-12-09T09:53:02.928349Z",
     "start_time": "2018-12-09T09:53:02.897407Z"
    }
   },
   "outputs": [],
   "source": [
    "import os\n",
    "from io import open\n",
    "\n",
    "lan_name_dict = {}\n",
    "lan_list = []\n",
    "\n",
    "for filename in filenames:\n",
    "    names = open(filename, encoding = 'utf-8').read().strip().split('\\n')\n",
    "    lan = os.path.splitext(os.path.basename(filename))[0]\n",
    "    lan_list.append(lan)\n",
    "    lan_name_dict[lan] = names\n",
    "    \n",
    "lan_list_n = len(lan_list)\n",
    "lan_name_dict_n = len(lan_name_dict)"
   ]
  },
  {
   "cell_type": "code",
   "execution_count": 16,
   "metadata": {
    "ExecuteTime": {
     "end_time": "2018-12-09T09:53:02.947314Z",
     "start_time": "2018-12-09T09:53:02.934839Z"
    }
   },
   "outputs": [
    {
     "name": "stdout",
     "output_type": "stream",
     "text": [
      "Number of languge : 18\n",
      "Number of names : 20074\n"
     ]
    }
   ],
   "source": [
    "names_n = []\n",
    "for lan in lan_list:\n",
    "    name_n = len(lan_name_dict[lan])\n",
    "    names_n.append(name_n)\n",
    "\n",
    "print('Number of languge : %d' %lan_list_n)\n",
    "print('Number of names : %d' %sum(names_n))"
   ]
  },
  {
   "cell_type": "markdown",
   "metadata": {},
   "source": [
    "# 이름을 Unicode -> Ascii로 변환"
   ]
  },
  {
   "cell_type": "code",
   "execution_count": 17,
   "metadata": {
    "ExecuteTime": {
     "end_time": "2018-12-09T09:53:03.073098Z",
     "start_time": "2018-12-09T09:53:02.953304Z"
    }
   },
   "outputs": [],
   "source": [
    "import unicodedata\n",
    "import string\n",
    "\n",
    "letters = string.ascii_letters + \" .,;'\"\n",
    "letters_n = len(letters)\n",
    "\n",
    "def Unicode_to_Ascii(s):\n",
    "    w = ''.join(c for c in unicodedata.normalize('NFD', s)\n",
    "               if unicodedata.category(c) != 'Mn'\n",
    "               and c in letters)\n",
    "    \n",
    "    return w\n",
    "\n",
    "for lan, names in lan_name_dict.items():\n",
    "    converted_names = [Unicode_to_Ascii(name) for name in names]\n",
    "    lan_name_dict[lan] = converted_names  "
   ]
  },
  {
   "cell_type": "code",
   "execution_count": 18,
   "metadata": {
    "ExecuteTime": {
     "end_time": "2018-12-09T09:53:03.084562Z",
     "start_time": "2018-12-09T09:53:03.077075Z"
    }
   },
   "outputs": [
    {
     "data": {
      "text/plain": [
       "['Abandonato', 'Abatangelo', 'Abatantuono', 'Abate', 'Abategiovanni']"
      ]
     },
     "execution_count": 18,
     "metadata": {},
     "output_type": "execute_result"
    }
   ],
   "source": [
    "lan_name_dict['Italian'][:5]"
   ]
  },
  {
   "cell_type": "markdown",
   "metadata": {},
   "source": [
    "# 이름을 Tensor로 변환\n",
    "## 방법은 2가지\n",
    "1. Lookup 방식을 이용하기 위해 letter_to_vector 사전을 만든다.\n",
    "2. 함수를 이용해서 해당 letter에 해당하는 vector를 바로 만든다."
   ]
  },
  {
   "cell_type": "code",
   "execution_count": 19,
   "metadata": {
    "ExecuteTime": {
     "end_time": "2018-12-09T09:53:03.112507Z",
     "start_time": "2018-12-09T09:53:03.090050Z"
    }
   },
   "outputs": [],
   "source": [
    "# 1. lookup 방식\n",
    "import torch\n",
    "\n",
    "letter_to_vec = {}\n",
    "\n",
    "for i, l in enumerate(letters):\n",
    "    vec = torch.zeros(1, letters_n)\n",
    "    vec[0][i] = 1\n",
    "    letter_to_vec[l] = vec\n",
    "    \n",
    "def Name_to_Vec(name):\n",
    "    vec = torch.zeros(len(name), 1, letters_n)\n",
    "    for i, l in enumerate(name):\n",
    "        vec[i][0] = letter_to_vec[l]\n",
    "        \n",
    "    return vec"
   ]
  },
  {
   "cell_type": "code",
   "execution_count": 20,
   "metadata": {
    "ExecuteTime": {
     "end_time": "2018-12-09T09:53:03.140956Z",
     "start_time": "2018-12-09T09:53:03.116501Z"
    }
   },
   "outputs": [
    {
     "name": "stdout",
     "output_type": "stream",
     "text": [
      "tensor([[0., 0., 0., 0., 0., 0., 0., 0., 0., 0., 0., 0., 0., 0., 0., 0., 0., 0.,\n",
      "         0., 0., 0., 0., 0., 0., 0., 0., 0., 0., 0., 0., 0., 0., 0., 0., 0., 1.,\n",
      "         0., 0., 0., 0., 0., 0., 0., 0., 0., 0., 0., 0., 0., 0., 0., 0., 0., 0.,\n",
      "         0., 0., 0.]])\n",
      "torch.Size([5, 1, 57])\n"
     ]
    }
   ],
   "source": [
    "print(letter_to_vec['J'])\n",
    "print(Name_to_Vec('Jones').size())"
   ]
  },
  {
   "cell_type": "markdown",
   "metadata": {},
   "source": [
    "# RNN 모델\n",
    "- input과 hidden을 합치는 combined layer\n",
    "- input에서 output으로 가는 i2o layer\n",
    "- input에서 hidden으로 가는 i2h layer\n",
    "- softmax를 적용시키는 softmax layer"
   ]
  },
  {
   "cell_type": "code",
   "execution_count": 21,
   "metadata": {
    "ExecuteTime": {
     "end_time": "2018-12-09T09:53:03.198863Z",
     "start_time": "2018-12-09T09:53:03.145948Z"
    }
   },
   "outputs": [],
   "source": [
    "import torch\n",
    "import torch.nn as nn\n",
    "\n",
    "class RNN(nn.Module):\n",
    "    \n",
    "    def __init__(self, input_size, hidden_size, output_size):\n",
    "        super(RNN, self).__init__()\n",
    "        \n",
    "        self.hidden_size = hidden_size\n",
    "        \n",
    "        self.i2o = nn.Linear(input_size + hidden_size, output_size)\n",
    "        self.i2h = nn.Linear(input_size + hidden_size, hidden_size)\n",
    "        self.softmax = nn.LogSoftmax(dim = 1)\n",
    "        \n",
    "    def forward(self, input, hidden):\n",
    "        \n",
    "        combined = torch.cat((input, hidden), 1)\n",
    "        hidden = self.i2h(combined)\n",
    "        output = self.i2o(combined)\n",
    "        output = self.softmax(output)\n",
    "        \n",
    "        return output, hidden\n",
    "    \n",
    "    def initHidden(self):\n",
    "        \n",
    "        return torch.zeros(1, self.hidden_size)\n",
    "    \n",
    "hidden_n = 128\n",
    "rnn = RNN(letters_n, hidden_n, lan_list_n)"
   ]
  },
  {
   "cell_type": "code",
   "execution_count": 22,
   "metadata": {
    "ExecuteTime": {
     "end_time": "2018-12-09T09:53:03.232792Z",
     "start_time": "2018-12-09T09:53:03.205834Z"
    }
   },
   "outputs": [
    {
     "name": "stdout",
     "output_type": "stream",
     "text": [
      "tensor([[-2.8916, -2.8997, -2.8615, -2.9387, -2.9104, -2.9101, -2.8290, -2.8249,\n",
      "         -2.8897, -2.8991, -2.9835, -2.8926, -2.8647, -2.8558, -2.8962, -2.9184,\n",
      "         -2.9046, -2.8682]])\n"
     ]
    }
   ],
   "source": [
    "# letter 1개 예시\n",
    "with torch.no_grad():\n",
    "    input_example = letter_to_vec['a']\n",
    "    hidden_example = torch.zeros(1, hidden_n)\n",
    "    output, next_hidden = rnn(input_example, hidden_example)\n",
    "    \n",
    "    print(output)"
   ]
  },
  {
   "cell_type": "code",
   "execution_count": 23,
   "metadata": {
    "ExecuteTime": {
     "end_time": "2018-12-09T09:53:03.261731Z",
     "start_time": "2018-12-09T09:53:03.238773Z"
    }
   },
   "outputs": [
    {
     "name": "stdout",
     "output_type": "stream",
     "text": [
      "tensor([[-2.9028, -2.8339, -2.8316, -2.9295, -2.9498, -2.8423, -2.9440, -2.8958,\n",
      "         -2.9672, -2.9163, -2.8731, -2.9394, -2.8422, -2.8369, -2.8012, -2.9675,\n",
      "         -2.8805, -2.8953]])\n"
     ]
    }
   ],
   "source": [
    "# Name 1개 예시\n",
    "with torch.no_grad():\n",
    "    input_example = Name_to_Vec('Justin')\n",
    "    hidden_example = torch.zeros(1, hidden_n)\n",
    "    output, next_hidden = rnn(input_example[0], hidden_example)\n",
    "    print(output)"
   ]
  },
  {
   "cell_type": "markdown",
   "metadata": {},
   "source": [
    "# input 데이터 랜덤으로 생성\n",
    "- Train할 이름들 랜덤으로 생성시키기\n",
    " 1. 랜덤으로 국가 선택\n",
    " 2. 해당 국가에서 랜덤으로 이름 선택\n",
    "- Output = 국가, 이름, 국가Tensor, 이름Tensor"
   ]
  },
  {
   "cell_type": "code",
   "execution_count": 24,
   "metadata": {
    "ExecuteTime": {
     "end_time": "2018-12-09T09:53:03.290677Z",
     "start_time": "2018-12-09T09:53:03.268719Z"
    }
   },
   "outputs": [],
   "source": [
    "import random\n",
    "\n",
    "def RandomPick():\n",
    "    lan_random_index = random.randint(0, lan_list_n - 1)\n",
    "    lan_random = lan_list[lan_random_index]\n",
    "    name_random_index = random.randint(0, len(lan_name_dict[lan_random]) - 1)\n",
    "    name_random = lan_name_dict[lan_random][name_random_index]\n",
    "    lan_tensor = torch.tensor([lan_list.index(lan_random)], dtype = torch.long)\n",
    "    name_tensor = Name_to_Vec(name_random)\n",
    "    \n",
    "    return lan_random, name_random, lan_tensor, name_tensor"
   ]
  },
  {
   "cell_type": "code",
   "execution_count": 25,
   "metadata": {
    "ExecuteTime": {
     "end_time": "2018-12-09T09:53:03.328108Z",
     "start_time": "2018-12-09T09:53:03.296666Z"
    }
   },
   "outputs": [
    {
     "name": "stdout",
     "output_type": "stream",
     "text": [
      "Language : Czech / Name : Planick\n",
      "Language : Korean / Name : Bang\n",
      "Language : Japanese / Name : Hashimoto\n",
      "Language : Vietnamese / Name : Giang\n",
      "Language : Portuguese / Name : Santiago\n",
      "Language : German / Name : Voigts\n",
      "Language : Japanese / Name : Tokuoka\n",
      "Language : Vietnamese / Name : Than\n",
      "Language : Czech / Name : Perevuznik\n",
      "Language : Czech / Name : Kessel\n"
     ]
    }
   ],
   "source": [
    "for i in range(10):\n",
    "    lan, name, lan_tensor, name_tensor = RandomPick()\n",
    "    print('Language : %s / Name : %s' %(lan, name))"
   ]
  },
  {
   "cell_type": "markdown",
   "metadata": {},
   "source": [
    "# 학습하기"
   ]
  },
  {
   "cell_type": "code",
   "execution_count": 26,
   "metadata": {
    "ExecuteTime": {
     "end_time": "2018-12-09T09:53:22.574857Z",
     "start_time": "2018-12-09T09:53:03.333597Z"
    }
   },
   "outputs": [
    {
     "name": "stdout",
     "output_type": "stream",
     "text": [
      "tensor(2.8499, grad_fn=<DivBackward0>)\n",
      "tensor(2.7689, grad_fn=<DivBackward0>)\n",
      "tensor(2.7056, grad_fn=<DivBackward0>)\n",
      "tensor(2.5703, grad_fn=<DivBackward0>)\n",
      "tensor(2.4544, grad_fn=<DivBackward0>)\n",
      "tensor(2.3490, grad_fn=<DivBackward0>)\n",
      "tensor(2.3272, grad_fn=<DivBackward0>)\n",
      "tensor(2.4818, grad_fn=<DivBackward0>)\n",
      "tensor(2.2788, grad_fn=<DivBackward0>)\n",
      "tensor(2.3449, grad_fn=<DivBackward0>)\n",
      "tensor(2.0157, grad_fn=<DivBackward0>)\n",
      "tensor(2.1185, grad_fn=<DivBackward0>)\n",
      "tensor(2.3051, grad_fn=<DivBackward0>)\n",
      "tensor(2.2327, grad_fn=<DivBackward0>)\n",
      "tensor(2.1251, grad_fn=<DivBackward0>)\n",
      "tensor(1.8956, grad_fn=<DivBackward0>)\n",
      "tensor(1.8446, grad_fn=<DivBackward0>)\n",
      "tensor(2.0277, grad_fn=<DivBackward0>)\n",
      "tensor(2.1765, grad_fn=<DivBackward0>)\n"
     ]
    }
   ],
   "source": [
    "import torch.optim as optim\n",
    "\n",
    "loss_function = nn.NLLLoss()\n",
    "optimizer = optim.SGD(rnn.parameters(), lr = 0.01)\n",
    "\n",
    "iter_n = 10000\n",
    "loss_current = 0\n",
    "loss_list = []\n",
    "\n",
    "for i in range(1, iter_n):\n",
    "    \n",
    "    lan, name, lan_tensor, name_tensor = RandomPick()\n",
    "    input = name_tensor\n",
    "    target = lan_tensor\n",
    "    hidden = rnn.initHidden()\n",
    "    \n",
    "    optimizer.zero_grad()\n",
    "    \n",
    "    for j in range(name_tensor.size()[0]):\n",
    "        output, hidden = rnn(name_tensor[j], hidden)\n",
    "        \n",
    "    loss = loss_function(output, lan_tensor)\n",
    "    loss.backward()\n",
    "    optimizer.step()\n",
    "    \n",
    "    loss_current += loss\n",
    "    \n",
    "    if i % 500 == 0:\n",
    "        print(loss_current/ 50)\n",
    "        \n",
    "    if i % 50 == 0:\n",
    "        loss_current = loss_current / 50\n",
    "        loss_list.append(loss_current)\n",
    "        loss_current = 0"
   ]
  },
  {
   "cell_type": "markdown",
   "metadata": {},
   "source": [
    "# Loss 시각화"
   ]
  },
  {
   "cell_type": "code",
   "execution_count": 27,
   "metadata": {
    "ExecuteTime": {
     "end_time": "2018-12-09T09:53:22.834876Z",
     "start_time": "2018-12-09T09:53:22.580348Z"
    }
   },
   "outputs": [
    {
     "data": {
      "text/plain": [
       "[<matplotlib.lines.Line2D at 0x219bfbcdeb8>]"
      ]
     },
     "execution_count": 27,
     "metadata": {},
     "output_type": "execute_result"
    },
    {
     "data": {
      "image/png": "[encoded data removed]",
      "text/plain": [
       "<matplotlib.figure.Figure at 0x219bcfa0240>"
      ]
     },
     "metadata": {},
     "output_type": "display_data"
    }
   ],
   "source": [
    "import matplotlib.pyplot as plt\n",
    "%matplotlib inline\n",
    "\n",
    "plt.figure()\n",
    "plt.plot(loss_list)"
   ]
  },
  {
   "cell_type": "markdown",
   "metadata": {},
   "source": [
    "# 새로 배운 사실\n",
    "\n",
    "1. unicodedata.normalize('NFD' or 'NFC', word) 역할\n",
    " - NFD(Normalization From Decomposition) : 소리 마디를 분해\n",
    " - NFC(Normalization From Composition) : 소리 마디를 결합\n",
    " - 즉 일단 A말고 위에 A'처럼 소리마디가 포함 된 언어의 경우 두 부분을 분해하거나 결합하는 인코딩"
   ]
  }
 ],
 "metadata": {
  "kernelspec": {
   "display_name": "Python 3",
   "language": "python",
   "name": "python3"
  },
  "language_info": {
   "codemirror_mode": {
    "name": "ipython",
    "version": 3
   },
   "file_extension": ".py",
   "mimetype": "text/x-python",
   "name": "python",
   "nbconvert_exporter": "python",
   "pygments_lexer": "ipython3",
   "version": "3.6.2"
  },
  "varInspector": {
   "cols": {
    "lenName": 16,
    "lenType": 16,
    "lenVar": 40
   },
   "kernels_config": {
    "python": {
     "delete_cmd_postfix": "",
     "delete_cmd_prefix": "del ",
     "library": "var_list.py",
     "varRefreshCmd": "print(var_dic_list())"
    },
    "r": {
     "delete_cmd_postfix": ") ",
     "delete_cmd_prefix": "rm(",
     "library": "var_list.r",
     "varRefreshCmd": "cat(var_dic_list()) "
    }
   },
   "types_to_exclude": [
    "module",
    "function",
    "builtin_function_or_method",
    "instance",
    "_Feature"
   ],
   "window_display": false
  }
 },
 "nbformat": 4,
 "nbformat_minor": 2
}
