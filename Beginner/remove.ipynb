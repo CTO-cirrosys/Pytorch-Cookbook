{
 "cells": [
  {
   "cell_type": "code",
   "execution_count": 41,
   "metadata": {},
   "outputs": [],
   "source": [
    "class aaa():\n",
    "    def __init__(self):\n",
    "        pass\n",
    "        \n",
    "    def aaaa(self):\n",
    "        print('aaa')\n",
    "        \n",
    "    def parent(self):\n",
    "        print('parent')"
   ]
  },
  {
   "cell_type": "code",
   "execution_count": 42,
   "metadata": {},
   "outputs": [],
   "source": [
    "class bbb(aaa):\n",
    "    \n",
    "    def aaaa(self):\n",
    "        print('a')\n",
    "        \n",
    "    def bbbb(self):\n",
    "        print('bbbb')\n",
    "        "
   ]
  }
 ],
 "metadata": {
  "kernelspec": {
   "display_name": "Python 3",
   "language": "python",
   "name": "python3"
  },
  "language_info": {
   "codemirror_mode": {
    "name": "ipython",
    "version": 3
   },
   "file_extension": ".py",
   "mimetype": "text/x-python",
   "name": "python",
   "nbconvert_exporter": "python",
   "pygments_lexer": "ipython3",
   "version": "3.8.5"
  }
 },
 "nbformat": 4,
 "nbformat_minor": 4
}
