{
 "cells": [
  {
   "cell_type": "markdown",
   "metadata": {},
   "source": [
    "# Master Pytorch Chapter 1 : Tensor\n",
    "https://9bow.github.io/PyTorch-tutorials-kr-0.3.1/index.html"
   ]
  },
  {
   "cell_type": "markdown",
   "metadata": {},
   "source": [
    "## Tensor\n",
    "- multi-dimensional matrix containing elements of the single data type."
   ]
  },
  {
   "cell_type": "code",
   "execution_count": 1,
   "metadata": {},
   "outputs": [],
   "source": [
    "from __future__ import print_function\n",
    "import torch"
   ]
  },
  {
   "cell_type": "code",
   "execution_count": 2,
   "metadata": {},
   "outputs": [
    {
     "name": "stdout",
     "output_type": "stream",
     "text": [
      "tensor([[0.0000, 0.0000, 0.0000],\n",
      "        [0.0000, 0.0000, 0.0000],\n",
      "        [0.0000, 0.0000, 0.0000],\n",
      "        [0.0000, 0.0000, 0.0000],\n",
      "        [0.0000, 0.0000, 0.0000]])\n"
     ]
    }
   ],
   "source": [
    "x = torch.Tensor(5, 3)\n",
    "print(x)"
   ]
  },
  {
   "cell_type": "code",
   "execution_count": 3,
   "metadata": {},
   "outputs": [
    {
     "data": {
      "text/plain": [
       "tensor([[0.8421, 0.4011, 0.0730],\n",
       "        [0.9500, 0.5464, 0.9201],\n",
       "        [0.7289, 0.1193, 0.1721],\n",
       "        [0.2919, 0.0003, 0.1513],\n",
       "        [0.1146, 0.7739, 0.3087]])"
      ]
     },
     "execution_count": 3,
     "metadata": {},
     "output_type": "execute_result"
    }
   ],
   "source": [
    "x = torch.rand(5, 3)\n",
    "x"
   ]
  },
  {
   "cell_type": "code",
   "execution_count": 4,
   "metadata": {},
   "outputs": [
    {
     "data": {
      "text/plain": [
       "torch.Size([5, 3])"
      ]
     },
     "execution_count": 4,
     "metadata": {},
     "output_type": "execute_result"
    }
   ],
   "source": [
    "x.size()"
   ]
  },
  {
   "cell_type": "markdown",
   "metadata": {},
   "source": [
    "## Operations"
   ]
  },
  {
   "cell_type": "code",
   "execution_count": 5,
   "metadata": {},
   "outputs": [
    {
     "name": "stdout",
     "output_type": "stream",
     "text": [
      "tensor([[0.8790, 0.3097, 0.2690],\n",
      "        [0.9557, 0.6136, 0.9123],\n",
      "        [0.2234, 0.8516, 0.2614],\n",
      "        [0.2090, 0.0108, 0.8024],\n",
      "        [0.6222, 0.5342, 0.7178]]) \n",
      "\n",
      "tensor([[0.2200, 0.8358, 0.2718],\n",
      "        [0.1988, 0.3790, 0.9006],\n",
      "        [0.0867, 0.1944, 0.6926],\n",
      "        [0.2655, 0.5225, 0.2836],\n",
      "        [0.0426, 0.9096, 0.8187]]) \n",
      "\n"
     ]
    },
    {
     "data": {
      "text/plain": [
       "tensor([[1.0990, 1.1455, 0.5408],\n",
       "        [1.1545, 0.9926, 1.8129],\n",
       "        [0.3100, 1.0460, 0.9539],\n",
       "        [0.4744, 0.5332, 1.0860],\n",
       "        [0.6648, 1.4439, 1.5364]])"
      ]
     },
     "execution_count": 5,
     "metadata": {},
     "output_type": "execute_result"
    }
   ],
   "source": [
    "x = torch.rand(5, 3)\n",
    "y = torch.rand(5, 3)\n",
    "print(x, '\\n')\n",
    "print(y, '\\n')\n",
    "x + y"
   ]
  },
  {
   "cell_type": "code",
   "execution_count": 6,
   "metadata": {
    "scrolled": true
   },
   "outputs": [
    {
     "data": {
      "text/plain": [
       "tensor([[1.0990, 1.1455, 0.5408],\n",
       "        [1.1545, 0.9926, 1.8129],\n",
       "        [0.3100, 1.0460, 0.9539],\n",
       "        [0.4744, 0.5332, 1.0860],\n",
       "        [0.6648, 1.4439, 1.5364]])"
      ]
     },
     "execution_count": 6,
     "metadata": {},
     "output_type": "execute_result"
    }
   ],
   "source": [
    "torch.add(x, y)"
   ]
  },
  {
   "cell_type": "code",
   "execution_count": 7,
   "metadata": {},
   "outputs": [
    {
     "data": {
      "text/plain": [
       "tensor([[1.0990, 1.1455, 0.5408],\n",
       "        [1.1545, 0.9926, 1.8129],\n",
       "        [0.3100, 1.0460, 0.9539],\n",
       "        [0.4744, 0.5332, 1.0860],\n",
       "        [0.6648, 1.4439, 1.5364]])"
      ]
     },
     "execution_count": 7,
     "metadata": {},
     "output_type": "execute_result"
    }
   ],
   "source": [
    "result = torch.Tensor(5, 3)\n",
    "torch.add(x, y, out=result)\n",
    "result"
   ]
  },
  {
   "cell_type": "code",
   "execution_count": 8,
   "metadata": {
    "scrolled": true
   },
   "outputs": [
    {
     "data": {
      "text/plain": [
       "tensor([[1.0990, 1.1455, 0.5408],\n",
       "        [1.1545, 0.9926, 1.8129],\n",
       "        [0.3100, 1.0460, 0.9539],\n",
       "        [0.4744, 0.5332, 1.0860],\n",
       "        [0.6648, 1.4439, 1.5364]])"
      ]
     },
     "execution_count": 8,
     "metadata": {},
     "output_type": "execute_result"
    }
   ],
   "source": [
    "y.add(x)"
   ]
  },
  {
   "cell_type": "markdown",
   "metadata": {},
   "source": [
    "## Indexing"
   ]
  },
  {
   "cell_type": "code",
   "execution_count": 9,
   "metadata": {},
   "outputs": [
    {
     "data": {
      "text/plain": [
       "tensor([1.5554e-43, 1.4574e-43, 1.4013e-43, 1.6816e-43, 1.6956e-43])"
      ]
     },
     "execution_count": 9,
     "metadata": {},
     "output_type": "execute_result"
    }
   ],
   "source": [
    "x = torch.Tensor(5, 3)\n",
    "x[:, 1]"
   ]
  },
  {
   "cell_type": "code",
   "execution_count": 10,
   "metadata": {},
   "outputs": [
    {
     "name": "stdout",
     "output_type": "stream",
     "text": [
      "torch.Size([4, 4]) torch.Size([16]) torch.Size([2, 8])\n"
     ]
    }
   ],
   "source": [
    "x = torch.randn(4, 4)\n",
    "y = x.view(16)\n",
    "z = x.view(-1, 8)\n",
    "print(x.size(), y.size(), z.size())"
   ]
  },
  {
   "cell_type": "code",
   "execution_count": 40,
   "metadata": {},
   "outputs": [
    {
     "data": {
      "text/plain": [
       "tensor([[-0.6950],\n",
       "        [-0.0296],\n",
       "        [ 2.2637],\n",
       "        [ 0.1334],\n",
       "        [ 0.4200],\n",
       "        [ 1.8474],\n",
       "        [ 0.6980],\n",
       "        [-0.1209],\n",
       "        [ 0.2104],\n",
       "        [-1.3246],\n",
       "        [ 0.9009],\n",
       "        [ 0.0153],\n",
       "        [-0.8967],\n",
       "        [-0.8000],\n",
       "        [ 1.2889],\n",
       "        [-1.2440]])"
      ]
     },
     "execution_count": 40,
     "metadata": {},
     "output_type": "execute_result"
    }
   ],
   "source": [
    "z = x.view(16, -1)\n",
    "z"
   ]
  },
  {
   "cell_type": "markdown",
   "metadata": {},
   "source": [
    "## Convert Tensor&Numpy"
   ]
  },
  {
   "cell_type": "code",
   "execution_count": 15,
   "metadata": {},
   "outputs": [
    {
     "name": "stdout",
     "output_type": "stream",
     "text": [
      "[2. 2. 2. 2. 2.]\n",
      "tensor([2., 2., 2., 2., 2.], dtype=torch.float64)\n"
     ]
    }
   ],
   "source": [
    "import numpy as np\n",
    "a = np.ones(5)\n",
    "b = torch.from_numpy(a) # 주소를 공유하는 복사이기 때문에 a값이 변하면 같이 변한다.\n",
    "np.add(a, 1, out=a)   # np.add를 사용하면 b값도 같이 변한다 <<< 이유가...(깊은 복사 vs 얕은 복사)\n",
    "print(a)\n",
    "print(b)"
   ]
  },
  {
   "cell_type": "markdown",
   "metadata": {},
   "source": [
    "# New things I learned"
   ]
  },
  {
   "cell_type": "markdown",
   "metadata": {},
   "source": [
    "### 1. from __future__ import print_function\n",
    "- __future__를 통해 최신 python버젼의 function을 가져올 수 있다.\n",
    "- 참고https://ddanggle.gitbooks.io/interpy-kr/ch21-Targeting-python.html\n",
    "\n",
    "### 2. Reshaping tensor with view(-1, n)\n",
    "- -1값이 들어갈 땐 n을 보고 reshape할 모양을 유추\n",
    "\n",
    "### 3. Jupyter notebook extension toolkits\n",
    "- notebook의 추가 기능 사용\n",
    "- 참고https://www.slideshare.net/zzsza/10-jupyter-notebook"
   ]
  }
 ],
 "metadata": {
  "kernelspec": {
   "display_name": "Python 3",
   "language": "python",
   "name": "python3"
  },
  "language_info": {
   "codemirror_mode": {
    "name": "ipython",
    "version": 3
   },
   "file_extension": ".py",
   "mimetype": "text/x-python",
   "name": "python",
   "nbconvert_exporter": "python",
   "pygments_lexer": "ipython3",
   "version": "3.6.2"
  },
  "varInspector": {
   "cols": {
    "lenName": 16,
    "lenType": 16,
    "lenVar": 40
   },
   "kernels_config": {
    "python": {
     "delete_cmd_postfix": "",
     "delete_cmd_prefix": "del ",
     "library": "var_list.py",
     "varRefreshCmd": "print(var_dic_list())"
    },
    "r": {
     "delete_cmd_postfix": ") ",
     "delete_cmd_prefix": "rm(",
     "library": "var_list.r",
     "varRefreshCmd": "cat(var_dic_list()) "
    }
   },
   "oldHeight": 218.877818,
   "position": {
    "height": "40px",
    "left": "871.818px",
    "right": "20px",
    "top": "120px",
    "width": "350px"
   },
   "types_to_exclude": [
    "module",
    "function",
    "builtin_function_or_method",
    "instance",
    "_Feature"
   ],
   "varInspector_section_display": "none",
   "window_display": true
  }
 },
 "nbformat": 4,
 "nbformat_minor": 2
}
