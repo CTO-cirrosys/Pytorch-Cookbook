{
 "cells": [
  {
   "cell_type": "markdown",
   "metadata": {},
   "source": [
    "# 데이터 다루기\n",
    "- 이미지 데이터를 불러온 후 다뤄보기\n",
    "- 데이터를 준비하는 단계를 연습\n",
    "- dataloader를 바로 쓰지 않고 바닥부터 코딩\n",
    "- 데이터는 .png형식의 MNIST"
   ]
  },
  {
   "cell_type": "code",
   "execution_count": 3,
   "metadata": {
    "ExecuteTime": {
     "end_time": "2019-11-06T14:02:38.674514Z",
     "start_time": "2019-11-06T14:02:36.662944Z"
    }
   },
   "outputs": [],
   "source": [
    "import os\n",
    "from glob import glob\n",
    "import numpy as np\n",
    "from PIL import Image\n",
    "import matplotlib.pyplot as plt\n",
    "\n",
    "%matplotlib inline"
   ]
  },
  {
   "cell_type": "markdown",
   "metadata": {
    "ExecuteTime": {
     "end_time": "2019-11-06T14:03:29.759189Z",
     "start_time": "2019-11-06T14:03:29.746196Z"
    }
   },
   "source": [
    "### 내 작업환경 확인하기"
   ]
  },
  {
   "cell_type": "code",
   "execution_count": 4,
   "metadata": {
    "ExecuteTime": {
     "end_time": "2019-11-06T14:03:29.759189Z",
     "start_time": "2019-11-06T14:03:29.746196Z"
    },
    "scrolled": false
   },
   "outputs": [
    {
     "data": {
      "text/plain": [
       "['.git',\n",
       " '.gitignore',\n",
       " '.ipynb_checkpoints',\n",
       " 'data',\n",
       " 'image',\n",
       " 'LICENSE',\n",
       " 'Pytorch0_TensorBoard.ipynb',\n",
       " 'Pytorch1_Tensor.ipynb',\n",
       " 'Pytorch2_Autograd.ipynb',\n",
       " 'Pytorch3_1_DataPreprocessing.ipynb',\n",
       " 'Pytorch3_BasicOperation.ipynb',\n",
       " 'Pytorch4_1_Layers&Visualization.ipynb',\n",
       " 'Pytorch4_Neural_Networks.ipynb',\n",
       " 'Pytorch5-1_CNN_Classifier(MNSIT dataset).ipynb',\n",
       " 'Pytorch5_CNN_Classifier(CIFAR10 dataset).ipynb',\n",
       " 'Pytorch6_NLP_BoW_Classifier.ipynb',\n",
       " 'Pytorch7_1_RNN_Basic.ipynb',\n",
       " 'Pytorch7_2_RNN_Basic.ipynb',\n",
       " 'Pytorch8_RNN_Basic_Sequence.ipynb',\n",
       " 'Pytorch9_RNN_Basic_Embedding.ipynb',\n",
       " 'Pytorch_RNN_Image_Classification.ipynb',\n",
       " 'Pytorch_RNN_NLP_Name_Classification.ipynb',\n",
       " 'README.md']"
      ]
     },
     "execution_count": 4,
     "metadata": {},
     "output_type": "execute_result"
    }
   ],
   "source": [
    "os.listdir()"
   ]
  },
  {
   "cell_type": "code",
   "execution_count": 16,
   "metadata": {
    "ExecuteTime": {
     "end_time": "2019-11-06T14:08:14.593802Z",
     "start_time": "2019-11-06T14:08:14.571812Z"
    }
   },
   "outputs": [
    {
     "name": "stdout",
     "output_type": "stream",
     "text": [
      "['testing', 'training']\n",
      "['0', '1', '2', '3', '4', '5', '6', '7', '8', '9']\n",
      "['1.png', '1000.png', '10005.png', '10010.png', '10022.png', '10025.png', '10026.png', '10045.png', '10069.png', '10071.png']\n"
     ]
    }
   ],
   "source": [
    "print(os.listdir('data/mnist_png/'))\n",
    "print(os.listdir('data/mnist_png/training'))\n",
    "print(os.listdir('data/mnist_png/training/0')[:10])"
   ]
  },
  {
   "cell_type": "markdown",
   "metadata": {
    "ExecuteTime": {
     "end_time": "2019-11-06T14:12:24.888769Z",
     "start_time": "2019-11-06T14:12:23.765414Z"
    }
   },
   "source": [
    "### 특정 문구가 들어간 파일만 불러오기(glob)"
   ]
  },
  {
   "cell_type": "code",
   "execution_count": 31,
   "metadata": {
    "ExecuteTime": {
     "end_time": "2019-11-06T14:12:24.888769Z",
     "start_time": "2019-11-06T14:12:23.765414Z"
    }
   },
   "outputs": [
    {
     "name": "stdout",
     "output_type": "stream",
     "text": [
      "['data/mnist_png/training\\\\0\\\\1.png', 'data/mnist_png/training\\\\0\\\\1000.png', 'data/mnist_png/training\\\\0\\\\10005.png']\n",
      "\n",
      "\n",
      "['data/mnist_png/testing\\\\0\\\\10.png', 'data/mnist_png/testing\\\\0\\\\1001.png', 'data/mnist_png/testing\\\\0\\\\1009.png']\n",
      "\n",
      "\n",
      "60000 10000 70000\n"
     ]
    }
   ],
   "source": [
    "train_path_list = glob('data/mnist_png/training/*/*.png') # 확장자가 png인 것만 출력\n",
    "test_path_list = glob('data/mnist_png/testing/*/*.png') # *은 '모든' 이러는 뜻\n",
    "image_path_list = glob('data/mnist_png/*/*/*.png')\n",
    "\n",
    "print(train_path_list[:3])\n",
    "print('\\n')\n",
    "print(test_path_list[:3])\n",
    "print('\\n')\n",
    "print(len(train_path_list), len(test_path_list), len(image_path_list))"
   ]
  },
  {
   "cell_type": "markdown",
   "metadata": {
    "ExecuteTime": {
     "end_time": "2019-11-06T14:21:56.301984Z",
     "start_time": "2019-11-06T14:21:55.477462Z"
    }
   },
   "source": [
    "### 레이블별 데이터 개수"
   ]
  },
  {
   "cell_type": "code",
   "execution_count": 38,
   "metadata": {
    "ExecuteTime": {
     "end_time": "2019-11-06T14:21:56.301984Z",
     "start_time": "2019-11-06T14:21:55.477462Z"
    }
   },
   "outputs": [
    {
     "name": "stdout",
     "output_type": "stream",
     "text": [
      "[5923, 6742, 5958, 6131, 5842, 5421, 5918, 6265, 5851, 5949]\n"
     ]
    },
    {
     "data": {
      "text/plain": [
       "Text(0.5,1,'Number of image per label(training)')"
      ]
     },
     "execution_count": 38,
     "metadata": {},
     "output_type": "execute_result"
    },
    {
     "data": {
      "image/png": "[encoded data removed]",
      "text/plain": [
       "<Figure size 432x288 with 1 Axes>"
      ]
     },
     "metadata": {
      "needs_background": "light"
     },
     "output_type": "display_data"
    }
   ],
   "source": [
    "num_per_label = []\n",
    "labels = []\n",
    "for label in os.listdir('data/mnist_png/training/'):\n",
    "    path = 'data/mnist_png/training/' + label + '/'\n",
    "    labels.append(label)\n",
    "    image_num = len(glob(path + '*.png'))\n",
    "    num_per_label.append(image_num)\n",
    "    \n",
    "print(num_per_label)\n",
    "\n",
    "plt.bar(labels, num_per_label)\n",
    "plt.title('Number of image per label(training)')"
   ]
  },
  {
   "cell_type": "markdown",
   "metadata": {
    "ExecuteTime": {
     "end_time": "2019-11-06T14:23:07.587106Z",
     "start_time": "2019-11-06T14:23:07.245303Z"
    }
   },
   "source": [
    "### 이미지 확인하기"
   ]
  },
  {
   "cell_type": "code",
   "execution_count": 41,
   "metadata": {
    "ExecuteTime": {
     "end_time": "2019-11-06T14:23:07.587106Z",
     "start_time": "2019-11-06T14:23:07.245303Z"
    }
   },
   "outputs": [
    {
     "data": {
      "text/plain": [
       "<matplotlib.image.AxesImage at 0x2a0f18e08d0>"
      ]
     },
     "execution_count": 41,
     "metadata": {},
     "output_type": "execute_result"
    },
    {
     "data": {
      "image/png": "[encoded data removed]",
      "text/plain": [
       "<Figure size 432x288 with 1 Axes>"
      ]
     },
     "metadata": {
      "needs_background": "light"
     },
     "output_type": "display_data"
    }
   ],
   "source": [
    "image_path = 'data/mnist_png/training/0/1.png'\n",
    "image = Image.open(image_path)\n",
    "image_arr = np.array(image)\n",
    "\n",
    "plt.imshow(image_arr, 'gray')"
   ]
  },
  {
   "cell_type": "markdown",
   "metadata": {},
   "source": [
    "### 레이블 추출하기"
   ]
  },
  {
   "cell_type": "code",
   "execution_count": 55,
   "metadata": {
    "ExecuteTime": {
     "end_time": "2019-11-06T14:26:35.301366Z",
     "start_time": "2019-11-06T14:26:35.291391Z"
    }
   },
   "outputs": [
    {
     "name": "stdout",
     "output_type": "stream",
     "text": [
      "data/mnist_png/training/0/1.png\n"
     ]
    },
    {
     "data": {
      "text/plain": [
       "['data', 'mnist_png', 'training', '0', '1.png']"
      ]
     },
     "execution_count": 55,
     "metadata": {},
     "output_type": "execute_result"
    }
   ],
   "source": [
    "print(image_path)\n",
    "\n",
    "names = image_path.split('/')\n",
    "names"
   ]
  },
  {
   "cell_type": "code",
   "execution_count": 56,
   "metadata": {
    "ExecuteTime": {
     "end_time": "2019-11-06T14:26:48.271564Z",
     "start_time": "2019-11-06T14:26:48.260570Z"
    }
   },
   "outputs": [
    {
     "data": {
      "text/plain": [
       "'0'"
      ]
     },
     "execution_count": 56,
     "metadata": {},
     "output_type": "execute_result"
    }
   ],
   "source": [
    "names[-2]"
   ]
  },
  {
   "cell_type": "markdown",
   "metadata": {},
   "source": [
    "### 이미지들의 사이즈 확인하기\n",
    "- 다른 사이즈가 있는지 검사"
   ]
  },
  {
   "cell_type": "code",
   "execution_count": 71,
   "metadata": {
    "ExecuteTime": {
     "end_time": "2019-11-06T14:48:40.537545Z",
     "start_time": "2019-11-06T14:48:40.491568Z"
    }
   },
   "outputs": [],
   "source": [
    "from tqdm import tqdm_notebook"
   ]
  },
  {
   "cell_type": "code",
   "execution_count": 72,
   "metadata": {
    "ExecuteTime": {
     "end_time": "2019-11-06T14:49:17.968035Z",
     "start_time": "2019-11-06T14:48:48.044229Z"
    }
   },
   "outputs": [
    {
     "name": "stdout",
     "output_type": "stream",
     "text": [
      "data/mnist_png/training\n"
     ]
    },
    {
     "data": {
      "application/vnd.jupyter.widget-view+json": {
       "model_id": "20c1dfde91b54d6eb3d45d84624ccd3e",
       "version_major": 2,
       "version_minor": 0
      },
      "text/plain": [
       "A Jupyter Widget"
      ]
     },
     "metadata": {},
     "output_type": "display_data"
    },
    {
     "name": "stdout",
     "output_type": "stream",
     "text": [
      "\n"
     ]
    },
    {
     "data": {
      "application/vnd.jupyter.widget-view+json": {
       "model_id": "ce2bb75efdb649aeb8f29dda4841ac24",
       "version_major": 2,
       "version_minor": 0
      },
      "text/plain": [
       "A Jupyter Widget"
      ]
     },
     "metadata": {},
     "output_type": "display_data"
    },
    {
     "name": "stdout",
     "output_type": "stream",
     "text": [
      "\n"
     ]
    },
    {
     "data": {
      "application/vnd.jupyter.widget-view+json": {
       "model_id": "1fa065508a7d413e93b75daea48fa534",
       "version_major": 2,
       "version_minor": 0
      },
      "text/plain": [
       "A Jupyter Widget"
      ]
     },
     "metadata": {},
     "output_type": "display_data"
    },
    {
     "name": "stdout",
     "output_type": "stream",
     "text": [
      "\n"
     ]
    },
    {
     "data": {
      "application/vnd.jupyter.widget-view+json": {
       "model_id": "bf079af5cc4b41e98f709cffca2ad333",
       "version_major": 2,
       "version_minor": 0
      },
      "text/plain": [
       "A Jupyter Widget"
      ]
     },
     "metadata": {},
     "output_type": "display_data"
    },
    {
     "name": "stdout",
     "output_type": "stream",
     "text": [
      "\n"
     ]
    },
    {
     "data": {
      "application/vnd.jupyter.widget-view+json": {
       "model_id": "3979893466624bbbb6122e23d3140316",
       "version_major": 2,
       "version_minor": 0
      },
      "text/plain": [
       "A Jupyter Widget"
      ]
     },
     "metadata": {},
     "output_type": "display_data"
    },
    {
     "name": "stdout",
     "output_type": "stream",
     "text": [
      "\n"
     ]
    },
    {
     "data": {
      "application/vnd.jupyter.widget-view+json": {
       "model_id": "344ffd4b6de546028e009d4df8a31349",
       "version_major": 2,
       "version_minor": 0
      },
      "text/plain": [
       "A Jupyter Widget"
      ]
     },
     "metadata": {},
     "output_type": "display_data"
    },
    {
     "name": "stdout",
     "output_type": "stream",
     "text": [
      "\n"
     ]
    },
    {
     "data": {
      "application/vnd.jupyter.widget-view+json": {
       "model_id": "5dfc40f8100e4eb2a3f48c1a3aa4bb4e",
       "version_major": 2,
       "version_minor": 0
      },
      "text/plain": [
       "A Jupyter Widget"
      ]
     },
     "metadata": {},
     "output_type": "display_data"
    },
    {
     "name": "stdout",
     "output_type": "stream",
     "text": [
      "\n"
     ]
    },
    {
     "data": {
      "application/vnd.jupyter.widget-view+json": {
       "model_id": "926eff998f514c1fa84222cd75bd96df",
       "version_major": 2,
       "version_minor": 0
      },
      "text/plain": [
       "A Jupyter Widget"
      ]
     },
     "metadata": {},
     "output_type": "display_data"
    },
    {
     "name": "stdout",
     "output_type": "stream",
     "text": [
      "\n"
     ]
    },
    {
     "data": {
      "application/vnd.jupyter.widget-view+json": {
       "model_id": "32ac1ac34ef544e8ad4382c56802e0a0",
       "version_major": 2,
       "version_minor": 0
      },
      "text/plain": [
       "A Jupyter Widget"
      ]
     },
     "metadata": {},
     "output_type": "display_data"
    },
    {
     "name": "stdout",
     "output_type": "stream",
     "text": [
      "\n"
     ]
    },
    {
     "data": {
      "application/vnd.jupyter.widget-view+json": {
       "model_id": "15957f3b0d75413ca868bcf1affcead6",
       "version_major": 2,
       "version_minor": 0
      },
      "text/plain": [
       "A Jupyter Widget"
      ]
     },
     "metadata": {},
     "output_type": "display_data"
    },
    {
     "name": "stdout",
     "output_type": "stream",
     "text": [
      "\n"
     ]
    },
    {
     "data": {
      "text/plain": [
       "{(28, 28)}"
      ]
     },
     "execution_count": 72,
     "metadata": {},
     "output_type": "execute_result"
    }
   ],
   "source": [
    "path = 'data/mnist_png/training'\n",
    "print(path)\n",
    "image_size = []\n",
    "for label in labels:\n",
    "    image_path = glob(path + '/{}/*.png'.format(label))\n",
    "    for p in tqdm_notebook(image_path):\n",
    "        image = Image.open(p)\n",
    "        image_arr = np.array(image)\n",
    "        image_size.append(image_arr.shape)\n",
    "\n",
    "set(image_size)       "
   ]
  }
 ],
 "metadata": {
  "kernelspec": {
   "display_name": "Python 3",
   "language": "python",
   "name": "python3"
  },
  "language_info": {
   "codemirror_mode": {
    "name": "ipython",
    "version": 3
   },
   "file_extension": ".py",
   "mimetype": "text/x-python",
   "name": "python",
   "nbconvert_exporter": "python",
   "pygments_lexer": "ipython3",
   "version": "3.6.2"
  },
  "varInspector": {
   "cols": {
    "lenName": 16,
    "lenType": 16,
    "lenVar": 40
   },
   "kernels_config": {
    "python": {
     "delete_cmd_postfix": "",
     "delete_cmd_prefix": "del ",
     "library": "var_list.py",
     "varRefreshCmd": "print(var_dic_list())"
    },
    "r": {
     "delete_cmd_postfix": ") ",
     "delete_cmd_prefix": "rm(",
     "library": "var_list.r",
     "varRefreshCmd": "cat(var_dic_list()) "
    }
   },
   "types_to_exclude": [
    "module",
    "function",
    "builtin_function_or_method",
    "instance",
    "_Feature"
   ],
   "window_display": false
  }
 },
 "nbformat": 4,
 "nbformat_minor": 2
}
