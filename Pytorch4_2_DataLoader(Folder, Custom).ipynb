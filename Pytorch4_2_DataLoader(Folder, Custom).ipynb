{
 "cells": [
  {
   "cell_type": "markdown",
   "metadata": {},
   "source": [
    "# DataLoader\n",
    "- 학습을 하기 위해서는 데이터를 불러와야 한다.\n",
    "- 이전에는 데이터를 하나하나 가져오는 방식으로 불러옴\n",
    "- Pytorch에 내장된 함수를 이용해서 편리하게 불러오는 방법을 알아보자"
   ]
  },
  {
   "cell_type": "code",
   "execution_count": 1,
   "metadata": {
    "ExecuteTime": {
     "end_time": "2019-11-12T01:47:40.015284Z",
     "start_time": "2019-11-12T01:47:38.295201Z"
    }
   },
   "outputs": [],
   "source": [
    "import os\n",
    "import torch\n",
    "import torchvision\n",
    "import torchvision.transforms as transforms\n",
    "import numpy as np\n",
    "import matplotlib.pyplot as plt\n",
    "\n",
    "%matplotlib inline"
   ]
  },
  {
   "cell_type": "markdown",
   "metadata": {},
   "source": [
    "### ImageFolder\n",
    "- Torchvision 라이브러리에 있는 함수\n",
    "- 데이터들이 각각의 레이블파일로 구축되어있을 때 사용하는 함수\n",
    "> **ImageFolder는 데이터를 3채널로만 출력을 하기 때문에 1채널만 있는 이미지에 대해서는 따로 수정을 해줘야한다.**"
   ]
  },
  {
   "cell_type": "code",
   "execution_count": 2,
   "metadata": {
    "ExecuteTime": {
     "end_time": "2019-11-12T01:47:40.092170Z",
     "start_time": "2019-11-12T01:47:40.019214Z"
    }
   },
   "outputs": [
    {
     "name": "stdout",
     "output_type": "stream",
     "text": [
      "['testing', 'training']\n",
      "['0', '1', '2', '3', '4', '5', '6', '7', '8', '9']\n",
      "['10006.png', '10007.png', '1002.png', '10020.png', '10027.png']\n"
     ]
    }
   ],
   "source": [
    "# 데이터 경로 확인\n",
    "print(os.listdir('data/mnist_png/'))\n",
    "print(os.listdir('data/mnist_png/training'))\n",
    "print(os.listdir('data/mnist_png/training/1')[:5])"
   ]
  },
  {
   "cell_type": "code",
   "execution_count": 3,
   "metadata": {
    "ExecuteTime": {
     "end_time": "2019-11-12T01:47:40.618869Z",
     "start_time": "2019-11-12T01:47:40.097168Z"
    }
   },
   "outputs": [
    {
     "data": {
      "text/plain": [
       "torch.Size([4, 3, 28, 28])"
      ]
     },
     "execution_count": 3,
     "metadata": {},
     "output_type": "execute_result"
    }
   ],
   "source": [
    "# Datasets 만들기\n",
    "transform = transforms.Compose([\n",
    "    transforms.ToTensor(),\n",
    "    transforms.Normalize((0.5, 0.5, 0.5), (0.5, 0.5, 0.5))\n",
    "])\n",
    "\n",
    "train_path = 'data/mnist_png/training'\n",
    "trainset = torchvision.datasets.ImageFolder(root = train_path,\n",
    "                                           transform=transform)\n",
    "\n",
    "trainloader = torch.utils.data.DataLoader(trainset, batch_size=4,\n",
    "                                         shuffle=True)\n",
    "\n",
    "images, labels = iter(trainloader).next()\n",
    "images.size() # batch_size X Channel X Image_size"
   ]
  },
  {
   "cell_type": "code",
   "execution_count": 4,
   "metadata": {
    "ExecuteTime": {
     "end_time": "2019-11-12T01:47:40.830768Z",
     "start_time": "2019-11-12T01:47:40.624865Z"
    },
    "scrolled": true
   },
   "outputs": [
    {
     "name": "stderr",
     "output_type": "stream",
     "text": [
      "Clipping input data to the valid range for imshow with RGB data ([0..1] for floats or [0..255] for integers).\n"
     ]
    },
    {
     "name": "stdout",
     "output_type": "stream",
     "text": [
      "tensor([7, 8, 4, 7])\n"
     ]
    },
    {
     "data": {
      "image/png": "[encoded data removed]",
      "text/plain": [
       "<Figure size 432x288 with 1 Axes>"
      ]
     },
     "metadata": {
      "needs_background": "light"
     },
     "output_type": "display_data"
    }
   ],
   "source": [
    "image_grid = torchvision.utils.make_grid(images).permute(1,2,0)\n",
    "image_np = np.array(image_grid)\n",
    "plt.imshow(image_np)\n",
    "print(labels)"
   ]
  },
  {
   "cell_type": "markdown",
   "metadata": {},
   "source": [
    "### Custom Datasets\n",
    "- 기존에는 datasets을 바로 다운받아서 사용했다.(MNIST나 CIFAR10의 경우)\n",
    "- torch에 있는 Dataset를 직접 만들어서 DataLoader로 불러오기\n",
    "- Dataset 함수의 형태를 이해하고 customize 해보기"
   ]
  },
  {
   "cell_type": "markdown",
   "metadata": {},
   "source": [
    "### 1. 기존 방법\n",
    "- 필요한 데이터셋을 다운로드한 후 불러오기\n",
    "- 불러 온 데이터셋을 바로 Dataloader에 입력"
   ]
  },
  {
   "cell_type": "code",
   "execution_count": 5,
   "metadata": {
    "ExecuteTime": {
     "end_time": "2019-11-12T01:47:41.770228Z",
     "start_time": "2019-11-12T01:47:40.838747Z"
    }
   },
   "outputs": [],
   "source": [
    "import torchvision\n",
    "\n",
    "trainset = torchvision.datasets.CIFAR10(root='./data', train=True,\n",
    "                                        download=False, transform=transform)\n",
    "\n",
    "trainloader = torch.utils.data.DataLoader(trainset, batch_size=4,\n",
    "                                        shuffle=True, num_workers=1)"
   ]
  },
  {
   "cell_type": "markdown",
   "metadata": {},
   "source": [
    "### 2. Custom한 방법\n",
    "Dataset을 불러오는 class를 직접 코딩\n",
    "1. 데이터의 위치 파악\n",
    "2. 데이터와 해당 데이터의 레이블 확인"
   ]
  },
  {
   "cell_type": "code",
   "execution_count": 6,
   "metadata": {
    "ExecuteTime": {
     "end_time": "2019-11-12T01:47:41.788197Z",
     "start_time": "2019-11-12T01:47:41.777205Z"
    }
   },
   "outputs": [],
   "source": [
    "from PIL import Image\n",
    "from torch.utils.data import Dataset\n",
    "import os\n",
    "from glob import glob"
   ]
  },
  {
   "cell_type": "code",
   "execution_count": 7,
   "metadata": {
    "ExecuteTime": {
     "end_time": "2019-11-12T01:47:41.812187Z",
     "start_time": "2019-11-12T01:47:41.794195Z"
    }
   },
   "outputs": [
    {
     "name": "stdout",
     "output_type": "stream",
     "text": [
      "['labels.txt', 'test', 'train']\n"
     ]
    }
   ],
   "source": [
    "# 데이터 위치 파악\n",
    "data_path = os.listdir('data/cifar10_png')\n",
    "print(data_path)"
   ]
  },
  {
   "cell_type": "code",
   "execution_count": 8,
   "metadata": {
    "ExecuteTime": {
     "end_time": "2019-11-12T01:47:42.319898Z",
     "start_time": "2019-11-12T01:47:41.818182Z"
    }
   },
   "outputs": [
    {
     "name": "stdout",
     "output_type": "stream",
     "text": [
      "50000 10000\n"
     ]
    }
   ],
   "source": [
    "train_path = glob('data/cifar10_png/train/*.png')\n",
    "test_path = glob('data/cifar10_png/test/*.png')\n",
    "print(len(train_path), len(test_path))"
   ]
  },
  {
   "cell_type": "code",
   "execution_count": 9,
   "metadata": {
    "ExecuteTime": {
     "end_time": "2019-11-12T01:47:42.377861Z",
     "start_time": "2019-11-12T01:47:42.324892Z"
    }
   },
   "outputs": [
    {
     "name": "stdout",
     "output_type": "stream",
     "text": [
      "data/cifar10_png/train\\0_frog.png \n",
      "\n",
      "0_frog.png \n",
      "\n",
      "frog.png \n",
      "\n",
      "frog\n"
     ]
    }
   ],
   "source": [
    "# 레이블 추출\n",
    "example = train_path[0]\n",
    "print(example, '\\n')\n",
    "\n",
    "example = os.path.basename(example)\n",
    "print(example, '\\n')\n",
    "\n",
    "example = example.split('_')[-1]\n",
    "print(example, '\\n')\n",
    "\n",
    "example = example.replace('.png', '')\n",
    "print(example)"
   ]
  },
  {
   "cell_type": "code",
   "execution_count": 10,
   "metadata": {
    "ExecuteTime": {
     "end_time": "2019-11-12T01:47:42.756664Z",
     "start_time": "2019-11-12T01:47:42.381859Z"
    }
   },
   "outputs": [
    {
     "name": "stdout",
     "output_type": "stream",
     "text": [
      "['airplane' 'automobile' 'bird' 'cat' 'deer' 'dog' 'frog' 'horse' 'ship'\n",
      " 'truck']\n"
     ]
    }
   ],
   "source": [
    "# 레이블 종류\n",
    "def get_label_name(path):\n",
    "    return os.path.basename(path).split('_')[-1].replace('.png','')\n",
    "\n",
    "classes = np.unique([get_label_name(path) for path in train_path])\n",
    "print(classes)"
   ]
  },
  {
   "cell_type": "code",
   "execution_count": 11,
   "metadata": {
    "ExecuteTime": {
     "end_time": "2019-11-12T01:47:42.779652Z",
     "start_time": "2019-11-12T01:47:42.764644Z"
    }
   },
   "outputs": [
    {
     "data": {
      "text/plain": [
       "6"
      ]
     },
     "execution_count": 11,
     "metadata": {},
     "output_type": "execute_result"
    }
   ],
   "source": [
    "# 레이블 추출 함수(위 과정 결함)\n",
    "def get_label(path):\n",
    "    label_name = os.path.basename(path).split('_')[-1].replace('.png', '')\n",
    "    label = np.argmax(classes == label_name)\n",
    "    \n",
    "    return int(label)\n",
    "\n",
    "get_label(train_path[0])"
   ]
  },
  {
   "cell_type": "code",
   "execution_count": 12,
   "metadata": {
    "ExecuteTime": {
     "end_time": "2019-11-12T01:47:42.977518Z",
     "start_time": "2019-11-12T01:47:42.788626Z"
    }
   },
   "outputs": [
    {
     "name": "stdout",
     "output_type": "stream",
     "text": [
      "frog\n"
     ]
    },
    {
     "data": {
      "image/png": "[encoded data removed]",
      "text/plain": [
       "<Figure size 432x288 with 1 Axes>"
      ]
     },
     "metadata": {
      "needs_background": "light"
     },
     "output_type": "display_data"
    }
   ],
   "source": [
    "# Image 불러오기\n",
    "img = Image.open(train_path[0])\n",
    "img = np.array(img)\n",
    "plt.imshow(img, 'gray')\n",
    "print(classes[get_label(train_path[0])])"
   ]
  },
  {
   "cell_type": "code",
   "execution_count": 13,
   "metadata": {
    "ExecuteTime": {
     "end_time": "2019-11-12T01:47:43.139425Z",
     "start_time": "2019-11-12T01:47:42.983521Z"
    },
    "scrolled": true
   },
   "outputs": [
    {
     "data": {
      "text/plain": [
       "[tensor([[[[0.1020, 0.1020, 0.0980,  ..., 0.0863, 0.0902, 0.0902],\n",
       "           [0.0980, 0.0980, 0.1020,  ..., 0.0824, 0.0863, 0.0863],\n",
       "           [0.1020, 0.0980, 0.0941,  ..., 0.0824, 0.0863, 0.0902],\n",
       "           ...,\n",
       "           [0.1294, 0.1216, 0.1255,  ..., 0.0902, 0.0941, 0.1059],\n",
       "           [0.1098, 0.1059, 0.1098,  ..., 0.0863, 0.0980, 0.1020],\n",
       "           [0.1137, 0.1059, 0.1098,  ..., 0.0941, 0.0980, 0.0980]],\n",
       " \n",
       "          [[0.0667, 0.0667, 0.0627,  ..., 0.0510, 0.0549, 0.0549],\n",
       "           [0.0627, 0.0627, 0.0667,  ..., 0.0471, 0.0510, 0.0510],\n",
       "           [0.0667, 0.0627, 0.0588,  ..., 0.0471, 0.0510, 0.0549],\n",
       "           ...,\n",
       "           [0.0980, 0.0941, 0.0941,  ..., 0.0627, 0.0667, 0.0745],\n",
       "           [0.0784, 0.0745, 0.0784,  ..., 0.0588, 0.0706, 0.0706],\n",
       "           [0.0824, 0.0784, 0.0784,  ..., 0.0706, 0.0706, 0.0667]],\n",
       " \n",
       "          [[0.1412, 0.1412, 0.1373,  ..., 0.1176, 0.1216, 0.1294],\n",
       "           [0.1373, 0.1373, 0.1412,  ..., 0.1137, 0.1176, 0.1255],\n",
       "           [0.1412, 0.1373, 0.1333,  ..., 0.1137, 0.1176, 0.1294],\n",
       "           ...,\n",
       "           [0.1843, 0.1765, 0.1804,  ..., 0.1333, 0.1373, 0.1529],\n",
       "           [0.1608, 0.1569, 0.1608,  ..., 0.1294, 0.1412, 0.1529],\n",
       "           [0.1608, 0.1569, 0.1569,  ..., 0.1373, 0.1412, 0.1490]]],\n",
       " \n",
       " \n",
       "         [[[0.7059, 0.7137, 0.7333,  ..., 0.6549, 0.6784, 0.6392],\n",
       "           [0.6824, 0.6902, 0.6941,  ..., 0.6471, 0.6196, 0.5922],\n",
       "           [0.6902, 0.6902, 0.6863,  ..., 0.6549, 0.6510, 0.6471],\n",
       "           ...,\n",
       "           [0.7373, 0.6980, 0.5608,  ..., 0.7020, 0.7059, 0.6784],\n",
       "           [0.7647, 0.6824, 0.4314,  ..., 0.6824, 0.6745, 0.6627],\n",
       "           [0.7647, 0.7294, 0.6275,  ..., 0.7059, 0.7059, 0.6980]],\n",
       " \n",
       "          [[0.6510, 0.6549, 0.6706,  ..., 0.5255, 0.5569, 0.5255],\n",
       "           [0.6275, 0.6314, 0.6353,  ..., 0.4980, 0.4745, 0.4588],\n",
       "           [0.6353, 0.6353, 0.6353,  ..., 0.5098, 0.5098, 0.5176],\n",
       "           ...,\n",
       "           [0.5882, 0.5804, 0.4863,  ..., 0.5412, 0.5451, 0.5176],\n",
       "           [0.6353, 0.5843, 0.3804,  ..., 0.5255, 0.5137, 0.5020],\n",
       "           [0.6431, 0.6275, 0.5647,  ..., 0.5451, 0.5412, 0.5373]],\n",
       " \n",
       "          [[0.6118, 0.6235, 0.6549,  ..., 0.4275, 0.4627, 0.4392],\n",
       "           [0.5922, 0.6039, 0.6157,  ..., 0.4078, 0.3882, 0.3804],\n",
       "           [0.5961, 0.6078, 0.6157,  ..., 0.4196, 0.4275, 0.4392],\n",
       "           ...,\n",
       "           [0.4980, 0.5137, 0.4549,  ..., 0.4314, 0.4353, 0.4078],\n",
       "           [0.5373, 0.5059, 0.3412,  ..., 0.4118, 0.4039, 0.3922],\n",
       "           [0.5451, 0.5373, 0.4980,  ..., 0.4314, 0.4314, 0.4235]]],\n",
       " \n",
       " \n",
       "         [[[1.0000, 0.9961, 1.0000,  ..., 0.9608, 0.9843, 1.0000],\n",
       "           [1.0000, 0.9961, 1.0000,  ..., 0.8784, 0.9490, 0.9843],\n",
       "           [1.0000, 0.9961, 0.9961,  ..., 0.7765, 0.8863, 0.9686],\n",
       "           ...,\n",
       "           [0.4902, 0.4863, 0.5020,  ..., 0.0353, 0.0941, 0.1765],\n",
       "           [0.4706, 0.4627, 0.4667,  ..., 0.0824, 0.0627, 0.1059],\n",
       "           [0.4549, 0.4471, 0.4549,  ..., 0.1490, 0.0471, 0.0784]],\n",
       " \n",
       "          [[1.0000, 1.0000, 1.0000,  ..., 1.0000, 1.0000, 1.0000],\n",
       "           [1.0000, 0.9922, 0.9922,  ..., 0.9294, 0.9843, 0.9961],\n",
       "           [1.0000, 0.9961, 1.0000,  ..., 0.8353, 0.9255, 0.9922],\n",
       "           ...,\n",
       "           [0.5569, 0.5529, 0.5686,  ..., 0.0588, 0.1098, 0.1843],\n",
       "           [0.5451, 0.5333, 0.5373,  ..., 0.1098, 0.0824, 0.1176],\n",
       "           [0.5255, 0.5176, 0.5255,  ..., 0.1725, 0.0627, 0.0863]],\n",
       " \n",
       "          [[1.0000, 1.0000, 1.0000,  ..., 1.0000, 1.0000, 1.0000],\n",
       "           [1.0000, 0.9922, 0.9961,  ..., 0.9490, 0.9922, 0.9961],\n",
       "           [1.0000, 0.9961, 1.0000,  ..., 0.8745, 0.9529, 0.9922],\n",
       "           ...,\n",
       "           [0.5569, 0.5529, 0.5686,  ..., 0.0431, 0.0863, 0.1529],\n",
       "           [0.5451, 0.5333, 0.5373,  ..., 0.0980, 0.0667, 0.0941],\n",
       "           [0.5255, 0.5176, 0.5255,  ..., 0.1686, 0.0510, 0.0667]]],\n",
       " \n",
       " \n",
       "         ...,\n",
       " \n",
       " \n",
       "         [[[0.8157, 0.8196, 0.8902,  ..., 0.7294, 0.7412, 0.7569],\n",
       "           [0.8078, 0.8000, 0.8196,  ..., 0.7137, 0.7373, 0.7333],\n",
       "           [0.8510, 0.8471, 0.8118,  ..., 0.7020, 0.6706, 0.6706],\n",
       "           ...,\n",
       "           [0.6275, 0.6157, 0.5882,  ..., 0.7843, 0.7961, 0.7569],\n",
       "           [0.5922, 0.5765, 0.5686,  ..., 0.7176, 0.8039, 0.8000],\n",
       "           [0.5725, 0.5647, 0.5529,  ..., 0.6824, 0.7216, 0.8078]],\n",
       " \n",
       "          [[0.8588, 0.8941, 0.9569,  ..., 0.7451, 0.7333, 0.7608],\n",
       "           [0.8471, 0.8706, 0.8784,  ..., 0.7333, 0.7294, 0.7412],\n",
       "           [0.9020, 0.8941, 0.8510,  ..., 0.7294, 0.6784, 0.6784],\n",
       "           ...,\n",
       "           [0.6353, 0.6235, 0.5961,  ..., 0.8196, 0.8392, 0.7961],\n",
       "           [0.6078, 0.5843, 0.5725,  ..., 0.7647, 0.8549, 0.8471],\n",
       "           [0.5882, 0.5686, 0.5529,  ..., 0.7176, 0.7725, 0.8549]],\n",
       " \n",
       "          [[0.7647, 0.7569, 0.8039,  ..., 0.6000, 0.5843, 0.6314],\n",
       "           [0.7647, 0.7412, 0.7647,  ..., 0.5765, 0.5647, 0.5961],\n",
       "           [0.8157, 0.8157, 0.7922,  ..., 0.5529, 0.4824, 0.5020],\n",
       "           ...,\n",
       "           [0.6235, 0.6039, 0.5765,  ..., 0.7529, 0.8078, 0.8157],\n",
       "           [0.6000, 0.5725, 0.5490,  ..., 0.6824, 0.7216, 0.8235],\n",
       "           [0.5843, 0.5608, 0.5294,  ..., 0.6980, 0.6824, 0.7686]]],\n",
       " \n",
       " \n",
       "         [[[0.9922, 0.9804, 0.9804,  ..., 0.9961, 0.9961, 0.9961],\n",
       "           [0.9922, 0.9725, 0.9725,  ..., 0.9843, 0.9843, 0.9882],\n",
       "           [0.9961, 0.9804, 0.9804,  ..., 0.9804, 0.9843, 0.9882],\n",
       "           ...,\n",
       "           [0.2784, 0.1176, 0.1098,  ..., 0.3608, 0.3765, 0.3529],\n",
       "           [0.3412, 0.2000, 0.1961,  ..., 0.3686, 0.3804, 0.3569],\n",
       "           [0.4118, 0.4039, 0.3922,  ..., 0.3725, 0.3804, 0.3765]],\n",
       " \n",
       "          [[0.9765, 0.9647, 0.9647,  ..., 0.9804, 0.9804, 0.9765],\n",
       "           [0.9765, 0.9569, 0.9569,  ..., 0.9686, 0.9686, 0.9725],\n",
       "           [0.9804, 0.9647, 0.9647,  ..., 0.9647, 0.9686, 0.9725],\n",
       "           ...,\n",
       "           [0.4431, 0.2353, 0.2157,  ..., 0.5647, 0.5843, 0.5608],\n",
       "           [0.5255, 0.3294, 0.3333,  ..., 0.5725, 0.5882, 0.5686],\n",
       "           [0.6039, 0.5686, 0.5529,  ..., 0.5725, 0.5843, 0.5882]],\n",
       " \n",
       "          [[0.9647, 0.9529, 0.9529,  ..., 0.9686, 0.9686, 0.9647],\n",
       "           [0.9647, 0.9451, 0.9451,  ..., 0.9569, 0.9569, 0.9608],\n",
       "           [0.9686, 0.9529, 0.9529,  ..., 0.9529, 0.9569, 0.9608],\n",
       "           ...,\n",
       "           [0.1843, 0.1137, 0.1216,  ..., 0.2824, 0.3020, 0.2706],\n",
       "           [0.2314, 0.1804, 0.1686,  ..., 0.2902, 0.3020, 0.2745],\n",
       "           [0.2902, 0.3059, 0.2824,  ..., 0.2980, 0.3059, 0.2941]]],\n",
       " \n",
       " \n",
       "         [[[0.5569, 0.5647, 0.6078,  ..., 0.3608, 0.3529, 0.3451],\n",
       "           [0.3333, 0.3059, 0.3412,  ..., 0.3608, 0.3569, 0.3451],\n",
       "           [0.2902, 0.2863, 0.3412,  ..., 0.3725, 0.3569, 0.3529],\n",
       "           ...,\n",
       "           [0.2039, 0.2353, 0.1961,  ..., 0.2196, 0.2235, 0.2235],\n",
       "           [0.1804, 0.1843, 0.2196,  ..., 0.2235, 0.2275, 0.2353],\n",
       "           [0.1569, 0.1529, 0.1608,  ..., 0.2314, 0.2353, 0.2392]],\n",
       " \n",
       "          [[0.5922, 0.5922, 0.6471,  ..., 0.3765, 0.3647, 0.3569],\n",
       "           [0.3373, 0.2706, 0.3059,  ..., 0.3765, 0.3686, 0.3569],\n",
       "           [0.2588, 0.1961, 0.2627,  ..., 0.3882, 0.3686, 0.3647],\n",
       "           ...,\n",
       "           [0.2510, 0.2941, 0.2627,  ..., 0.2941, 0.2863, 0.2784],\n",
       "           [0.2235, 0.2314, 0.2784,  ..., 0.2824, 0.2745, 0.2706],\n",
       "           [0.1922, 0.1961, 0.2078,  ..., 0.2745, 0.2667, 0.2588]],\n",
       " \n",
       "          [[0.6510, 0.6353, 0.6627,  ..., 0.2902, 0.2902, 0.2902],\n",
       "           [0.3765, 0.2784, 0.2941,  ..., 0.2902, 0.2902, 0.2902],\n",
       "           [0.2824, 0.1882, 0.2471,  ..., 0.3020, 0.2941, 0.2980],\n",
       "           ...,\n",
       "           [0.2471, 0.2980, 0.2706,  ..., 0.3098, 0.3059, 0.3020],\n",
       "           [0.2196, 0.2392, 0.2902,  ..., 0.3020, 0.2980, 0.2980],\n",
       "           [0.1922, 0.2039, 0.2235,  ..., 0.3020, 0.2941, 0.2941]]]]),\n",
       " tensor([3, 2, 8, 4, 3, 0, 9, 7, 5, 4, 2, 9, 1, 6, 7, 5])]"
      ]
     },
     "execution_count": 13,
     "metadata": {},
     "output_type": "execute_result"
    }
   ],
   "source": [
    "# 위 모든 것을 결함\n",
    "class myDataset(Dataset):\n",
    "    def __init__(self, data_path, transform=None):\n",
    "        self.data_path = data_path\n",
    "        self.transform = transform\n",
    "        \n",
    "    def __len__(self):\n",
    "        return len(self.data_path)\n",
    "        \n",
    "    def __getitem__(self, idx):\n",
    "        path = self.data_path[idx]\n",
    "        \n",
    "        # Image 불러오기\n",
    "        image = Image.open(path)\n",
    "        \n",
    "        # Label 불러오기\n",
    "        label = get_label(path)\n",
    "        \n",
    "        if self.transform:\n",
    "            image = self.transform(image)\n",
    "            \n",
    "        return image, label\n",
    "    \n",
    "transform = transforms.Compose([\n",
    "    transforms.ToTensor(),\n",
    "    transforms.Normalize(mean=[0], std=[1])\n",
    "])\n",
    "\n",
    "trainset = myDataset(train_path, transform=transform)\n",
    "testset = myDataset(test_path, transform=transform)\n",
    "\n",
    "trainloader = torch.utils.data.DataLoader(trainset, batch_size=16, shuffle=True)\n",
    "testloader = torch.utils.data.DataLoader(testset, batch_size=16, shuffle=True)\n",
    "\n",
    "iter(trainloader).next()"
   ]
  }
 ],
 "metadata": {
  "kernelspec": {
   "display_name": "Python 3",
   "language": "python",
   "name": "python3"
  },
  "language_info": {
   "codemirror_mode": {
    "name": "ipython",
    "version": 3
   },
   "file_extension": ".py",
   "mimetype": "text/x-python",
   "name": "python",
   "nbconvert_exporter": "python",
   "pygments_lexer": "ipython3",
   "version": "3.6.2"
  },
  "varInspector": {
   "cols": {
    "lenName": 16,
    "lenType": 16,
    "lenVar": 40
   },
   "kernels_config": {
    "python": {
     "delete_cmd_postfix": "",
     "delete_cmd_prefix": "del ",
     "library": "var_list.py",
     "varRefreshCmd": "print(var_dic_list())"
    },
    "r": {
     "delete_cmd_postfix": ") ",
     "delete_cmd_prefix": "rm(",
     "library": "var_list.r",
     "varRefreshCmd": "cat(var_dic_list()) "
    }
   },
   "types_to_exclude": [
    "module",
    "function",
    "builtin_function_or_method",
    "instance",
    "_Feature"
   ],
   "window_display": false
  }
 },
 "nbformat": 4,
 "nbformat_minor": 2
}
