{
 "cells": [
  {
   "cell_type": "code",
   "execution_count": 1,
   "metadata": {
    "ExecuteTime": {
     "end_time": "2019-10-25T13:38:48.758435Z",
     "start_time": "2019-10-25T13:38:46.116940Z"
    }
   },
   "outputs": [],
   "source": [
    "import torch\n",
    "import torchvision\n",
    "import torchvision.transforms as transforms\n",
    "import matplotlib.pyplot as plt\n",
    "import numpy as np\n",
    "%matplotlib inline"
   ]
  },
  {
   "cell_type": "code",
   "execution_count": 2,
   "metadata": {
    "ExecuteTime": {
     "end_time": "2019-10-25T13:38:49.592942Z",
     "start_time": "2019-10-25T13:38:49.369072Z"
    }
   },
   "outputs": [
    {
     "name": "stdout",
     "output_type": "stream",
     "text": [
      "Dataset MNIST\n",
      "    Number of datapoints: 60000\n",
      "    Root location: ./data\n",
      "    Split: Train\n",
      "    StandardTransform\n",
      "Transform: Compose(\n",
      "               ToTensor()\n",
      "               Normalize(mean=[0], std=[1])\n",
      "           )\n",
      "****************************************************************************************************\n",
      "Dataset MNIST\n",
      "    Number of datapoints: 10000\n",
      "    Root location: ./data\n",
      "    Split: Test\n",
      "    StandardTransform\n",
      "Transform: Compose(\n",
      "               ToTensor()\n",
      "               Normalize(mean=[0], std=[1])\n",
      "           )\n"
     ]
    }
   ],
   "source": [
    "# Dataset & DataLoader\n",
    "\n",
    "transform = transforms.Compose(\n",
    "[\n",
    "    transforms.ToTensor(),\n",
    "    transforms.Normalize([0], [1])\n",
    "])\n",
    "\n",
    "trainset = torchvision.datasets.MNIST(root = './data', train = True,\n",
    "                                      download = True, transform=transform)\n",
    "\n",
    "trainloader = torch.utils.data.DataLoader(trainset, batch_size = 128,\n",
    "                                          shuffle = True, num_workers=1)\n",
    "\n",
    "testset = torchvision.datasets.MNIST(root = './data', train = False,\n",
    "                                     download = True, transform=transform)\n",
    "\n",
    "testloader = torch.utils.data.DataLoader(testset, batch_size = 128,\n",
    "                                         shuffle = True, num_workers=1)\n",
    "\n",
    "classes = {'0', '1', '2', '3', '4', '5', '6', '7', '8', '9'}\n",
    "\n",
    "print(trainset)\n",
    "print('*'*100)\n",
    "print(testset)"
   ]
  },
  {
   "cell_type": "code",
   "execution_count": 3,
   "metadata": {
    "ExecuteTime": {
     "end_time": "2019-10-25T13:38:55.963279Z",
     "start_time": "2019-10-25T13:38:54.186302Z"
    }
   },
   "outputs": [
    {
     "name": "stdout",
     "output_type": "stream",
     "text": [
      "torch.Size([128, 1, 28, 28])\n",
      "torch.Size([3, 448, 224])\n",
      "torch.Size([448, 224, 3])\n"
     ]
    },
    {
     "data": {
      "image/png": "[encoded data removed]",
      "text/plain": [
       "<Figure size 432x288 with 1 Axes>"
      ]
     },
     "metadata": {
      "needs_background": "light"
     },
     "output_type": "display_data"
    }
   ],
   "source": [
    "# Visualization Datasets\n",
    "\n",
    "def show(img):\n",
    "    print(img.size())\n",
    "    grid = torchvision.utils.make_grid(img, padding = 0) # make_grid 함수는 3채널로 만든다(모두 같은 format으로)\n",
    "    print(grid.size())\n",
    "    tranimg = grid.permute(1,2,0)\n",
    "    print(tranimg.size())\n",
    "    plt.imshow(tranimg)\n",
    "\n",
    "images, labels = iter(trainloader).next()\n",
    "show(images)"
   ]
  },
  {
   "cell_type": "code",
   "execution_count": 4,
   "metadata": {
    "ExecuteTime": {
     "end_time": "2019-10-25T13:38:56.689865Z",
     "start_time": "2019-10-25T13:38:56.576929Z"
    }
   },
   "outputs": [],
   "source": [
    "# Make Model\n",
    "\n",
    "import torch.nn as nn\n",
    "import torch.nn.functional as F\n",
    "\n",
    "class Net(nn.Module):\n",
    "    \n",
    "    def __init__(self):\n",
    "        super(Net, self).__init__()\n",
    "        self.conv1 = nn.Conv2d(1, 10, 7, padding = 3)\n",
    "        self.conv2 = nn.Conv2d(10, 50, 7, padding = 3)\n",
    "        self.conv3 = nn.Conv2d(50, 120, 7, padding = 3)\n",
    "        self.conv4 = nn.Conv2d(120, 100, 5)\n",
    "        self.conv5 = nn.Conv2d(100, 20, 5)\n",
    "        self.conv6 = nn.Conv2d(20, 10, 5)\n",
    "        self.conv7 = nn.Conv2d(10, 10, 3)\n",
    "        self.pool = nn.MaxPool2d(2,2)\n",
    "        self.fc1 = nn.Linear(10 * 8 * 8, 120)\n",
    "        self.fc2 = nn.Linear(120, 360)\n",
    "        self.fc3 = nn.Linear(360, 50)\n",
    "        self.fc4 = nn.Linear(50, 10)\n",
    "        \n",
    "    def forward(self, x):\n",
    "        x = F.relu(self.conv1(x)) # 28 28\n",
    "        x = F.relu(self.conv2(x)) # 28 28\n",
    "        x = F.relu(self.conv3(x)) # 28 28\n",
    "        x = F.relu(self.conv4(x)) # 24 24\n",
    "        x = F.relu(self.conv5(x)) # 20 20\n",
    "        x = self.pool(F.relu(self.conv6(x))) # 8 8\n",
    "        x = x.view(-1, 10 * 8 * 8)\n",
    "        x = F.relu(self.fc1(x))\n",
    "        x = F.relu(self.fc2(x))\n",
    "        x = F.relu(self.fc3(x))\n",
    "        x = self.fc4(x)\n",
    "        \n",
    "        return x   \n",
    "    \n",
    "model = Net()"
   ]
  },
  {
   "cell_type": "code",
   "execution_count": 5,
   "metadata": {
    "ExecuteTime": {
     "end_time": "2019-10-25T13:39:03.326051Z",
     "start_time": "2019-10-25T13:38:58.713721Z"
    }
   },
   "outputs": [
    {
     "name": "stdout",
     "output_type": "stream",
     "text": [
      "torch.Size([128, 1, 28, 28])\n",
      "Test :  tensor([[-0.0303, -0.1330, -0.0397,  ..., -0.0511, -0.0170, -0.0037],\n",
      "        [-0.0303, -0.1330, -0.0397,  ..., -0.0512, -0.0169, -0.0036],\n",
      "        [-0.0303, -0.1329, -0.0397,  ..., -0.0512, -0.0170, -0.0037],\n",
      "        ...,\n",
      "        [-0.0302, -0.1330, -0.0397,  ..., -0.0512, -0.0169, -0.0037],\n",
      "        [-0.0303, -0.1329, -0.0397,  ..., -0.0511, -0.0169, -0.0038],\n",
      "        [-0.0303, -0.1330, -0.0397,  ..., -0.0510, -0.0170, -0.0038]])\n",
      "cpu\n",
      "False\n"
     ]
    }
   ],
   "source": [
    "with torch.no_grad():\n",
    "    images, labels = next(iter(trainloader))\n",
    "    print(images.size())\n",
    "    example = model(images)\n",
    "    print('Test : ', example)\n",
    "\n",
    "if torch.cuda.is_available():\n",
    "    device = torch.device('cuda')\n",
    "    model.cuda()\n",
    "else:\n",
    "    device = torch.device('cpu')\n",
    "print(device)\n",
    "print(next(model.parameters()).is_cuda)"
   ]
  },
  {
   "cell_type": "code",
   "execution_count": 6,
   "metadata": {
    "ExecuteTime": {
     "end_time": "2019-10-25T13:39:06.624156Z",
     "start_time": "2019-10-25T13:39:06.610163Z"
    }
   },
   "outputs": [
    {
     "name": "stdout",
     "output_type": "stream",
     "text": [
      "CrossEntropyLoss() SGD (\n",
      "Parameter Group 0\n",
      "    dampening: 0\n",
      "    lr: 0.1\n",
      "    momentum: 0\n",
      "    nesterov: False\n",
      "    weight_decay: 0\n",
      ")\n"
     ]
    }
   ],
   "source": [
    "import torch.optim as optim\n",
    "\n",
    "loss_func = nn.CrossEntropyLoss()\n",
    "optimizer = optim.SGD(model.parameters(), lr = 0.1)\n",
    "print(loss_func, optimizer)"
   ]
  },
  {
   "cell_type": "code",
   "execution_count": 11,
   "metadata": {},
   "outputs": [
    {
     "name": "stdout",
     "output_type": "stream",
     "text": [
      "Dataset MNIST\n",
      "    Number of datapoints: 60000\n",
      "    Root location: ./data\n",
      "    Split: Train\n",
      "    StandardTransform\n",
      "Transform: Compose(\n",
      "               ToTensor()\n",
      "               Normalize(mean=[0], std=[1])\n",
      "           )\n",
      "****************************************************************************************************\n",
      "Dataset MNIST\n",
      "    Number of datapoints: 10000\n",
      "    Root location: ./data\n",
      "    Split: Test\n",
      "    StandardTransform\n",
      "Transform: Compose(\n",
      "               ToTensor()\n",
      "               Normalize(mean=[0], std=[1])\n",
      "           )\n",
      "torch.Size([128, 1, 28, 28])\n",
      "torch.Size([3, 448, 224])\n",
      "torch.Size([448, 224, 3])\n",
      "torch.Size([128, 1, 28, 28])\n",
      "Test :  tensor([[ 0.0574, -0.0610, -0.0981,  ..., -0.1419, -0.0347, -0.0277],\n",
      "        [ 0.0575, -0.0610, -0.0982,  ..., -0.1420, -0.0347, -0.0278],\n",
      "        [ 0.0574, -0.0611, -0.0982,  ..., -0.1419, -0.0347, -0.0277],\n",
      "        ...,\n",
      "        [ 0.0575, -0.0611, -0.0982,  ..., -0.1419, -0.0347, -0.0278],\n",
      "        [ 0.0575, -0.0611, -0.0982,  ..., -0.1419, -0.0347, -0.0278],\n",
      "        [ 0.0575, -0.0611, -0.0982,  ..., -0.1419, -0.0347, -0.0278]])\n",
      "cuda\n",
      "True\n",
      "CrossEntropyLoss() SGD (\n",
      "Parameter Group 0\n",
      "    dampening: 0\n",
      "    lr: 0.1\n",
      "    momentum: 0\n",
      "    nesterov: False\n",
      "    weight_decay: 0\n",
      ")\n",
      "[1/101]-----[469/937] LOSS : 1079.600------ Time : 16\n",
      "\n",
      "[2/101]-----[469/937] LOSS : 1078.179------ Time : 16\n",
      "\n",
      "[3/101]-----[469/937] LOSS : 413.613------ Time : 16\n",
      "\n",
      "[4/101]-----[469/937] LOSS : 53.940------ Time : 16\n",
      "\n",
      "[5/101]-----[469/937] LOSS : 34.056------ Time : 16\n",
      "\n",
      "[6/101]-----[469/937] LOSS : 25.893------ Time : 16\n",
      "\n",
      "[7/101]-----[469/937] LOSS : 21.441------ Time : 16\n",
      "\n",
      "[8/101]-----[469/937] LOSS : 17.656------ Time : 16\n",
      "\n",
      "[9/101]-----[469/937] LOSS : 15.042------ Time : 16\n",
      "\n",
      "[10/101]-----[469/937] LOSS : 13.085------ Time : 16\n",
      "\n",
      "[11/101]-----[469/937] LOSS : 11.464------ Time : 16\n",
      "\n",
      "[12/101]-----[469/937] LOSS : 9.865------ Time : 16\n",
      "\n",
      "[13/101]-----[469/937] LOSS : 9.368------ Time : 16\n",
      "\n",
      "[14/101]-----[469/937] LOSS : 8.678------ Time : 16\n",
      "\n",
      "[15/101]-----[469/937] LOSS : 7.742------ Time : 17\n",
      "\n",
      "[16/101]-----[469/937] LOSS : 7.440------ Time : 16\n",
      "\n",
      "[17/101]-----[469/937] LOSS : 6.576------ Time : 16\n",
      "\n",
      "[18/101]-----[469/937] LOSS : 4.966------ Time : 16\n",
      "\n",
      "[19/101]-----[469/937] LOSS : 5.011------ Time : 16\n",
      "\n",
      "[20/101]-----[469/937] LOSS : 4.956------ Time : 16\n",
      "\n",
      "[21/101]-----[469/937] LOSS : 5.206------ Time : 16\n",
      "\n",
      "[22/101]-----[469/937] LOSS : 4.011------ Time : 16\n",
      "\n",
      "[23/101]-----[469/937] LOSS : 4.218------ Time : 16\n",
      "\n",
      "[24/101]-----[469/937] LOSS : 3.593------ Time : 16\n",
      "\n",
      "[25/101]-----[469/937] LOSS : 3.344------ Time : 16\n",
      "\n",
      "[26/101]-----[469/937] LOSS : 2.272------ Time : 16\n",
      "\n",
      "[27/101]-----[469/937] LOSS : 2.504------ Time : 16\n",
      "\n",
      "[28/101]-----[469/937] LOSS : 2.447------ Time : 16\n",
      "\n",
      "[29/101]-----[469/937] LOSS : 2.778------ Time : 16\n",
      "\n",
      "[30/101]-----[469/937] LOSS : 2.939------ Time : 16\n",
      "\n",
      "[31/101]-----[469/937] LOSS : 2.189------ Time : 16\n",
      "\n",
      "[32/101]-----[469/937] LOSS : 2.108------ Time : 16\n",
      "\n",
      "[33/101]-----[469/937] LOSS : 2.181------ Time : 17\n",
      "\n",
      "[34/101]-----[469/937] LOSS : 1.774------ Time : 16\n",
      "\n",
      "[35/101]-----[469/937] LOSS : 1.865------ Time : 17\n",
      "\n",
      "[36/101]-----[469/937] LOSS : 2.720------ Time : 16\n",
      "\n",
      "[37/101]-----[469/937] LOSS : 1.315------ Time : 16\n",
      "\n",
      "[38/101]-----[469/937] LOSS : 0.338------ Time : 16\n",
      "\n",
      "[39/101]-----[469/937] LOSS : 0.601------ Time : 16\n",
      "\n",
      "[40/101]-----[469/937] LOSS : 1.796------ Time : 16\n",
      "\n",
      "[41/101]-----[469/937] LOSS : 1.431------ Time : 16\n",
      "\n",
      "[42/101]-----[469/937] LOSS : 3.990------ Time : 16\n",
      "\n",
      "[43/101]-----[469/937] LOSS : 0.876------ Time : 16\n",
      "\n",
      "[44/101]-----[469/937] LOSS : 0.283------ Time : 16\n",
      "\n",
      "[45/101]-----[469/937] LOSS : 0.071------ Time : 16\n",
      "\n",
      "[46/101]-----[469/937] LOSS : 0.043------ Time : 16\n",
      "\n",
      "[47/101]-----[469/937] LOSS : 0.025------ Time : 16\n",
      "\n",
      "[48/101]-----[469/937] LOSS : 0.020------ Time : 16\n",
      "\n",
      "[49/101]-----[469/937] LOSS : 0.019------ Time : 16\n",
      "\n",
      "[50/101]-----[469/937] LOSS : 0.011------ Time : 16\n",
      "\n",
      "[51/101]-----[469/937] LOSS : 0.009------ Time : 17\n",
      "\n",
      "[52/101]-----[469/937] LOSS : 0.008------ Time : 16\n",
      "\n",
      "[53/101]-----[469/937] LOSS : 0.006------ Time : 16\n",
      "\n",
      "[54/101]-----[469/937] LOSS : 0.006------ Time : 16\n",
      "\n",
      "[55/101]-----[469/937] LOSS : 0.005------ Time : 16\n",
      "\n",
      "[56/101]-----[469/937] LOSS : 0.005------ Time : 16\n",
      "\n",
      "[57/101]-----[469/937] LOSS : 0.004------ Time : 16\n",
      "\n",
      "[58/101]-----[469/937] LOSS : 0.004------ Time : 16\n",
      "\n",
      "[59/101]-----[469/937] LOSS : 0.003------ Time : 16\n",
      "\n",
      "[60/101]-----[469/937] LOSS : 0.003------ Time : 16\n",
      "\n",
      "[61/101]-----[469/937] LOSS : 0.003------ Time : 16\n",
      "\n",
      "[62/101]-----[469/937] LOSS : 0.003------ Time : 16\n",
      "\n",
      "[63/101]-----[469/937] LOSS : 0.003------ Time : 16\n",
      "\n",
      "[64/101]-----[469/937] LOSS : 0.002------ Time : 16\n",
      "\n",
      "[65/101]-----[469/937] LOSS : 0.002------ Time : 16\n",
      "\n",
      "[66/101]-----[469/937] LOSS : 0.002------ Time : 16\n",
      "\n",
      "[67/101]-----[469/937] LOSS : 0.002------ Time : 16\n",
      "\n",
      "[68/101]-----[469/937] LOSS : 0.002------ Time : 16\n",
      "\n",
      "[69/101]-----[469/937] LOSS : 0.002------ Time : 17\n",
      "\n",
      "[70/101]-----[469/937] LOSS : 0.002------ Time : 16\n",
      "\n",
      "[71/101]-----[469/937] LOSS : 0.002------ Time : 16\n",
      "\n",
      "[72/101]-----[469/937] LOSS : 0.002------ Time : 16\n",
      "\n",
      "[73/101]-----[469/937] LOSS : 0.002------ Time : 16\n",
      "\n",
      "[74/101]-----[469/937] LOSS : 0.001------ Time : 16\n",
      "\n",
      "[75/101]-----[469/937] LOSS : 0.001------ Time : 16\n",
      "\n",
      "[76/101]-----[469/937] LOSS : 0.001------ Time : 16\n",
      "\n",
      "[77/101]-----[469/937] LOSS : 0.001------ Time : 16\n",
      "\n",
      "[78/101]-----[469/937] LOSS : 0.001------ Time : 16\n",
      "\n",
      "[79/101]-----[469/937] LOSS : 0.001------ Time : 16\n",
      "\n",
      "[80/101]-----[469/937] LOSS : 0.001------ Time : 16\n",
      "\n",
      "[81/101]-----[469/937] LOSS : 0.001------ Time : 16\n",
      "\n",
      "[82/101]-----[469/937] LOSS : 0.001------ Time : 16\n",
      "\n",
      "[83/101]-----[469/937] LOSS : 0.001------ Time : 16\n",
      "\n",
      "[84/101]-----[469/937] LOSS : 0.001------ Time : 16\n",
      "\n",
      "[85/101]-----[469/937] LOSS : 0.001------ Time : 16\n",
      "\n",
      "[86/101]-----[469/937] LOSS : 0.001------ Time : 16\n",
      "\n",
      "[87/101]-----[469/937] LOSS : 0.001------ Time : 17\n",
      "\n",
      "[88/101]-----[469/937] LOSS : 0.001------ Time : 16\n",
      "\n",
      "[89/101]-----[469/937] LOSS : 0.001------ Time : 16\n",
      "\n",
      "[90/101]-----[469/937] LOSS : 0.001------ Time : 16\n",
      "\n",
      "[91/101]-----[469/937] LOSS : 0.001------ Time : 16\n",
      "\n",
      "[92/101]-----[469/937] LOSS : 0.001------ Time : 16\n",
      "\n",
      "[93/101]-----[469/937] LOSS : 0.001------ Time : 16\n",
      "\n",
      "[94/101]-----[469/937] LOSS : 0.001------ Time : 16\n",
      "\n",
      "[95/101]-----[469/937] LOSS : 0.001------ Time : 16\n",
      "\n",
      "[96/101]-----[469/937] LOSS : 0.001------ Time : 16\n",
      "\n",
      "[97/101]-----[469/937] LOSS : 0.001------ Time : 16\n",
      "\n",
      "[98/101]-----[469/937] LOSS : 0.001------ Time : 16\n",
      "\n",
      "[99/101]-----[469/937] LOSS : 0.001------ Time : 16\n",
      "\n",
      "[100/101]-----[469/937] LOSS : 0.001------ Time : 16\n",
      "\n"
     ]
    },
    {
     "data": {
      "image/png": "[encoded data removed]",
      "text/plain": [
       "<Figure size 432x288 with 1 Axes>"
      ]
     },
     "metadata": {
      "needs_background": "light"
     },
     "output_type": "display_data"
    }
   ],
   "source": [
    "import time\n",
    "\n",
    "# Train\n",
    "\n",
    "EPOCH = 100\n",
    "\n",
    "for e in range(EPOCH):\n",
    "    start_time = time.time()\n",
    "    running_loss = 0\n",
    "    for i, data in enumerate(trainloader):\n",
    "        images, labels = data\n",
    "        images, labels = images.cuda(), labels.cuda()\n",
    "        \n",
    "        optimizer.zero_grad()\n",
    "        outputs = model(images)\n",
    "        loss = loss_func(outputs, labels)\n",
    "        loss.backward()\n",
    "        optimizer.step()\n",
    "        \n",
    "        running_loss += loss\n",
    "        now = time.time()\n",
    "        print('\\r[%d/%d]-----[%d/%d] LOSS : %.3f------ Time : %d' \n",
    "              %(e+1, EPOCH+1, i+1, 60000/64, running_loss, now - start_time), end = '')\n",
    "        \n",
    "    print('\\n')"
   ]
  },
  {
   "cell_type": "code",
   "execution_count": 32,
   "metadata": {},
   "outputs": [
    {
     "data": {
      "text/plain": [
       "Net(\n",
       "  (conv1): Conv2d(1, 10, kernel_size=(7, 7), stride=(1, 1), padding=(3, 3))\n",
       "  (conv2): Conv2d(10, 50, kernel_size=(7, 7), stride=(1, 1), padding=(3, 3))\n",
       "  (conv3): Conv2d(50, 120, kernel_size=(7, 7), stride=(1, 1), padding=(3, 3))\n",
       "  (conv4): Conv2d(120, 100, kernel_size=(5, 5), stride=(1, 1))\n",
       "  (conv5): Conv2d(100, 20, kernel_size=(5, 5), stride=(1, 1))\n",
       "  (conv6): Conv2d(20, 10, kernel_size=(5, 5), stride=(1, 1))\n",
       "  (conv7): Conv2d(10, 10, kernel_size=(3, 3), stride=(1, 1))\n",
       "  (pool): MaxPool2d(kernel_size=2, stride=2, padding=0, dilation=1, ceil_mode=False)\n",
       "  (fc1): Linear(in_features=640, out_features=120, bias=True)\n",
       "  (fc2): Linear(in_features=120, out_features=360, bias=True)\n",
       "  (fc3): Linear(in_features=360, out_features=50, bias=True)\n",
       "  (fc4): Linear(in_features=50, out_features=10, bias=True)\n",
       ")"
      ]
     },
     "execution_count": 32,
     "metadata": {},
     "output_type": "execute_result"
    }
   ],
   "source": [
    "torch.save(model, 'data/mnist_classifier.pth')\n",
    "test_model = torch.load('data/mnist_classifier.pth')\n",
    "test_model"
   ]
  },
  {
   "cell_type": "code",
   "execution_count": 39,
   "metadata": {},
   "outputs": [
    {
     "name": "stdout",
     "output_type": "stream",
     "text": [
      "torch.Size([8, 1, 28, 28])\n",
      "torch.Size([3, 28, 224])\n",
      "torch.Size([28, 224, 3])\n",
      "GroundTruth :  3 2 4 7 9 7 7 9\n",
      "Predicted :  3 2 4 7 9 7 7 9\n"
     ]
    },
    {
     "data": {
      "image/png": "[encoded data removed]",
      "text/plain": [
       "<Figure size 432x288 with 1 Axes>"
      ]
     },
     "metadata": {
      "needs_background": "light"
     },
     "output_type": "display_data"
    }
   ],
   "source": [
    "with torch.no_grad():\n",
    "    classes = ('0', '1', '2', '3', '4', '5', '6', '7', '8', '9')\n",
    "    testloader = torch.utils.data.DataLoader(testset, batch_size = 8,\n",
    "                                         shuffle = True, num_workers=1)\n",
    "    test_data = iter(testloader)\n",
    "    test_images, test_labels = test_data.next()\n",
    "    show(test_images)\n",
    "    test_images, test_labels = test_images.cuda(), test_labels.cuda()\n",
    "    \n",
    "    test_outputs = test_model(test_images)\n",
    "    _, predicted = torch.max(test_outputs, 1)\n",
    "    \n",
    "    \n",
    "    print('GroundTruth : ', ' '.join(classes[test_labels[j]] for j in range(8)))\n",
    "    print('Predicted : ', ' '.join(classes[predicted[i]] for i in range(8)))\n"
   ]
  },
  {
   "cell_type": "code",
   "execution_count": 40,
   "metadata": {},
   "outputs": [
    {
     "name": "stdout",
     "output_type": "stream",
     "text": [
      "Accuracy of the network on the 10000 test images : 99.280 %\n"
     ]
    }
   ],
   "source": [
    "correct = 0\n",
    "total = 0\n",
    "with torch.no_grad():\n",
    "    for data in testloader:\n",
    "        val_images, val_labels = data\n",
    "        val_images, val_labels = val_images.cuda(), val_labels.cuda()\n",
    "        \n",
    "        val_outputs = test_model(val_images)\n",
    "        _, val_predicted = torch.max(val_outputs.data, 1)\n",
    "        total += val_labels.size(0)\n",
    "        correct += (val_predicted == val_labels).sum().item()\n",
    "        \n",
    "print('Accuracy of the network on the 10000 test images : %.3f %%' %(100 * correct / total))"
   ]
  }
 ],
 "metadata": {
  "kernelspec": {
   "display_name": "Python 3",
   "language": "python",
   "name": "python3"
  },
  "language_info": {
   "codemirror_mode": {
    "name": "ipython",
    "version": 3
   },
   "file_extension": ".py",
   "mimetype": "text/x-python",
   "name": "python",
   "nbconvert_exporter": "python",
   "pygments_lexer": "ipython3",
   "version": "3.6.2"
  },
  "varInspector": {
   "cols": {
    "lenName": 16,
    "lenType": 16,
    "lenVar": 40
   },
   "kernels_config": {
    "python": {
     "delete_cmd_postfix": "",
     "delete_cmd_prefix": "del ",
     "library": "var_list.py",
     "varRefreshCmd": "print(var_dic_list())"
    },
    "r": {
     "delete_cmd_postfix": ") ",
     "delete_cmd_prefix": "rm(",
     "library": "var_list.r",
     "varRefreshCmd": "cat(var_dic_list()) "
    }
   },
   "types_to_exclude": [
    "module",
    "function",
    "builtin_function_or_method",
    "instance",
    "_Feature"
   ],
   "window_display": false
  }
 },
 "nbformat": 4,
 "nbformat_minor": 1
}
