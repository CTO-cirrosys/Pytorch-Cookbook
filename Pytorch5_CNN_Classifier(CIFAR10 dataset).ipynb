{
 "cells": [
  {
   "cell_type": "markdown",
   "metadata": {},
   "source": [
    "# Master Pytorch Chapter 4 : Classifier(CIFAR10 dataset)\n",
    "- http://pytorch.kr/beginner/blitz/cifar10_tutorial.html"
   ]
  },
  {
   "cell_type": "markdown",
   "metadata": {},
   "source": [
    "## 데이터 다루기\n",
    "- 이미지나 텍스트, 오디오나 비디오 데이터를 다룬다.\n",
    "- 표준 python 패키지를 사용하여 불러온 후 numpy배열로 변환\n",
    "- 그리고 그 배열을 torch.tensor로 변환\n",
    "\n",
    "### 꿀팁\n",
    "- 이미지는 Pillow나 OpenCV 패키지(Pillow - 과거 PIL)\n",
    "- 영상 분야에서는 **torchvision** 패키지가 따로 있어서 좋음\n",
    "- 오디오 처리는 Scipy와 LibROSA가 유용\n",
    "- 텍스트의 경우 Python나 NLTK, SpaCy도 좋음"
   ]
  },
  {
   "cell_type": "markdown",
   "metadata": {},
   "source": [
    "## 이미지 불류기 학습하기(CIFAR10)\n",
    "- torchvision 이용하기\n",
    "- CIFAR10의 train/test dataset 분류\n",
    "- CNN 정의\n",
    "- 손실함수(Loss Function) 정의\n",
    "- 신경망 학습 및 검사"
   ]
  },
  {
   "cell_type": "markdown",
   "metadata": {},
   "source": [
    "## CIFAR10 불러오기(정규화)\n",
    "- torchvision 이용"
   ]
  },
  {
   "cell_type": "code",
   "execution_count": 1,
   "metadata": {
    "ExecuteTime": {
     "end_time": "2019-10-21T14:20:34.712056Z",
     "start_time": "2019-10-21T14:20:32.656236Z"
    }
   },
   "outputs": [],
   "source": [
    "import torch\n",
    "import torchvision\n",
    "import torchvision.transforms as transforms"
   ]
  },
  {
   "cell_type": "code",
   "execution_count": 11,
   "metadata": {
    "ExecuteTime": {
     "end_time": "2019-10-21T14:41:42.893640Z",
     "start_time": "2019-10-21T14:41:40.156217Z"
    }
   },
   "outputs": [
    {
     "name": "stdout",
     "output_type": "stream",
     "text": [
      "Files already downloaded and verified\n",
      "Files already downloaded and verified\n"
     ]
    }
   ],
   "source": [
    "# torchvision의 output은 0,1의 범위를 가진다.(PILImage)\n",
    "# [-1,1]의 범위로 정규화 된 Tensor로 변환\n",
    "\n",
    "transform = transforms.Compose(\n",
    "    [transforms.ToTensor(),\n",
    "     transforms.Normalize((0.5, 0.5, 0.5), (0.5, 0.5, 0.5))]\n",
    ")\n",
    "\n",
    "trainset = torchvision.datasets.CIFAR10(root = './data', train = True,\n",
    "                                       download = True, transform = transform)\n",
    "\n",
    "trainloader = torch.utils.data.DataLoader(trainset, batch_size = 4,\n",
    "                                         shuffle = True, num_workers = 4)\n",
    "\n",
    "testset = torchvision.datasets.CIFAR10(root = './data', train = False,\n",
    "                                      download = True, transform = transform)\n",
    "\n",
    "testloader = torch.utils.data.DataLoader(testset, batch_size = 4,\n",
    "                                        shuffle = False, num_workers = 4)\n",
    "\n",
    "classes = ('plane', 'car', 'bird', 'cat', 'deer', 'dog', 'frog',\n",
    "          'horse', 'ship', 'truck')"
   ]
  },
  {
   "cell_type": "code",
   "execution_count": 3,
   "metadata": {
    "ExecuteTime": {
     "end_time": "2019-10-21T14:20:37.638369Z",
     "start_time": "2019-10-21T14:20:37.623377Z"
    }
   },
   "outputs": [
    {
     "name": "stdout",
     "output_type": "stream",
     "text": [
      "<bound method CIFAR10.__getitem__ of Dataset CIFAR10\n",
      "    Number of datapoints: 50000\n",
      "    Root location: ./data\n",
      "    Split: Train\n",
      "    StandardTransform\n",
      "Transform: Compose(\n",
      "               ToTensor()\n",
      "               Normalize(mean=(0.5, 0.5, 0.5), std=(0.5, 0.5, 0.5))\n",
      "           )>\n",
      "************************************************************\n",
      "<bound method CIFAR10.__getitem__ of Dataset CIFAR10\n",
      "    Number of datapoints: 10000\n",
      "    Root location: ./data\n",
      "    Split: Test\n",
      "    StandardTransform\n",
      "Transform: Compose(\n",
      "               ToTensor()\n",
      "               Normalize(mean=(0.5, 0.5, 0.5), std=(0.5, 0.5, 0.5))\n",
      "           )>\n"
     ]
    }
   ],
   "source": [
    "print(trainset.__getitem__)\n",
    "print('*'*60)\n",
    "print(testset.__getitem__)"
   ]
  },
  {
   "cell_type": "markdown",
   "metadata": {},
   "source": [
    "## CIFAR10 example 시각화"
   ]
  },
  {
   "cell_type": "code",
   "execution_count": 4,
   "metadata": {
    "ExecuteTime": {
     "end_time": "2019-10-21T14:20:51.874188Z",
     "start_time": "2019-10-21T14:20:37.656357Z"
    }
   },
   "outputs": [
    {
     "name": "stdout",
     "output_type": "stream",
     "text": [
      "  cat  deer   dog truck\n"
     ]
    },
    {
     "data": {
      "image/png": "[encoded data removed]",
      "text/plain": [
       "<Figure size 432x288 with 1 Axes>"
      ]
     },
     "metadata": {
      "needs_background": "light"
     },
     "output_type": "display_data"
    }
   ],
   "source": [
    "import matplotlib.pyplot as plt\n",
    "import numpy as np\n",
    "%matplotlib inline\n",
    "\n",
    "def imshow(img):\n",
    "    img = img / 2 + 0.5\n",
    "    npimg = img.numpy()\n",
    "    plt.imshow(np.transpose(npimg, (1,2,0)))\n",
    "\n",
    "images, labels = iter(trainloader).next()\n",
    "\n",
    "imshow(torchvision.utils.make_grid(images))\n",
    "print(' '.join('%5s' % classes[labels[j]] for j in range(4)))"
   ]
  },
  {
   "cell_type": "markdown",
   "metadata": {},
   "source": [
    "## 합성곱 신경망(CNN) 정의하기"
   ]
  },
  {
   "cell_type": "code",
   "execution_count": 5,
   "metadata": {
    "ExecuteTime": {
     "end_time": "2019-10-21T14:20:52.018104Z",
     "start_time": "2019-10-21T14:20:51.930156Z"
    }
   },
   "outputs": [],
   "source": [
    "import torch.nn as nn\n",
    "import torch.nn.functional as F\n",
    "\n",
    "class Net(nn.Module):\n",
    "    \n",
    "    def __init__(self):      \n",
    "        super(Net, self).__init__()\n",
    "        self.conv1 = nn.Conv2d(3, 6, 5)\n",
    "        self.conv2 = nn.Conv2d(6, 16, 5)\n",
    "        self.pool = nn.MaxPool2d(2,2) # padding = 0 -> 0으로 패딩된다.(크기감소x)\n",
    "        self.fc1 = nn.Linear(16 * 5 * 5, 120)\n",
    "        self.fc2 = nn.Linear(120, 84)\n",
    "        self.fc3 = nn.Linear(84, 10)\n",
    "        \n",
    "    def forward(self, x):\n",
    "        x = self.pool(F.relu(self.conv1(x)))\n",
    "        x = self.pool(F.relu(self.conv2(x)))\n",
    "        x = x.view(-1, 16 * 5 * 5)\n",
    "        x = F.relu(self.fc1(x))\n",
    "        x = F.relu(self.fc2(x))\n",
    "        x = self.fc3(x)\n",
    "        \n",
    "        return x\n",
    "    \n",
    "net = Net()"
   ]
  },
  {
   "cell_type": "markdown",
   "metadata": {},
   "source": [
    "## 손실 함수와 Optimizer 정의\n",
    "- 손실 함수(교차 엔트로피), Optimizer(SGD)"
   ]
  },
  {
   "cell_type": "code",
   "execution_count": 6,
   "metadata": {
    "ExecuteTime": {
     "end_time": "2019-10-21T14:20:52.079069Z",
     "start_time": "2019-10-21T14:20:52.057082Z"
    }
   },
   "outputs": [
    {
     "name": "stdout",
     "output_type": "stream",
     "text": [
      "CrossEntropyLoss()\n",
      "\n",
      "SGD (\n",
      "Parameter Group 0\n",
      "    dampening: 0\n",
      "    lr: 0.01\n",
      "    momentum: 0.9\n",
      "    nesterov: False\n",
      "    weight_decay: 0\n",
      ")\n"
     ]
    }
   ],
   "source": [
    "import torch.optim as optim\n",
    "\n",
    "loss_func = nn.CrossEntropyLoss()\n",
    "optimizer = optim.SGD(net.parameters(), lr = 0.01, momentum = 0.9)\n",
    "print(loss_func)\n",
    "print('')\n",
    "print(optimizer)"
   ]
  },
  {
   "cell_type": "markdown",
   "metadata": {},
   "source": [
    "# 학습하기\n",
    "- 효율적인 시간 관리를 위해 바로 CUDA로 실행"
   ]
  },
  {
   "cell_type": "code",
   "execution_count": 7,
   "metadata": {
    "ExecuteTime": {
     "end_time": "2019-10-21T14:20:52.150029Z",
     "start_time": "2019-10-21T14:20:52.122044Z"
    }
   },
   "outputs": [
    {
     "name": "stdout",
     "output_type": "stream",
     "text": [
      "cpu\n",
      "False\n"
     ]
    }
   ],
   "source": [
    "if torch.cuda.is_available():\n",
    "    device = torch.device('cuda')\n",
    "    net.cuda()\n",
    "else:\n",
    "    device = torch.device('cpu')\n",
    "print(device)\n",
    "print(next(net.parameters()).is_cuda) # 내 모델이 cuda에 잘 올라갔는지 확인"
   ]
  },
  {
   "cell_type": "code",
   "execution_count": 8,
   "metadata": {
    "ExecuteTime": {
     "end_time": "2019-10-21T14:35:29.517592Z",
     "start_time": "2019-10-21T14:20:52.190006Z"
    },
    "scrolled": true
   },
   "outputs": [
    {
     "name": "stdout",
     "output_type": "stream",
     "text": [
      "[1,  2000] loss: 2.082\n",
      "[1,  4000] loss: 1.968\n",
      "[1,  6000] loss: 1.962\n",
      "[1,  8000] loss: 1.947\n",
      "[1, 10000] loss: 1.958\n",
      "[1, 12000] loss: 1.971\n",
      "[2,  2000] loss: 2.019\n",
      "[2,  4000] loss: 2.018\n",
      "[2,  6000] loss: 1.998\n",
      "[2,  8000] loss: 1.978\n",
      "[2, 10000] loss: 2.033\n",
      "[2, 12000] loss: 2.022\n",
      "[3,  2000] loss: 2.057\n",
      "[3,  4000] loss: 2.116\n",
      "[3,  6000] loss: 2.065\n",
      "[3,  8000] loss: 2.104\n",
      "[3, 10000] loss: 2.131\n",
      "[3, 12000] loss: 2.146\n",
      "[4,  2000] loss: 2.078\n",
      "[4,  4000] loss: 2.098\n",
      "[4,  6000] loss: 2.076\n",
      "[4,  8000] loss: 2.108\n",
      "[4, 10000] loss: 2.182\n",
      "[4, 12000] loss: 2.217\n",
      "[5,  2000] loss: 2.123\n",
      "[5,  4000] loss: 2.174\n",
      "[5,  6000] loss: 2.185\n",
      "[5,  8000] loss: 2.229\n",
      "[5, 10000] loss: 2.204\n",
      "[5, 12000] loss: 2.177\n",
      "[6,  2000] loss: 2.256\n",
      "[6,  4000] loss: 2.259\n",
      "[6,  6000] loss: 2.242\n",
      "[6,  8000] loss: 2.293\n",
      "[6, 10000] loss: 2.308\n",
      "[6, 12000] loss: 2.307\n",
      "[7,  2000] loss: 2.309\n",
      "[7,  4000] loss: 2.309\n",
      "[7,  6000] loss: 2.308\n",
      "[7,  8000] loss: 2.308\n",
      "[7, 10000] loss: 2.308\n",
      "[7, 12000] loss: 2.308\n",
      "[8,  2000] loss: 2.308\n",
      "[8,  4000] loss: 2.308\n",
      "[8,  6000] loss: 2.308\n",
      "[8,  8000] loss: 2.308\n",
      "[8, 10000] loss: 2.308\n",
      "[8, 12000] loss: 2.309\n",
      "[9,  2000] loss: 2.308\n",
      "[9,  4000] loss: 2.309\n",
      "[9,  6000] loss: 2.309\n",
      "[9,  8000] loss: 2.307\n",
      "[9, 10000] loss: 2.309\n",
      "[9, 12000] loss: 2.308\n",
      "[10,  2000] loss: 2.309\n",
      "[10,  4000] loss: 2.309\n",
      "[10,  6000] loss: 2.308\n",
      "[10,  8000] loss: 2.308\n",
      "[10, 10000] loss: 2.308\n",
      "[10, 12000] loss: 2.309\n",
      "finish\n"
     ]
    }
   ],
   "source": [
    "for epoch in range(10):\n",
    "    running_loss = 0.0\n",
    "    \n",
    "    for i, data in enumerate(trainloader):\n",
    "        inputs, labels = data\n",
    "#        inputs, labels = inputs.cuda(), labels.cuda() -> cuda가 있을 경우 사용\n",
    "        optimizer.zero_grad()\n",
    "        \n",
    "        outputs = net(inputs)\n",
    "        loss = loss_func(outputs, labels)\n",
    "        loss.backward()\n",
    "        optimizer.step()\n",
    "        \n",
    "        running_loss += loss.item()\n",
    "        if i % 2000 == 1999:\n",
    "            print('[%d, %5d] loss: %.3f' %(epoch + 1, i + 1, running_loss / 2000))\n",
    "            running_loss = 0.0\n",
    "            \n",
    "print('finish')"
   ]
  },
  {
   "cell_type": "markdown",
   "metadata": {},
   "source": [
    "# 신경망 검사\n",
    "- 예측한 결과와 답을 비교하는 방식"
   ]
  },
  {
   "cell_type": "code",
   "execution_count": 9,
   "metadata": {
    "ExecuteTime": {
     "end_time": "2019-10-21T14:35:35.254296Z",
     "start_time": "2019-10-21T14:35:29.623532Z"
    }
   },
   "outputs": [
    {
     "name": "stdout",
     "output_type": "stream",
     "text": [
      "GroundTruth:    cat  ship  ship plane\n",
      "Predicted:  truck truck truck truck\n"
     ]
    },
    {
     "data": {
      "image/png": "[encoded data removed]",
      "text/plain": [
       "<Figure size 432x288 with 1 Axes>"
      ]
     },
     "metadata": {
      "needs_background": "light"
     },
     "output_type": "display_data"
    }
   ],
   "source": [
    "dataiter = iter(testloader)\n",
    "images, labels = dataiter.next()\n",
    "\n",
    "# print images\n",
    "imshow(torchvision.utils.make_grid(images))\n",
    "print('GroundTruth: ', ' '.join('%5s' % classes[labels[j]] for j in range(4)))\n",
    "\n",
    "outputs = net(images)\n",
    "\n",
    "_, predicted = torch.max(outputs, 1)\n",
    "\n",
    "print('Predicted: ', ' '.join('%5s' % classes[predicted[j]]\n",
    "                              for j in range(4)))"
   ]
  },
  {
   "cell_type": "code",
   "execution_count": 10,
   "metadata": {
    "ExecuteTime": {
     "end_time": "2019-10-21T14:35:47.885037Z",
     "start_time": "2019-10-21T14:35:35.319261Z"
    }
   },
   "outputs": [
    {
     "name": "stdout",
     "output_type": "stream",
     "text": [
      "Accuracy of the network on the 10000 test images: 10 %\n"
     ]
    }
   ],
   "source": [
    "correct = 0\n",
    "total = 0\n",
    "with torch.no_grad():\n",
    "    for data in testloader:\n",
    "        images, labels = data\n",
    "#        images, labels = images.cuda(), labels.cuda() -> cuda가 있을 경우 사용\n",
    "        outputs = net(images)\n",
    "        _, predicted = torch.max(outputs.data, 1)\n",
    "        total += labels.size(0)\n",
    "        correct += (predicted == labels).sum().item()\n",
    "\n",
    "print('Accuracy of the network on the 10000 test images: %d %%' % (\n",
    "    100 * correct / total))"
   ]
  }
 ],
 "metadata": {
  "kernelspec": {
   "display_name": "Python 3",
   "language": "python",
   "name": "python3"
  },
  "language_info": {
   "codemirror_mode": {
    "name": "ipython",
    "version": 3
   },
   "file_extension": ".py",
   "mimetype": "text/x-python",
   "name": "python",
   "nbconvert_exporter": "python",
   "pygments_lexer": "ipython3",
   "version": "3.6.2"
  },
  "varInspector": {
   "cols": {
    "lenName": 16,
    "lenType": 16,
    "lenVar": 40
   },
   "kernels_config": {
    "python": {
     "delete_cmd_postfix": "",
     "delete_cmd_prefix": "del ",
     "library": "var_list.py",
     "varRefreshCmd": "print(var_dic_list())"
    },
    "r": {
     "delete_cmd_postfix": ") ",
     "delete_cmd_prefix": "rm(",
     "library": "var_list.r",
     "varRefreshCmd": "cat(var_dic_list()) "
    }
   },
   "types_to_exclude": [
    "module",
    "function",
    "builtin_function_or_method",
    "instance",
    "_Feature"
   ],
   "window_display": false
  }
 },
 "nbformat": 4,
 "nbformat_minor": 2
}
