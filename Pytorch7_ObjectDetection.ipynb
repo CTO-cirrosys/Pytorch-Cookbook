{
 "cells": [
  {
   "cell_type": "markdown",
   "metadata": {},
   "source": [
    "# Object Detection in Pytorch document"
   ]
  },
  {
   "cell_type": "code",
   "execution_count": 4,
   "metadata": {
    "ExecuteTime": {
     "end_time": "2019-11-19T14:19:56.616169Z",
     "start_time": "2019-11-19T14:19:56.547208Z"
    }
   },
   "outputs": [],
   "source": [
    "import torch\n",
    "import torchvision\n",
    "import torchvision.transforms as transforms\n",
    "\n",
    "import numpy as np\n",
    "import matplotlib.pyplot as plt\n",
    "import PIL.Image as Image\n",
    "\n",
    "import os\n",
    "\n",
    "%matplotlib inline"
   ]
  },
  {
   "cell_type": "markdown",
   "metadata": {},
   "source": [
    "## 경로 탐색"
   ]
  },
  {
   "cell_type": "code",
   "execution_count": 15,
   "metadata": {
    "ExecuteTime": {
     "end_time": "2019-11-19T14:22:26.427774Z",
     "start_time": "2019-11-19T14:22:26.418782Z"
    }
   },
   "outputs": [
    {
     "data": {
      "text/plain": [
       "['added-object-list.txt', 'Annotation', 'PedMasks', 'PNGImages', 'readme.txt']"
      ]
     },
     "execution_count": 15,
     "metadata": {},
     "output_type": "execute_result"
    }
   ],
   "source": [
    "# 데이터 경로\n",
    "\n",
    "data_path = 'data/PennFudanPed'\n",
    "os.listdir(data_path)"
   ]
  },
  {
   "cell_type": "code",
   "execution_count": 19,
   "metadata": {
    "ExecuteTime": {
     "end_time": "2019-11-19T14:23:18.597498Z",
     "start_time": "2019-11-19T14:23:18.587503Z"
    }
   },
   "outputs": [
    {
     "data": {
      "text/plain": [
       "['FudanPed00001.png',\n",
       " 'FudanPed00002.png',\n",
       " 'FudanPed00003.png',\n",
       " 'FudanPed00004.png',\n",
       " 'FudanPed00005.png']"
      ]
     },
     "execution_count": 19,
     "metadata": {},
     "output_type": "execute_result"
    }
   ],
   "source": [
    "# 이미지 경로\n",
    "os.listdir(os.path.join(data_path,'PNGImages'))[:5]"
   ]
  },
  {
   "cell_type": "code",
   "execution_count": 22,
   "metadata": {
    "ExecuteTime": {
     "end_time": "2019-11-19T14:23:42.997494Z",
     "start_time": "2019-11-19T14:23:42.987497Z"
    }
   },
   "outputs": [
    {
     "data": {
      "text/plain": [
       "['FudanPed00001_mask.png',\n",
       " 'FudanPed00002_mask.png',\n",
       " 'FudanPed00003_mask.png',\n",
       " 'FudanPed00004_mask.png',\n",
       " 'FudanPed00005_mask.png']"
      ]
     },
     "execution_count": 22,
     "metadata": {},
     "output_type": "execute_result"
    }
   ],
   "source": [
    "# 마스크 경로\n",
    "os.listdir(os.path.join(data_path, 'PedMasks'))[:5]"
   ]
  },
  {
   "cell_type": "markdown",
   "metadata": {},
   "source": [
    "## Dataset 생성"
   ]
  },
  {
   "cell_type": "code",
   "execution_count": 297,
   "metadata": {
    "ExecuteTime": {
     "end_time": "2019-11-19T15:41:13.798458Z",
     "start_time": "2019-11-19T15:41:13.681528Z"
    }
   },
   "outputs": [],
   "source": [
    "class PennFudanDataset(object):\n",
    "    \n",
    "    def __init__(self, root, transforms):\n",
    "        self.root = data_path\n",
    "        self.transforms = transforms\n",
    "        \n",
    "        self.imgs = sorted(os.listdir(os.path.join(data_path, 'PNGImages')))\n",
    "        self.masks = sorted(os.listdir(os.path.join(data_path, 'PedMasks')))\n",
    "        \n",
    "    def __getitem__(self, idx):\n",
    "        \n",
    "        img_path = os.path.join(self.root, 'PNGImages', self.imgs[idx])\n",
    "        mask_path = os.path.join(self.root, 'PedMasks', self.masks[idx])\n",
    "        \n",
    "        img = Image.open(img_path).convert('RGB')\n",
    "        \n",
    "        mask = Image.open(mask_path)\n",
    "        \n",
    "        mask = np.array(mask)\n",
    "        \n",
    "        obj_ids = np.unique(mask) # 결과로 0,1,2 값이 나옴\n",
    "        \n",
    "        obj_ids = obj_ids[1:] \n",
    "        # 0은 background을 의미하기 때문에 제외힌다(1,2)\n",
    "                                \n",
    "        masks = mask == obj_ids[:, None, None]\n",
    "        # obj_ids는 1,2 값만 존재함(0은 제외했음)\n",
    "        # ojb_ids[:, None, None]의 결과는 shape = (2, 1, 1)이 만들어짐\n",
    "        # mask는 0,1,2로 이루어진 사진(W x H)이기 때문에\n",
    "        # mask == ojb_ids 코드로 인해 (2 X W X H)로 변환된다(1이 True인 행렬, 2가 True인 행렬)\n",
    "        # 각각 1과 2가 있는 부분은 True로 바뀌고 나머지는 False로 바뀐다(masking 작업)\n",
    "        \n",
    "        num_objs = len(obj_ids)\n",
    "        boxes = []\n",
    "        for i in range(num_objs):\n",
    "            pos = np.where(mask[i]) # 값이 1인 부분의 index를 모두 찾는다(id 별로)\n",
    "            xmin = np.min(pos[1]) # 행이 y축, 열이 x축이기 때문에 pos 결과의 index가 x=1, y=0이 된다.\n",
    "            xmax = np.max(pos[1])\n",
    "            ymin = np.min(pos[0])\n",
    "            ymax = np.max(pos[0])\n",
    "            boxes.append([xmin, ymin, xmax, ymax])"
   ]
  },
  {
   "cell_type": "code",
   "execution_count": null,
   "metadata": {},
   "outputs": [],
   "source": []
  }
 ],
 "metadata": {
  "kernelspec": {
   "display_name": "Python 3",
   "language": "python",
   "name": "python3"
  },
  "language_info": {
   "codemirror_mode": {
    "name": "ipython",
    "version": 3
   },
   "file_extension": ".py",
   "mimetype": "text/x-python",
   "name": "python",
   "nbconvert_exporter": "python",
   "pygments_lexer": "ipython3",
   "version": "3.6.2"
  },
  "varInspector": {
   "cols": {
    "lenName": 16,
    "lenType": 16,
    "lenVar": 40
   },
   "kernels_config": {
    "python": {
     "delete_cmd_postfix": "",
     "delete_cmd_prefix": "del ",
     "library": "var_list.py",
     "varRefreshCmd": "print(var_dic_list())"
    },
    "r": {
     "delete_cmd_postfix": ") ",
     "delete_cmd_prefix": "rm(",
     "library": "var_list.r",
     "varRefreshCmd": "cat(var_dic_list()) "
    }
   },
   "types_to_exclude": [
    "module",
    "function",
    "builtin_function_or_method",
    "instance",
    "_Feature"
   ],
   "window_display": false
  }
 },
 "nbformat": 4,
 "nbformat_minor": 2
}
