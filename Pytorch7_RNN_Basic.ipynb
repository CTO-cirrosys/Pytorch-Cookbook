{
 "cells": [
  {
   "cell_type": "markdown",
   "metadata": {},
   "source": [
    "# Master Pytorch 7 : RNN Basic\n",
    "- RNN의 기초에 대해 알아보자"
   ]
  },
  {
   "cell_type": "markdown",
   "metadata": {},
   "source": [
    "# RNN one Cell process"
   ]
  },
  {
   "cell_type": "code",
   "execution_count": 100,
   "metadata": {
    "ExecuteTime": {
     "end_time": "2018-12-04T09:20:31.944711Z",
     "start_time": "2018-12-04T09:20:31.889315Z"
    }
   },
   "outputs": [
    {
     "name": "stdout",
     "output_type": "stream",
     "text": [
      "Parameter containing:\n",
      "tensor([[ 0.2583, -0.2756, -0.0516, -0.0637],\n",
      "        [ 0.1025, -0.0028,  0.6181,  0.2200]], requires_grad=True)\n",
      "Parameter containing:\n",
      "tensor([[-0.2633, -0.4271],\n",
      "        [-0.1185, -0.3050]], requires_grad=True)\n",
      "Parameter containing:\n",
      "tensor([-0.2266,  0.0339], requires_grad=True)\n",
      "Parameter containing:\n",
      "tensor([0.4215, 0.3843], requires_grad=True)\n",
      "torch.Size([1, 1, 4]) torch.Size([1, 1, 2])\n",
      "torch.Size([1, 1, 4]) torch.Size([1, 1, 2])\n",
      "torch.Size([1, 1, 4]) torch.Size([1, 1, 2])\n",
      "torch.Size([1, 1, 4]) torch.Size([1, 1, 2])\n",
      "torch.Size([1, 1, 4]) torch.Size([1, 1, 2])\n"
     ]
    }
   ],
   "source": [
    "import torch\n",
    "import torch.nn as nn\n",
    "\n",
    "# hello에 있는 각각의 문자들을 원핫벡터로 변환\n",
    "h = [1, 0, 0, 0]\n",
    "e = [0, 1, 0, 0]\n",
    "l = [0, 0, 1, 0]\n",
    "o = [0, 0, 0, 1]\n",
    "\n",
    "# RNN의 한 cell 정의 후 출력\n",
    "cell = nn.RNN(input_size = 4, hidden_size = 2, batch_first = True)\n",
    "cell\n",
    "\n",
    "hidden = torch.randn(1, 1, 2) # (num_layers * num_direction) X batch_size X hidden_size\n",
    "hidden\n",
    "\n",
    "inputs = torch.Tensor([h, e, l, l, o])\n",
    "inputs\n",
    "\n",
    "for p in cell.parameters():\n",
    "    print(p)\n",
    "\n",
    "for c in inputs:\n",
    "    c = c.view(1, 1, -1) # input : (batch_size X seq_len X input_size) if batch_first = True\n",
    "    out, hidden = cell(c, hidden)\n",
    "    print(c.size(), out.size())"
   ]
  },
  {
   "cell_type": "code",
   "execution_count": 101,
   "metadata": {
    "ExecuteTime": {
     "end_time": "2018-12-04T09:20:36.170108Z",
     "start_time": "2018-12-04T09:20:36.158628Z"
    }
   },
   "outputs": [
    {
     "name": "stdout",
     "output_type": "stream",
     "text": [
      "torch.Size([1, 5, 2]) torch.Size([1, 1, 2])\n"
     ]
    }
   ],
   "source": [
    "# 위 작업은 한 번에 가능하다.\n",
    "# input : (Batch_size X seq_len X input_size) if batch_first == True\n",
    "inputs = inputs.view(1, 5, -1) # Batch X seq_len X input_size\n",
    "out, hidden = cell(inputs, hidden)\n",
    "print(out.size(), hidden.size())\n",
    "# sequence length = 5로 나오는데, 이것은 곧 hidden이 5개 이어져있다는 뜻"
   ]
  },
  {
   "cell_type": "code",
   "execution_count": 102,
   "metadata": {
    "ExecuteTime": {
     "end_time": "2018-12-04T09:20:38.136004Z",
     "start_time": "2018-12-04T09:20:38.113545Z"
    }
   },
   "outputs": [
    {
     "name": "stdout",
     "output_type": "stream",
     "text": [
      "torch.Size([3, 5, 4]) torch.Size([3, 5, 2])\n"
     ]
    },
    {
     "data": {
      "text/plain": [
       "tensor([[[ 0.6540,  0.6208],\n",
       "         [-0.4761,  0.1474],\n",
       "         [ 0.2029,  0.7809],\n",
       "         [-0.2389,  0.6493],\n",
       "         [-0.0829,  0.4370]],\n",
       "\n",
       "        [[ 0.3680,  0.5645],\n",
       "         [-0.2038,  0.3990],\n",
       "         [ 0.0266,  0.7347],\n",
       "         [-0.1755,  0.6691],\n",
       "         [-0.0958,  0.6927]],\n",
       "\n",
       "        [[-0.0191,  0.8242],\n",
       "         [-0.2008,  0.6568],\n",
       "         [-0.2988,  0.2344],\n",
       "         [-0.1017,  0.3621],\n",
       "         [ 0.0155,  0.7343]]], grad_fn=<TransposeBackward0>)"
      ]
     },
     "execution_count": 102,
     "metadata": {},
     "output_type": "execute_result"
    }
   ],
   "source": [
    "hidden = torch.randn(1, 3, 2)\n",
    "\n",
    "# cell 한개 RNN : input_dim(4) -> output_dim(2) / seqence = 5, batch = 3\n",
    "inputs = torch.Tensor([[h,e,l,l,o],\n",
    "                       [e,o,l,l,l],\n",
    "                       [l,l,e,e,l]])\n",
    "inputs\n",
    "\n",
    "# input : (batch, seq_len, input_size) when batch_first = True\n",
    "# B X S X I\n",
    "out, hidden = cell(inputs, hidden)\n",
    "print(inputs.size(), out.size())\n",
    "out"
   ]
  },
  {
   "cell_type": "markdown",
   "metadata": {},
   "source": [
    "# RNN Example"
   ]
  },
  {
   "cell_type": "code",
   "execution_count": 96,
   "metadata": {
    "ExecuteTime": {
     "end_time": "2018-12-04T09:16:13.342543Z",
     "start_time": "2018-12-04T09:16:13.313594Z"
    }
   },
   "outputs": [
    {
     "data": {
      "text/plain": [
       "[[1, 0, 0, 0, 0],\n",
       " [0, 1, 0, 0, 0],\n",
       " [1, 0, 0, 0, 0],\n",
       " [0, 0, 1, 0, 0],\n",
       " [0, 0, 0, 1, 0],\n",
       " [0, 0, 0, 1, 0]]"
      ]
     },
     "execution_count": 96,
     "metadata": {},
     "output_type": "execute_result"
    }
   ],
   "source": [
    "import torch\n",
    "import torch.nn as nn\n",
    "\n",
    "torch.manual_seed(1)\n",
    "\n",
    "idx2char = ['h', 'i', 'e', 'l', 'o']\n",
    "\n",
    "# hihell -> ihello로 가르쳐보자\n",
    "x_data = [0, 1, 0, 2, 3, 3] # hihell\n",
    "one_hot_lookup = [[1, 0, 0, 0, 0],\n",
    "                  [0, 1, 0, 0, 0],\n",
    "                  [0, 0, 1, 0, 0],\n",
    "                  [0, 0, 0, 1, 0],\n",
    "                  [0, 0, 0, 0, 1]]\n",
    "\n",
    "y_data = [1, 0, 2, 3, 3, 4] # ihello\n",
    "x_one_hot = [one_hot_lookup[x] for x in x_data]\n",
    "x_one_hot # hihell에 대한 one-hot 벡터"
   ]
  },
  {
   "cell_type": "code",
   "execution_count": 105,
   "metadata": {
    "ExecuteTime": {
     "end_time": "2018-12-04T09:24:30.165307Z",
     "start_time": "2018-12-04T09:24:30.156806Z"
    }
   },
   "outputs": [
    {
     "name": "stdout",
     "output_type": "stream",
     "text": [
      "tensor([[1., 0., 0., 0., 0.],\n",
      "        [0., 1., 0., 0., 0.],\n",
      "        [1., 0., 0., 0., 0.],\n",
      "        [0., 0., 1., 0., 0.],\n",
      "        [0., 0., 0., 1., 0.],\n",
      "        [0., 0., 0., 1., 0.]])\n",
      "tensor([1, 0, 2, 3, 3, 4])\n"
     ]
    }
   ],
   "source": [
    "# 데이터 준비\n",
    "inputs = torch.Tensor(x_one_hot)\n",
    "labels = torch.LongTensor(y_data)\n",
    "print(inputs)\n",
    "print(labels)"
   ]
  },
  {
   "cell_type": "code",
   "execution_count": 108,
   "metadata": {
    "ExecuteTime": {
     "end_time": "2018-12-04T09:31:58.743921Z",
     "start_time": "2018-12-04T09:31:58.701002Z"
    }
   },
   "outputs": [
    {
     "name": "stdout",
     "output_type": "stream",
     "text": [
      "Model(\n",
      "  (rnn): RNN(5, 5, batch_first=True)\n",
      ")\n"
     ]
    }
   ],
   "source": [
    "class_n = 5\n",
    "input_size = 5 # one-hot 벡터의 사이즈\n",
    "hidden_size = 5 # hidden 레이어의 사이즈\n",
    "batch_size = 1 # 한 문장\n",
    "sequence_length = 1 # 한 글자당 하나씩\n",
    "layer_n = 1 # one-layer RNN\n",
    "\n",
    "class Model(nn.Module):\n",
    "    \n",
    "    def __init__(self):\n",
    "        super(Model, self).__init__()\n",
    "        \n",
    "        self.rnn = nn.RNN(input_size = input_size, hidden_size = hidden_size, batch_first = True)\n",
    "        \n",
    "    def forward(self, hidden, x):\n",
    "        \n",
    "        x = x.view(batch_size, sequence_length, input_size) # Reshape input(batch_first = True)\n",
    "        \n",
    "        output, hidden = self.rnn(x, hidden)\n",
    "        return hidden, output.view(-1, class_n)\n",
    "    \n",
    "    def init_hidden(self):\n",
    "        \n",
    "        return torch.zeros(layer_n, batch_size, hidden_size)\n",
    "    \n",
    "model = Model()\n",
    "print(model)"
   ]
  },
  {
   "cell_type": "code",
   "execution_count": null,
   "metadata": {},
   "outputs": [],
   "source": [
    "import torch.optim as optim\n",
    "\n",
    "loss_function = nn.CrossEntropyLoss()\n",
    "optimizer = Adam(model.parameters(), lr = 0.1)\n",
    "\n",
    "epoch_n = 100\n",
    "\n",
    "for epoch in range(epoch_n):\n",
    "    optimizer.zero_grad()\n",
    "    loss = 0\n",
    "    hidden = model.init_hidden()\n",
    "    \n",
    "    "
   ]
  },
  {
   "cell_type": "markdown",
   "metadata": {},
   "source": [
    "# 새로 배운 것\n",
    "\n",
    "## 1. nn.rnn(batch_first = True)\n",
    " - batch_first가 True일 땐 input과 output이 batch로 만들어진다.\n",
    " - batch_first – If True, then the input and output tensors are provided as (batch, seq, feature). Default: False"
   ]
  }
 ],
 "metadata": {
  "kernelspec": {
   "display_name": "Python 3",
   "language": "python",
   "name": "python3"
  },
  "language_info": {
   "codemirror_mode": {
    "name": "ipython",
    "version": 3
   },
   "file_extension": ".py",
   "mimetype": "text/x-python",
   "name": "python",
   "nbconvert_exporter": "python",
   "pygments_lexer": "ipython3",
   "version": "3.6.2"
  },
  "varInspector": {
   "cols": {
    "lenName": 16,
    "lenType": 16,
    "lenVar": 40
   },
   "kernels_config": {
    "python": {
     "delete_cmd_postfix": "",
     "delete_cmd_prefix": "del ",
     "library": "var_list.py",
     "varRefreshCmd": "print(var_dic_list())"
    },
    "r": {
     "delete_cmd_postfix": ") ",
     "delete_cmd_prefix": "rm(",
     "library": "var_list.r",
     "varRefreshCmd": "cat(var_dic_list()) "
    }
   },
   "types_to_exclude": [
    "module",
    "function",
    "builtin_function_or_method",
    "instance",
    "_Feature"
   ],
   "window_display": false
  }
 },
 "nbformat": 4,
 "nbformat_minor": 2
}
