{
 "cells": [
  {
   "cell_type": "markdown",
   "metadata": {},
   "source": [
    "# Master Pytorch 7 : RNN Basic\n",
    "- RNN의 기초에 대해 알아보자"
   ]
  },
  {
   "cell_type": "markdown",
   "metadata": {},
   "source": [
    "# RNN one Cell process"
   ]
  },
  {
   "cell_type": "code",
   "execution_count": 74,
   "metadata": {
    "ExecuteTime": {
     "end_time": "2018-12-04T14:00:42.892481Z",
     "start_time": "2018-12-04T14:00:42.845069Z"
    }
   },
   "outputs": [
    {
     "name": "stdout",
     "output_type": "stream",
     "text": [
      "Parameter containing:\n",
      "tensor([[-0.1846, -0.0750, -0.2294,  0.3287],\n",
      "        [ 0.5021,  0.3439,  0.2003, -0.0298]], requires_grad=True)\n",
      "Parameter containing:\n",
      "tensor([[0.0927, 0.0048],\n",
      "        [0.1965, 0.1792]], requires_grad=True)\n",
      "Parameter containing:\n",
      "tensor([-0.5593, -0.4830], requires_grad=True)\n",
      "Parameter containing:\n",
      "tensor([ 0.6956, -0.3588], requires_grad=True)\n",
      "torch.Size([1, 1, 4]) torch.Size([1, 1, 2])\n",
      "torch.Size([1, 1, 4]) torch.Size([1, 1, 2])\n",
      "torch.Size([1, 1, 4]) torch.Size([1, 1, 2])\n",
      "torch.Size([1, 1, 4]) torch.Size([1, 1, 2])\n",
      "torch.Size([1, 1, 4]) torch.Size([1, 1, 2])\n"
     ]
    }
   ],
   "source": [
    "import torch\n",
    "import torch.nn as nn\n",
    "\n",
    "# hello에 있는 각각의 문자들을 원핫벡터로 변환\n",
    "h = [1, 0, 0, 0]\n",
    "e = [0, 1, 0, 0]\n",
    "l = [0, 0, 1, 0]\n",
    "o = [0, 0, 0, 1]\n",
    "\n",
    "# RNN의 한 cell 정의 후 출력\n",
    "cell = nn.RNN(input_size = 4, hidden_size = 2, batch_first = True)\n",
    "cell\n",
    "\n",
    "hidden = torch.randn(1, 1, 2) # (num_layers * num_direction) X batch_size X hidden_size\n",
    "hidden\n",
    "\n",
    "inputs = torch.Tensor([h, e, l, l, o])\n",
    "inputs\n",
    "\n",
    "for p in cell.parameters():\n",
    "    print(p)\n",
    "\n",
    "for c in inputs:\n",
    "    c = c.view(1, 1, -1) # input : (batch_size X seq_len X input_size) if batch_first = True\n",
    "    out, hidden = cell(c, hidden)\n",
    "    print(c.size(), out.size())"
   ]
  },
  {
   "cell_type": "code",
   "execution_count": 101,
   "metadata": {
    "ExecuteTime": {
     "end_time": "2018-12-04T09:20:36.170108Z",
     "start_time": "2018-12-04T09:20:36.158628Z"
    }
   },
   "outputs": [
    {
     "name": "stdout",
     "output_type": "stream",
     "text": [
      "torch.Size([1, 5, 2]) torch.Size([1, 1, 2])\n"
     ]
    }
   ],
   "source": [
    "# 위 작업은 한 번에 가능하다.\n",
    "# input : (Batch_size X seq_len X input_size) if batch_first == True\n",
    "inputs = inputs.view(1, 5, -1) # Batch X seq_len X input_size\n",
    "out, hidden = cell(inputs, hidden)\n",
    "print(out.size(), hidden.size())\n",
    "# sequence length = 5로 나오는데, 이것은 곧 hidden이 5개 이어져있다는 뜻"
   ]
  },
  {
   "cell_type": "code",
   "execution_count": 102,
   "metadata": {
    "ExecuteTime": {
     "end_time": "2018-12-04T09:20:38.136004Z",
     "start_time": "2018-12-04T09:20:38.113545Z"
    }
   },
   "outputs": [
    {
     "name": "stdout",
     "output_type": "stream",
     "text": [
      "torch.Size([3, 5, 4]) torch.Size([3, 5, 2])\n"
     ]
    },
    {
     "data": {
      "text/plain": [
       "tensor([[[ 0.6540,  0.6208],\n",
       "         [-0.4761,  0.1474],\n",
       "         [ 0.2029,  0.7809],\n",
       "         [-0.2389,  0.6493],\n",
       "         [-0.0829,  0.4370]],\n",
       "\n",
       "        [[ 0.3680,  0.5645],\n",
       "         [-0.2038,  0.3990],\n",
       "         [ 0.0266,  0.7347],\n",
       "         [-0.1755,  0.6691],\n",
       "         [-0.0958,  0.6927]],\n",
       "\n",
       "        [[-0.0191,  0.8242],\n",
       "         [-0.2008,  0.6568],\n",
       "         [-0.2988,  0.2344],\n",
       "         [-0.1017,  0.3621],\n",
       "         [ 0.0155,  0.7343]]], grad_fn=<TransposeBackward0>)"
      ]
     },
     "execution_count": 102,
     "metadata": {},
     "output_type": "execute_result"
    }
   ],
   "source": [
    "hidden = torch.randn(1, 3, 2)\n",
    "\n",
    "# cell 한개 RNN : input_dim(4) -> output_dim(2) / seqence = 5, batch = 3\n",
    "inputs = torch.Tensor([[h,e,l,l,o],\n",
    "                       [e,o,l,l,l],\n",
    "                       [l,l,e,e,l]])\n",
    "inputs\n",
    "\n",
    "# input : (batch, seq_len, input_size) when batch_first = True\n",
    "# B X S X I\n",
    "out, hidden = cell(inputs, hidden)\n",
    "print(inputs.size(), out.size())\n",
    "out"
   ]
  },
  {
   "cell_type": "markdown",
   "metadata": {},
   "source": [
    "# RNN Example"
   ]
  },
  {
   "cell_type": "code",
   "execution_count": 194,
   "metadata": {
    "ExecuteTime": {
     "end_time": "2018-12-04T10:48:32.410760Z",
     "start_time": "2018-12-04T10:48:32.381796Z"
    }
   },
   "outputs": [
    {
     "data": {
      "text/plain": [
       "[[1, 0, 0, 0, 0],\n",
       " [0, 1, 0, 0, 0],\n",
       " [1, 0, 0, 0, 0],\n",
       " [0, 0, 1, 0, 0],\n",
       " [0, 0, 0, 1, 0],\n",
       " [0, 0, 0, 1, 0]]"
      ]
     },
     "execution_count": 194,
     "metadata": {},
     "output_type": "execute_result"
    }
   ],
   "source": [
    "import torch\n",
    "import torch.nn as nn\n",
    "\n",
    "torch.manual_seed(777)\n",
    "\n",
    "idx2char = ['h', 'i', 'e', 'l', 'o']\n",
    "\n",
    "# hihell -> ihello로 가르쳐보자\n",
    "x_data = [0, 1, 0, 2, 3, 3] # hihell\n",
    "one_hot_lookup = [[1, 0, 0, 0, 0],\n",
    "                  [0, 1, 0, 0, 0],\n",
    "                  [0, 0, 1, 0, 0],\n",
    "                  [0, 0, 0, 1, 0],\n",
    "                  [0, 0, 0, 0, 1]]\n",
    "\n",
    "y_data = [1, 0, 2, 3, 3, 4] # ihello\n",
    "x_one_hot = [one_hot_lookup[x] for x in x_data]\n",
    "x_one_hot # hihell에 대한 one-hot 벡터"
   ]
  },
  {
   "cell_type": "code",
   "execution_count": 195,
   "metadata": {
    "ExecuteTime": {
     "end_time": "2018-12-04T10:48:32.515545Z",
     "start_time": "2018-12-04T10:48:32.505565Z"
    }
   },
   "outputs": [
    {
     "name": "stdout",
     "output_type": "stream",
     "text": [
      "tensor([[1., 0., 0., 0., 0.],\n",
      "        [0., 1., 0., 0., 0.],\n",
      "        [1., 0., 0., 0., 0.],\n",
      "        [0., 0., 1., 0., 0.],\n",
      "        [0., 0., 0., 1., 0.],\n",
      "        [0., 0., 0., 1., 0.]])\n",
      "tensor([[1],\n",
      "        [0],\n",
      "        [2],\n",
      "        [3],\n",
      "        [3],\n",
      "        [4]])\n"
     ]
    }
   ],
   "source": [
    "# 데이터 준비\n",
    "inputs = torch.Tensor(x_one_hot)\n",
    "labels = torch.LongTensor(y_data).view(6,1)\n",
    "print(inputs)\n",
    "print(labels)"
   ]
  },
  {
   "cell_type": "code",
   "execution_count": 196,
   "metadata": {
    "ExecuteTime": {
     "end_time": "2018-12-04T10:48:32.683733Z",
     "start_time": "2018-12-04T10:48:32.641311Z"
    }
   },
   "outputs": [
    {
     "name": "stdout",
     "output_type": "stream",
     "text": [
      "Model(\n",
      "  (rnn): RNN(5, 5, batch_first=True)\n",
      ")\n"
     ]
    }
   ],
   "source": [
    "class_n = 5\n",
    "input_size = 5 # one-hot 벡터의 사이즈\n",
    "hidden_size = 5 # hidden 레이어의 사이즈\n",
    "batch_size = 1 # 한 문장\n",
    "sequence_length = 1 # 한 글자당 하나씩\n",
    "layer_n = 1 # one-layer RNN\n",
    "\n",
    "class Model(nn.Module):\n",
    "    \n",
    "    def __init__(self):\n",
    "        super(Model, self).__init__()\n",
    "        \n",
    "        self.rnn = nn.RNN(input_size = input_size, hidden_size = hidden_size, batch_first = True)\n",
    "        \n",
    "    def forward(self, hidden, x):\n",
    "        \n",
    "        x = x.view(batch_size, sequence_length, input_size) # Reshape input(batch_first = True)\n",
    "        \n",
    "        out, hidden = self.rnn(x, hidden)\n",
    "        return hidden, out.view(-1, class_n)\n",
    "    \n",
    "    def init_hidden(self):\n",
    "        \n",
    "        return torch.zeros(layer_n, batch_size, hidden_size)\n",
    "    \n",
    "model = Model()\n",
    "print(model)"
   ]
  },
  {
   "cell_type": "code",
   "execution_count": 197,
   "metadata": {
    "ExecuteTime": {
     "end_time": "2018-12-04T10:48:34.004525Z",
     "start_time": "2018-12-04T10:48:33.371704Z"
    },
    "scrolled": true
   },
   "outputs": [
    {
     "name": "stdout",
     "output_type": "stream",
     "text": [
      "predicted string: llllll Epoch : 1/100, Loss : 10.155\n",
      "predicted string: llllll Epoch : 2/100, Loss : 9.137\n",
      "predicted string: llllll Epoch : 3/100, Loss : 8.355\n",
      "predicted string: llllll Epoch : 4/100, Loss : 7.577\n",
      "predicted string: llllll Epoch : 5/100, Loss : 6.876\n",
      "predicted string: lhelll Epoch : 6/100, Loss : 6.327\n",
      "predicted string: ihelll Epoch : 7/100, Loss : 6.014\n",
      "predicted string: ihelll Epoch : 8/100, Loss : 5.787\n",
      "predicted string: ihelll Epoch : 9/100, Loss : 5.477\n",
      "predicted string: ihelll Epoch : 10/100, Loss : 5.274\n",
      "predicted string: ihelll Epoch : 11/100, Loss : 5.041\n",
      "predicted string: ihello Epoch : 12/100, Loss : 4.827\n",
      "predicted string: ihello Epoch : 13/100, Loss : 4.676\n",
      "predicted string: ihello Epoch : 14/100, Loss : 4.550\n",
      "predicted string: ihello Epoch : 15/100, Loss : 4.430\n",
      "predicted string: ihello Epoch : 16/100, Loss : 4.305\n",
      "predicted string: ihello Epoch : 17/100, Loss : 4.164\n",
      "predicted string: ihelll Epoch : 18/100, Loss : 4.003\n",
      "predicted string: ihelll Epoch : 19/100, Loss : 3.860\n",
      "predicted string: ihelll Epoch : 20/100, Loss : 3.879\n",
      "predicted string: ihelll Epoch : 21/100, Loss : 3.768\n",
      "predicted string: ihelll Epoch : 22/100, Loss : 3.642\n",
      "predicted string: ihelll Epoch : 23/100, Loss : 3.599\n",
      "predicted string: ihello Epoch : 24/100, Loss : 3.577\n",
      "predicted string: ihello Epoch : 25/100, Loss : 3.544\n",
      "predicted string: ihello Epoch : 26/100, Loss : 3.498\n",
      "predicted string: ihello Epoch : 27/100, Loss : 3.439\n",
      "predicted string: ihello Epoch : 28/100, Loss : 3.371\n",
      "predicted string: ihello Epoch : 29/100, Loss : 3.303\n",
      "predicted string: ihello Epoch : 30/100, Loss : 3.240\n",
      "predicted string: ihello Epoch : 31/100, Loss : 3.162\n",
      "predicted string: ihello Epoch : 32/100, Loss : 3.147\n",
      "predicted string: ihello Epoch : 33/100, Loss : 3.178\n",
      "predicted string: ihello Epoch : 34/100, Loss : 3.116\n",
      "predicted string: ihello Epoch : 35/100, Loss : 3.042\n"
     ]
    },
    {
     "name": "stderr",
     "output_type": "stream",
     "text": [
      "C:\\ProgramData\\Anaconda3\\lib\\site-packages\\ipykernel_launcher.py:26: UserWarning: invalid index of a 0-dim tensor. This will be an error in PyTorch 0.5. Use tensor.item() to convert a 0-dim tensor to a Python number\n"
     ]
    },
    {
     "name": "stdout",
     "output_type": "stream",
     "text": [
      "predicted string: ihello Epoch : 36/100, Loss : 3.020\n",
      "predicted string: ihello Epoch : 37/100, Loss : 3.015\n",
      "predicted string: ihello Epoch : 38/100, Loss : 2.998\n",
      "predicted string: ihello Epoch : 39/100, Loss : 2.977\n",
      "predicted string: ihello Epoch : 40/100, Loss : 2.966\n",
      "predicted string: ihello Epoch : 41/100, Loss : 2.961\n",
      "predicted string: ihello Epoch : 42/100, Loss : 2.950\n",
      "predicted string: ihello Epoch : 43/100, Loss : 2.930\n",
      "predicted string: ihello Epoch : 44/100, Loss : 2.904\n",
      "predicted string: ihello Epoch : 45/100, Loss : 2.888\n",
      "predicted string: ihello Epoch : 46/100, Loss : 2.888\n",
      "predicted string: ihello Epoch : 47/100, Loss : 2.879\n",
      "predicted string: ihello Epoch : 48/100, Loss : 2.860\n",
      "predicted string: ihello Epoch : 49/100, Loss : 2.857\n",
      "predicted string: ihello Epoch : 50/100, Loss : 2.859\n",
      "predicted string: ihello Epoch : 51/100, Loss : 2.852\n",
      "predicted string: ihello Epoch : 52/100, Loss : 2.840\n",
      "predicted string: ihello Epoch : 53/100, Loss : 2.834\n",
      "predicted string: ihello Epoch : 54/100, Loss : 2.834\n",
      "predicted string: ihello Epoch : 55/100, Loss : 2.824\n",
      "predicted string: ihello Epoch : 56/100, Loss : 2.817\n",
      "predicted string: ihello Epoch : 57/100, Loss : 2.817\n",
      "predicted string: ihello Epoch : 58/100, Loss : 2.814\n",
      "predicted string: ihello Epoch : 59/100, Loss : 2.808\n",
      "predicted string: ihello Epoch : 60/100, Loss : 2.805\n",
      "predicted string: ihello Epoch : 61/100, Loss : 2.805\n",
      "predicted string: ihello Epoch : 62/100, Loss : 2.801\n",
      "predicted string: ihello Epoch : 63/100, Loss : 2.796\n",
      "predicted string: ihello Epoch : 64/100, Loss : 2.795\n",
      "predicted string: ihello Epoch : 65/100, Loss : 2.793\n",
      "predicted string: ihello Epoch : 66/100, Loss : 2.789\n",
      "predicted string: ihello Epoch : 67/100, Loss : 2.786\n",
      "predicted string: ihello Epoch : 68/100, Loss : 2.786\n",
      "predicted string: ihello Epoch : 69/100, Loss : 2.783\n",
      "predicted string: ihello Epoch : 70/100, Loss : 2.780\n",
      "predicted string: ihello Epoch : 71/100, Loss : 2.780\n",
      "predicted string: ihello Epoch : 72/100, Loss : 2.778\n",
      "predicted string: ihello Epoch : 73/100, Loss : 2.776\n",
      "predicted string: ihello Epoch : 74/100, Loss : 2.775\n",
      "predicted string: ihello Epoch : 75/100, Loss : 2.774\n",
      "predicted string: ihello Epoch : 76/100, Loss : 2.772\n",
      "predicted string: ihello Epoch : 77/100, Loss : 2.770\n",
      "predicted string: ihello Epoch : 78/100, Loss : 2.769\n",
      "predicted string: ihello Epoch : 79/100, Loss : 2.768\n",
      "predicted string: ihello Epoch : 80/100, Loss : 2.766\n",
      "predicted string: ihello Epoch : 81/100, Loss : 2.765\n",
      "predicted string: ihello Epoch : 82/100, Loss : 2.764\n",
      "predicted string: ihello Epoch : 83/100, Loss : 2.763\n",
      "predicted string: ihello Epoch : 84/100, Loss : 2.762\n",
      "predicted string: ihello Epoch : 85/100, Loss : 2.761\n",
      "predicted string: ihello Epoch : 86/100, Loss : 2.759\n",
      "predicted string: ihello Epoch : 87/100, Loss : 2.759\n",
      "predicted string: ihello Epoch : 88/100, Loss : 2.758\n",
      "predicted string: ihello Epoch : 89/100, Loss : 2.757\n",
      "predicted string: ihello Epoch : 90/100, Loss : 2.756\n",
      "predicted string: ihello Epoch : 91/100, Loss : 2.755\n",
      "predicted string: ihello Epoch : 92/100, Loss : 2.754\n",
      "predicted string: ihello Epoch : 93/100, Loss : 2.753\n",
      "predicted string: ihello Epoch : 94/100, Loss : 2.752\n",
      "predicted string: ihello Epoch : 95/100, Loss : 2.751\n",
      "predicted string: ihello Epoch : 96/100, Loss : 2.750\n",
      "predicted string: ihello Epoch : 97/100, Loss : 2.750\n",
      "predicted string: ihello Epoch : 98/100, Loss : 2.749\n",
      "predicted string: ihello Epoch : 99/100, Loss : 2.748\n",
      "predicted string: ihello Epoch : 100/100, Loss : 2.747\n"
     ]
    }
   ],
   "source": [
    "import torch.optim as optim\n",
    "import sys\n",
    "\n",
    "loss_function = nn.CrossEntropyLoss()\n",
    "optimizer = optim.Adam(model.parameters(), lr = 0.1)\n",
    "\n",
    "epoch_n = 100\n",
    "\n",
    "\n",
    "\n",
    "for epoch in range(1, epoch_n+1):\n",
    "    \n",
    "    optimizer.zero_grad()\n",
    "    loss = 0\n",
    "    hidden = model.init_hidden() # 초기값 설정(h0)\n",
    "    \n",
    "    sys.stdout.write(\"predicted string: \")\n",
    "    for input, label in zip(inputs, labels):\n",
    "        # print(input.size(), label.size())\n",
    "        hidden, output = model(hidden, input)\n",
    "        val, idx = output.max(1) # 최대값(val)과 index(idx) 출력\n",
    "        sys.stdout.write(idx2char[idx.data[0]])\n",
    "        loss += loss_function(output, label)\n",
    "        \n",
    "        \n",
    "    print(' Epoch : %d/100, Loss : %1.3f' %(epoch, loss.data[0])) \n",
    "        \n",
    "    loss.backward()\n",
    "    optimizer.step()\n"
   ]
  },
  {
   "cell_type": "markdown",
   "metadata": {},
   "source": [
    "# 스스로 해보기\n",
    "- \"hihello\"에서 \"hihell\"를 입력값으로 한 후 'o'를 예측하자"
   ]
  },
  {
   "cell_type": "markdown",
   "metadata": {},
   "source": [
    "# 데이터 생성"
   ]
  },
  {
   "cell_type": "code",
   "execution_count": 101,
   "metadata": {
    "ExecuteTime": {
     "end_time": "2018-12-04T14:19:17.609716Z",
     "start_time": "2018-12-04T14:19:17.578773Z"
    },
    "scrolled": false
   },
   "outputs": [
    {
     "name": "stdout",
     "output_type": "stream",
     "text": [
      "tensor([[1., 0., 0., 0., 0.],\n",
      "        [0., 1., 0., 0., 0.],\n",
      "        [1., 0., 0., 0., 0.],\n",
      "        [0., 0., 1., 0., 0.],\n",
      "        [0., 0., 0., 1., 0.],\n",
      "        [0., 0., 0., 1., 0.]])\n",
      "tensor([[1],\n",
      "        [0],\n",
      "        [2],\n",
      "        [3],\n",
      "        [3],\n",
      "        [4]])\n"
     ]
    }
   ],
   "source": [
    "import torch\n",
    "import torch.nn as nn\n",
    "\n",
    "idx2char = ['h', 'i', 'e', 'l', 'o']\n",
    "\n",
    "h = [1,0,0,0,0]\n",
    "i = [0,1,0,0,0]\n",
    "e = [0,0,1,0,0]\n",
    "l = [0,0,0,1,0]\n",
    "o = [0,0,0,0,1]\n",
    "\n",
    "x_data = [h,i,h,e,l,l]\n",
    "y_data = [i,h,e,l,l,o]\n",
    "\n",
    "inputs = torch.Tensor(x_data)\n",
    "labels = torch.LongTensor([1, 0, 2, 3, 3, 4]).view(6, 1) # index2char\n",
    "\n",
    "print(inputs)\n",
    "print(labels)"
   ]
  },
  {
   "cell_type": "code",
   "execution_count": 102,
   "metadata": {
    "ExecuteTime": {
     "end_time": "2018-12-04T14:19:18.315317Z",
     "start_time": "2018-12-04T14:19:18.269900Z"
    }
   },
   "outputs": [
    {
     "name": "stdout",
     "output_type": "stream",
     "text": [
      "Model(\n",
      "  (rnn): RNN(5, 5, batch_first=True)\n",
      ")\n"
     ]
    }
   ],
   "source": [
    "class_n = 5\n",
    "input_size = 5\n",
    "hidden_size = 5\n",
    "batch_size = 1\n",
    "seq_n = 1\n",
    "layer_n = 1\n",
    "\n",
    "class Model(nn.Module):\n",
    "    \n",
    "    def __init__(self):\n",
    "        super(Model, self).__init__()\n",
    "        \n",
    "        self.rnn = nn.RNN(input_size = input_size, hidden_size = hidden_size,\n",
    "                         batch_first = True)\n",
    "        \n",
    "    def forward(self, x, hidden):\n",
    "        \n",
    "        x = x.view(batch_size, seq_n, input_size)\n",
    "        out, hidden = self.rnn(x, hidden)\n",
    "        \n",
    "        return out.view(-1, class_n), hidden\n",
    "    \n",
    "    def init_hidden(self):\n",
    "        \n",
    "        return torch.zeros(layer_n, batch_size, hidden_size)\n",
    "\n",
    "model = Model()\n",
    "print(model)"
   ]
  },
  {
   "cell_type": "code",
   "execution_count": 103,
   "metadata": {
    "ExecuteTime": {
     "end_time": "2018-12-04T14:19:19.300516Z",
     "start_time": "2018-12-04T14:19:18.884290Z"
    },
    "scrolled": true
   },
   "outputs": [
    {
     "name": "stdout",
     "output_type": "stream",
     "text": [
      "ehllll Epoch : 10/100, Loss : 7.883\n",
      "ihelll Epoch : 20/100, Loss : 6.278\n",
      "ihello Epoch : 30/100, Loss : 5.075\n",
      "ihello Epoch : 40/100, Loss : 4.319\n",
      "ihello Epoch : 50/100, Loss : 3.864\n",
      "ihello Epoch : 60/100, Loss : 3.590\n",
      "ihello Epoch : 70/100, Loss : 3.418\n",
      "ihello Epoch : 80/100, Loss : 3.305\n",
      "ihello Epoch : 90/100, Loss : 3.226\n",
      "ihello Epoch : 100/100, Loss : 3.168\n"
     ]
    }
   ],
   "source": [
    "import torch.optim as optim\n",
    "\n",
    "loss_function = nn.CrossEntropyLoss()\n",
    "optimizer = optim.SGD(model.parameters(), lr = 0.1)\n",
    "\n",
    "epoch_n = 100\n",
    "loss_list = []\n",
    "for epoch in range(1, epoch_n + 1):\n",
    "    \n",
    "    optimizer.zero_grad()\n",
    "    hidden = model.init_hidden()\n",
    "    loss = 0\n",
    "    \n",
    "    for input, label in zip(inputs, labels):\n",
    "        output, hidden = model(input, hidden)\n",
    "        \n",
    "        val, idx = output.max(1)\n",
    "        if epoch % 10 == 0:\n",
    "            print(idx2char[idx.data[0]], end = '')\n",
    "        \n",
    "        loss += loss_function(output, label)\n",
    "    loss.backward()\n",
    "    optimizer.step()\n",
    "    if epoch % 10 == 0:\n",
    "        print(' Epoch : %d/100, Loss : %1.3f' %(epoch, loss))\n",
    "    loss_list.append(loss)"
   ]
  },
  {
   "cell_type": "markdown",
   "metadata": {},
   "source": [
    "# Loss 시각화"
   ]
  },
  {
   "cell_type": "code",
   "execution_count": 293,
   "metadata": {
    "ExecuteTime": {
     "end_time": "2018-12-04T13:12:52.156165Z",
     "start_time": "2018-12-04T13:12:50.466863Z"
    }
   },
   "outputs": [
    {
     "data": {
      "text/plain": [
       "[<matplotlib.lines.Line2D at 0x1a714ac1550>]"
      ]
     },
     "execution_count": 293,
     "metadata": {},
     "output_type": "execute_result"
    },
    {
     "data": {
      "image/png": "[encoded data removed]",
      "text/plain": [
       "<matplotlib.figure.Figure at 0x1a71200d9e8>"
      ]
     },
     "metadata": {},
     "output_type": "display_data"
    }
   ],
   "source": [
    "import matplotlib.pyplot as plt\n",
    "%matplotlib inline\n",
    "\n",
    "plt.plot(loss_list)"
   ]
  },
  {
   "cell_type": "markdown",
   "metadata": {},
   "source": [
    "# 한글 버젼\n",
    "- \"내가 사랑하는 사람\"에서 마지막 '사람' 맞추기"
   ]
  },
  {
   "cell_type": "code",
   "execution_count": 1,
   "metadata": {
    "ExecuteTime": {
     "end_time": "2018-12-04T17:18:02.117169Z",
     "start_time": "2018-12-04T17:17:57.865564Z"
    }
   },
   "outputs": [
    {
     "name": "stdout",
     "output_type": "stream",
     "text": [
      "['내', '가', '사랑', '하는', '사람', ' ']\n"
     ]
    },
    {
     "data": {
      "text/plain": [
       "{' ': tensor([[0., 0., 0., 0., 0., 1.]]),\n",
       " '가': tensor([[0., 1., 0., 0., 0., 0.]]),\n",
       " '내': tensor([[1., 0., 0., 0., 0., 0.]]),\n",
       " '사람': tensor([[0., 0., 0., 0., 1., 0.]]),\n",
       " '사랑': tensor([[0., 0., 1., 0., 0., 0.]]),\n",
       " '하는': tensor([[0., 0., 0., 1., 0., 0.]])}"
      ]
     },
     "execution_count": 1,
     "metadata": {},
     "output_type": "execute_result"
    }
   ],
   "source": [
    "from konlpy.tag import Okt\n",
    "import torch\n",
    "\n",
    "# POS 태깅 함수\n",
    "okt = Okt()\n",
    "\n",
    "# POS 태깅 적용\n",
    "my_string = '내가 사랑하는 사람'\n",
    "tokens = okt.pos(my_string)\n",
    "\n",
    "# 사용된 모든 글자 모음\n",
    "letters = [val for val, tag in tokens] + [' ']\n",
    "print(letters)\n",
    "\n",
    "# 글자를 Tensor로 변환하는 사전 생성\n",
    "letter2tensor = {}\n",
    "for i, val in enumerate(letters):\n",
    "    tensor = torch.zeros(1, len(letters))\n",
    "    tensor[0][i] = 1\n",
    "    letter2tensor[val] = tensor\n",
    "\n",
    "letter2tensor"
   ]
  },
  {
   "cell_type": "code",
   "execution_count": 2,
   "metadata": {
    "ExecuteTime": {
     "end_time": "2018-12-04T17:18:02.174062Z",
     "start_time": "2018-12-04T17:18:02.145115Z"
    }
   },
   "outputs": [
    {
     "name": "stdout",
     "output_type": "stream",
     "text": [
      "tensor([[1., 0., 0., 0., 0., 0.],\n",
      "        [0., 1., 0., 0., 0., 0.],\n",
      "        [0., 0., 0., 0., 0., 1.],\n",
      "        [0., 0., 1., 0., 0., 0.],\n",
      "        [0., 0., 0., 1., 0., 0.],\n",
      "        [0., 0., 0., 0., 0., 1.]])\n",
      "tensor([[1],\n",
      "        [5],\n",
      "        [2],\n",
      "        [3],\n",
      "        [5],\n",
      "        [4]])\n"
     ]
    }
   ],
   "source": [
    "x_data = ['내', '가', ' ', '사랑', '하는', ' '] # 입력값\n",
    "y_data = [1, 5, 2, 3, 5, 4] # 출력값, letters의 index값으로 label 생성(CorssEntropyLoss 함수 쓸 때 index값으로 넣어줌)\n",
    "\n",
    "labels = torch.LongTensor(y_data).view(6, 1)\n",
    "inputs = torch.zeros(len(x_data), len(letters)) # x_data를 Tensor로 변환(위에 만든 사전 이용해서)\n",
    "for i, val in enumerate(x_data):\n",
    "    inputs[i] = letter2tensor[val]\n",
    "\n",
    "print(inputs)\n",
    "print(labels)"
   ]
  },
  {
   "cell_type": "code",
   "execution_count": 16,
   "metadata": {
    "ExecuteTime": {
     "end_time": "2018-12-04T17:19:38.467512Z",
     "start_time": "2018-12-04T17:19:38.424091Z"
    }
   },
   "outputs": [
    {
     "name": "stdout",
     "output_type": "stream",
     "text": [
      "Model(\n",
      "  (rnn): RNN(6, 6, batch_first=True)\n",
      ")\n"
     ]
    }
   ],
   "source": [
    "import torch.nn as nn\n",
    "\n",
    "class_n = 6 # 분류되는 개수, 우리가 가지고 있는 letters의 개수가 6개이기 때문에 class는 6(6개 중 하나로 인식돼야하니까)\n",
    "input_size = 6 # input의 길이, inputs = (1 X 1 X 6)\n",
    "hidden_size = 6 # hidden layer의 size\n",
    "batch_size = 1 \n",
    "seq_n = 1\n",
    "layer_n = 1\n",
    "\n",
    "class Model(nn.Module):\n",
    "    def __init__(self):\n",
    "        super(Model, self).__init__()\n",
    "        \n",
    "        self.rnn = nn.RNN(input_size = input_size, hidden_size = hidden_size,\n",
    "                         batch_first = True)\n",
    "        \n",
    "    def forward(self, x, hidden):\n",
    "        \n",
    "        x = x.view(batch_size, seq_n, input_size)\n",
    "        \n",
    "        output, hidden = self.rnn(x, hidden)\n",
    "        \n",
    "        return output.view(-1, class_n), hidden\n",
    "    \n",
    "    def init_hidden(self):\n",
    "        \n",
    "        return torch.zeros(layer_n, batch_size, hidden_size)\n",
    "    \n",
    "model = Model()\n",
    "print(model)   "
   ]
  },
  {
   "cell_type": "code",
   "execution_count": 17,
   "metadata": {
    "ExecuteTime": {
     "end_time": "2018-12-04T17:19:43.476860Z",
     "start_time": "2018-12-04T17:19:43.206364Z"
    },
    "scrolled": true
   },
   "outputs": [
    {
     "name": "stdout",
     "output_type": "stream",
     "text": [
      "가가 가가가\tEpoch ; 0/100, Loss : 11.046\n",
      "가     \tEpoch ; 1/100, Loss : 9.934\n",
      "가     \tEpoch ; 2/100, Loss : 9.249\n",
      "가     \tEpoch ; 3/100, Loss : 8.801\n",
      "가     \tEpoch ; 4/100, Loss : 8.479\n",
      "가     \tEpoch ; 5/100, Loss : 8.221\n",
      "가     \tEpoch ; 6/100, Loss : 7.995\n",
      "가  하는  \tEpoch ; 7/100, Loss : 7.785\n",
      "가  하는  \tEpoch ; 8/100, Loss : 7.583\n",
      "가 사랑하는 사람\tEpoch ; 9/100, Loss : 7.385\n",
      "가 사랑하는 사람\tEpoch ; 10/100, Loss : 7.192\n",
      "가 사랑하는 사람\tEpoch ; 11/100, Loss : 7.005\n",
      "가 사랑하는 사람\tEpoch ; 12/100, Loss : 6.825\n",
      "가 사랑하는 사람\tEpoch ; 13/100, Loss : 6.655\n",
      "가 사랑하는 사람\tEpoch ; 14/100, Loss : 6.495\n",
      "가 사랑하는 사람\tEpoch ; 15/100, Loss : 6.346\n",
      "가 사랑하는 사람\tEpoch ; 16/100, Loss : 6.207\n",
      "가 사랑하는 사람\tEpoch ; 17/100, Loss : 6.079\n",
      "가 사랑하는 사람\tEpoch ; 18/100, Loss : 5.961\n",
      "가 사랑하는 사람\tEpoch ; 19/100, Loss : 5.850\n",
      "가 사랑하는 사람\tEpoch ; 20/100, Loss : 5.748\n",
      "가 사랑하는 사람\tEpoch ; 21/100, Loss : 5.652\n",
      "가 사랑하는 사람\tEpoch ; 22/100, Loss : 5.562\n",
      "가 사랑하는 사람\tEpoch ; 23/100, Loss : 5.477\n",
      "가 사랑하는 사람\tEpoch ; 24/100, Loss : 5.397\n",
      "가 사랑하는 사람\tEpoch ; 25/100, Loss : 5.321\n",
      "가 사랑하는 사람\tEpoch ; 26/100, Loss : 5.249\n",
      "가 사랑하는 사람\tEpoch ; 27/100, Loss : 5.180\n",
      "가 사랑하는 사람\tEpoch ; 28/100, Loss : 5.114\n",
      "가 사랑하는 사람\tEpoch ; 29/100, Loss : 5.051\n"
     ]
    }
   ],
   "source": [
    "import torch.optim as optim\n",
    "\n",
    "loss_function = nn.CrossEntropyLoss()\n",
    "optimizer = optim.SGD(model.parameters(), lr = 0.1)\n",
    "\n",
    "epoch_n = 30\n",
    "\n",
    "for epoch in range(epoch_n):\n",
    "    optimizer.zero_grad()\n",
    "    hidden = model.init_hidden()\n",
    "    loss = 0\n",
    "    \n",
    "    for input, label in zip(inputs, labels):\n",
    "        output, hidden = model(input, hidden)\n",
    "        loss += loss_function(output, label)\n",
    "        \n",
    "        val, idx = output.max(1)\n",
    "        print(letters[idx.data[0]], end = '')\n",
    "        \n",
    "    loss.backward()\n",
    "    optimizer.step()\n",
    "    \n",
    "    print('\\tEpoch ; %d/100, Loss : %1.3f' %(epoch, loss))\n",
    "    loss = 0"
   ]
  },
  {
   "cell_type": "markdown",
   "metadata": {},
   "source": [
    "# 새로 배운 것\n",
    "\n",
    "## 1. nn.rnn(batch_first = True)\n",
    " - batch_first가 True일 땐 input과 output이 batch로 만들어진다.\n",
    " - batch_first – If True, then the input and output tensors are provided as (batch, seq, feature). Default: False"
   ]
  },
  {
   "cell_type": "markdown",
   "metadata": {},
   "source": [
    "# 오류\n",
    "\n",
    "1. untimeError: invalid argument 2: size '[1 x 1 x 6]' is invalid for input with 4 elements at ..\\aten\\src\\TH\\THStorage.cpp:84\n",
    " - output size와 hidden size의 크기가 같아야 하나? 그런 것 같다."
   ]
  },
  {
   "cell_type": "code",
   "execution_count": null,
   "metadata": {},
   "outputs": [],
   "source": []
  }
 ],
 "metadata": {
  "kernelspec": {
   "display_name": "Python 3",
   "language": "python",
   "name": "python3"
  },
  "language_info": {
   "codemirror_mode": {
    "name": "ipython",
    "version": 3
   },
   "file_extension": ".py",
   "mimetype": "text/x-python",
   "name": "python",
   "nbconvert_exporter": "python",
   "pygments_lexer": "ipython3",
   "version": "3.6.2"
  },
  "varInspector": {
   "cols": {
    "lenName": 16,
    "lenType": 16,
    "lenVar": 40
   },
   "kernels_config": {
    "python": {
     "delete_cmd_postfix": "",
     "delete_cmd_prefix": "del ",
     "library": "var_list.py",
     "varRefreshCmd": "print(var_dic_list())"
    },
    "r": {
     "delete_cmd_postfix": ") ",
     "delete_cmd_prefix": "rm(",
     "library": "var_list.r",
     "varRefreshCmd": "cat(var_dic_list()) "
    }
   },
   "types_to_exclude": [
    "module",
    "function",
    "builtin_function_or_method",
    "instance",
    "_Feature"
   ],
   "window_display": false
  }
 },
 "nbformat": 4,
 "nbformat_minor": 2
}
