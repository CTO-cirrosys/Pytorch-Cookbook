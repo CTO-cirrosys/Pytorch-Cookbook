{
 "cells": [
  {
   "cell_type": "markdown",
   "metadata": {},
   "source": [
    "# Master Pytorch 8 : Basic with Sequence\n",
    "- 앞에 진행했던 Basic을 Sequence로 입력해서 학습"
   ]
  },
  {
   "cell_type": "code",
   "execution_count": 1,
   "metadata": {
    "ExecuteTime": {
     "end_time": "2018-12-05T17:53:14.292879Z",
     "start_time": "2018-12-05T17:53:13.913083Z"
    }
   },
   "outputs": [
    {
     "name": "stdout",
     "output_type": "stream",
     "text": [
      "tensor([[[1., 0., 0., 0., 0.],\n",
      "         [0., 1., 0., 0., 0.],\n",
      "         [1., 0., 0., 0., 0.],\n",
      "         [0., 0., 1., 0., 0.],\n",
      "         [0., 0., 0., 1., 0.],\n",
      "         [0., 0., 0., 1., 0.]]])\n",
      "tensor([1, 0, 2, 3, 3, 4])\n"
     ]
    }
   ],
   "source": [
    "import torch\n",
    "\n",
    "letters = ['h', 'i', 'e', 'l', 'o']\n",
    "\n",
    "# hihell -> ihello\n",
    "\n",
    "x_data = [0, 1, 0, 2, 3, 3]\n",
    "y_data = [1, 0, 2, 3, 3, 4]\n",
    "\n",
    "inputs = torch.zeros(1, len(x_data), len(letters))\n",
    "for i, idx in enumerate(x_data):\n",
    "    inputs[0][i][idx] = 1\n",
    "\n",
    "labels = torch.LongTensor(y_data)\n",
    "\n",
    "print(inputs)\n",
    "print(labels)"
   ]
  },
  {
   "cell_type": "code",
   "execution_count": 2,
   "metadata": {
    "ExecuteTime": {
     "end_time": "2018-12-05T17:53:14.428126Z",
     "start_time": "2018-12-05T17:53:14.336796Z"
    }
   },
   "outputs": [
    {
     "name": "stdout",
     "output_type": "stream",
     "text": [
      "RNN(\n",
      "  (rnn): RNN(5, 5, batch_first=True)\n",
      ")\n"
     ]
    }
   ],
   "source": [
    "import torch.nn as nn\n",
    "import torch.optim as optim\n",
    "\n",
    "class_n = 5\n",
    "input_size = 5\n",
    "hidden_size = 5\n",
    "batch_size = 1\n",
    "seq_n = 6\n",
    "layer_n = 1\n",
    "\n",
    "class RNN(nn.Module):\n",
    "    \n",
    "    def __init__(self, class_n, input_size, hidden_size, layer_n):\n",
    "        super(RNN, self).__init__()\n",
    "        \n",
    "        self.class_n = class_n\n",
    "        self.input_size = input_size\n",
    "        self.hidden_size = hidden_size\n",
    "        self.layer_n = layer_n\n",
    "        self.seq_n = seq_n\n",
    "        \n",
    "        self.rnn = nn.RNN(input_size = 5, hidden_size = 5,\n",
    "                          batch_first = True)\n",
    "        \n",
    "    def forward(self, x):\n",
    "        h0 = torch.zeros(self.layer_n, x.size(0), self.hidden_size) # (layer_nXdirection_n) X batch_size X hidden_size \n",
    "        x = x.view(self.seq_n, x.size(0), self.input_size) # input = (seq_n, batch_size, input_size)\n",
    "        \n",
    "        output, _ = self.rnn(x, h0)\n",
    "        \n",
    "        return output.view(-1, class_n)               \n",
    "\n",
    "model = RNN(class_n, input_size, hidden_size, layer_n)\n",
    "loss_function = nn.CrossEntropyLoss()\n",
    "optimizer = optim.SGD(model.parameters(), lr = 0.1)\n",
    "\n",
    "print(model)"
   ]
  },
  {
   "cell_type": "code",
   "execution_count": 3,
   "metadata": {
    "ExecuteTime": {
     "end_time": "2018-12-05T17:53:15.009546Z",
     "start_time": "2018-12-05T17:53:14.465059Z"
    },
    "scrolled": false
   },
   "outputs": [
    {
     "name": "stdout",
     "output_type": "stream",
     "text": [
      "ililll Epoch : 1/100, Loss : 1.483\n",
      "ililll Epoch : 2/100, Loss : 1.469\n",
      "ililll Epoch : 3/100, Loss : 1.456\n",
      "ililll Epoch : 4/100, Loss : 1.443\n",
      "ililll Epoch : 5/100, Loss : 1.430\n",
      "ililll Epoch : 6/100, Loss : 1.417\n",
      "ililll Epoch : 7/100, Loss : 1.405\n",
      "ililll Epoch : 8/100, Loss : 1.392\n",
      "ililll Epoch : 9/100, Loss : 1.381\n",
      "ililll Epoch : 10/100, Loss : 1.369\n",
      "ililll Epoch : 11/100, Loss : 1.358\n",
      "ililll Epoch : 12/100, Loss : 1.347\n",
      "ililll Epoch : 13/100, Loss : 1.336\n",
      "ililll Epoch : 14/100, Loss : 1.326\n",
      "ililll Epoch : 15/100, Loss : 1.316\n",
      "ililll Epoch : 16/100, Loss : 1.306\n",
      "ililll Epoch : 17/100, Loss : 1.296\n",
      "ililll Epoch : 18/100, Loss : 1.287\n",
      "ililll Epoch : 19/100, Loss : 1.278\n",
      "ililll Epoch : 20/100, Loss : 1.269\n",
      "ililll Epoch : 21/100, Loss : 1.260\n",
      "ilelll Epoch : 22/100, Loss : 1.252\n",
      "ilelll Epoch : 23/100, Loss : 1.244\n",
      "ilelll Epoch : 24/100, Loss : 1.236\n",
      "ilelll Epoch : 25/100, Loss : 1.228\n",
      "ilelll Epoch : 26/100, Loss : 1.220\n",
      "ilelll Epoch : 27/100, Loss : 1.212\n",
      "ilelll Epoch : 28/100, Loss : 1.205\n",
      "ilelll Epoch : 29/100, Loss : 1.198\n",
      "ilelll Epoch : 30/100, Loss : 1.190\n",
      "ilelll Epoch : 31/100, Loss : 1.183\n",
      "ilelll Epoch : 32/100, Loss : 1.176\n",
      "ilelll Epoch : 33/100, Loss : 1.170\n",
      "ilelll Epoch : 34/100, Loss : 1.163\n",
      "ilelll Epoch : 35/100, Loss : 1.156\n",
      "ilelll Epoch : 36/100, Loss : 1.150\n",
      "ilelll Epoch : 37/100, Loss : 1.144\n",
      "ilelll Epoch : 38/100, Loss : 1.137\n",
      "ilelll Epoch : 39/100, Loss : 1.131\n",
      "ilelll Epoch : 40/100, Loss : 1.125\n",
      "ilelll Epoch : 41/100, Loss : 1.119\n",
      "ihelll Epoch : 42/100, Loss : 1.113\n",
      "ihelll Epoch : 43/100, Loss : 1.108\n",
      "ihelll Epoch : 44/100, Loss : 1.102\n",
      "ihelll Epoch : 45/100, Loss : 1.097\n",
      "ihelll Epoch : 46/100, Loss : 1.091\n",
      "ihelll Epoch : 47/100, Loss : 1.086\n",
      "ihelll Epoch : 48/100, Loss : 1.080\n",
      "ihelll Epoch : 49/100, Loss : 1.075\n",
      "ihelll Epoch : 50/100, Loss : 1.070\n",
      "ihelll Epoch : 51/100, Loss : 1.065\n",
      "ihelll Epoch : 52/100, Loss : 1.060\n",
      "ihelll Epoch : 53/100, Loss : 1.055\n",
      "ihelll Epoch : 54/100, Loss : 1.050\n",
      "ihelll Epoch : 55/100, Loss : 1.046\n",
      "ihelll Epoch : 56/100, Loss : 1.041\n",
      "ihelll Epoch : 57/100, Loss : 1.037\n",
      "ihelll Epoch : 58/100, Loss : 1.032\n",
      "ihelll Epoch : 59/100, Loss : 1.028\n",
      "ihelll Epoch : 60/100, Loss : 1.023\n",
      "ihelll Epoch : 61/100, Loss : 1.019\n",
      "ihelll Epoch : 62/100, Loss : 1.015\n",
      "ihelll Epoch : 63/100, Loss : 1.011\n",
      "ihelll Epoch : 64/100, Loss : 1.006\n",
      "ihelll Epoch : 65/100, Loss : 1.002\n",
      "ihelll Epoch : 66/100, Loss : 0.998\n",
      "ihelll Epoch : 67/100, Loss : 0.994\n",
      "ihelll Epoch : 68/100, Loss : 0.991\n",
      "ihello Epoch : 69/100, Loss : 0.987\n",
      "ihello Epoch : 70/100, Loss : 0.983\n",
      "ihello Epoch : 71/100, Loss : 0.979\n",
      "ihello Epoch : 72/100, Loss : 0.976\n",
      "ihello Epoch : 73/100, Loss : 0.972\n",
      "ihello Epoch : 74/100, Loss : 0.969\n",
      "ihello Epoch : 75/100, Loss : 0.965\n",
      "ihello Epoch : 76/100, Loss : 0.962\n",
      "ihello Epoch : 77/100, Loss : 0.958\n",
      "ihello Epoch : 78/100, Loss : 0.955\n",
      "ihello Epoch : 79/100, Loss : 0.952\n",
      "ihello Epoch : 80/100, Loss : 0.949\n",
      "ihello Epoch : 81/100, Loss : 0.946\n",
      "ihello Epoch : 82/100, Loss : 0.942\n",
      "ihello Epoch : 83/100, Loss : 0.939\n",
      "ihello Epoch : 84/100, Loss : 0.936\n",
      "ihello Epoch : 85/100, Loss : 0.933\n",
      "ihello Epoch : 86/100, Loss : 0.930\n",
      "ihello Epoch : 87/100, Loss : 0.927\n",
      "ihello Epoch : 88/100, Loss : 0.925\n",
      "ihello Epoch : 89/100, Loss : 0.922\n",
      "ihello Epoch : 90/100, Loss : 0.919\n",
      "ihello Epoch : 91/100, Loss : 0.916\n",
      "ihello Epoch : 92/100, Loss : 0.913\n",
      "ihello Epoch : 93/100, Loss : 0.911\n",
      "ihello Epoch : 94/100, Loss : 0.908\n",
      "ihello Epoch : 95/100, Loss : 0.905\n",
      "ihello Epoch : 96/100, Loss : 0.903\n",
      "ihello Epoch : 97/100, Loss : 0.900\n",
      "ihello Epoch : 98/100, Loss : 0.898\n",
      "ihello Epoch : 99/100, Loss : 0.895\n",
      "ihello Epoch : 100/100, Loss : 0.893\n"
     ]
    }
   ],
   "source": [
    "epoch_n = 100\n",
    "\n",
    "for epoch in range(epoch_n):\n",
    "    \n",
    "    outputs = model(inputs)\n",
    "    \n",
    "    optimizer.zero_grad()\n",
    "    loss = loss_function(outputs, labels)\n",
    "    \n",
    "    loss.backward()\n",
    "    optimizer.step()\n",
    "    \n",
    "    val, idx = outputs.max(1)\n",
    "    for i in idx.data:\n",
    "        print(letters[i], end = '')\n",
    "        \n",
    "    print(' Epoch : %d/100, Loss : %1.3f' %(epoch + 1, loss))"
   ]
  },
  {
   "cell_type": "code",
   "execution_count": 5,
   "metadata": {
    "ExecuteTime": {
     "end_time": "2018-12-05T17:53:29.320864Z",
     "start_time": "2018-12-05T17:53:29.312879Z"
    }
   },
   "outputs": [
    {
     "name": "stdout",
     "output_type": "stream",
     "text": [
      "torch.Size([5, 5])\n",
      "torch.Size([5, 5])\n",
      "torch.Size([5])\n",
      "torch.Size([5])\n"
     ]
    }
   ],
   "source": [
    "for p in model.parameters():\n",
    "    print(p.size())"
   ]
  },
  {
   "cell_type": "markdown",
   "metadata": {},
   "source": [
    "# 스스로 해보기"
   ]
  },
  {
   "cell_type": "code",
   "execution_count": 4,
   "metadata": {
    "ExecuteTime": {
     "end_time": "2018-12-05T15:14:41.907047Z",
     "start_time": "2018-12-05T15:14:41.872610Z"
    }
   },
   "outputs": [
    {
     "name": "stdout",
     "output_type": "stream",
     "text": [
      "tensor([[[1., 0., 0., 0., 0.],\n",
      "         [0., 1., 0., 0., 0.],\n",
      "         [1., 0., 0., 0., 0.],\n",
      "         [0., 0., 1., 0., 0.],\n",
      "         [0., 0., 0., 1., 0.],\n",
      "         [0., 0., 0., 1., 0.]]])\n",
      "tensor([1, 0, 2, 3, 3, 4])\n"
     ]
    }
   ],
   "source": [
    "# hihell -> ihello\n",
    "import torch\n",
    "\n",
    "letters = ['h', 'i', 'e', 'l', 'o']\n",
    "x_data = [0, 1, 0, 2, 3, 3]\n",
    "y_data = [1, 0, 2, 3, 3, 4]\n",
    "\n",
    "inputs = torch.zeros(1, len(x_data), len(letters))\n",
    "for i, idx in enumerate(x_data):\n",
    "    inputs[0][i][idx] = 1\n",
    "    \n",
    "labels = torch.Tensor(y_data).long()\n",
    "\n",
    "print(inputs)\n",
    "print(labels)"
   ]
  },
  {
   "cell_type": "code",
   "execution_count": 5,
   "metadata": {
    "ExecuteTime": {
     "end_time": "2018-12-05T15:14:42.005861Z",
     "start_time": "2018-12-05T15:14:41.912535Z"
    }
   },
   "outputs": [
    {
     "name": "stdout",
     "output_type": "stream",
     "text": [
      "RNN(\n",
      "  (rnn): RNN(5, 5, batch_first=True)\n",
      ")\n"
     ]
    }
   ],
   "source": [
    "import torch.nn as nn\n",
    "\n",
    "class_n = 5\n",
    "input_size = 5\n",
    "hidden_size = 5\n",
    "batch_size = 1\n",
    "seq_n = 6\n",
    "layer_n = 1\n",
    "\n",
    "class RNN(nn.Module):\n",
    "    \n",
    "    def __init__(self, input_size, hidden_size, class_n, layer_n):\n",
    "        super(RNN, self).__init__()\n",
    "        \n",
    "        self.input_size = input_size\n",
    "        self.hidden_size = hidden_size\n",
    "        self.class_n = class_n\n",
    "        self.layer_n = layer_n\n",
    "        \n",
    "        self.rnn = nn.RNN(input_size, hidden_size, batch_first = True)\n",
    "        \n",
    "    def forward(self, x):\n",
    "        \n",
    "        h0 = torch.zeros(layer_n, batch_size, self.hidden_size)\n",
    "        x = x.view(batch_size, seq_n, self.input_size)\n",
    "        \n",
    "        output, _ = self.rnn(x, h0)\n",
    "        \n",
    "        return output.view(-1, self.class_n)\n",
    "    \n",
    "model = RNN(input_size, hidden_size, class_n, layer_n)\n",
    "print(model)"
   ]
  },
  {
   "cell_type": "code",
   "execution_count": 6,
   "metadata": {
    "ExecuteTime": {
     "end_time": "2018-12-05T15:14:42.675120Z",
     "start_time": "2018-12-05T15:14:42.010853Z"
    }
   },
   "outputs": [
    {
     "name": "stdout",
     "output_type": "stream",
     "text": [
      "looooo\n",
      "lolooo\n",
      "lolooo\n",
      "lllooo\n",
      "lllloo\n",
      "lllloo\n",
      "lllloo\n",
      "lllloo\n",
      "lllllo\n",
      "lllllo Epoch : 10/100, Loss : 1.430\n",
      "llllll\n",
      "llllll\n",
      "llllll\n",
      "llllll\n",
      "llllll\n",
      "llllll\n",
      "llllll\n",
      "llllll\n",
      "llllll\n",
      "lellll Epoch : 20/100, Loss : 1.317\n",
      "lellll\n",
      "iellll\n",
      "iellll\n",
      "iellll\n",
      "iellll\n",
      "iellll\n",
      "iellll\n",
      "iellll\n",
      "iellll\n",
      "iellll Epoch : 30/100, Loss : 1.236\n",
      "ieelll\n",
      "ieelll\n",
      "ieelll\n",
      "ieelll\n",
      "ieelll\n",
      "ieelll\n",
      "ieelll\n",
      "ieelll\n",
      "ieello\n",
      "ieello Epoch : 40/100, Loss : 1.157\n",
      "ieello\n",
      "ieello\n",
      "ieello\n",
      "ieello\n",
      "ieello\n",
      "ieello\n",
      "ieello\n",
      "ieello\n",
      "ieello\n",
      "ieello Epoch : 50/100, Loss : 1.082\n",
      "ieello\n",
      "ieello\n",
      "ieello\n",
      "ieello\n",
      "ieello\n",
      "ieello\n",
      "ieello\n",
      "ieello\n",
      "ihello\n",
      "ihello Epoch : 60/100, Loss : 1.015\n",
      "ihello\n",
      "ihello\n",
      "ihello\n",
      "ihello\n",
      "ihello\n",
      "ihello\n",
      "ihello\n",
      "ihello\n",
      "ihello\n",
      "ihello Epoch : 70/100, Loss : 0.958\n",
      "ihello\n",
      "ihello\n",
      "ihello\n",
      "ihello\n",
      "ihello\n",
      "ihello\n",
      "ihello\n",
      "ihello\n",
      "ihello\n",
      "ihello Epoch : 80/100, Loss : 0.910\n",
      "ihello\n",
      "ihello\n",
      "ihello\n",
      "ihello\n",
      "ihello\n",
      "ihello\n",
      "ihello\n",
      "ihello\n",
      "ihello\n",
      "ihello Epoch : 90/100, Loss : 0.869\n",
      "ihello\n",
      "ihello\n",
      "ihello\n",
      "ihello\n",
      "ihello\n",
      "ihello\n",
      "ihello\n",
      "ihello\n",
      "ihello\n"
     ]
    }
   ],
   "source": [
    "import torch.optim as optim\n",
    "\n",
    "optimizer = optim.SGD(model.parameters(), lr = 0.1)\n",
    "loss_function = nn.CrossEntropyLoss()\n",
    "\n",
    "epoch_n = 100\n",
    "loss_list = []\n",
    "\n",
    "for epoch in range(1, epoch_n):\n",
    "    \n",
    "    optimizer.zero_grad()\n",
    "    loss = 0\n",
    "    output = model(inputs)\n",
    "    \n",
    "    loss = loss_function(output, labels)\n",
    "    loss.backward()\n",
    "    optimizer.step()\n",
    "    \n",
    "    val, idx = output.max(1)\n",
    "    for i in idx:\n",
    "        print(letters[i], end = '')\n",
    "\n",
    "    if epoch % 10 == 0:\n",
    "        print(' Epoch : %d/100, Loss : %1.3f' %(epoch, loss))\n",
    "    else:\n",
    "        print('')\n",
    "    loss_list.append(loss)"
   ]
  },
  {
   "cell_type": "code",
   "execution_count": 7,
   "metadata": {
    "ExecuteTime": {
     "end_time": "2018-12-05T15:14:43.224099Z",
     "start_time": "2018-12-05T15:14:42.681109Z"
    }
   },
   "outputs": [
    {
     "data": {
      "text/plain": [
       "[<matplotlib.lines.Line2D at 0x1fa5239f080>]"
      ]
     },
     "execution_count": 7,
     "metadata": {},
     "output_type": "execute_result"
    },
    {
     "data": {
      "image/png": "[encoded data removed]",
      "text/plain": [
       "<matplotlib.figure.Figure at 0x1fa47e7d0f0>"
      ]
     },
     "metadata": {},
     "output_type": "display_data"
    }
   ],
   "source": [
    "import matplotlib.pyplot as plt\n",
    "%matplotlib inline\n",
    "\n",
    "plt.plot(loss_list)"
   ]
  },
  {
   "cell_type": "markdown",
   "metadata": {},
   "source": [
    "# 한글 버젼\n",
    "- 한글로 학습 시도\n",
    "- sequence의 길이를 늘려서 시도"
   ]
  },
  {
   "cell_type": "code",
   "execution_count": 8,
   "metadata": {
    "ExecuteTime": {
     "end_time": "2018-12-05T15:14:49.470497Z",
     "start_time": "2018-12-05T15:14:43.229590Z"
    }
   },
   "outputs": [
    {
     "name": "stdout",
     "output_type": "stream",
     "text": [
      "['행복', '은', '항상', '미래', '에', '있다', ' '] 7\n",
      "tensor([[[1., 0., 0., 0., 0., 0., 0.],\n",
      "         [0., 1., 0., 0., 0., 0., 0.],\n",
      "         [0., 0., 0., 0., 0., 0., 1.],\n",
      "         [0., 0., 1., 0., 0., 0., 0.],\n",
      "         [0., 0., 0., 0., 0., 0., 1.],\n",
      "         [0., 0., 0., 1., 0., 0., 0.],\n",
      "         [0., 0., 0., 0., 1., 0., 0.],\n",
      "         [0., 0., 0., 0., 0., 0., 1.]]])\n",
      "tensor([1, 6, 2, 6, 3, 4, 6, 5])\n"
     ]
    }
   ],
   "source": [
    "from konlpy.tag import Okt\n",
    "\n",
    "okt = Okt()\n",
    "\n",
    "my_string = '행복은 항상 미래에 있다'\n",
    "letters = [val for val, pos in okt.pos(my_string)] + [' ']\n",
    "print(letters, len(letters))\n",
    "\n",
    "# 행복은 항상 미래에 -> 은 항상 미래에 있다\n",
    "import torch\n",
    "\n",
    "x_data = [0, 1, 6, 2, 6, 3, 4, 6] # 행복은 항상 미래에\n",
    "y_data = [1, 6, 2, 6, 3, 4, 6, 5] # 은 항상 미래에 있다\n",
    "\n",
    "inputs = torch.zeros(1, len(x_data), len(letters))\n",
    "for i, idx in enumerate(x_data):\n",
    "    inputs[0][i][idx] = 1\n",
    "\n",
    "labels = torch.LongTensor(y_data)\n",
    "\n",
    "print(inputs)\n",
    "print(labels)"
   ]
  },
  {
   "cell_type": "code",
   "execution_count": 9,
   "metadata": {
    "ExecuteTime": {
     "end_time": "2018-12-05T15:14:49.593768Z",
     "start_time": "2018-12-05T15:14:49.477984Z"
    }
   },
   "outputs": [
    {
     "name": "stdout",
     "output_type": "stream",
     "text": [
      "RNN(\n",
      "  (rnn): RNN(7, 7, batch_first=True)\n",
      ")\n"
     ]
    }
   ],
   "source": [
    "import torch.nn as nn\n",
    "import torch.optim as optim\n",
    "\n",
    "class_n = len(letters) # 7\n",
    "input_size = len(letters) # 7\n",
    "hidden_size = 7 # input_size와 같다\n",
    "batch_size = 1\n",
    "seq_n = 8\n",
    "layer_n = 1\n",
    "\n",
    "class RNN(nn.Module):\n",
    "    \n",
    "    def __init__(self, input_size, hidden_size, class_n, layer_n):\n",
    "        super(RNN, self).__init__()\n",
    "        \n",
    "        self.input_size = input_size\n",
    "        self.hidden_size = hidden_size\n",
    "        self.class_n = class_n\n",
    "        self.layer_n = layer_n\n",
    "        self.seq_n = seq_n\n",
    "        \n",
    "        self.rnn = nn.RNN(input_size = 7, hidden_size = 7, batch_first = True)\n",
    "        \n",
    "    def forward(self, x):\n",
    "        h0 = torch.Tensor(self.layer_n, batch_size, hidden_size)\n",
    "        x = x.view(batch_size, self.seq_n, -1)\n",
    "        \n",
    "        output, _ = self.rnn(x, h0)\n",
    "        \n",
    "        return output.view(-1, self.class_n)\n",
    "\n",
    "model = RNN(input_size, hidden_size, class_n, layer_n)\n",
    "print(model)"
   ]
  },
  {
   "cell_type": "code",
   "execution_count": 10,
   "metadata": {
    "ExecuteTime": {
     "end_time": "2018-12-05T15:14:50.499086Z",
     "start_time": "2018-12-05T15:14:49.600256Z"
    }
   },
   "outputs": [
    {
     "name": "stdout",
     "output_type": "stream",
     "text": [
      "에에    행복  Epoch : 1/100, Loss = 2.051\n",
      "행복에     미래 Epoch : 2/100, Loss = 1.971\n",
      "미래행복     미래 Epoch : 3/100, Loss = 1.725\n",
      "       미래 Epoch : 4/100, Loss = 1.549\n",
      "  미래 미래에 미래 Epoch : 5/100, Loss = 1.429\n",
      "  미래 미래에 있다 Epoch : 6/100, Loss = 1.313\n",
      "미래 항상 항상에 있다 Epoch : 7/100, Loss = 1.388\n",
      "에 항상 미래에 있다 Epoch : 8/100, Loss = 1.211\n",
      "있다 항상 미래에 있다 Epoch : 9/100, Loss = 1.228\n",
      "  항상 미래에 있다 Epoch : 10/100, Loss = 1.167\n",
      "은 항상 항상에 있다 Epoch : 11/100, Loss = 0.995\n",
      "있다 항상 미래에 있다 Epoch : 12/100, Loss = 1.020\n",
      "있다 항상 미래에 있다 Epoch : 13/100, Loss = 0.976\n",
      "  항상 미래에 있다 Epoch : 14/100, Loss = 1.056\n",
      "은 미래 미래에 있다 Epoch : 15/100, Loss = 1.001\n",
      "은 미래 미래에 있다 Epoch : 16/100, Loss = 0.980\n",
      "에 있다 미래에 있다 Epoch : 17/100, Loss = 0.975\n",
      "은 미래 미래에 있다 Epoch : 18/100, Loss = 0.968\n",
      "은 항상 미래에 있다 Epoch : 19/100, Loss = 0.870\n",
      "행복있다항상 미래에 있다 Epoch : 20/100, Loss = 1.092\n",
      "은 항상 미래에 있다 Epoch : 21/100, Loss = 0.791\n",
      "은 항상 미래에 있다 Epoch : 22/100, Loss = 0.829\n",
      "은 항상 미래에 있다 Epoch : 23/100, Loss = 0.790\n",
      "은 항상 미래에 있다 Epoch : 24/100, Loss = 0.769\n",
      "은 항상 미래에 있다 Epoch : 25/100, Loss = 0.755\n",
      "은 항상 미래에 있다 Epoch : 26/100, Loss = 0.758\n",
      "은 항상 미래에 있다 Epoch : 27/100, Loss = 0.784\n",
      "은 항상 미래에 있다 Epoch : 28/100, Loss = 0.775\n",
      "은 항상 미래에 있다 Epoch : 29/100, Loss = 0.763\n",
      "은 항상 미래에 있다 Epoch : 30/100, Loss = 0.736\n",
      "은 항상 미래에 있다 Epoch : 31/100, Loss = 0.766\n",
      "은 항상 미래에 있다 Epoch : 32/100, Loss = 0.831\n",
      "은 항상 미래에 있다 Epoch : 33/100, Loss = 0.744\n",
      "은 항상 미래에 있다 Epoch : 34/100, Loss = 0.735\n",
      "은 항상 미래에 있다 Epoch : 35/100, Loss = 0.719\n",
      "은 항상 미래에 있다 Epoch : 36/100, Loss = 0.717\n",
      "에 항상 미래에 있다 Epoch : 37/100, Loss = 0.774\n",
      "은 항상 미래에 있다 Epoch : 38/100, Loss = 0.712\n",
      "행복 항상 미래에 있다 Epoch : 39/100, Loss = 0.885\n",
      "은 항상 미래에 있다 Epoch : 40/100, Loss = 0.807\n",
      "행복 항상 미래에 있다 Epoch : 41/100, Loss = 0.868\n",
      "은 항상 미래에 있다 Epoch : 42/100, Loss = 0.698\n",
      "은 항상 미래에 있다 Epoch : 43/100, Loss = 0.699\n",
      "은 항상 미래에 있다 Epoch : 44/100, Loss = 0.708\n",
      "은 항상 미래에 있다 Epoch : 45/100, Loss = 0.697\n",
      "은 항상 미래에 있다 Epoch : 46/100, Loss = 0.696\n",
      "은 항상 미래에 있다 Epoch : 47/100, Loss = 0.699\n",
      "은 항상 미래에 있다 Epoch : 48/100, Loss = 0.695\n",
      "은 항상 미래에 있다 Epoch : 49/100, Loss = 0.822\n",
      "은 항상 미래에 있다 Epoch : 50/100, Loss = 0.686\n",
      "은 항상 미래에 있다 Epoch : 51/100, Loss = 0.699\n",
      "은 항상 미래에 있다 Epoch : 52/100, Loss = 0.686\n",
      "은 항상 미래에 있다 Epoch : 53/100, Loss = 0.681\n",
      "은 항상 미래에 있다 Epoch : 54/100, Loss = 0.681\n",
      "은 항상 미래에 있다 Epoch : 55/100, Loss = 0.688\n",
      "은 항상 미래에 있다 Epoch : 56/100, Loss = 0.689\n",
      "은 항상 미래에 있다 Epoch : 57/100, Loss = 0.680\n",
      "은 항상 미래에 있다 Epoch : 58/100, Loss = 0.677\n",
      "은 항상 미래에 있다 Epoch : 59/100, Loss = 0.679\n",
      "은 항상 미래에 있다 Epoch : 60/100, Loss = 0.671\n",
      "은 항상 미래에 있다 Epoch : 61/100, Loss = 0.671\n",
      "은 항상 미래에 있다 Epoch : 62/100, Loss = 0.814\n",
      "은 항상 미래에 있다 Epoch : 63/100, Loss = 0.669\n",
      "은 항상 미래에 있다 Epoch : 64/100, Loss = 0.668\n",
      "은 항상 미래에 있다 Epoch : 65/100, Loss = 0.670\n",
      "은 항상 미래에 있다 Epoch : 66/100, Loss = 0.697\n",
      "은 항상 미래에 있다 Epoch : 67/100, Loss = 0.787\n",
      "은 항상 미래에 있다 Epoch : 68/100, Loss = 0.666\n",
      "은 항상 미래에 있다 Epoch : 69/100, Loss = 0.784\n",
      "은 항상 미래에 있다 Epoch : 70/100, Loss = 0.782\n",
      "은 항상 미래에 있다 Epoch : 71/100, Loss = 0.668\n",
      "은 항상 미래에 있다 Epoch : 72/100, Loss = 0.668\n",
      "은 항상 미래에 있다 Epoch : 73/100, Loss = 0.668\n",
      "은 항상 미래에 있다 Epoch : 74/100, Loss = 0.778\n",
      "은 항상 미래에 있다 Epoch : 75/100, Loss = 0.778\n",
      "은 항상 미래에 있다 Epoch : 76/100, Loss = 0.666\n",
      "은 항상 미래에 있다 Epoch : 77/100, Loss = 0.665\n",
      "은 항상 미래에 있다 Epoch : 78/100, Loss = 0.665\n",
      "은 항상 미래에 있다 Epoch : 79/100, Loss = 0.664\n",
      "은 항상 미래에 있다 Epoch : 80/100, Loss = 0.663\n",
      "은 항상 미래에 있다 Epoch : 81/100, Loss = 0.661\n",
      "은 항상 미래에 있다 Epoch : 82/100, Loss = 0.660\n",
      "은 항상 미래에 있다 Epoch : 83/100, Loss = 0.659\n",
      "은 항상 미래에 있다 Epoch : 84/100, Loss = 0.659\n",
      "은 항상 미래에 있다 Epoch : 85/100, Loss = 0.657\n",
      "은 항상 미래에 있다 Epoch : 86/100, Loss = 0.771\n",
      "은 항상 미래에 있다 Epoch : 87/100, Loss = 0.770\n",
      "은 항상 미래에 있다 Epoch : 88/100, Loss = 0.657\n",
      "은 항상 미래에 있다 Epoch : 89/100, Loss = 0.769\n",
      "은 항상 미래에 있다 Epoch : 90/100, Loss = 0.655\n",
      "은 항상 미래에 있다 Epoch : 91/100, Loss = 0.654\n",
      "은 항상 미래에 있다 Epoch : 92/100, Loss = 0.654\n",
      "은 항상 미래에 있다 Epoch : 93/100, Loss = 0.767\n",
      "은 항상 미래에 있다 Epoch : 94/100, Loss = 0.653\n",
      "은 항상 미래에 있다 Epoch : 95/100, Loss = 0.653\n",
      "은 항상 미래에 있다 Epoch : 96/100, Loss = 0.765\n",
      "은 항상 미래에 있다 Epoch : 97/100, Loss = 0.653\n",
      "은 항상 미래에 있다 Epoch : 98/100, Loss = 0.764\n",
      "은 항상 미래에 있다 Epoch : 99/100, Loss = 0.652\n"
     ]
    }
   ],
   "source": [
    "import torch.optim as optim\n",
    "\n",
    "loss_function = nn.CrossEntropyLoss()\n",
    "optimizer = optim.Adam(model.parameters(), lr = 0.1)\n",
    "\n",
    "epoch_n = 100\n",
    "loss_list = []\n",
    "\n",
    "for epoch in range(1, epoch_n):\n",
    "    optimizer.zero_grad()\n",
    "    \n",
    "    output = model(inputs)\n",
    "    \n",
    "    loss = loss_function(output, labels)\n",
    "    loss.backward()\n",
    "    optimizer.step()\n",
    "    \n",
    "    val, idx = output.max(1)\n",
    "    for i in idx.data:\n",
    "        print(letters[i], end = '')\n",
    "    print(' Epoch : %d/100, Loss = %1.3f' %(epoch, loss))\n",
    "    loss_list.append(loss)"
   ]
  },
  {
   "cell_type": "code",
   "execution_count": 11,
   "metadata": {
    "ExecuteTime": {
     "end_time": "2018-12-05T15:14:50.735647Z",
     "start_time": "2018-12-05T15:14:50.505076Z"
    }
   },
   "outputs": [
    {
     "data": {
      "text/plain": [
       "[<matplotlib.lines.Line2D at 0x1fa6a83e4e0>]"
      ]
     },
     "execution_count": 11,
     "metadata": {},
     "output_type": "execute_result"
    },
    {
     "data": {
      "image/png": "[encoded data removed]",
      "text/plain": [
       "<matplotlib.figure.Figure at 0x1fa52362eb8>"
      ]
     },
     "metadata": {},
     "output_type": "display_data"
    }
   ],
   "source": [
    "import matplotlib.pyplot as plt\n",
    "%matplotlib inline\n",
    "plt.plot(loss_list)"
   ]
  }
 ],
 "metadata": {
  "kernelspec": {
   "display_name": "Python 3",
   "language": "python",
   "name": "python3"
  },
  "language_info": {
   "codemirror_mode": {
    "name": "ipython",
    "version": 3
   },
   "file_extension": ".py",
   "mimetype": "text/x-python",
   "name": "python",
   "nbconvert_exporter": "python",
   "pygments_lexer": "ipython3",
   "version": "3.6.2"
  },
  "varInspector": {
   "cols": {
    "lenName": 16,
    "lenType": 16,
    "lenVar": 40
   },
   "kernels_config": {
    "python": {
     "delete_cmd_postfix": "",
     "delete_cmd_prefix": "del ",
     "library": "var_list.py",
     "varRefreshCmd": "print(var_dic_list())"
    },
    "r": {
     "delete_cmd_postfix": ") ",
     "delete_cmd_prefix": "rm(",
     "library": "var_list.r",
     "varRefreshCmd": "cat(var_dic_list()) "
    }
   },
   "types_to_exclude": [
    "module",
    "function",
    "builtin_function_or_method",
    "instance",
    "_Feature"
   ],
   "window_display": false
  }
 },
 "nbformat": 4,
 "nbformat_minor": 2
}
