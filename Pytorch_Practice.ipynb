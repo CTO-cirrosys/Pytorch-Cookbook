{
 "cells": [
  {
   "cell_type": "markdown",
   "metadata": {},
   "source": [
    "# Master Pytorch\n",
    "- Practice Pytorch with document\n",
    "https://9bow.github.io/PyTorch-tutorials-kr-0.3.1/index.html"
   ]
  },
  {
   "cell_type": "markdown",
   "metadata": {},
   "source": [
    "## Tensors"
   ]
  },
  {
   "cell_type": "code",
   "execution_count": 5,
   "metadata": {},
   "outputs": [],
   "source": [
    "from __future__ import print_function\n",
    "import torch"
   ]
  },
  {
   "cell_type": "code",
   "execution_count": 9,
   "metadata": {},
   "outputs": [
    {
     "name": "stdout",
     "output_type": "stream",
     "text": [
      "tensor([[ 0.0000,  0.0000,  0.0000],\n",
      "        [ 0.0000, -0.0000,  0.0000],\n",
      "        [-0.0000,  0.0000,  0.0000],\n",
      "        [ 0.0000,  0.0000,  0.0000],\n",
      "        [ 0.0000,  0.0000,  0.0000]])\n"
     ]
    }
   ],
   "source": [
    "x = torch.Tensor(5,3)\n",
    "print(x)"
   ]
  },
  {
   "cell_type": "code",
   "execution_count": 14,
   "metadata": {},
   "outputs": [
    {
     "name": "stdout",
     "output_type": "stream",
     "text": [
      "tensor([[0.3333, 0.0220, 0.0405],\n",
      "        [0.2814, 0.1124, 0.3245],\n",
      "        [0.5915, 0.0770, 0.4858],\n",
      "        [0.4349, 0.9838, 0.2955],\n",
      "        [0.8653, 0.4659, 0.2984]])\n"
     ]
    }
   ],
   "source": [
    "x = torch.rand(5,3)\n",
    "x"
   ]
  },
  {
   "cell_type": "code",
   "execution_count": 37,
   "metadata": {},
   "outputs": [
    {
     "data": {
      "text/plain": [
       "torch.Size([5, 3])"
      ]
     },
     "execution_count": 37,
     "metadata": {},
     "output_type": "execute_result"
    }
   ],
   "source": [
    "x.size()"
   ]
  },
  {
   "cell_type": "markdown",
   "metadata": {},
   "source": [
    "## Operations"
   ]
  },
  {
   "cell_type": "code",
   "execution_count": 38,
   "metadata": {},
   "outputs": [
    {
     "name": "stdout",
     "output_type": "stream",
     "text": [
      "tensor([[0.0430, 0.6802, 0.8324],\n",
      "        [0.5913, 0.2868, 0.8106],\n",
      "        [0.8894, 0.1749, 0.9243],\n",
      "        [0.9474, 0.1537, 0.0626],\n",
      "        [0.8357, 0.9545, 0.8140]]) \n",
      "\n",
      "tensor([[0.9284, 0.8741, 0.5335],\n",
      "        [0.3748, 0.3481, 0.0538],\n",
      "        [0.1679, 0.5142, 0.6381],\n",
      "        [0.3811, 0.5227, 0.0127],\n",
      "        [0.2731, 0.7837, 0.8613]]) \n",
      "\n"
     ]
    },
    {
     "data": {
      "text/plain": [
       "tensor([[0.9713, 1.5544, 1.3659],\n",
       "        [0.9661, 0.6348, 0.8644],\n",
       "        [1.0573, 0.6891, 1.5624],\n",
       "        [1.3285, 0.6765, 0.0753],\n",
       "        [1.1088, 1.7382, 1.6753]])"
      ]
     },
     "execution_count": 38,
     "metadata": {},
     "output_type": "execute_result"
    }
   ],
   "source": [
    "x = torch.rand(5,3)\n",
    "y = torch.rand(5,3)\n",
    "print(x, '\\n')\n",
    "print(y, '\\n')\n",
    "x+y"
   ]
  },
  {
   "cell_type": "code",
   "execution_count": 39,
   "metadata": {
    "scrolled": true
   },
   "outputs": [
    {
     "data": {
      "text/plain": [
       "tensor([[0.9713, 1.5544, 1.3659],\n",
       "        [0.9661, 0.6348, 0.8644],\n",
       "        [1.0573, 0.6891, 1.5624],\n",
       "        [1.3285, 0.6765, 0.0753],\n",
       "        [1.1088, 1.7382, 1.6753]])"
      ]
     },
     "execution_count": 39,
     "metadata": {},
     "output_type": "execute_result"
    }
   ],
   "source": [
    "torch.add(x,y)"
   ]
  },
  {
   "cell_type": "code",
   "execution_count": 44,
   "metadata": {},
   "outputs": [
    {
     "data": {
      "text/plain": [
       "tensor([[0.9713, 1.5544, 1.3659],\n",
       "        [0.9661, 0.6348, 0.8644],\n",
       "        [1.0573, 0.6891, 1.5624],\n",
       "        [1.3285, 0.6765, 0.0753],\n",
       "        [1.1088, 1.7382, 1.6753]])"
      ]
     },
     "execution_count": 44,
     "metadata": {},
     "output_type": "execute_result"
    }
   ],
   "source": [
    "result = torch.Tensor(5,3)\n",
    "torch.add(x,y, out = result)\n",
    "result"
   ]
  },
  {
   "cell_type": "code",
   "execution_count": 51,
   "metadata": {
    "scrolled": true
   },
   "outputs": [
    {
     "data": {
      "text/plain": [
       "tensor([[0.9713, 1.5544, 1.3659],\n",
       "        [0.9661, 0.6348, 0.8644],\n",
       "        [1.0573, 0.6891, 1.5624],\n",
       "        [1.3285, 0.6765, 0.0753],\n",
       "        [1.1088, 1.7382, 1.6753]])"
      ]
     },
     "execution_count": 51,
     "metadata": {},
     "output_type": "execute_result"
    }
   ],
   "source": [
    "y.add(x)"
   ]
  },
  {
   "cell_type": "markdown",
   "metadata": {},
   "source": [
    "## Indexing"
   ]
  },
  {
   "cell_type": "code",
   "execution_count": 97,
   "metadata": {},
   "outputs": [
    {
     "data": {
      "text/plain": [
       "tensor([0.0000, 0.0000, 0.0000, 0.0000, 0.0000])"
      ]
     },
     "execution_count": 97,
     "metadata": {},
     "output_type": "execute_result"
    }
   ],
   "source": [
    "x = torch.Tensor(5,3)\n",
    "x[:,1]"
   ]
  },
  {
   "cell_type": "code",
   "execution_count": 89,
   "metadata": {},
   "outputs": [
    {
     "name": "stdout",
     "output_type": "stream",
     "text": [
      "torch.Size([4, 4]) torch.Size([16]) torch.Size([2, 8])\n"
     ]
    }
   ],
   "source": [
    "x = torch.randn(4,4)\n",
    "y = x.view(16)\n",
    "z = x.view(-1, 8)\n",
    "print(x.size(), y.size(), z.size())"
   ]
  },
  {
   "cell_type": "code",
   "execution_count": 94,
   "metadata": {},
   "outputs": [
    {
     "data": {
      "text/plain": [
       "tensor([[-0.3199],\n",
       "        [ 0.0338],\n",
       "        [ 1.3035],\n",
       "        [ 0.8442],\n",
       "        [-0.3583],\n",
       "        [ 0.7365],\n",
       "        [ 0.8919],\n",
       "        [ 0.5954],\n",
       "        [ 0.9193],\n",
       "        [ 0.9984],\n",
       "        [-0.5380],\n",
       "        [ 1.0763],\n",
       "        [-1.5621],\n",
       "        [-1.5019],\n",
       "        [-1.6953],\n",
       "        [-1.0398]])"
      ]
     },
     "execution_count": 94,
     "metadata": {},
     "output_type": "execute_result"
    }
   ],
   "source": [
    "z = x.view(16, -1)\n",
    "z"
   ]
  },
  {
   "cell_type": "markdown",
   "metadata": {},
   "source": [
    "## Convert Tensor&Numpy"
   ]
  },
  {
   "cell_type": "code",
   "execution_count": 87,
   "metadata": {},
   "outputs": [
    {
     "data": {
      "text/plain": [
       "tensor([1., 1., 1., 1., 1.])"
      ]
     },
     "execution_count": 87,
     "metadata": {},
     "output_type": "execute_result"
    }
   ],
   "source": [
    "a = torch.ones(5)\n",
    "a"
   ]
  },
  {
   "cell_type": "markdown",
   "metadata": {},
   "source": [
    "# New things I learned"
   ]
  },
  {
   "cell_type": "markdown",
   "metadata": {},
   "source": [
    "### 1. from __future__ import print_function\n",
    "- __future__를 통해 최신 python버젼의 function을 가져올 수 있다.\n",
    "- 참고https://ddanggle.gitbooks.io/interpy-kr/ch21-Targeting-python.html\n",
    "### 2. Reshaping tensor with view(-1, n)\n",
    "- -1값이 들어갈 땐 n을 보고 reshape할 모양을 유추"
   ]
  },
  {
   "cell_type": "code",
   "execution_count": null,
   "metadata": {},
   "outputs": [],
   "source": []
  }
 ],
 "metadata": {
  "kernelspec": {
   "display_name": "Python 3",
   "language": "python",
   "name": "python3"
  },
  "language_info": {
   "codemirror_mode": {
    "name": "ipython",
    "version": 3
   },
   "file_extension": ".py",
   "mimetype": "text/x-python",
   "name": "python",
   "nbconvert_exporter": "python",
   "pygments_lexer": "ipython3",
   "version": "3.6.2"
  }
 },
 "nbformat": 4,
 "nbformat_minor": 2
}
